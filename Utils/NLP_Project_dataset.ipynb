{
  "nbformat": 4,
  "nbformat_minor": 0,
  "metadata": {
    "colab": {
      "provenance": []
    },
    "kernelspec": {
      "name": "python3",
      "display_name": "Python 3"
    },
    "language_info": {
      "name": "python"
    }
  },
  "cells": [
    {
      "cell_type": "markdown",
      "source": [
        "# **NLP Project: Dataset Preprocessing**\n",
        "\n",
        "*Master in Machine Learning for Health, 2023~2024*\n",
        "\n",
        "*Authors: Daniel Corrales, Jaime Fernández & Rafael Rodríguez*\n",
        "\n",
        "---"
      ],
      "metadata": {
        "id": "tJ6Z03pcW88k"
      }
    },
    {
      "cell_type": "code",
      "execution_count": null,
      "metadata": {
        "id": "L2wXYUiGW8U5"
      },
      "outputs": [],
      "source": [
        "import pandas as pd\n",
        "import spacy\n",
        "import numpy as np"
      ]
    },
    {
      "cell_type": "code",
      "source": [
        "from google.colab import drive\n",
        "drive.mount('/content/drive')"
      ],
      "metadata": {
        "colab": {
          "base_uri": "https://localhost:8080/"
        },
        "id": "tNbZU4kuX0Ia",
        "outputId": "e933c722-cb21-49d0-f143-1422edd4e2a0"
      },
      "execution_count": null,
      "outputs": [
        {
          "output_type": "stream",
          "name": "stdout",
          "text": [
            "Drive already mounted at /content/drive; to attempt to forcibly remount, call drive.mount(\"/content/drive\", force_remount=True).\n"
          ]
        }
      ]
    },
    {
      "cell_type": "code",
      "source": [
        "# For fancy table Display\n",
        "%load_ext google.colab.data_table"
      ],
      "metadata": {
        "id": "C0kTx_DAd2zp"
      },
      "execution_count": null,
      "outputs": []
    },
    {
      "cell_type": "code",
      "source": [
        "!python -m spacy download en_core_web_sm"
      ],
      "metadata": {
        "id": "TTf0HpPzgf7f"
      },
      "execution_count": null,
      "outputs": []
    },
    {
      "cell_type": "code",
      "source": [
        "nlp = spacy.load('en_core_web_sm')"
      ],
      "metadata": {
        "id": "oUDVOiO5izXv"
      },
      "execution_count": null,
      "outputs": []
    },
    {
      "cell_type": "markdown",
      "source": [
        "The raw scraped data has to be further preprocessed:\n",
        "1. Clean DataFrame: remove duplicate rows and rows containing NaN values.\n",
        "2. Remove salary information from decription column.\n",
        "3. Convert to salary per year and create new target column `avg_pay`, this is the target variable to be predicted by the NLP model.\n",
        "4. Remove pay columns.\n",
        "5. Combine all info into the same text with format:\n",
        "\n",
        "  `Job title | Company name | Location | Job type (if provided) | Description`"
      ],
      "metadata": {
        "id": "gOjGOKM-X5h5"
      }
    },
    {
      "cell_type": "markdown",
      "source": [
        "### Data Loading"
      ],
      "metadata": {
        "id": "T4vHt85PZqXz"
      }
    },
    {
      "cell_type": "code",
      "source": [
        "path = '/content/drive/MyDrive/NLP/Project/'\n",
        "\n",
        "dfs = []\n",
        "\n",
        "for filename in os.listdir(path):\n",
        "    if filename.endswith('.csv'):\n",
        "        file_path = os.path.join(path, filename)\n",
        "        df = pd.read_csv(file_path)\n",
        "        dfs.append(df)\n",
        "\n",
        "df = pd.concat(dfs, ignore_index=True)\n",
        "print(f\"Total numer of jobs before cleaning: {df.shape[0]}\")"
      ],
      "metadata": {
        "colab": {
          "base_uri": "https://localhost:8080/"
        },
        "id": "n6wYLeRDXvDU",
        "outputId": "5714e191-7988-4fd4-b4fe-51f66595d828"
      },
      "execution_count": null,
      "outputs": [
        {
          "output_type": "stream",
          "name": "stdout",
          "text": [
            "(13, 6)\n"
          ]
        }
      ]
    },
    {
      "cell_type": "code",
      "source": [
        "df.head(1)"
      ],
      "metadata": {
        "colab": {
          "base_uri": "https://localhost:8080/",
          "height": 427
        },
        "id": "ap5aw9DkfXWw",
        "outputId": "85241c3c-b8a8-428f-e712-af5e7c71b078"
      },
      "execution_count": null,
      "outputs": [
        {
          "output_type": "execute_result",
          "data": {
            "text/plain": [
              "                                               title company_name  \\\n",
              "0  Silicon Engineer: Opportunities for University...    Microsoft   \n",
              "\n",
              "      location                         pay   job_type  \\\n",
              "0  Raleigh, NC  $76,400 - $151,800 por año  Full-time   \n",
              "\n",
              "                                         description  \n",
              "0  Come build community, explore your passions an...  "
            ],
            "text/html": [
              "\n",
              "  <div id=\"df-4d1c37a2-40a4-4937-aba8-8c6e4c7d776e\" class=\"colab-df-container\">\n",
              "    <div>\n",
              "<style scoped>\n",
              "    .dataframe tbody tr th:only-of-type {\n",
              "        vertical-align: middle;\n",
              "    }\n",
              "\n",
              "    .dataframe tbody tr th {\n",
              "        vertical-align: top;\n",
              "    }\n",
              "\n",
              "    .dataframe thead th {\n",
              "        text-align: right;\n",
              "    }\n",
              "</style>\n",
              "<table border=\"1\" class=\"dataframe\">\n",
              "  <thead>\n",
              "    <tr style=\"text-align: right;\">\n",
              "      <th></th>\n",
              "      <th>title</th>\n",
              "      <th>company_name</th>\n",
              "      <th>location</th>\n",
              "      <th>pay</th>\n",
              "      <th>job_type</th>\n",
              "      <th>description</th>\n",
              "    </tr>\n",
              "  </thead>\n",
              "  <tbody>\n",
              "    <tr>\n",
              "      <th>0</th>\n",
              "      <td>Silicon Engineer: Opportunities for University...</td>\n",
              "      <td>Microsoft</td>\n",
              "      <td>Raleigh, NC</td>\n",
              "      <td>$76,400 - $151,800 por año</td>\n",
              "      <td>Full-time</td>\n",
              "      <td>Come build community, explore your passions an...</td>\n",
              "    </tr>\n",
              "  </tbody>\n",
              "</table>\n",
              "</div>\n",
              "    <div class=\"colab-df-buttons\">\n",
              "\n",
              "  <div class=\"colab-df-container\">\n",
              "    <button class=\"colab-df-convert\" onclick=\"convertToInteractive('df-4d1c37a2-40a4-4937-aba8-8c6e4c7d776e')\"\n",
              "            title=\"Convert this dataframe to an interactive table.\"\n",
              "            style=\"display:none;\">\n",
              "\n",
              "  <svg xmlns=\"http://www.w3.org/2000/svg\" height=\"24px\" viewBox=\"0 -960 960 960\">\n",
              "    <path d=\"M120-120v-720h720v720H120Zm60-500h600v-160H180v160Zm220 220h160v-160H400v160Zm0 220h160v-160H400v160ZM180-400h160v-160H180v160Zm440 0h160v-160H620v160ZM180-180h160v-160H180v160Zm440 0h160v-160H620v160Z\"/>\n",
              "  </svg>\n",
              "    </button>\n",
              "\n",
              "  <style>\n",
              "    .colab-df-container {\n",
              "      display:flex;\n",
              "      gap: 12px;\n",
              "    }\n",
              "\n",
              "    .colab-df-convert {\n",
              "      background-color: #E8F0FE;\n",
              "      border: none;\n",
              "      border-radius: 50%;\n",
              "      cursor: pointer;\n",
              "      display: none;\n",
              "      fill: #1967D2;\n",
              "      height: 32px;\n",
              "      padding: 0 0 0 0;\n",
              "      width: 32px;\n",
              "    }\n",
              "\n",
              "    .colab-df-convert:hover {\n",
              "      background-color: #E2EBFA;\n",
              "      box-shadow: 0px 1px 2px rgba(60, 64, 67, 0.3), 0px 1px 3px 1px rgba(60, 64, 67, 0.15);\n",
              "      fill: #174EA6;\n",
              "    }\n",
              "\n",
              "    .colab-df-buttons div {\n",
              "      margin-bottom: 4px;\n",
              "    }\n",
              "\n",
              "    [theme=dark] .colab-df-convert {\n",
              "      background-color: #3B4455;\n",
              "      fill: #D2E3FC;\n",
              "    }\n",
              "\n",
              "    [theme=dark] .colab-df-convert:hover {\n",
              "      background-color: #434B5C;\n",
              "      box-shadow: 0px 1px 3px 1px rgba(0, 0, 0, 0.15);\n",
              "      filter: drop-shadow(0px 1px 2px rgba(0, 0, 0, 0.3));\n",
              "      fill: #FFFFFF;\n",
              "    }\n",
              "  </style>\n",
              "\n",
              "    <script>\n",
              "      const buttonEl =\n",
              "        document.querySelector('#df-4d1c37a2-40a4-4937-aba8-8c6e4c7d776e button.colab-df-convert');\n",
              "      buttonEl.style.display =\n",
              "        google.colab.kernel.accessAllowed ? 'block' : 'none';\n",
              "\n",
              "      async function convertToInteractive(key) {\n",
              "        const element = document.querySelector('#df-4d1c37a2-40a4-4937-aba8-8c6e4c7d776e');\n",
              "        const dataTable =\n",
              "          await google.colab.kernel.invokeFunction('convertToInteractive',\n",
              "                                                    [key], {});\n",
              "        if (!dataTable) return;\n",
              "\n",
              "        const docLinkHtml = 'Like what you see? Visit the ' +\n",
              "          '<a target=\"_blank\" href=https://colab.research.google.com/notebooks/data_table.ipynb>data table notebook</a>'\n",
              "          + ' to learn more about interactive tables.';\n",
              "        element.innerHTML = '';\n",
              "        dataTable['output_type'] = 'display_data';\n",
              "        await google.colab.output.renderOutput(dataTable, element);\n",
              "        const docLink = document.createElement('div');\n",
              "        docLink.innerHTML = docLinkHtml;\n",
              "        element.appendChild(docLink);\n",
              "      }\n",
              "    </script>\n",
              "  </div>\n",
              "\n",
              "    </div>\n",
              "  </div>\n"
            ],
            "application/vnd.google.colaboratory.intrinsic+json": {
              "type": "dataframe",
              "variable_name": "df",
              "summary": "{\n  \"name\": \"df\",\n  \"rows\": 13,\n  \"fields\": [\n    {\n      \"column\": \"title\",\n      \"properties\": {\n        \"dtype\": \"string\",\n        \"num_unique_values\": 12,\n        \"samples\": [\n          \"Engineering Technician I/II (Development)\",\n          \"Mechanical Engineer I - CAD Modeling\",\n          \"Silicon Engineer: Opportunities for University Students\"\n        ],\n        \"semantic_type\": \"\",\n        \"description\": \"\"\n      }\n    },\n    {\n      \"column\": \"company_name\",\n      \"properties\": {\n        \"dtype\": \"string\",\n        \"num_unique_values\": 8,\n        \"samples\": [\n          \"Novartis\",\n          \"Honda\",\n          \"Microsoft\"\n        ],\n        \"semantic_type\": \"\",\n        \"description\": \"\"\n      }\n    },\n    {\n      \"column\": \"location\",\n      \"properties\": {\n        \"dtype\": \"string\",\n        \"num_unique_values\": 12,\n        \"samples\": [\n          \"Fremont, CA\",\n          \"Fairborn, OH\",\n          \"Raleigh, NC\"\n        ],\n        \"semantic_type\": \"\",\n        \"description\": \"\"\n      }\n    },\n    {\n      \"column\": \"pay\",\n      \"properties\": {\n        \"dtype\": \"string\",\n        \"num_unique_values\": 10,\n        \"samples\": [\n          \"$72,685.34 - $99,805.73 por a\\u00f1o\",\n          \"$24.90 - $37.31 por hora\",\n          \"$86,700 - $130,000 por a\\u00f1o\"\n        ],\n        \"semantic_type\": \"\",\n        \"description\": \"\"\n      }\n    },\n    {\n      \"column\": \"job_type\",\n      \"properties\": {\n        \"dtype\": \"category\",\n        \"num_unique_values\": 2,\n        \"samples\": [\n          \"Seasonal\",\n          \"Full-time\"\n        ],\n        \"semantic_type\": \"\",\n        \"description\": \"\"\n      }\n    },\n    {\n      \"column\": \"description\",\n      \"properties\": {\n        \"dtype\": \"string\",\n        \"num_unique_values\": 12,\n        \"samples\": [\n          \"Description\\nThe Public Works Department is recruiting for Engineering Technician I/II (Development).\\n\\nThe first review of applications is Tuesday, February 20, 2024, at 12:00 p.m. (PT). The recruitment may close without notice after this date so interested applicants are encouraged to apply immediately.\\n\\nA resume, completed application, and supplemental questionnaire (part of the online application) must be submitted to be considered for this opportunity.\\n\\nTo be considered for this outstanding employment opportunity, please complete an application online by clicking \\\"Apply\\\" just above this box.\\n\\nFor additional information, please contact the Human Resources Department at:\\n3300 Capitol Ave., Building B\\nFremont, CA 94538\\nPh: (510) 494-4660\\nhumanresources@fremont.gov\\n\\nSalary\\n$72,685.34 - $99,805.73 Annually\\nLocation\\nFremont, CA\\nJob Type\\nFull-time, regular\\nJob Number\\n24PW01\\nDepartment\\nPublic Works\\nDivision\\nPW- Public Works Engineering\\nOpening Date\\n01/30/2024\",\n          \"Job Description\\nUS CITIZENSHIP REQUIRED\\n\\nWe partner with multiple, national-level intelligence organizations to modernize their mission critical systems. We are focused on solving our customer\\u2019s hardest problems and share a strong commitment to the missions we enable. We are looking for innovators, problem solvers, leaders, and team players who further our strong reputation for creativity and technical excellence. In this position, you will enable our customers to stay ahead of rapidly evolving threats to national security by designing and developing 3D geometric Computer Aided Design (CAD) models of foreign systems. In this position, you will primarily work in our customer facilities. If you are an action-oriented engineer with intellectual curiosity and excited to see how you can make a real difference with your talents, we want to talk with you.\\n\\nThe Engineering, Science and Analysis (ESA) Strategic Capabilities Unit comprises the technical talent and organizational leadership that enables the successful delivery of high-impact discriminating technologies for our customers\\u2019 missions. Our collaborative, cross-functional teams are committed to innovation, integrity, continual learning and strong execution.\\n\\nWhat You'll Do:\\nWork with customers, team members, and colleagues to understand project requirements and scope.\\nConstruct 3-D geometric CAD models of foreign spacecraft, including static and dynamic characteristics, using industry standards and formats.\\nConduct all-source and open-source intelligence (OSINT) research of detailed technical assessments of subsystems and spacecraft construction techniques.\\nPerform high-level analytical assignments.\\nCollaborate in a team environment.\\nAssist in preparing presentations and documents.\\nMaintain a regular and predictable work schedule.\\nEstablish and maintain effective working relationships within the department, the Strategic Business Units, Strategic Capabilities Units and the Company.\\nInteract appropriately with others in order to maintain a positive and productive work environment.\\nPerform other duties as necessary.\\n\\nOn-Site Work Environment: This position requires regular in-person engagement by working on-site five days each normally scheduled week in the primary work location. Travel and local commute between company campuses and other possible non-company locations may be required.\\n\\nWorking Conditions:\\nWork is performed in an office, laboratory, production floor, or cleanroom, outdoors or remote research environment.\\nMay occasionally work in production work centers where use of protective equipment and gear is required.\\nMay access other facilities in various weather conditions.\\n\\nRequired Education, Experience, & Skills\\nBS degree or higher in Engineering or a related technical field is required plus 2 or more years related experience.\\nEach higher-level degree, i.e., Master\\u2019s Degree or Ph.D., may substitute for two years of experience. Related technical experience may be considered in lieu of education. Degree must be from a university, college, or school which is accredited by an agency recognized by the US Secretary of Education, US Department of Education.\\nA current, active TS/SCI security clearance is required.\\n2 or more years of CAD modeling experience.\\nExcellent communication skills.\\n\\nPreferred Education, Experience, & Skills\\nExperience with NX preferred.\\nExperience with Matlab, Python, and/or Simulink preferred.\\n\\nPay Information\\nFull-Time Salary Range: $87000 - $108000\\n\\nPlease note: This range is based on our market pay structures. However, individual salaries are determined by a variety of factors including, but not limited to: business considerations, local market conditions, and internal equity, as well as candidate qualifications, such as skills, education, and experience.\\n\\nEmployee Benefits: At BAE Systems, we support our employees in all aspects of their life, including their health and financial well-being. Regular employees scheduled to work 20+ hours per week are offered: health, dental, and vision insurance; health savings accounts; a 401(k) savings plan; disability coverage; and life and accident insurance. We also have an employee assistance program, a legal plan, and other perks including discounts on things like home, auto, and pet insurance. Our leave programs include paid time off, paid holidays, as well as other types of leave, including paid parental, military, bereavement, and any applicable federal and state sick leave. Employees may participate in the company recognition program to receive monetary or non-monetary recognition awards. Other incentives may be available based on position level and/or job specifics.\"\n        ],\n        \"semantic_type\": \"\",\n        \"description\": \"\"\n      }\n    }\n  ]\n}"
            },
            "application/vnd.google.colaboratory.module+javascript": "\n      import \"https://ssl.gstatic.com/colaboratory/data_table/881c4a0d49046431/data_table.js\";\n\n      const table = window.createDataTable({\n        data: [[{\n            'v': 0,\n            'f': \"0\",\n        },\n\"Silicon Engineer: Opportunities for University Students\",\n\"Microsoft\",\n\"Raleigh, NC\",\n\"$76,400 - $151,800 por a\\u00f1o\",\n\"Full-time\",\n\"Come build community, explore your passions and do your best work at Microsoft with thousands of University students from every corner of the world. This opportunity will allow you to bring your aspirations, talent, potential\\u2014and excitement for the journey ahead.\\nAs a Silicon Engineer, you will work with progressive, motivated, diverse, and exceptionally creative people to design and manufacture Silicon and IP for areas such as Cloud Computing, AI, Xbox, and security. We have jobs in a wide range of disciplines within silicon development including architecture, design, verification, physical design, firmware, product validation, data analytics and lab validation. Our teams incubate advanced technologies and build deep partnerships with Microsoft Research, Product Planning and Marketing. We're looking for the best and brightest to join us in designing for the future!\\n\\nMicrosoft\\u2019s mission is to empower every person and every organization on the planet to achieve more. As employees we come together with a growth mindset, innovate to empower others, and collaborate to realize our shared goals. Each day we build on our values of respect, integrity, and accountability to create a culture of inclusion where everyone can thrive at work and beyond.\\nResponsibilities\\nResearches new tools, technologies, or methods for project implementation and provides recommendations to project team members as to which tool is appropriate.\\nUses performance instrumentation and presents results to team and architects\\nThink strategically, creatively, and innovate ways to communicate and visualize user experiences.\\nImplements or recommends technical solutions to common quality and design challenges, with guidance from others (including but not limited to logic design, verification, circuit design, physical design, and design for test)\\nUses standard practices to write complete design verification test cases, test benches, or automation.\\nAssists in writing tests for formal pre-silicon verification of subsystems within a single block; includes the use of simulation and emulation tools, as well as tests for signal integrity, to prevent bugs/failures before production\\nQualifications\\nRequired Qualifications\\nBachelor's Degree in Electrical Engineering, Computer Engineering, Computer Science, or related field\\nExperience in technical engineering.\\nPreferred Qualifications\\nBachelor's degree in Electrical Engineering, Computer Engineering, Computer Science, or related field AND 2+ years technical engineering experience\\nOR Master's degree in Electrical Engineering, Computer Engineering, Computer Science, or related field.\\nSilicon Engineering IC2 - The typical base pay range for this role across the U.S. is USD $76,400 - $151,800 per year. There is a different range applicable to specific work locations, within the San Francisco Bay area and New York City metropolitan area, and the base pay range for this role in those locations is USD $100,300 - $165,400 per year.\\n\\nCertain roles may be eligible for benefits and other compensation. Find additional benefits and pay information here: https://careers.microsoft.com/us/en/us-corporate-pay\\n\\nMicrosoft accepts applications and processes offers for these roles on an ongoing basis throughout the academic calendar (September \\u2013 April).\\n\\nMicrosoft is an equal opportunity employer. Consistent with applicable law, all qualified applicants will receive consideration for employment without regard to age, ancestry, citizenship, color, family or medical care leave, gender identity or expression, genetic information, immigration status, marital status, medical condition, national origin, physical or mental disability, political affiliation, protected veteran or military status, race, ethnicity, religion, sex (including pregnancy), sexual orientation, or any other characteristic protected by applicable local laws, regulations and ordinances. If you need assistance and/or a reasonable accommodation due to a disability during the application process, read more about requesting accommodations.\"]],\n        columns: [[\"number\", \"index\"], [\"string\", \"title\"], [\"string\", \"company_name\"], [\"string\", \"location\"], [\"string\", \"pay\"], [\"string\", \"job_type\"], [\"string\", \"description\"]],\n        columnOptions: [{\"width\": \"1px\", \"className\": \"index_column\"}],\n        rowsPerPage: 25,\n        helpUrl: \"https://colab.research.google.com/notebooks/data_table.ipynb\",\n        suppressOutputScrolling: true,\n        minimumWidth: undefined,\n      });\n\n      function appendQuickchartButton(parentElement) {\n        let quickchartButtonContainerElement = document.createElement('div');\n        quickchartButtonContainerElement.innerHTML = `\n<div id=\"df-dc231ed0-711e-4989-84f5-4ddd2581ca88\">\n  <button class=\"colab-df-quickchart\" onclick=\"quickchart('df-dc231ed0-711e-4989-84f5-4ddd2581ca88')\"\n            title=\"Suggest charts\"\n            style=\"display:none;\">\n    \n<svg xmlns=\"http://www.w3.org/2000/svg\" height=\"24px\"viewBox=\"0 0 24 24\"\n     width=\"24px\">\n    <g>\n        <path d=\"M19 3H5c-1.1 0-2 .9-2 2v14c0 1.1.9 2 2 2h14c1.1 0 2-.9 2-2V5c0-1.1-.9-2-2-2zM9 17H7v-7h2v7zm4 0h-2V7h2v10zm4 0h-2v-4h2v4z\"/>\n    </g>\n</svg>\n  </button>\n  \n<style>\n  .colab-df-quickchart {\n      --bg-color: #E8F0FE;\n      --fill-color: #1967D2;\n      --hover-bg-color: #E2EBFA;\n      --hover-fill-color: #174EA6;\n      --disabled-fill-color: #AAA;\n      --disabled-bg-color: #DDD;\n  }\n\n  [theme=dark] .colab-df-quickchart {\n      --bg-color: #3B4455;\n      --fill-color: #D2E3FC;\n      --hover-bg-color: #434B5C;\n      --hover-fill-color: #FFFFFF;\n      --disabled-bg-color: #3B4455;\n      --disabled-fill-color: #666;\n  }\n\n  .colab-df-quickchart {\n    background-color: var(--bg-color);\n    border: none;\n    border-radius: 50%;\n    cursor: pointer;\n    display: none;\n    fill: var(--fill-color);\n    height: 32px;\n    padding: 0;\n    width: 32px;\n  }\n\n  .colab-df-quickchart:hover {\n    background-color: var(--hover-bg-color);\n    box-shadow: 0 1px 2px rgba(60, 64, 67, 0.3), 0 1px 3px 1px rgba(60, 64, 67, 0.15);\n    fill: var(--button-hover-fill-color);\n  }\n\n  .colab-df-quickchart-complete:disabled,\n  .colab-df-quickchart-complete:disabled:hover {\n    background-color: var(--disabled-bg-color);\n    fill: var(--disabled-fill-color);\n    box-shadow: none;\n  }\n\n  .colab-df-spinner {\n    border: 2px solid var(--fill-color);\n    border-color: transparent;\n    border-bottom-color: var(--fill-color);\n    animation:\n      spin 1s steps(1) infinite;\n  }\n\n  @keyframes spin {\n    0% {\n      border-color: transparent;\n      border-bottom-color: var(--fill-color);\n      border-left-color: var(--fill-color);\n    }\n    20% {\n      border-color: transparent;\n      border-left-color: var(--fill-color);\n      border-top-color: var(--fill-color);\n    }\n    30% {\n      border-color: transparent;\n      border-left-color: var(--fill-color);\n      border-top-color: var(--fill-color);\n      border-right-color: var(--fill-color);\n    }\n    40% {\n      border-color: transparent;\n      border-right-color: var(--fill-color);\n      border-top-color: var(--fill-color);\n    }\n    60% {\n      border-color: transparent;\n      border-right-color: var(--fill-color);\n    }\n    80% {\n      border-color: transparent;\n      border-right-color: var(--fill-color);\n      border-bottom-color: var(--fill-color);\n    }\n    90% {\n      border-color: transparent;\n      border-bottom-color: var(--fill-color);\n    }\n  }\n</style>\n\n  <script>\n    async function quickchart(key) {\n      const quickchartButtonEl =\n        document.querySelector('#' + key + ' button');\n      quickchartButtonEl.disabled = true;  // To prevent multiple clicks.\n      quickchartButtonEl.classList.add('colab-df-spinner');\n      try {\n        const charts = await google.colab.kernel.invokeFunction(\n            'suggestCharts', [key], {});\n      } catch (error) {\n        console.error('Error during call to suggestCharts:', error);\n      }\n      quickchartButtonEl.classList.remove('colab-df-spinner');\n      quickchartButtonEl.classList.add('colab-df-quickchart-complete');\n    }\n    (() => {\n      let quickchartButtonEl =\n        document.querySelector('#df-dc231ed0-711e-4989-84f5-4ddd2581ca88 button');\n      quickchartButtonEl.style.display =\n        google.colab.kernel.accessAllowed ? 'block' : 'none';\n    })();\n  </script>\n</div>`;\n        parentElement.appendChild(quickchartButtonContainerElement);\n      }\n\n      appendQuickchartButton(table);\n    "
          },
          "metadata": {},
          "execution_count": 7
        }
      ]
    },
    {
      "cell_type": "markdown",
      "source": [
        "### 1. Clean DataFrame"
      ],
      "metadata": {
        "id": "XeZER4vphko8"
      }
    },
    {
      "cell_type": "code",
      "source": [
        "df = df.drop_duplicates()\n",
        "df = df.dropna()\n",
        "print(f\"Total numer of jobs after cleaning: {df.shape[0]}\")"
      ],
      "metadata": {
        "id": "8o_yJHHVhoMk"
      },
      "execution_count": null,
      "outputs": []
    },
    {
      "cell_type": "markdown",
      "source": [
        "### 2. Remove Salary Information from Description"
      ],
      "metadata": {
        "id": "Y5qepMUmZzkq"
      }
    },
    {
      "cell_type": "code",
      "source": [
        "def remove_salary(text):\n",
        "  doc = nlp(text)\n",
        "  filtered_sents = [sent.text for sent in doc.sents if \"$\" not in sent.text]\n",
        "  filtered_text = \" \".join(filtered_sents)\n",
        "\n",
        "  return filtered_text"
      ],
      "metadata": {
        "id": "uYo-R4uWZ2bO"
      },
      "execution_count": null,
      "outputs": []
    },
    {
      "cell_type": "code",
      "source": [
        "# Apply the function to the 'description' column\n",
        "df['description'] = df['description'].apply(remove_salary)\n",
        "df.head(1)"
      ],
      "metadata": {
        "colab": {
          "base_uri": "https://localhost:8080/",
          "height": 411
        },
        "id": "tzWtBZ96eXEA",
        "outputId": "66696152-2aa9-4b74-8d73-0197a14e897d"
      },
      "execution_count": null,
      "outputs": [
        {
          "output_type": "execute_result",
          "data": {
            "text/plain": [
              "                                               title company_name  \\\n",
              "0  Silicon Engineer: Opportunities for University...    Microsoft   \n",
              "\n",
              "      location                         pay   job_type  \\\n",
              "0  Raleigh, NC  $76,400 - $151,800 por año  Full-time   \n",
              "\n",
              "                                         description  \n",
              "0  Come build community, explore your passions an...  "
            ],
            "text/html": [
              "\n",
              "  <div id=\"df-ef8f50a3-e120-4894-bef7-c24513f4de88\" class=\"colab-df-container\">\n",
              "    <div>\n",
              "<style scoped>\n",
              "    .dataframe tbody tr th:only-of-type {\n",
              "        vertical-align: middle;\n",
              "    }\n",
              "\n",
              "    .dataframe tbody tr th {\n",
              "        vertical-align: top;\n",
              "    }\n",
              "\n",
              "    .dataframe thead th {\n",
              "        text-align: right;\n",
              "    }\n",
              "</style>\n",
              "<table border=\"1\" class=\"dataframe\">\n",
              "  <thead>\n",
              "    <tr style=\"text-align: right;\">\n",
              "      <th></th>\n",
              "      <th>title</th>\n",
              "      <th>company_name</th>\n",
              "      <th>location</th>\n",
              "      <th>pay</th>\n",
              "      <th>job_type</th>\n",
              "      <th>description</th>\n",
              "    </tr>\n",
              "  </thead>\n",
              "  <tbody>\n",
              "    <tr>\n",
              "      <th>0</th>\n",
              "      <td>Silicon Engineer: Opportunities for University...</td>\n",
              "      <td>Microsoft</td>\n",
              "      <td>Raleigh, NC</td>\n",
              "      <td>$76,400 - $151,800 por año</td>\n",
              "      <td>Full-time</td>\n",
              "      <td>Come build community, explore your passions an...</td>\n",
              "    </tr>\n",
              "  </tbody>\n",
              "</table>\n",
              "</div>\n",
              "    <div class=\"colab-df-buttons\">\n",
              "\n",
              "  <div class=\"colab-df-container\">\n",
              "    <button class=\"colab-df-convert\" onclick=\"convertToInteractive('df-ef8f50a3-e120-4894-bef7-c24513f4de88')\"\n",
              "            title=\"Convert this dataframe to an interactive table.\"\n",
              "            style=\"display:none;\">\n",
              "\n",
              "  <svg xmlns=\"http://www.w3.org/2000/svg\" height=\"24px\" viewBox=\"0 -960 960 960\">\n",
              "    <path d=\"M120-120v-720h720v720H120Zm60-500h600v-160H180v160Zm220 220h160v-160H400v160Zm0 220h160v-160H400v160ZM180-400h160v-160H180v160Zm440 0h160v-160H620v160ZM180-180h160v-160H180v160Zm440 0h160v-160H620v160Z\"/>\n",
              "  </svg>\n",
              "    </button>\n",
              "\n",
              "  <style>\n",
              "    .colab-df-container {\n",
              "      display:flex;\n",
              "      gap: 12px;\n",
              "    }\n",
              "\n",
              "    .colab-df-convert {\n",
              "      background-color: #E8F0FE;\n",
              "      border: none;\n",
              "      border-radius: 50%;\n",
              "      cursor: pointer;\n",
              "      display: none;\n",
              "      fill: #1967D2;\n",
              "      height: 32px;\n",
              "      padding: 0 0 0 0;\n",
              "      width: 32px;\n",
              "    }\n",
              "\n",
              "    .colab-df-convert:hover {\n",
              "      background-color: #E2EBFA;\n",
              "      box-shadow: 0px 1px 2px rgba(60, 64, 67, 0.3), 0px 1px 3px 1px rgba(60, 64, 67, 0.15);\n",
              "      fill: #174EA6;\n",
              "    }\n",
              "\n",
              "    .colab-df-buttons div {\n",
              "      margin-bottom: 4px;\n",
              "    }\n",
              "\n",
              "    [theme=dark] .colab-df-convert {\n",
              "      background-color: #3B4455;\n",
              "      fill: #D2E3FC;\n",
              "    }\n",
              "\n",
              "    [theme=dark] .colab-df-convert:hover {\n",
              "      background-color: #434B5C;\n",
              "      box-shadow: 0px 1px 3px 1px rgba(0, 0, 0, 0.15);\n",
              "      filter: drop-shadow(0px 1px 2px rgba(0, 0, 0, 0.3));\n",
              "      fill: #FFFFFF;\n",
              "    }\n",
              "  </style>\n",
              "\n",
              "    <script>\n",
              "      const buttonEl =\n",
              "        document.querySelector('#df-ef8f50a3-e120-4894-bef7-c24513f4de88 button.colab-df-convert');\n",
              "      buttonEl.style.display =\n",
              "        google.colab.kernel.accessAllowed ? 'block' : 'none';\n",
              "\n",
              "      async function convertToInteractive(key) {\n",
              "        const element = document.querySelector('#df-ef8f50a3-e120-4894-bef7-c24513f4de88');\n",
              "        const dataTable =\n",
              "          await google.colab.kernel.invokeFunction('convertToInteractive',\n",
              "                                                    [key], {});\n",
              "        if (!dataTable) return;\n",
              "\n",
              "        const docLinkHtml = 'Like what you see? Visit the ' +\n",
              "          '<a target=\"_blank\" href=https://colab.research.google.com/notebooks/data_table.ipynb>data table notebook</a>'\n",
              "          + ' to learn more about interactive tables.';\n",
              "        element.innerHTML = '';\n",
              "        dataTable['output_type'] = 'display_data';\n",
              "        await google.colab.output.renderOutput(dataTable, element);\n",
              "        const docLink = document.createElement('div');\n",
              "        docLink.innerHTML = docLinkHtml;\n",
              "        element.appendChild(docLink);\n",
              "      }\n",
              "    </script>\n",
              "  </div>\n",
              "\n",
              "    </div>\n",
              "  </div>\n"
            ],
            "application/vnd.google.colaboratory.intrinsic+json": {
              "type": "dataframe",
              "variable_name": "df",
              "summary": "{\n  \"name\": \"df\",\n  \"rows\": 13,\n  \"fields\": [\n    {\n      \"column\": \"title\",\n      \"properties\": {\n        \"dtype\": \"string\",\n        \"num_unique_values\": 12,\n        \"samples\": [\n          \"Engineering Technician I/II (Development)\",\n          \"Mechanical Engineer I - CAD Modeling\",\n          \"Silicon Engineer: Opportunities for University Students\"\n        ],\n        \"semantic_type\": \"\",\n        \"description\": \"\"\n      }\n    },\n    {\n      \"column\": \"company_name\",\n      \"properties\": {\n        \"dtype\": \"string\",\n        \"num_unique_values\": 8,\n        \"samples\": [\n          \"Novartis\",\n          \"Honda\",\n          \"Microsoft\"\n        ],\n        \"semantic_type\": \"\",\n        \"description\": \"\"\n      }\n    },\n    {\n      \"column\": \"location\",\n      \"properties\": {\n        \"dtype\": \"string\",\n        \"num_unique_values\": 12,\n        \"samples\": [\n          \"Fremont, CA\",\n          \"Fairborn, OH\",\n          \"Raleigh, NC\"\n        ],\n        \"semantic_type\": \"\",\n        \"description\": \"\"\n      }\n    },\n    {\n      \"column\": \"pay\",\n      \"properties\": {\n        \"dtype\": \"string\",\n        \"num_unique_values\": 10,\n        \"samples\": [\n          \"$72,685.34 - $99,805.73 por a\\u00f1o\",\n          \"$24.90 - $37.31 por hora\",\n          \"$86,700 - $130,000 por a\\u00f1o\"\n        ],\n        \"semantic_type\": \"\",\n        \"description\": \"\"\n      }\n    },\n    {\n      \"column\": \"job_type\",\n      \"properties\": {\n        \"dtype\": \"category\",\n        \"num_unique_values\": 2,\n        \"samples\": [\n          \"Seasonal\",\n          \"Full-time\"\n        ],\n        \"semantic_type\": \"\",\n        \"description\": \"\"\n      }\n    },\n    {\n      \"column\": \"description\",\n      \"properties\": {\n        \"dtype\": \"string\",\n        \"num_unique_values\": 12,\n        \"samples\": [\n          \"Description\\nThe Public Works Department is recruiting for Engineering Technician I/II (Development).\\n\\n The first review of applications is Tuesday, February 20, 2024, at 12:00 p.m. (PT). The recruitment may close without notice after this date so interested applicants are encouraged to apply immediately.\\n\\n A resume, completed application, and supplemental questionnaire (part of the online application) must be submitted to be considered for this opportunity.\\n\\n To be considered for this outstanding employment opportunity, please complete an application online by clicking \\\"Apply\\\" just above this box.\\n\\n\",\n          \"Job Description\\nUS CITIZENSHIP REQUIRED\\n\\nWe partner with multiple, national-level intelligence organizations to modernize their mission critical systems. We are focused on solving our customer\\u2019s hardest problems and share a strong commitment to the missions we enable. We are looking for innovators, problem solvers, leaders, and team players who further our strong reputation for creativity and technical excellence. In this position, you will enable our customers to stay ahead of rapidly evolving threats to national security by designing and developing 3D geometric Computer Aided Design (CAD) models of foreign systems. In this position, you will primarily work in our customer facilities. If you are an action-oriented engineer with intellectual curiosity and excited to see how you can make a real difference with your talents, we want to talk with you.\\n\\n The Engineering, Science and Analysis (ESA) Strategic Capabilities Unit comprises the technical talent and organizational leadership that enables the successful delivery of high-impact discriminating technologies for our customers\\u2019 missions. Our collaborative, cross-functional teams are committed to innovation, integrity, continual learning and strong execution.\\n\\n What You'll Do:\\nWork with customers, team members, and colleagues to understand project requirements and scope.\\n Construct 3-D geometric CAD models of foreign spacecraft, including static and dynamic characteristics, using industry standards and formats.\\n Conduct all-source and open-source intelligence (OSINT) research of detailed technical assessments of subsystems and spacecraft construction techniques.\\n Perform high-level analytical assignments.\\n Collaborate in a team environment.\\n Assist in preparing presentations and documents.\\n Maintain a regular and predictable work schedule.\\n Establish and maintain effective working relationships within the department, the Strategic Business Units, Strategic Capabilities Units and the Company.\\nInteract appropriately with others in order to maintain a positive and productive work environment.\\n Perform other duties as necessary.\\n\\n On-Site Work Environment: This position requires regular in-person engagement by working on-site five days each normally scheduled week in the primary work location. Travel and local commute between company campuses and other possible non-company locations may be required.\\n\\n Working Conditions:\\nWork is performed in an office, laboratory, production floor, or cleanroom, outdoors or remote research environment.\\n May occasionally work in production work centers where use of protective equipment and gear is required.\\n May access other facilities in various weather conditions.\\n\\n Required Education, Experience, & Skills\\nBS degree or higher in Engineering or a related technical field is required plus 2 or more years related experience.\\n Each higher-level degree, i.e., Master\\u2019s Degree or Ph.D., may substitute for two years of experience. Related technical experience may be considered in lieu of education. Degree must be from a university, college, or school which is accredited by an agency recognized by the US Secretary of Education, US Department of Education.\\n A current, active TS/SCI security clearance is required.\\n 2 or more years of CAD modeling experience.\\n Excellent communication skills.\\n\\n Preferred Education, Experience, & Skills\\nExperience with NX preferred.\\n Experience with Matlab, Python, and/or Simulink preferred.\\n\\n However, individual salaries are determined by a variety of factors including, but not limited to: business considerations, local market conditions, and internal equity, as well as candidate qualifications, such as skills, education, and experience.\\n\\n Employee Benefits: At BAE Systems, we support our employees in all aspects of their life, including their health and financial well-being. Regular employees scheduled to work 20+ hours per week are offered: health, dental, and vision insurance; health savings accounts; a 401(k) savings plan; disability coverage; and life and accident insurance. We also have an employee assistance program, a legal plan, and other perks including discounts on things like home, auto, and pet insurance. Our leave programs include paid time off, paid holidays, as well as other types of leave, including paid parental, military, bereavement, and any applicable federal and state sick leave. Employees may participate in the company recognition program to receive monetary or non-monetary recognition awards. Other incentives may be available based on position level and/or job specifics.\"\n        ],\n        \"semantic_type\": \"\",\n        \"description\": \"\"\n      }\n    }\n  ]\n}"
            },
            "application/vnd.google.colaboratory.module+javascript": "\n      import \"https://ssl.gstatic.com/colaboratory/data_table/881c4a0d49046431/data_table.js\";\n\n      const table = window.createDataTable({\n        data: [[{\n            'v': 0,\n            'f': \"0\",\n        },\n\"Silicon Engineer: Opportunities for University Students\",\n\"Microsoft\",\n\"Raleigh, NC\",\n\"$76,400 - $151,800 por a\\u00f1o\",\n\"Full-time\",\n\"Come build community, explore your passions and do your best work at Microsoft with thousands of University students from every corner of the world. This opportunity will allow you to bring your aspirations, talent, potential\\u2014and excitement for the journey ahead.\\n As a Silicon Engineer, you will work with progressive, motivated, diverse, and exceptionally creative people to design and manufacture Silicon and IP for areas such as Cloud Computing, AI, Xbox, and security. We have jobs in a wide range of disciplines within silicon development including architecture, design, verification, physical design, firmware, product validation, data analytics and lab validation. Our teams incubate advanced technologies and build deep partnerships with Microsoft Research, Product Planning and Marketing. We're looking for the best and brightest to join us in designing for the future!\\n\\n Microsoft\\u2019s mission is to empower every person and every organization on the planet to achieve more. As employees we come together with a growth mindset, innovate to empower others, and collaborate to realize our shared goals. Each day we build on our values of respect, integrity, and accountability to create a culture of inclusion where everyone can thrive at work and beyond.\\n Responsibilities\\nResearches new tools, technologies, or methods for project implementation and provides recommendations to project team members as to which tool is appropriate.\\n Uses performance instrumentation and presents results to team and architects\\nThink strategically, creatively, and innovate ways to communicate and visualize user experiences.\\nImplements or recommends technical solutions to common quality and design challenges, with guidance from others (including but not limited to logic design, verification, circuit design, physical design, and design for test)\\nUses standard practices to write complete design verification test cases, test benches, or automation.\\n Assists in writing tests for formal pre-silicon verification of subsystems within a single block; includes the use of simulation and emulation tools, as well as tests for signal integrity, to prevent bugs/failures before production\\nQualifications\\nRequired Qualifications\\nBachelor's Degree in Electrical Engineering, Computer Engineering, Computer Science, or related field\\nExperience in technical engineering.\\n Preferred Qualifications\\nBachelor's degree in Electrical Engineering, Computer Engineering, Computer Science, or related field AND 2+ years technical engineering experience\\nOR Master's degree in Electrical Engineering, Computer Engineering, Computer Science, or related field.\\n Silicon Engineering IC2 - Certain roles may be eligible for benefits and other compensation. Find additional benefits and pay information here: https://careers.microsoft.com/us/en/us-corporate-pay\\n\\nMicrosoft accepts applications and processes offers for these roles on an ongoing basis throughout the academic calendar (September \\u2013 April).\\n\\n Microsoft is an equal opportunity employer. Consistent with applicable law, all qualified applicants will receive consideration for employment without regard to age, ancestry, citizenship, color, family or medical care leave, gender identity or expression, genetic information, immigration status, marital status, medical condition, national origin, physical or mental disability, political affiliation, protected veteran or military status, race, ethnicity, religion, sex (including pregnancy), sexual orientation, or any other characteristic protected by applicable local laws, regulations and ordinances. If you need assistance and/or a reasonable accommodation due to a disability during the application process, read more about requesting accommodations.\"]],\n        columns: [[\"number\", \"index\"], [\"string\", \"title\"], [\"string\", \"company_name\"], [\"string\", \"location\"], [\"string\", \"pay\"], [\"string\", \"job_type\"], [\"string\", \"description\"]],\n        columnOptions: [{\"width\": \"1px\", \"className\": \"index_column\"}],\n        rowsPerPage: 25,\n        helpUrl: \"https://colab.research.google.com/notebooks/data_table.ipynb\",\n        suppressOutputScrolling: true,\n        minimumWidth: undefined,\n      });\n\n      function appendQuickchartButton(parentElement) {\n        let quickchartButtonContainerElement = document.createElement('div');\n        quickchartButtonContainerElement.innerHTML = `\n<div id=\"df-28db783c-4ece-4687-b369-8e344f369271\">\n  <button class=\"colab-df-quickchart\" onclick=\"quickchart('df-28db783c-4ece-4687-b369-8e344f369271')\"\n            title=\"Suggest charts\"\n            style=\"display:none;\">\n    \n<svg xmlns=\"http://www.w3.org/2000/svg\" height=\"24px\"viewBox=\"0 0 24 24\"\n     width=\"24px\">\n    <g>\n        <path d=\"M19 3H5c-1.1 0-2 .9-2 2v14c0 1.1.9 2 2 2h14c1.1 0 2-.9 2-2V5c0-1.1-.9-2-2-2zM9 17H7v-7h2v7zm4 0h-2V7h2v10zm4 0h-2v-4h2v4z\"/>\n    </g>\n</svg>\n  </button>\n  \n<style>\n  .colab-df-quickchart {\n      --bg-color: #E8F0FE;\n      --fill-color: #1967D2;\n      --hover-bg-color: #E2EBFA;\n      --hover-fill-color: #174EA6;\n      --disabled-fill-color: #AAA;\n      --disabled-bg-color: #DDD;\n  }\n\n  [theme=dark] .colab-df-quickchart {\n      --bg-color: #3B4455;\n      --fill-color: #D2E3FC;\n      --hover-bg-color: #434B5C;\n      --hover-fill-color: #FFFFFF;\n      --disabled-bg-color: #3B4455;\n      --disabled-fill-color: #666;\n  }\n\n  .colab-df-quickchart {\n    background-color: var(--bg-color);\n    border: none;\n    border-radius: 50%;\n    cursor: pointer;\n    display: none;\n    fill: var(--fill-color);\n    height: 32px;\n    padding: 0;\n    width: 32px;\n  }\n\n  .colab-df-quickchart:hover {\n    background-color: var(--hover-bg-color);\n    box-shadow: 0 1px 2px rgba(60, 64, 67, 0.3), 0 1px 3px 1px rgba(60, 64, 67, 0.15);\n    fill: var(--button-hover-fill-color);\n  }\n\n  .colab-df-quickchart-complete:disabled,\n  .colab-df-quickchart-complete:disabled:hover {\n    background-color: var(--disabled-bg-color);\n    fill: var(--disabled-fill-color);\n    box-shadow: none;\n  }\n\n  .colab-df-spinner {\n    border: 2px solid var(--fill-color);\n    border-color: transparent;\n    border-bottom-color: var(--fill-color);\n    animation:\n      spin 1s steps(1) infinite;\n  }\n\n  @keyframes spin {\n    0% {\n      border-color: transparent;\n      border-bottom-color: var(--fill-color);\n      border-left-color: var(--fill-color);\n    }\n    20% {\n      border-color: transparent;\n      border-left-color: var(--fill-color);\n      border-top-color: var(--fill-color);\n    }\n    30% {\n      border-color: transparent;\n      border-left-color: var(--fill-color);\n      border-top-color: var(--fill-color);\n      border-right-color: var(--fill-color);\n    }\n    40% {\n      border-color: transparent;\n      border-right-color: var(--fill-color);\n      border-top-color: var(--fill-color);\n    }\n    60% {\n      border-color: transparent;\n      border-right-color: var(--fill-color);\n    }\n    80% {\n      border-color: transparent;\n      border-right-color: var(--fill-color);\n      border-bottom-color: var(--fill-color);\n    }\n    90% {\n      border-color: transparent;\n      border-bottom-color: var(--fill-color);\n    }\n  }\n</style>\n\n  <script>\n    async function quickchart(key) {\n      const quickchartButtonEl =\n        document.querySelector('#' + key + ' button');\n      quickchartButtonEl.disabled = true;  // To prevent multiple clicks.\n      quickchartButtonEl.classList.add('colab-df-spinner');\n      try {\n        const charts = await google.colab.kernel.invokeFunction(\n            'suggestCharts', [key], {});\n      } catch (error) {\n        console.error('Error during call to suggestCharts:', error);\n      }\n      quickchartButtonEl.classList.remove('colab-df-spinner');\n      quickchartButtonEl.classList.add('colab-df-quickchart-complete');\n    }\n    (() => {\n      let quickchartButtonEl =\n        document.querySelector('#df-28db783c-4ece-4687-b369-8e344f369271 button');\n      quickchartButtonEl.style.display =\n        google.colab.kernel.accessAllowed ? 'block' : 'none';\n    })();\n  </script>\n</div>`;\n        parentElement.appendChild(quickchartButtonContainerElement);\n      }\n\n      appendQuickchartButton(table);\n    "
          },
          "metadata": {},
          "execution_count": 9
        }
      ]
    },
    {
      "cell_type": "markdown",
      "source": [
        "### 3. Salary/hour to Salary/year and Create Target Columns"
      ],
      "metadata": {
        "id": "9Aro_tTQaEgy"
      }
    },
    {
      "cell_type": "code",
      "source": [
        "def process_salary(text):\n",
        "  hours_week = 40 # Assume typical working schedule\n",
        "  weeks_year = 52\n",
        "  days_week = 5\n",
        "\n",
        "  doc = nlp(text.lower())\n",
        "  texts = [token.text for token in doc]\n",
        "  digits = [float(token.text.replace(',','')) for token in doc if token.text.replace(',', '').replace('.','').isdigit()]\n",
        "\n",
        "  min = np.min(digits)\n",
        "  max = np.max(digits)\n",
        "\n",
        "  if 'hora' in texts: # Convert to salary per year\n",
        "    min *= hours_week * weeks_year\n",
        "    max *= hours_week * weeks_year\n",
        "\n",
        "  elif 'mes' in texts: # Convert to salary per year\n",
        "    min *= 12\n",
        "    max *= 12\n",
        "\n",
        "  elif 'dia' in texts or 'día' in texts: # Convert to salary per year\n",
        "    min *= days_week * weeks_year\n",
        "    max *= days_week * weeks_year\n",
        "\n",
        "  return np.mean([min, max])"
      ],
      "metadata": {
        "id": "PNW6rXRZaKFQ"
      },
      "execution_count": null,
      "outputs": []
    },
    {
      "cell_type": "code",
      "source": [
        "df['avg_pay'] = zip(*df['pay'].map(process_salary))\n",
        "df.head(1)"
      ],
      "metadata": {
        "colab": {
          "base_uri": "https://localhost:8080/",
          "height": 427
        },
        "id": "O_BlfVFLn_Zq",
        "outputId": "b324a85c-9139-4f45-b239-57bb472c1dff"
      },
      "execution_count": null,
      "outputs": [
        {
          "output_type": "execute_result",
          "data": {
            "text/plain": [
              "                                               title company_name  \\\n",
              "0  Silicon Engineer: Opportunities for University...    Microsoft   \n",
              "\n",
              "      location                         pay   job_type  \\\n",
              "0  Raleigh, NC  $76,400 - $151,800 por año  Full-time   \n",
              "\n",
              "                                         description  min_pay   max_pay  \n",
              "0  Come build community, explore your passions an...  76400.0  151800.0  "
            ],
            "text/html": [
              "\n",
              "  <div id=\"df-a451e618-6373-4842-a632-8efa51a278d7\" class=\"colab-df-container\">\n",
              "    <div>\n",
              "<style scoped>\n",
              "    .dataframe tbody tr th:only-of-type {\n",
              "        vertical-align: middle;\n",
              "    }\n",
              "\n",
              "    .dataframe tbody tr th {\n",
              "        vertical-align: top;\n",
              "    }\n",
              "\n",
              "    .dataframe thead th {\n",
              "        text-align: right;\n",
              "    }\n",
              "</style>\n",
              "<table border=\"1\" class=\"dataframe\">\n",
              "  <thead>\n",
              "    <tr style=\"text-align: right;\">\n",
              "      <th></th>\n",
              "      <th>title</th>\n",
              "      <th>company_name</th>\n",
              "      <th>location</th>\n",
              "      <th>pay</th>\n",
              "      <th>job_type</th>\n",
              "      <th>description</th>\n",
              "      <th>min_pay</th>\n",
              "      <th>max_pay</th>\n",
              "    </tr>\n",
              "  </thead>\n",
              "  <tbody>\n",
              "    <tr>\n",
              "      <th>0</th>\n",
              "      <td>Silicon Engineer: Opportunities for University...</td>\n",
              "      <td>Microsoft</td>\n",
              "      <td>Raleigh, NC</td>\n",
              "      <td>$76,400 - $151,800 por año</td>\n",
              "      <td>Full-time</td>\n",
              "      <td>Come build community, explore your passions an...</td>\n",
              "      <td>76400.0</td>\n",
              "      <td>151800.0</td>\n",
              "    </tr>\n",
              "  </tbody>\n",
              "</table>\n",
              "</div>\n",
              "    <div class=\"colab-df-buttons\">\n",
              "\n",
              "  <div class=\"colab-df-container\">\n",
              "    <button class=\"colab-df-convert\" onclick=\"convertToInteractive('df-a451e618-6373-4842-a632-8efa51a278d7')\"\n",
              "            title=\"Convert this dataframe to an interactive table.\"\n",
              "            style=\"display:none;\">\n",
              "\n",
              "  <svg xmlns=\"http://www.w3.org/2000/svg\" height=\"24px\" viewBox=\"0 -960 960 960\">\n",
              "    <path d=\"M120-120v-720h720v720H120Zm60-500h600v-160H180v160Zm220 220h160v-160H400v160Zm0 220h160v-160H400v160ZM180-400h160v-160H180v160Zm440 0h160v-160H620v160ZM180-180h160v-160H180v160Zm440 0h160v-160H620v160Z\"/>\n",
              "  </svg>\n",
              "    </button>\n",
              "\n",
              "  <style>\n",
              "    .colab-df-container {\n",
              "      display:flex;\n",
              "      gap: 12px;\n",
              "    }\n",
              "\n",
              "    .colab-df-convert {\n",
              "      background-color: #E8F0FE;\n",
              "      border: none;\n",
              "      border-radius: 50%;\n",
              "      cursor: pointer;\n",
              "      display: none;\n",
              "      fill: #1967D2;\n",
              "      height: 32px;\n",
              "      padding: 0 0 0 0;\n",
              "      width: 32px;\n",
              "    }\n",
              "\n",
              "    .colab-df-convert:hover {\n",
              "      background-color: #E2EBFA;\n",
              "      box-shadow: 0px 1px 2px rgba(60, 64, 67, 0.3), 0px 1px 3px 1px rgba(60, 64, 67, 0.15);\n",
              "      fill: #174EA6;\n",
              "    }\n",
              "\n",
              "    .colab-df-buttons div {\n",
              "      margin-bottom: 4px;\n",
              "    }\n",
              "\n",
              "    [theme=dark] .colab-df-convert {\n",
              "      background-color: #3B4455;\n",
              "      fill: #D2E3FC;\n",
              "    }\n",
              "\n",
              "    [theme=dark] .colab-df-convert:hover {\n",
              "      background-color: #434B5C;\n",
              "      box-shadow: 0px 1px 3px 1px rgba(0, 0, 0, 0.15);\n",
              "      filter: drop-shadow(0px 1px 2px rgba(0, 0, 0, 0.3));\n",
              "      fill: #FFFFFF;\n",
              "    }\n",
              "  </style>\n",
              "\n",
              "    <script>\n",
              "      const buttonEl =\n",
              "        document.querySelector('#df-a451e618-6373-4842-a632-8efa51a278d7 button.colab-df-convert');\n",
              "      buttonEl.style.display =\n",
              "        google.colab.kernel.accessAllowed ? 'block' : 'none';\n",
              "\n",
              "      async function convertToInteractive(key) {\n",
              "        const element = document.querySelector('#df-a451e618-6373-4842-a632-8efa51a278d7');\n",
              "        const dataTable =\n",
              "          await google.colab.kernel.invokeFunction('convertToInteractive',\n",
              "                                                    [key], {});\n",
              "        if (!dataTable) return;\n",
              "\n",
              "        const docLinkHtml = 'Like what you see? Visit the ' +\n",
              "          '<a target=\"_blank\" href=https://colab.research.google.com/notebooks/data_table.ipynb>data table notebook</a>'\n",
              "          + ' to learn more about interactive tables.';\n",
              "        element.innerHTML = '';\n",
              "        dataTable['output_type'] = 'display_data';\n",
              "        await google.colab.output.renderOutput(dataTable, element);\n",
              "        const docLink = document.createElement('div');\n",
              "        docLink.innerHTML = docLinkHtml;\n",
              "        element.appendChild(docLink);\n",
              "      }\n",
              "    </script>\n",
              "  </div>\n",
              "\n",
              "    </div>\n",
              "  </div>\n"
            ],
            "application/vnd.google.colaboratory.intrinsic+json": {
              "type": "dataframe",
              "variable_name": "df",
              "summary": "{\n  \"name\": \"df\",\n  \"rows\": 13,\n  \"fields\": [\n    {\n      \"column\": \"title\",\n      \"properties\": {\n        \"dtype\": \"string\",\n        \"num_unique_values\": 12,\n        \"samples\": [\n          \"Engineering Technician I/II (Development)\",\n          \"Mechanical Engineer I - CAD Modeling\",\n          \"Silicon Engineer: Opportunities for University Students\"\n        ],\n        \"semantic_type\": \"\",\n        \"description\": \"\"\n      }\n    },\n    {\n      \"column\": \"company_name\",\n      \"properties\": {\n        \"dtype\": \"string\",\n        \"num_unique_values\": 8,\n        \"samples\": [\n          \"Novartis\",\n          \"Honda\",\n          \"Microsoft\"\n        ],\n        \"semantic_type\": \"\",\n        \"description\": \"\"\n      }\n    },\n    {\n      \"column\": \"location\",\n      \"properties\": {\n        \"dtype\": \"string\",\n        \"num_unique_values\": 12,\n        \"samples\": [\n          \"Fremont, CA\",\n          \"Fairborn, OH\",\n          \"Raleigh, NC\"\n        ],\n        \"semantic_type\": \"\",\n        \"description\": \"\"\n      }\n    },\n    {\n      \"column\": \"pay\",\n      \"properties\": {\n        \"dtype\": \"string\",\n        \"num_unique_values\": 10,\n        \"samples\": [\n          \"$72,685.34 - $99,805.73 por a\\u00f1o\",\n          \"$24.90 - $37.31 por hora\",\n          \"$86,700 - $130,000 por a\\u00f1o\"\n        ],\n        \"semantic_type\": \"\",\n        \"description\": \"\"\n      }\n    },\n    {\n      \"column\": \"job_type\",\n      \"properties\": {\n        \"dtype\": \"category\",\n        \"num_unique_values\": 2,\n        \"samples\": [\n          \"Seasonal\",\n          \"Full-time\"\n        ],\n        \"semantic_type\": \"\",\n        \"description\": \"\"\n      }\n    },\n    {\n      \"column\": \"description\",\n      \"properties\": {\n        \"dtype\": \"string\",\n        \"num_unique_values\": 12,\n        \"samples\": [\n          \"Description\\nThe Public Works Department is recruiting for Engineering Technician I/II (Development).\\n\\n The first review of applications is Tuesday, February 20, 2024, at 12:00 p.m. (PT). The recruitment may close without notice after this date so interested applicants are encouraged to apply immediately.\\n\\n A resume, completed application, and supplemental questionnaire (part of the online application) must be submitted to be considered for this opportunity.\\n\\n To be considered for this outstanding employment opportunity, please complete an application online by clicking \\\"Apply\\\" just above this box.\\n\\n\",\n          \"Job Description\\nUS CITIZENSHIP REQUIRED\\n\\nWe partner with multiple, national-level intelligence organizations to modernize their mission critical systems. We are focused on solving our customer\\u2019s hardest problems and share a strong commitment to the missions we enable. We are looking for innovators, problem solvers, leaders, and team players who further our strong reputation for creativity and technical excellence. In this position, you will enable our customers to stay ahead of rapidly evolving threats to national security by designing and developing 3D geometric Computer Aided Design (CAD) models of foreign systems. In this position, you will primarily work in our customer facilities. If you are an action-oriented engineer with intellectual curiosity and excited to see how you can make a real difference with your talents, we want to talk with you.\\n\\n The Engineering, Science and Analysis (ESA) Strategic Capabilities Unit comprises the technical talent and organizational leadership that enables the successful delivery of high-impact discriminating technologies for our customers\\u2019 missions. Our collaborative, cross-functional teams are committed to innovation, integrity, continual learning and strong execution.\\n\\n What You'll Do:\\nWork with customers, team members, and colleagues to understand project requirements and scope.\\n Construct 3-D geometric CAD models of foreign spacecraft, including static and dynamic characteristics, using industry standards and formats.\\n Conduct all-source and open-source intelligence (OSINT) research of detailed technical assessments of subsystems and spacecraft construction techniques.\\n Perform high-level analytical assignments.\\n Collaborate in a team environment.\\n Assist in preparing presentations and documents.\\n Maintain a regular and predictable work schedule.\\n Establish and maintain effective working relationships within the department, the Strategic Business Units, Strategic Capabilities Units and the Company.\\nInteract appropriately with others in order to maintain a positive and productive work environment.\\n Perform other duties as necessary.\\n\\n On-Site Work Environment: This position requires regular in-person engagement by working on-site five days each normally scheduled week in the primary work location. Travel and local commute between company campuses and other possible non-company locations may be required.\\n\\n Working Conditions:\\nWork is performed in an office, laboratory, production floor, or cleanroom, outdoors or remote research environment.\\n May occasionally work in production work centers where use of protective equipment and gear is required.\\n May access other facilities in various weather conditions.\\n\\n Required Education, Experience, & Skills\\nBS degree or higher in Engineering or a related technical field is required plus 2 or more years related experience.\\n Each higher-level degree, i.e., Master\\u2019s Degree or Ph.D., may substitute for two years of experience. Related technical experience may be considered in lieu of education. Degree must be from a university, college, or school which is accredited by an agency recognized by the US Secretary of Education, US Department of Education.\\n A current, active TS/SCI security clearance is required.\\n 2 or more years of CAD modeling experience.\\n Excellent communication skills.\\n\\n Preferred Education, Experience, & Skills\\nExperience with NX preferred.\\n Experience with Matlab, Python, and/or Simulink preferred.\\n\\n However, individual salaries are determined by a variety of factors including, but not limited to: business considerations, local market conditions, and internal equity, as well as candidate qualifications, such as skills, education, and experience.\\n\\n Employee Benefits: At BAE Systems, we support our employees in all aspects of their life, including their health and financial well-being. Regular employees scheduled to work 20+ hours per week are offered: health, dental, and vision insurance; health savings accounts; a 401(k) savings plan; disability coverage; and life and accident insurance. We also have an employee assistance program, a legal plan, and other perks including discounts on things like home, auto, and pet insurance. Our leave programs include paid time off, paid holidays, as well as other types of leave, including paid parental, military, bereavement, and any applicable federal and state sick leave. Employees may participate in the company recognition program to receive monetary or non-monetary recognition awards. Other incentives may be available based on position level and/or job specifics.\"\n        ],\n        \"semantic_type\": \"\",\n        \"description\": \"\"\n      }\n    },\n    {\n      \"column\": \"min_pay\",\n      \"properties\": {\n        \"dtype\": \"number\",\n        \"std\": 16027.467553616376,\n        \"min\": 46800.0,\n        \"max\": 100000.0,\n        \"num_unique_values\": 10,\n        \"samples\": [\n          72685.34,\n          51792.0\n        ],\n        \"semantic_type\": \"\",\n        \"description\": \"\"\n      }\n    },\n    {\n      \"column\": \"max_pay\",\n      \"properties\": {\n        \"dtype\": \"number\",\n        \"std\": 29322.33694204362,\n        \"min\": 77604.8,\n        \"max\": 151800.0,\n        \"num_unique_values\": 10,\n        \"samples\": [\n          99805.73,\n          77604.8\n        ],\n        \"semantic_type\": \"\",\n        \"description\": \"\"\n      }\n    }\n  ]\n}"
            },
            "application/vnd.google.colaboratory.module+javascript": "\n      import \"https://ssl.gstatic.com/colaboratory/data_table/881c4a0d49046431/data_table.js\";\n\n      const table = window.createDataTable({\n        data: [[{\n            'v': 0,\n            'f': \"0\",\n        },\n\"Silicon Engineer: Opportunities for University Students\",\n\"Microsoft\",\n\"Raleigh, NC\",\n\"$76,400 - $151,800 por a\\u00f1o\",\n\"Full-time\",\n\"Come build community, explore your passions and do your best work at Microsoft with thousands of University students from every corner of the world. This opportunity will allow you to bring your aspirations, talent, potential\\u2014and excitement for the journey ahead.\\n As a Silicon Engineer, you will work with progressive, motivated, diverse, and exceptionally creative people to design and manufacture Silicon and IP for areas such as Cloud Computing, AI, Xbox, and security. We have jobs in a wide range of disciplines within silicon development including architecture, design, verification, physical design, firmware, product validation, data analytics and lab validation. Our teams incubate advanced technologies and build deep partnerships with Microsoft Research, Product Planning and Marketing. We're looking for the best and brightest to join us in designing for the future!\\n\\n Microsoft\\u2019s mission is to empower every person and every organization on the planet to achieve more. As employees we come together with a growth mindset, innovate to empower others, and collaborate to realize our shared goals. Each day we build on our values of respect, integrity, and accountability to create a culture of inclusion where everyone can thrive at work and beyond.\\n Responsibilities\\nResearches new tools, technologies, or methods for project implementation and provides recommendations to project team members as to which tool is appropriate.\\n Uses performance instrumentation and presents results to team and architects\\nThink strategically, creatively, and innovate ways to communicate and visualize user experiences.\\nImplements or recommends technical solutions to common quality and design challenges, with guidance from others (including but not limited to logic design, verification, circuit design, physical design, and design for test)\\nUses standard practices to write complete design verification test cases, test benches, or automation.\\n Assists in writing tests for formal pre-silicon verification of subsystems within a single block; includes the use of simulation and emulation tools, as well as tests for signal integrity, to prevent bugs/failures before production\\nQualifications\\nRequired Qualifications\\nBachelor's Degree in Electrical Engineering, Computer Engineering, Computer Science, or related field\\nExperience in technical engineering.\\n Preferred Qualifications\\nBachelor's degree in Electrical Engineering, Computer Engineering, Computer Science, or related field AND 2+ years technical engineering experience\\nOR Master's degree in Electrical Engineering, Computer Engineering, Computer Science, or related field.\\n Silicon Engineering IC2 - Certain roles may be eligible for benefits and other compensation. Find additional benefits and pay information here: https://careers.microsoft.com/us/en/us-corporate-pay\\n\\nMicrosoft accepts applications and processes offers for these roles on an ongoing basis throughout the academic calendar (September \\u2013 April).\\n\\n Microsoft is an equal opportunity employer. Consistent with applicable law, all qualified applicants will receive consideration for employment without regard to age, ancestry, citizenship, color, family or medical care leave, gender identity or expression, genetic information, immigration status, marital status, medical condition, national origin, physical or mental disability, political affiliation, protected veteran or military status, race, ethnicity, religion, sex (including pregnancy), sexual orientation, or any other characteristic protected by applicable local laws, regulations and ordinances. If you need assistance and/or a reasonable accommodation due to a disability during the application process, read more about requesting accommodations.\",\n{\n            'v': 76400.0,\n            'f': \"76400.0\",\n        },\n{\n            'v': 151800.0,\n            'f': \"151800.0\",\n        }]],\n        columns: [[\"number\", \"index\"], [\"string\", \"title\"], [\"string\", \"company_name\"], [\"string\", \"location\"], [\"string\", \"pay\"], [\"string\", \"job_type\"], [\"string\", \"description\"], [\"number\", \"min_pay\"], [\"number\", \"max_pay\"]],\n        columnOptions: [{\"width\": \"1px\", \"className\": \"index_column\"}],\n        rowsPerPage: 25,\n        helpUrl: \"https://colab.research.google.com/notebooks/data_table.ipynb\",\n        suppressOutputScrolling: true,\n        minimumWidth: undefined,\n      });\n\n      function appendQuickchartButton(parentElement) {\n        let quickchartButtonContainerElement = document.createElement('div');\n        quickchartButtonContainerElement.innerHTML = `\n<div id=\"df-e1359f63-ba32-473d-b82e-89377f9595e4\">\n  <button class=\"colab-df-quickchart\" onclick=\"quickchart('df-e1359f63-ba32-473d-b82e-89377f9595e4')\"\n            title=\"Suggest charts\"\n            style=\"display:none;\">\n    \n<svg xmlns=\"http://www.w3.org/2000/svg\" height=\"24px\"viewBox=\"0 0 24 24\"\n     width=\"24px\">\n    <g>\n        <path d=\"M19 3H5c-1.1 0-2 .9-2 2v14c0 1.1.9 2 2 2h14c1.1 0 2-.9 2-2V5c0-1.1-.9-2-2-2zM9 17H7v-7h2v7zm4 0h-2V7h2v10zm4 0h-2v-4h2v4z\"/>\n    </g>\n</svg>\n  </button>\n  \n<style>\n  .colab-df-quickchart {\n      --bg-color: #E8F0FE;\n      --fill-color: #1967D2;\n      --hover-bg-color: #E2EBFA;\n      --hover-fill-color: #174EA6;\n      --disabled-fill-color: #AAA;\n      --disabled-bg-color: #DDD;\n  }\n\n  [theme=dark] .colab-df-quickchart {\n      --bg-color: #3B4455;\n      --fill-color: #D2E3FC;\n      --hover-bg-color: #434B5C;\n      --hover-fill-color: #FFFFFF;\n      --disabled-bg-color: #3B4455;\n      --disabled-fill-color: #666;\n  }\n\n  .colab-df-quickchart {\n    background-color: var(--bg-color);\n    border: none;\n    border-radius: 50%;\n    cursor: pointer;\n    display: none;\n    fill: var(--fill-color);\n    height: 32px;\n    padding: 0;\n    width: 32px;\n  }\n\n  .colab-df-quickchart:hover {\n    background-color: var(--hover-bg-color);\n    box-shadow: 0 1px 2px rgba(60, 64, 67, 0.3), 0 1px 3px 1px rgba(60, 64, 67, 0.15);\n    fill: var(--button-hover-fill-color);\n  }\n\n  .colab-df-quickchart-complete:disabled,\n  .colab-df-quickchart-complete:disabled:hover {\n    background-color: var(--disabled-bg-color);\n    fill: var(--disabled-fill-color);\n    box-shadow: none;\n  }\n\n  .colab-df-spinner {\n    border: 2px solid var(--fill-color);\n    border-color: transparent;\n    border-bottom-color: var(--fill-color);\n    animation:\n      spin 1s steps(1) infinite;\n  }\n\n  @keyframes spin {\n    0% {\n      border-color: transparent;\n      border-bottom-color: var(--fill-color);\n      border-left-color: var(--fill-color);\n    }\n    20% {\n      border-color: transparent;\n      border-left-color: var(--fill-color);\n      border-top-color: var(--fill-color);\n    }\n    30% {\n      border-color: transparent;\n      border-left-color: var(--fill-color);\n      border-top-color: var(--fill-color);\n      border-right-color: var(--fill-color);\n    }\n    40% {\n      border-color: transparent;\n      border-right-color: var(--fill-color);\n      border-top-color: var(--fill-color);\n    }\n    60% {\n      border-color: transparent;\n      border-right-color: var(--fill-color);\n    }\n    80% {\n      border-color: transparent;\n      border-right-color: var(--fill-color);\n      border-bottom-color: var(--fill-color);\n    }\n    90% {\n      border-color: transparent;\n      border-bottom-color: var(--fill-color);\n    }\n  }\n</style>\n\n  <script>\n    async function quickchart(key) {\n      const quickchartButtonEl =\n        document.querySelector('#' + key + ' button');\n      quickchartButtonEl.disabled = true;  // To prevent multiple clicks.\n      quickchartButtonEl.classList.add('colab-df-spinner');\n      try {\n        const charts = await google.colab.kernel.invokeFunction(\n            'suggestCharts', [key], {});\n      } catch (error) {\n        console.error('Error during call to suggestCharts:', error);\n      }\n      quickchartButtonEl.classList.remove('colab-df-spinner');\n      quickchartButtonEl.classList.add('colab-df-quickchart-complete');\n    }\n    (() => {\n      let quickchartButtonEl =\n        document.querySelector('#df-e1359f63-ba32-473d-b82e-89377f9595e4 button');\n      quickchartButtonEl.style.display =\n        google.colab.kernel.accessAllowed ? 'block' : 'none';\n    })();\n  </script>\n</div>`;\n        parentElement.appendChild(quickchartButtonContainerElement);\n      }\n\n      appendQuickchartButton(table);\n    "
          },
          "metadata": {},
          "execution_count": 11
        }
      ]
    },
    {
      "cell_type": "markdown",
      "source": [
        "### 4. Remove Pay Column"
      ],
      "metadata": {
        "id": "oVyXCTlraKa_"
      }
    },
    {
      "cell_type": "code",
      "source": [
        "df = df.drop(columns=['pay'])\n",
        "df.head(1)"
      ],
      "metadata": {
        "colab": {
          "base_uri": "https://localhost:8080/",
          "height": 411
        },
        "id": "8YUDPMyQaPy4",
        "outputId": "d9a60c74-a201-48dd-fb96-fd73d70af411"
      },
      "execution_count": null,
      "outputs": [
        {
          "output_type": "execute_result",
          "data": {
            "text/plain": [
              "                                               title company_name  \\\n",
              "0  Silicon Engineer: Opportunities for University...    Microsoft   \n",
              "\n",
              "      location   job_type                                        description  \\\n",
              "0  Raleigh, NC  Full-time  Come build community, explore your passions an...   \n",
              "\n",
              "   min_pay   max_pay  \n",
              "0  76400.0  151800.0  "
            ],
            "text/html": [
              "\n",
              "  <div id=\"df-e6d6c29b-ea21-420b-aa8e-7cfacb531973\" class=\"colab-df-container\">\n",
              "    <div>\n",
              "<style scoped>\n",
              "    .dataframe tbody tr th:only-of-type {\n",
              "        vertical-align: middle;\n",
              "    }\n",
              "\n",
              "    .dataframe tbody tr th {\n",
              "        vertical-align: top;\n",
              "    }\n",
              "\n",
              "    .dataframe thead th {\n",
              "        text-align: right;\n",
              "    }\n",
              "</style>\n",
              "<table border=\"1\" class=\"dataframe\">\n",
              "  <thead>\n",
              "    <tr style=\"text-align: right;\">\n",
              "      <th></th>\n",
              "      <th>title</th>\n",
              "      <th>company_name</th>\n",
              "      <th>location</th>\n",
              "      <th>job_type</th>\n",
              "      <th>description</th>\n",
              "      <th>min_pay</th>\n",
              "      <th>max_pay</th>\n",
              "    </tr>\n",
              "  </thead>\n",
              "  <tbody>\n",
              "    <tr>\n",
              "      <th>0</th>\n",
              "      <td>Silicon Engineer: Opportunities for University...</td>\n",
              "      <td>Microsoft</td>\n",
              "      <td>Raleigh, NC</td>\n",
              "      <td>Full-time</td>\n",
              "      <td>Come build community, explore your passions an...</td>\n",
              "      <td>76400.0</td>\n",
              "      <td>151800.0</td>\n",
              "    </tr>\n",
              "  </tbody>\n",
              "</table>\n",
              "</div>\n",
              "    <div class=\"colab-df-buttons\">\n",
              "\n",
              "  <div class=\"colab-df-container\">\n",
              "    <button class=\"colab-df-convert\" onclick=\"convertToInteractive('df-e6d6c29b-ea21-420b-aa8e-7cfacb531973')\"\n",
              "            title=\"Convert this dataframe to an interactive table.\"\n",
              "            style=\"display:none;\">\n",
              "\n",
              "  <svg xmlns=\"http://www.w3.org/2000/svg\" height=\"24px\" viewBox=\"0 -960 960 960\">\n",
              "    <path d=\"M120-120v-720h720v720H120Zm60-500h600v-160H180v160Zm220 220h160v-160H400v160Zm0 220h160v-160H400v160ZM180-400h160v-160H180v160Zm440 0h160v-160H620v160ZM180-180h160v-160H180v160Zm440 0h160v-160H620v160Z\"/>\n",
              "  </svg>\n",
              "    </button>\n",
              "\n",
              "  <style>\n",
              "    .colab-df-container {\n",
              "      display:flex;\n",
              "      gap: 12px;\n",
              "    }\n",
              "\n",
              "    .colab-df-convert {\n",
              "      background-color: #E8F0FE;\n",
              "      border: none;\n",
              "      border-radius: 50%;\n",
              "      cursor: pointer;\n",
              "      display: none;\n",
              "      fill: #1967D2;\n",
              "      height: 32px;\n",
              "      padding: 0 0 0 0;\n",
              "      width: 32px;\n",
              "    }\n",
              "\n",
              "    .colab-df-convert:hover {\n",
              "      background-color: #E2EBFA;\n",
              "      box-shadow: 0px 1px 2px rgba(60, 64, 67, 0.3), 0px 1px 3px 1px rgba(60, 64, 67, 0.15);\n",
              "      fill: #174EA6;\n",
              "    }\n",
              "\n",
              "    .colab-df-buttons div {\n",
              "      margin-bottom: 4px;\n",
              "    }\n",
              "\n",
              "    [theme=dark] .colab-df-convert {\n",
              "      background-color: #3B4455;\n",
              "      fill: #D2E3FC;\n",
              "    }\n",
              "\n",
              "    [theme=dark] .colab-df-convert:hover {\n",
              "      background-color: #434B5C;\n",
              "      box-shadow: 0px 1px 3px 1px rgba(0, 0, 0, 0.15);\n",
              "      filter: drop-shadow(0px 1px 2px rgba(0, 0, 0, 0.3));\n",
              "      fill: #FFFFFF;\n",
              "    }\n",
              "  </style>\n",
              "\n",
              "    <script>\n",
              "      const buttonEl =\n",
              "        document.querySelector('#df-e6d6c29b-ea21-420b-aa8e-7cfacb531973 button.colab-df-convert');\n",
              "      buttonEl.style.display =\n",
              "        google.colab.kernel.accessAllowed ? 'block' : 'none';\n",
              "\n",
              "      async function convertToInteractive(key) {\n",
              "        const element = document.querySelector('#df-e6d6c29b-ea21-420b-aa8e-7cfacb531973');\n",
              "        const dataTable =\n",
              "          await google.colab.kernel.invokeFunction('convertToInteractive',\n",
              "                                                    [key], {});\n",
              "        if (!dataTable) return;\n",
              "\n",
              "        const docLinkHtml = 'Like what you see? Visit the ' +\n",
              "          '<a target=\"_blank\" href=https://colab.research.google.com/notebooks/data_table.ipynb>data table notebook</a>'\n",
              "          + ' to learn more about interactive tables.';\n",
              "        element.innerHTML = '';\n",
              "        dataTable['output_type'] = 'display_data';\n",
              "        await google.colab.output.renderOutput(dataTable, element);\n",
              "        const docLink = document.createElement('div');\n",
              "        docLink.innerHTML = docLinkHtml;\n",
              "        element.appendChild(docLink);\n",
              "      }\n",
              "    </script>\n",
              "  </div>\n",
              "\n",
              "    </div>\n",
              "  </div>\n"
            ],
            "application/vnd.google.colaboratory.intrinsic+json": {
              "type": "dataframe",
              "variable_name": "df",
              "summary": "{\n  \"name\": \"df\",\n  \"rows\": 13,\n  \"fields\": [\n    {\n      \"column\": \"title\",\n      \"properties\": {\n        \"dtype\": \"string\",\n        \"num_unique_values\": 12,\n        \"samples\": [\n          \"Engineering Technician I/II (Development)\",\n          \"Mechanical Engineer I - CAD Modeling\",\n          \"Silicon Engineer: Opportunities for University Students\"\n        ],\n        \"semantic_type\": \"\",\n        \"description\": \"\"\n      }\n    },\n    {\n      \"column\": \"company_name\",\n      \"properties\": {\n        \"dtype\": \"string\",\n        \"num_unique_values\": 8,\n        \"samples\": [\n          \"Novartis\",\n          \"Honda\",\n          \"Microsoft\"\n        ],\n        \"semantic_type\": \"\",\n        \"description\": \"\"\n      }\n    },\n    {\n      \"column\": \"location\",\n      \"properties\": {\n        \"dtype\": \"string\",\n        \"num_unique_values\": 12,\n        \"samples\": [\n          \"Fremont, CA\",\n          \"Fairborn, OH\",\n          \"Raleigh, NC\"\n        ],\n        \"semantic_type\": \"\",\n        \"description\": \"\"\n      }\n    },\n    {\n      \"column\": \"job_type\",\n      \"properties\": {\n        \"dtype\": \"category\",\n        \"num_unique_values\": 2,\n        \"samples\": [\n          \"Seasonal\",\n          \"Full-time\"\n        ],\n        \"semantic_type\": \"\",\n        \"description\": \"\"\n      }\n    },\n    {\n      \"column\": \"description\",\n      \"properties\": {\n        \"dtype\": \"string\",\n        \"num_unique_values\": 12,\n        \"samples\": [\n          \"Description\\nThe Public Works Department is recruiting for Engineering Technician I/II (Development).\\n\\n The first review of applications is Tuesday, February 20, 2024, at 12:00 p.m. (PT). The recruitment may close without notice after this date so interested applicants are encouraged to apply immediately.\\n\\n A resume, completed application, and supplemental questionnaire (part of the online application) must be submitted to be considered for this opportunity.\\n\\n To be considered for this outstanding employment opportunity, please complete an application online by clicking \\\"Apply\\\" just above this box.\\n\\n\",\n          \"Job Description\\nUS CITIZENSHIP REQUIRED\\n\\nWe partner with multiple, national-level intelligence organizations to modernize their mission critical systems. We are focused on solving our customer\\u2019s hardest problems and share a strong commitment to the missions we enable. We are looking for innovators, problem solvers, leaders, and team players who further our strong reputation for creativity and technical excellence. In this position, you will enable our customers to stay ahead of rapidly evolving threats to national security by designing and developing 3D geometric Computer Aided Design (CAD) models of foreign systems. In this position, you will primarily work in our customer facilities. If you are an action-oriented engineer with intellectual curiosity and excited to see how you can make a real difference with your talents, we want to talk with you.\\n\\n The Engineering, Science and Analysis (ESA) Strategic Capabilities Unit comprises the technical talent and organizational leadership that enables the successful delivery of high-impact discriminating technologies for our customers\\u2019 missions. Our collaborative, cross-functional teams are committed to innovation, integrity, continual learning and strong execution.\\n\\n What You'll Do:\\nWork with customers, team members, and colleagues to understand project requirements and scope.\\n Construct 3-D geometric CAD models of foreign spacecraft, including static and dynamic characteristics, using industry standards and formats.\\n Conduct all-source and open-source intelligence (OSINT) research of detailed technical assessments of subsystems and spacecraft construction techniques.\\n Perform high-level analytical assignments.\\n Collaborate in a team environment.\\n Assist in preparing presentations and documents.\\n Maintain a regular and predictable work schedule.\\n Establish and maintain effective working relationships within the department, the Strategic Business Units, Strategic Capabilities Units and the Company.\\nInteract appropriately with others in order to maintain a positive and productive work environment.\\n Perform other duties as necessary.\\n\\n On-Site Work Environment: This position requires regular in-person engagement by working on-site five days each normally scheduled week in the primary work location. Travel and local commute between company campuses and other possible non-company locations may be required.\\n\\n Working Conditions:\\nWork is performed in an office, laboratory, production floor, or cleanroom, outdoors or remote research environment.\\n May occasionally work in production work centers where use of protective equipment and gear is required.\\n May access other facilities in various weather conditions.\\n\\n Required Education, Experience, & Skills\\nBS degree or higher in Engineering or a related technical field is required plus 2 or more years related experience.\\n Each higher-level degree, i.e., Master\\u2019s Degree or Ph.D., may substitute for two years of experience. Related technical experience may be considered in lieu of education. Degree must be from a university, college, or school which is accredited by an agency recognized by the US Secretary of Education, US Department of Education.\\n A current, active TS/SCI security clearance is required.\\n 2 or more years of CAD modeling experience.\\n Excellent communication skills.\\n\\n Preferred Education, Experience, & Skills\\nExperience with NX preferred.\\n Experience with Matlab, Python, and/or Simulink preferred.\\n\\n However, individual salaries are determined by a variety of factors including, but not limited to: business considerations, local market conditions, and internal equity, as well as candidate qualifications, such as skills, education, and experience.\\n\\n Employee Benefits: At BAE Systems, we support our employees in all aspects of their life, including their health and financial well-being. Regular employees scheduled to work 20+ hours per week are offered: health, dental, and vision insurance; health savings accounts; a 401(k) savings plan; disability coverage; and life and accident insurance. We also have an employee assistance program, a legal plan, and other perks including discounts on things like home, auto, and pet insurance. Our leave programs include paid time off, paid holidays, as well as other types of leave, including paid parental, military, bereavement, and any applicable federal and state sick leave. Employees may participate in the company recognition program to receive monetary or non-monetary recognition awards. Other incentives may be available based on position level and/or job specifics.\"\n        ],\n        \"semantic_type\": \"\",\n        \"description\": \"\"\n      }\n    },\n    {\n      \"column\": \"min_pay\",\n      \"properties\": {\n        \"dtype\": \"number\",\n        \"std\": 16027.467553616376,\n        \"min\": 46800.0,\n        \"max\": 100000.0,\n        \"num_unique_values\": 10,\n        \"samples\": [\n          72685.34,\n          51792.0\n        ],\n        \"semantic_type\": \"\",\n        \"description\": \"\"\n      }\n    },\n    {\n      \"column\": \"max_pay\",\n      \"properties\": {\n        \"dtype\": \"number\",\n        \"std\": 29322.33694204362,\n        \"min\": 77604.8,\n        \"max\": 151800.0,\n        \"num_unique_values\": 10,\n        \"samples\": [\n          99805.73,\n          77604.8\n        ],\n        \"semantic_type\": \"\",\n        \"description\": \"\"\n      }\n    }\n  ]\n}"
            },
            "application/vnd.google.colaboratory.module+javascript": "\n      import \"https://ssl.gstatic.com/colaboratory/data_table/881c4a0d49046431/data_table.js\";\n\n      const table = window.createDataTable({\n        data: [[{\n            'v': 0,\n            'f': \"0\",\n        },\n\"Silicon Engineer: Opportunities for University Students\",\n\"Microsoft\",\n\"Raleigh, NC\",\n\"Full-time\",\n\"Come build community, explore your passions and do your best work at Microsoft with thousands of University students from every corner of the world. This opportunity will allow you to bring your aspirations, talent, potential\\u2014and excitement for the journey ahead.\\n As a Silicon Engineer, you will work with progressive, motivated, diverse, and exceptionally creative people to design and manufacture Silicon and IP for areas such as Cloud Computing, AI, Xbox, and security. We have jobs in a wide range of disciplines within silicon development including architecture, design, verification, physical design, firmware, product validation, data analytics and lab validation. Our teams incubate advanced technologies and build deep partnerships with Microsoft Research, Product Planning and Marketing. We're looking for the best and brightest to join us in designing for the future!\\n\\n Microsoft\\u2019s mission is to empower every person and every organization on the planet to achieve more. As employees we come together with a growth mindset, innovate to empower others, and collaborate to realize our shared goals. Each day we build on our values of respect, integrity, and accountability to create a culture of inclusion where everyone can thrive at work and beyond.\\n Responsibilities\\nResearches new tools, technologies, or methods for project implementation and provides recommendations to project team members as to which tool is appropriate.\\n Uses performance instrumentation and presents results to team and architects\\nThink strategically, creatively, and innovate ways to communicate and visualize user experiences.\\nImplements or recommends technical solutions to common quality and design challenges, with guidance from others (including but not limited to logic design, verification, circuit design, physical design, and design for test)\\nUses standard practices to write complete design verification test cases, test benches, or automation.\\n Assists in writing tests for formal pre-silicon verification of subsystems within a single block; includes the use of simulation and emulation tools, as well as tests for signal integrity, to prevent bugs/failures before production\\nQualifications\\nRequired Qualifications\\nBachelor's Degree in Electrical Engineering, Computer Engineering, Computer Science, or related field\\nExperience in technical engineering.\\n Preferred Qualifications\\nBachelor's degree in Electrical Engineering, Computer Engineering, Computer Science, or related field AND 2+ years technical engineering experience\\nOR Master's degree in Electrical Engineering, Computer Engineering, Computer Science, or related field.\\n Silicon Engineering IC2 - Certain roles may be eligible for benefits and other compensation. Find additional benefits and pay information here: https://careers.microsoft.com/us/en/us-corporate-pay\\n\\nMicrosoft accepts applications and processes offers for these roles on an ongoing basis throughout the academic calendar (September \\u2013 April).\\n\\n Microsoft is an equal opportunity employer. Consistent with applicable law, all qualified applicants will receive consideration for employment without regard to age, ancestry, citizenship, color, family or medical care leave, gender identity or expression, genetic information, immigration status, marital status, medical condition, national origin, physical or mental disability, political affiliation, protected veteran or military status, race, ethnicity, religion, sex (including pregnancy), sexual orientation, or any other characteristic protected by applicable local laws, regulations and ordinances. If you need assistance and/or a reasonable accommodation due to a disability during the application process, read more about requesting accommodations.\",\n{\n            'v': 76400.0,\n            'f': \"76400.0\",\n        },\n{\n            'v': 151800.0,\n            'f': \"151800.0\",\n        }]],\n        columns: [[\"number\", \"index\"], [\"string\", \"title\"], [\"string\", \"company_name\"], [\"string\", \"location\"], [\"string\", \"job_type\"], [\"string\", \"description\"], [\"number\", \"min_pay\"], [\"number\", \"max_pay\"]],\n        columnOptions: [{\"width\": \"1px\", \"className\": \"index_column\"}],\n        rowsPerPage: 25,\n        helpUrl: \"https://colab.research.google.com/notebooks/data_table.ipynb\",\n        suppressOutputScrolling: true,\n        minimumWidth: undefined,\n      });\n\n      function appendQuickchartButton(parentElement) {\n        let quickchartButtonContainerElement = document.createElement('div');\n        quickchartButtonContainerElement.innerHTML = `\n<div id=\"df-97d62d2e-c53c-4fd5-add4-c164da414668\">\n  <button class=\"colab-df-quickchart\" onclick=\"quickchart('df-97d62d2e-c53c-4fd5-add4-c164da414668')\"\n            title=\"Suggest charts\"\n            style=\"display:none;\">\n    \n<svg xmlns=\"http://www.w3.org/2000/svg\" height=\"24px\"viewBox=\"0 0 24 24\"\n     width=\"24px\">\n    <g>\n        <path d=\"M19 3H5c-1.1 0-2 .9-2 2v14c0 1.1.9 2 2 2h14c1.1 0 2-.9 2-2V5c0-1.1-.9-2-2-2zM9 17H7v-7h2v7zm4 0h-2V7h2v10zm4 0h-2v-4h2v4z\"/>\n    </g>\n</svg>\n  </button>\n  \n<style>\n  .colab-df-quickchart {\n      --bg-color: #E8F0FE;\n      --fill-color: #1967D2;\n      --hover-bg-color: #E2EBFA;\n      --hover-fill-color: #174EA6;\n      --disabled-fill-color: #AAA;\n      --disabled-bg-color: #DDD;\n  }\n\n  [theme=dark] .colab-df-quickchart {\n      --bg-color: #3B4455;\n      --fill-color: #D2E3FC;\n      --hover-bg-color: #434B5C;\n      --hover-fill-color: #FFFFFF;\n      --disabled-bg-color: #3B4455;\n      --disabled-fill-color: #666;\n  }\n\n  .colab-df-quickchart {\n    background-color: var(--bg-color);\n    border: none;\n    border-radius: 50%;\n    cursor: pointer;\n    display: none;\n    fill: var(--fill-color);\n    height: 32px;\n    padding: 0;\n    width: 32px;\n  }\n\n  .colab-df-quickchart:hover {\n    background-color: var(--hover-bg-color);\n    box-shadow: 0 1px 2px rgba(60, 64, 67, 0.3), 0 1px 3px 1px rgba(60, 64, 67, 0.15);\n    fill: var(--button-hover-fill-color);\n  }\n\n  .colab-df-quickchart-complete:disabled,\n  .colab-df-quickchart-complete:disabled:hover {\n    background-color: var(--disabled-bg-color);\n    fill: var(--disabled-fill-color);\n    box-shadow: none;\n  }\n\n  .colab-df-spinner {\n    border: 2px solid var(--fill-color);\n    border-color: transparent;\n    border-bottom-color: var(--fill-color);\n    animation:\n      spin 1s steps(1) infinite;\n  }\n\n  @keyframes spin {\n    0% {\n      border-color: transparent;\n      border-bottom-color: var(--fill-color);\n      border-left-color: var(--fill-color);\n    }\n    20% {\n      border-color: transparent;\n      border-left-color: var(--fill-color);\n      border-top-color: var(--fill-color);\n    }\n    30% {\n      border-color: transparent;\n      border-left-color: var(--fill-color);\n      border-top-color: var(--fill-color);\n      border-right-color: var(--fill-color);\n    }\n    40% {\n      border-color: transparent;\n      border-right-color: var(--fill-color);\n      border-top-color: var(--fill-color);\n    }\n    60% {\n      border-color: transparent;\n      border-right-color: var(--fill-color);\n    }\n    80% {\n      border-color: transparent;\n      border-right-color: var(--fill-color);\n      border-bottom-color: var(--fill-color);\n    }\n    90% {\n      border-color: transparent;\n      border-bottom-color: var(--fill-color);\n    }\n  }\n</style>\n\n  <script>\n    async function quickchart(key) {\n      const quickchartButtonEl =\n        document.querySelector('#' + key + ' button');\n      quickchartButtonEl.disabled = true;  // To prevent multiple clicks.\n      quickchartButtonEl.classList.add('colab-df-spinner');\n      try {\n        const charts = await google.colab.kernel.invokeFunction(\n            'suggestCharts', [key], {});\n      } catch (error) {\n        console.error('Error during call to suggestCharts:', error);\n      }\n      quickchartButtonEl.classList.remove('colab-df-spinner');\n      quickchartButtonEl.classList.add('colab-df-quickchart-complete');\n    }\n    (() => {\n      let quickchartButtonEl =\n        document.querySelector('#df-97d62d2e-c53c-4fd5-add4-c164da414668 button');\n      quickchartButtonEl.style.display =\n        google.colab.kernel.accessAllowed ? 'block' : 'none';\n    })();\n  </script>\n</div>`;\n        parentElement.appendChild(quickchartButtonContainerElement);\n      }\n\n      appendQuickchartButton(table);\n    "
          },
          "metadata": {},
          "execution_count": 12
        }
      ]
    },
    {
      "cell_type": "markdown",
      "source": [
        "### 5. Join Information in One Text"
      ],
      "metadata": {
        "id": "6kZ3jb5CqBx4"
      }
    },
    {
      "cell_type": "code",
      "source": [
        "df['full_info'] = df.apply(lambda row: f\"Job title: {row['title']}. Company name: {row['company_name']}. \\\n",
        "                                        Location: {row['location']}. Job type: {row['job_type']}. {row['description']}\", axis=1)\n",
        "df.head(1)"
      ],
      "metadata": {
        "colab": {
          "base_uri": "https://localhost:8080/",
          "height": 725
        },
        "id": "FbTB9Dt4qFlV",
        "outputId": "b84f2508-1117-4868-a64e-e64bbfda2107"
      },
      "execution_count": null,
      "outputs": [
        {
          "output_type": "execute_result",
          "data": {
            "text/plain": [
              "                                               title company_name  \\\n",
              "0  Silicon Engineer: Opportunities for University...    Microsoft   \n",
              "\n",
              "      location   job_type                                        description  \\\n",
              "0  Raleigh, NC  Full-time  Come build community, explore your passions an...   \n",
              "\n",
              "   min_pay   max_pay                                          full_info  \n",
              "0  76400.0  151800.0  Job title: Silicon Engineer: Opportunities for...  "
            ],
            "text/html": [
              "\n",
              "  <div id=\"df-1653d20f-0d28-48b8-aadd-9c8d7ca4d5a8\" class=\"colab-df-container\">\n",
              "    <div>\n",
              "<style scoped>\n",
              "    .dataframe tbody tr th:only-of-type {\n",
              "        vertical-align: middle;\n",
              "    }\n",
              "\n",
              "    .dataframe tbody tr th {\n",
              "        vertical-align: top;\n",
              "    }\n",
              "\n",
              "    .dataframe thead th {\n",
              "        text-align: right;\n",
              "    }\n",
              "</style>\n",
              "<table border=\"1\" class=\"dataframe\">\n",
              "  <thead>\n",
              "    <tr style=\"text-align: right;\">\n",
              "      <th></th>\n",
              "      <th>title</th>\n",
              "      <th>company_name</th>\n",
              "      <th>location</th>\n",
              "      <th>job_type</th>\n",
              "      <th>description</th>\n",
              "      <th>min_pay</th>\n",
              "      <th>max_pay</th>\n",
              "      <th>full_info</th>\n",
              "    </tr>\n",
              "  </thead>\n",
              "  <tbody>\n",
              "    <tr>\n",
              "      <th>0</th>\n",
              "      <td>Silicon Engineer: Opportunities for University...</td>\n",
              "      <td>Microsoft</td>\n",
              "      <td>Raleigh, NC</td>\n",
              "      <td>Full-time</td>\n",
              "      <td>Come build community, explore your passions an...</td>\n",
              "      <td>76400.0</td>\n",
              "      <td>151800.0</td>\n",
              "      <td>Job title: Silicon Engineer: Opportunities for...</td>\n",
              "    </tr>\n",
              "  </tbody>\n",
              "</table>\n",
              "</div>\n",
              "    <div class=\"colab-df-buttons\">\n",
              "\n",
              "  <div class=\"colab-df-container\">\n",
              "    <button class=\"colab-df-convert\" onclick=\"convertToInteractive('df-1653d20f-0d28-48b8-aadd-9c8d7ca4d5a8')\"\n",
              "            title=\"Convert this dataframe to an interactive table.\"\n",
              "            style=\"display:none;\">\n",
              "\n",
              "  <svg xmlns=\"http://www.w3.org/2000/svg\" height=\"24px\" viewBox=\"0 -960 960 960\">\n",
              "    <path d=\"M120-120v-720h720v720H120Zm60-500h600v-160H180v160Zm220 220h160v-160H400v160Zm0 220h160v-160H400v160ZM180-400h160v-160H180v160Zm440 0h160v-160H620v160ZM180-180h160v-160H180v160Zm440 0h160v-160H620v160Z\"/>\n",
              "  </svg>\n",
              "    </button>\n",
              "\n",
              "  <style>\n",
              "    .colab-df-container {\n",
              "      display:flex;\n",
              "      gap: 12px;\n",
              "    }\n",
              "\n",
              "    .colab-df-convert {\n",
              "      background-color: #E8F0FE;\n",
              "      border: none;\n",
              "      border-radius: 50%;\n",
              "      cursor: pointer;\n",
              "      display: none;\n",
              "      fill: #1967D2;\n",
              "      height: 32px;\n",
              "      padding: 0 0 0 0;\n",
              "      width: 32px;\n",
              "    }\n",
              "\n",
              "    .colab-df-convert:hover {\n",
              "      background-color: #E2EBFA;\n",
              "      box-shadow: 0px 1px 2px rgba(60, 64, 67, 0.3), 0px 1px 3px 1px rgba(60, 64, 67, 0.15);\n",
              "      fill: #174EA6;\n",
              "    }\n",
              "\n",
              "    .colab-df-buttons div {\n",
              "      margin-bottom: 4px;\n",
              "    }\n",
              "\n",
              "    [theme=dark] .colab-df-convert {\n",
              "      background-color: #3B4455;\n",
              "      fill: #D2E3FC;\n",
              "    }\n",
              "\n",
              "    [theme=dark] .colab-df-convert:hover {\n",
              "      background-color: #434B5C;\n",
              "      box-shadow: 0px 1px 3px 1px rgba(0, 0, 0, 0.15);\n",
              "      filter: drop-shadow(0px 1px 2px rgba(0, 0, 0, 0.3));\n",
              "      fill: #FFFFFF;\n",
              "    }\n",
              "  </style>\n",
              "\n",
              "    <script>\n",
              "      const buttonEl =\n",
              "        document.querySelector('#df-1653d20f-0d28-48b8-aadd-9c8d7ca4d5a8 button.colab-df-convert');\n",
              "      buttonEl.style.display =\n",
              "        google.colab.kernel.accessAllowed ? 'block' : 'none';\n",
              "\n",
              "      async function convertToInteractive(key) {\n",
              "        const element = document.querySelector('#df-1653d20f-0d28-48b8-aadd-9c8d7ca4d5a8');\n",
              "        const dataTable =\n",
              "          await google.colab.kernel.invokeFunction('convertToInteractive',\n",
              "                                                    [key], {});\n",
              "        if (!dataTable) return;\n",
              "\n",
              "        const docLinkHtml = 'Like what you see? Visit the ' +\n",
              "          '<a target=\"_blank\" href=https://colab.research.google.com/notebooks/data_table.ipynb>data table notebook</a>'\n",
              "          + ' to learn more about interactive tables.';\n",
              "        element.innerHTML = '';\n",
              "        dataTable['output_type'] = 'display_data';\n",
              "        await google.colab.output.renderOutput(dataTable, element);\n",
              "        const docLink = document.createElement('div');\n",
              "        docLink.innerHTML = docLinkHtml;\n",
              "        element.appendChild(docLink);\n",
              "      }\n",
              "    </script>\n",
              "  </div>\n",
              "\n",
              "    </div>\n",
              "  </div>\n"
            ],
            "application/vnd.google.colaboratory.intrinsic+json": {
              "type": "dataframe",
              "variable_name": "df",
              "summary": "{\n  \"name\": \"df\",\n  \"rows\": 13,\n  \"fields\": [\n    {\n      \"column\": \"title\",\n      \"properties\": {\n        \"dtype\": \"string\",\n        \"num_unique_values\": 12,\n        \"samples\": [\n          \"Engineering Technician I/II (Development)\",\n          \"Mechanical Engineer I - CAD Modeling\",\n          \"Silicon Engineer: Opportunities for University Students\"\n        ],\n        \"semantic_type\": \"\",\n        \"description\": \"\"\n      }\n    },\n    {\n      \"column\": \"company_name\",\n      \"properties\": {\n        \"dtype\": \"string\",\n        \"num_unique_values\": 8,\n        \"samples\": [\n          \"Novartis\",\n          \"Honda\",\n          \"Microsoft\"\n        ],\n        \"semantic_type\": \"\",\n        \"description\": \"\"\n      }\n    },\n    {\n      \"column\": \"location\",\n      \"properties\": {\n        \"dtype\": \"string\",\n        \"num_unique_values\": 12,\n        \"samples\": [\n          \"Fremont, CA\",\n          \"Fairborn, OH\",\n          \"Raleigh, NC\"\n        ],\n        \"semantic_type\": \"\",\n        \"description\": \"\"\n      }\n    },\n    {\n      \"column\": \"job_type\",\n      \"properties\": {\n        \"dtype\": \"category\",\n        \"num_unique_values\": 2,\n        \"samples\": [\n          \"Seasonal\",\n          \"Full-time\"\n        ],\n        \"semantic_type\": \"\",\n        \"description\": \"\"\n      }\n    },\n    {\n      \"column\": \"description\",\n      \"properties\": {\n        \"dtype\": \"string\",\n        \"num_unique_values\": 12,\n        \"samples\": [\n          \"Description\\nThe Public Works Department is recruiting for Engineering Technician I/II (Development).\\n\\n The first review of applications is Tuesday, February 20, 2024, at 12:00 p.m. (PT). The recruitment may close without notice after this date so interested applicants are encouraged to apply immediately.\\n\\n A resume, completed application, and supplemental questionnaire (part of the online application) must be submitted to be considered for this opportunity.\\n\\n To be considered for this outstanding employment opportunity, please complete an application online by clicking \\\"Apply\\\" just above this box.\\n\\n\",\n          \"Job Description\\nUS CITIZENSHIP REQUIRED\\n\\nWe partner with multiple, national-level intelligence organizations to modernize their mission critical systems. We are focused on solving our customer\\u2019s hardest problems and share a strong commitment to the missions we enable. We are looking for innovators, problem solvers, leaders, and team players who further our strong reputation for creativity and technical excellence. In this position, you will enable our customers to stay ahead of rapidly evolving threats to national security by designing and developing 3D geometric Computer Aided Design (CAD) models of foreign systems. In this position, you will primarily work in our customer facilities. If you are an action-oriented engineer with intellectual curiosity and excited to see how you can make a real difference with your talents, we want to talk with you.\\n\\n The Engineering, Science and Analysis (ESA) Strategic Capabilities Unit comprises the technical talent and organizational leadership that enables the successful delivery of high-impact discriminating technologies for our customers\\u2019 missions. Our collaborative, cross-functional teams are committed to innovation, integrity, continual learning and strong execution.\\n\\n What You'll Do:\\nWork with customers, team members, and colleagues to understand project requirements and scope.\\n Construct 3-D geometric CAD models of foreign spacecraft, including static and dynamic characteristics, using industry standards and formats.\\n Conduct all-source and open-source intelligence (OSINT) research of detailed technical assessments of subsystems and spacecraft construction techniques.\\n Perform high-level analytical assignments.\\n Collaborate in a team environment.\\n Assist in preparing presentations and documents.\\n Maintain a regular and predictable work schedule.\\n Establish and maintain effective working relationships within the department, the Strategic Business Units, Strategic Capabilities Units and the Company.\\nInteract appropriately with others in order to maintain a positive and productive work environment.\\n Perform other duties as necessary.\\n\\n On-Site Work Environment: This position requires regular in-person engagement by working on-site five days each normally scheduled week in the primary work location. Travel and local commute between company campuses and other possible non-company locations may be required.\\n\\n Working Conditions:\\nWork is performed in an office, laboratory, production floor, or cleanroom, outdoors or remote research environment.\\n May occasionally work in production work centers where use of protective equipment and gear is required.\\n May access other facilities in various weather conditions.\\n\\n Required Education, Experience, & Skills\\nBS degree or higher in Engineering or a related technical field is required plus 2 or more years related experience.\\n Each higher-level degree, i.e., Master\\u2019s Degree or Ph.D., may substitute for two years of experience. Related technical experience may be considered in lieu of education. Degree must be from a university, college, or school which is accredited by an agency recognized by the US Secretary of Education, US Department of Education.\\n A current, active TS/SCI security clearance is required.\\n 2 or more years of CAD modeling experience.\\n Excellent communication skills.\\n\\n Preferred Education, Experience, & Skills\\nExperience with NX preferred.\\n Experience with Matlab, Python, and/or Simulink preferred.\\n\\n However, individual salaries are determined by a variety of factors including, but not limited to: business considerations, local market conditions, and internal equity, as well as candidate qualifications, such as skills, education, and experience.\\n\\n Employee Benefits: At BAE Systems, we support our employees in all aspects of their life, including their health and financial well-being. Regular employees scheduled to work 20+ hours per week are offered: health, dental, and vision insurance; health savings accounts; a 401(k) savings plan; disability coverage; and life and accident insurance. We also have an employee assistance program, a legal plan, and other perks including discounts on things like home, auto, and pet insurance. Our leave programs include paid time off, paid holidays, as well as other types of leave, including paid parental, military, bereavement, and any applicable federal and state sick leave. Employees may participate in the company recognition program to receive monetary or non-monetary recognition awards. Other incentives may be available based on position level and/or job specifics.\"\n        ],\n        \"semantic_type\": \"\",\n        \"description\": \"\"\n      }\n    },\n    {\n      \"column\": \"min_pay\",\n      \"properties\": {\n        \"dtype\": \"number\",\n        \"std\": 16027.467553616376,\n        \"min\": 46800.0,\n        \"max\": 100000.0,\n        \"num_unique_values\": 10,\n        \"samples\": [\n          72685.34,\n          51792.0\n        ],\n        \"semantic_type\": \"\",\n        \"description\": \"\"\n      }\n    },\n    {\n      \"column\": \"max_pay\",\n      \"properties\": {\n        \"dtype\": \"number\",\n        \"std\": 29322.33694204362,\n        \"min\": 77604.8,\n        \"max\": 151800.0,\n        \"num_unique_values\": 10,\n        \"samples\": [\n          99805.73,\n          77604.8\n        ],\n        \"semantic_type\": \"\",\n        \"description\": \"\"\n      }\n    },\n    {\n      \"column\": \"full_info\",\n      \"properties\": {\n        \"dtype\": \"string\",\n        \"num_unique_values\": 12,\n        \"samples\": [\n          \"Job title: Engineering Technician I/II (Development). Company name: City of Fremont.                                         Location: Fremont, CA. Job type: Full-time. Description\\nThe Public Works Department is recruiting for Engineering Technician I/II (Development).\\n\\n The first review of applications is Tuesday, February 20, 2024, at 12:00 p.m. (PT). The recruitment may close without notice after this date so interested applicants are encouraged to apply immediately.\\n\\n A resume, completed application, and supplemental questionnaire (part of the online application) must be submitted to be considered for this opportunity.\\n\\n To be considered for this outstanding employment opportunity, please complete an application online by clicking \\\"Apply\\\" just above this box.\\n\\n\",\n          \"Job title: Mechanical Engineer I - CAD Modeling. Company name: BAE Systems.                                         Location: Fairborn, OH. Job type: Full-time. Job Description\\nUS CITIZENSHIP REQUIRED\\n\\nWe partner with multiple, national-level intelligence organizations to modernize their mission critical systems. We are focused on solving our customer\\u2019s hardest problems and share a strong commitment to the missions we enable. We are looking for innovators, problem solvers, leaders, and team players who further our strong reputation for creativity and technical excellence. In this position, you will enable our customers to stay ahead of rapidly evolving threats to national security by designing and developing 3D geometric Computer Aided Design (CAD) models of foreign systems. In this position, you will primarily work in our customer facilities. If you are an action-oriented engineer with intellectual curiosity and excited to see how you can make a real difference with your talents, we want to talk with you.\\n\\n The Engineering, Science and Analysis (ESA) Strategic Capabilities Unit comprises the technical talent and organizational leadership that enables the successful delivery of high-impact discriminating technologies for our customers\\u2019 missions. Our collaborative, cross-functional teams are committed to innovation, integrity, continual learning and strong execution.\\n\\n What You'll Do:\\nWork with customers, team members, and colleagues to understand project requirements and scope.\\n Construct 3-D geometric CAD models of foreign spacecraft, including static and dynamic characteristics, using industry standards and formats.\\n Conduct all-source and open-source intelligence (OSINT) research of detailed technical assessments of subsystems and spacecraft construction techniques.\\n Perform high-level analytical assignments.\\n Collaborate in a team environment.\\n Assist in preparing presentations and documents.\\n Maintain a regular and predictable work schedule.\\n Establish and maintain effective working relationships within the department, the Strategic Business Units, Strategic Capabilities Units and the Company.\\nInteract appropriately with others in order to maintain a positive and productive work environment.\\n Perform other duties as necessary.\\n\\n On-Site Work Environment: This position requires regular in-person engagement by working on-site five days each normally scheduled week in the primary work location. Travel and local commute between company campuses and other possible non-company locations may be required.\\n\\n Working Conditions:\\nWork is performed in an office, laboratory, production floor, or cleanroom, outdoors or remote research environment.\\n May occasionally work in production work centers where use of protective equipment and gear is required.\\n May access other facilities in various weather conditions.\\n\\n Required Education, Experience, & Skills\\nBS degree or higher in Engineering or a related technical field is required plus 2 or more years related experience.\\n Each higher-level degree, i.e., Master\\u2019s Degree or Ph.D., may substitute for two years of experience. Related technical experience may be considered in lieu of education. Degree must be from a university, college, or school which is accredited by an agency recognized by the US Secretary of Education, US Department of Education.\\n A current, active TS/SCI security clearance is required.\\n 2 or more years of CAD modeling experience.\\n Excellent communication skills.\\n\\n Preferred Education, Experience, & Skills\\nExperience with NX preferred.\\n Experience with Matlab, Python, and/or Simulink preferred.\\n\\n However, individual salaries are determined by a variety of factors including, but not limited to: business considerations, local market conditions, and internal equity, as well as candidate qualifications, such as skills, education, and experience.\\n\\n Employee Benefits: At BAE Systems, we support our employees in all aspects of their life, including their health and financial well-being. Regular employees scheduled to work 20+ hours per week are offered: health, dental, and vision insurance; health savings accounts; a 401(k) savings plan; disability coverage; and life and accident insurance. We also have an employee assistance program, a legal plan, and other perks including discounts on things like home, auto, and pet insurance. Our leave programs include paid time off, paid holidays, as well as other types of leave, including paid parental, military, bereavement, and any applicable federal and state sick leave. Employees may participate in the company recognition program to receive monetary or non-monetary recognition awards. Other incentives may be available based on position level and/or job specifics.\"\n        ],\n        \"semantic_type\": \"\",\n        \"description\": \"\"\n      }\n    }\n  ]\n}"
            },
            "application/vnd.google.colaboratory.module+javascript": "\n      import \"https://ssl.gstatic.com/colaboratory/data_table/881c4a0d49046431/data_table.js\";\n\n      const table = window.createDataTable({\n        data: [[{\n            'v': 0,\n            'f': \"0\",\n        },\n\"Silicon Engineer: Opportunities for University Students\",\n\"Microsoft\",\n\"Raleigh, NC\",\n\"Full-time\",\n\"Come build community, explore your passions and do your best work at Microsoft with thousands of University students from every corner of the world. This opportunity will allow you to bring your aspirations, talent, potential\\u2014and excitement for the journey ahead.\\n As a Silicon Engineer, you will work with progressive, motivated, diverse, and exceptionally creative people to design and manufacture Silicon and IP for areas such as Cloud Computing, AI, Xbox, and security. We have jobs in a wide range of disciplines within silicon development including architecture, design, verification, physical design, firmware, product validation, data analytics and lab validation. Our teams incubate advanced technologies and build deep partnerships with Microsoft Research, Product Planning and Marketing. We're looking for the best and brightest to join us in designing for the future!\\n\\n Microsoft\\u2019s mission is to empower every person and every organization on the planet to achieve more. As employees we come together with a growth mindset, innovate to empower others, and collaborate to realize our shared goals. Each day we build on our values of respect, integrity, and accountability to create a culture of inclusion where everyone can thrive at work and beyond.\\n Responsibilities\\nResearches new tools, technologies, or methods for project implementation and provides recommendations to project team members as to which tool is appropriate.\\n Uses performance instrumentation and presents results to team and architects\\nThink strategically, creatively, and innovate ways to communicate and visualize user experiences.\\nImplements or recommends technical solutions to common quality and design challenges, with guidance from others (including but not limited to logic design, verification, circuit design, physical design, and design for test)\\nUses standard practices to write complete design verification test cases, test benches, or automation.\\n Assists in writing tests for formal pre-silicon verification of subsystems within a single block; includes the use of simulation and emulation tools, as well as tests for signal integrity, to prevent bugs/failures before production\\nQualifications\\nRequired Qualifications\\nBachelor's Degree in Electrical Engineering, Computer Engineering, Computer Science, or related field\\nExperience in technical engineering.\\n Preferred Qualifications\\nBachelor's degree in Electrical Engineering, Computer Engineering, Computer Science, or related field AND 2+ years technical engineering experience\\nOR Master's degree in Electrical Engineering, Computer Engineering, Computer Science, or related field.\\n Silicon Engineering IC2 - Certain roles may be eligible for benefits and other compensation. Find additional benefits and pay information here: https://careers.microsoft.com/us/en/us-corporate-pay\\n\\nMicrosoft accepts applications and processes offers for these roles on an ongoing basis throughout the academic calendar (September \\u2013 April).\\n\\n Microsoft is an equal opportunity employer. Consistent with applicable law, all qualified applicants will receive consideration for employment without regard to age, ancestry, citizenship, color, family or medical care leave, gender identity or expression, genetic information, immigration status, marital status, medical condition, national origin, physical or mental disability, political affiliation, protected veteran or military status, race, ethnicity, religion, sex (including pregnancy), sexual orientation, or any other characteristic protected by applicable local laws, regulations and ordinances. If you need assistance and/or a reasonable accommodation due to a disability during the application process, read more about requesting accommodations.\",\n{\n            'v': 76400.0,\n            'f': \"76400.0\",\n        },\n{\n            'v': 151800.0,\n            'f': \"151800.0\",\n        },\n\"Job title: Silicon Engineer: Opportunities for University Students. Company name: Microsoft.                                         Location: Raleigh, NC. Job type: Full-time. Come build community, explore your passions and do your best work at Microsoft with thousands of University students from every corner of the world. This opportunity will allow you to bring your aspirations, talent, potential\\u2014and excitement for the journey ahead.\\n As a Silicon Engineer, you will work with progressive, motivated, diverse, and exceptionally creative people to design and manufacture Silicon and IP for areas such as Cloud Computing, AI, Xbox, and security. We have jobs in a wide range of disciplines within silicon development including architecture, design, verification, physical design, firmware, product validation, data analytics and lab validation. Our teams incubate advanced technologies and build deep partnerships with Microsoft Research, Product Planning and Marketing. We're looking for the best and brightest to join us in designing for the future!\\n\\n Microsoft\\u2019s mission is to empower every person and every organization on the planet to achieve more. As employees we come together with a growth mindset, innovate to empower others, and collaborate to realize our shared goals. Each day we build on our values of respect, integrity, and accountability to create a culture of inclusion where everyone can thrive at work and beyond.\\n Responsibilities\\nResearches new tools, technologies, or methods for project implementation and provides recommendations to project team members as to which tool is appropriate.\\n Uses performance instrumentation and presents results to team and architects\\nThink strategically, creatively, and innovate ways to communicate and visualize user experiences.\\nImplements or recommends technical solutions to common quality and design challenges, with guidance from others (including but not limited to logic design, verification, circuit design, physical design, and design for test)\\nUses standard practices to write complete design verification test cases, test benches, or automation.\\n Assists in writing tests for formal pre-silicon verification of subsystems within a single block; includes the use of simulation and emulation tools, as well as tests for signal integrity, to prevent bugs/failures before production\\nQualifications\\nRequired Qualifications\\nBachelor's Degree in Electrical Engineering, Computer Engineering, Computer Science, or related field\\nExperience in technical engineering.\\n Preferred Qualifications\\nBachelor's degree in Electrical Engineering, Computer Engineering, Computer Science, or related field AND 2+ years technical engineering experience\\nOR Master's degree in Electrical Engineering, Computer Engineering, Computer Science, or related field.\\n Silicon Engineering IC2 - Certain roles may be eligible for benefits and other compensation. Find additional benefits and pay information here: https://careers.microsoft.com/us/en/us-corporate-pay\\n\\nMicrosoft accepts applications and processes offers for these roles on an ongoing basis throughout the academic calendar (September \\u2013 April).\\n\\n Microsoft is an equal opportunity employer. Consistent with applicable law, all qualified applicants will receive consideration for employment without regard to age, ancestry, citizenship, color, family or medical care leave, gender identity or expression, genetic information, immigration status, marital status, medical condition, national origin, physical or mental disability, political affiliation, protected veteran or military status, race, ethnicity, religion, sex (including pregnancy), sexual orientation, or any other characteristic protected by applicable local laws, regulations and ordinances. If you need assistance and/or a reasonable accommodation due to a disability during the application process, read more about requesting accommodations.\"]],\n        columns: [[\"number\", \"index\"], [\"string\", \"title\"], [\"string\", \"company_name\"], [\"string\", \"location\"], [\"string\", \"job_type\"], [\"string\", \"description\"], [\"number\", \"min_pay\"], [\"number\", \"max_pay\"], [\"string\", \"full_info\"]],\n        columnOptions: [{\"width\": \"1px\", \"className\": \"index_column\"}],\n        rowsPerPage: 25,\n        helpUrl: \"https://colab.research.google.com/notebooks/data_table.ipynb\",\n        suppressOutputScrolling: true,\n        minimumWidth: undefined,\n      });\n\n      function appendQuickchartButton(parentElement) {\n        let quickchartButtonContainerElement = document.createElement('div');\n        quickchartButtonContainerElement.innerHTML = `\n<div id=\"df-e3d519e0-2ec1-483b-8673-51bd2b5c1c6c\">\n  <button class=\"colab-df-quickchart\" onclick=\"quickchart('df-e3d519e0-2ec1-483b-8673-51bd2b5c1c6c')\"\n            title=\"Suggest charts\"\n            style=\"display:none;\">\n    \n<svg xmlns=\"http://www.w3.org/2000/svg\" height=\"24px\"viewBox=\"0 0 24 24\"\n     width=\"24px\">\n    <g>\n        <path d=\"M19 3H5c-1.1 0-2 .9-2 2v14c0 1.1.9 2 2 2h14c1.1 0 2-.9 2-2V5c0-1.1-.9-2-2-2zM9 17H7v-7h2v7zm4 0h-2V7h2v10zm4 0h-2v-4h2v4z\"/>\n    </g>\n</svg>\n  </button>\n  \n<style>\n  .colab-df-quickchart {\n      --bg-color: #E8F0FE;\n      --fill-color: #1967D2;\n      --hover-bg-color: #E2EBFA;\n      --hover-fill-color: #174EA6;\n      --disabled-fill-color: #AAA;\n      --disabled-bg-color: #DDD;\n  }\n\n  [theme=dark] .colab-df-quickchart {\n      --bg-color: #3B4455;\n      --fill-color: #D2E3FC;\n      --hover-bg-color: #434B5C;\n      --hover-fill-color: #FFFFFF;\n      --disabled-bg-color: #3B4455;\n      --disabled-fill-color: #666;\n  }\n\n  .colab-df-quickchart {\n    background-color: var(--bg-color);\n    border: none;\n    border-radius: 50%;\n    cursor: pointer;\n    display: none;\n    fill: var(--fill-color);\n    height: 32px;\n    padding: 0;\n    width: 32px;\n  }\n\n  .colab-df-quickchart:hover {\n    background-color: var(--hover-bg-color);\n    box-shadow: 0 1px 2px rgba(60, 64, 67, 0.3), 0 1px 3px 1px rgba(60, 64, 67, 0.15);\n    fill: var(--button-hover-fill-color);\n  }\n\n  .colab-df-quickchart-complete:disabled,\n  .colab-df-quickchart-complete:disabled:hover {\n    background-color: var(--disabled-bg-color);\n    fill: var(--disabled-fill-color);\n    box-shadow: none;\n  }\n\n  .colab-df-spinner {\n    border: 2px solid var(--fill-color);\n    border-color: transparent;\n    border-bottom-color: var(--fill-color);\n    animation:\n      spin 1s steps(1) infinite;\n  }\n\n  @keyframes spin {\n    0% {\n      border-color: transparent;\n      border-bottom-color: var(--fill-color);\n      border-left-color: var(--fill-color);\n    }\n    20% {\n      border-color: transparent;\n      border-left-color: var(--fill-color);\n      border-top-color: var(--fill-color);\n    }\n    30% {\n      border-color: transparent;\n      border-left-color: var(--fill-color);\n      border-top-color: var(--fill-color);\n      border-right-color: var(--fill-color);\n    }\n    40% {\n      border-color: transparent;\n      border-right-color: var(--fill-color);\n      border-top-color: var(--fill-color);\n    }\n    60% {\n      border-color: transparent;\n      border-right-color: var(--fill-color);\n    }\n    80% {\n      border-color: transparent;\n      border-right-color: var(--fill-color);\n      border-bottom-color: var(--fill-color);\n    }\n    90% {\n      border-color: transparent;\n      border-bottom-color: var(--fill-color);\n    }\n  }\n</style>\n\n  <script>\n    async function quickchart(key) {\n      const quickchartButtonEl =\n        document.querySelector('#' + key + ' button');\n      quickchartButtonEl.disabled = true;  // To prevent multiple clicks.\n      quickchartButtonEl.classList.add('colab-df-spinner');\n      try {\n        const charts = await google.colab.kernel.invokeFunction(\n            'suggestCharts', [key], {});\n      } catch (error) {\n        console.error('Error during call to suggestCharts:', error);\n      }\n      quickchartButtonEl.classList.remove('colab-df-spinner');\n      quickchartButtonEl.classList.add('colab-df-quickchart-complete');\n    }\n    (() => {\n      let quickchartButtonEl =\n        document.querySelector('#df-e3d519e0-2ec1-483b-8673-51bd2b5c1c6c button');\n      quickchartButtonEl.style.display =\n        google.colab.kernel.accessAllowed ? 'block' : 'none';\n    })();\n  </script>\n</div>`;\n        parentElement.appendChild(quickchartButtonContainerElement);\n      }\n\n      appendQuickchartButton(table);\n    "
          },
          "metadata": {},
          "execution_count": 13
        }
      ]
    },
    {
      "cell_type": "markdown",
      "source": [
        "### Save DataFrame"
      ],
      "metadata": {
        "id": "EF_ME8ZgqF8h"
      }
    },
    {
      "cell_type": "code",
      "source": [
        "df.to_csv(path + 'jobs_processed.csv', index=False)"
      ],
      "metadata": {
        "id": "w7dRNDqRqKO_"
      },
      "execution_count": null,
      "outputs": []
    }
  ]
}