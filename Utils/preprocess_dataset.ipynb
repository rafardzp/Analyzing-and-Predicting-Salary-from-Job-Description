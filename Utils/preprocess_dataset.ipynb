{
  "nbformat": 4,
  "nbformat_minor": 0,
  "metadata": {
    "colab": {
      "provenance": []
    },
    "kernelspec": {
      "name": "python3",
      "display_name": "Python 3"
    },
    "language_info": {
      "name": "python"
    }
  },
  "cells": [
    {
      "cell_type": "markdown",
      "source": [
        "# **NLP Project: Dataset Preprocessing**\n",
        "\n",
        "*Master in Machine Learning for Health, 2023~2024*\n",
        "\n",
        "*Authors: Daniel Corrales, Jaime Fernández & Rafael Rodríguez*\n",
        "\n",
        "---"
      ],
      "metadata": {
        "id": "tJ6Z03pcW88k"
      }
    },
    {
      "cell_type": "code",
      "execution_count": 1,
      "metadata": {
        "id": "L2wXYUiGW8U5"
      },
      "outputs": [],
      "source": [
        "import pandas as pd\n",
        "import spacy\n",
        "import numpy as np\n",
        "import os"
      ]
    },
    {
      "cell_type": "code",
      "source": [
        "from google.colab import drive\n",
        "drive.mount('/content/drive')"
      ],
      "metadata": {
        "colab": {
          "base_uri": "https://localhost:8080/"
        },
        "id": "tNbZU4kuX0Ia",
        "outputId": "6a29f99c-4605-415e-8d5b-042efdac88ba"
      },
      "execution_count": 2,
      "outputs": [
        {
          "output_type": "stream",
          "name": "stdout",
          "text": [
            "Mounted at /content/drive\n"
          ]
        }
      ]
    },
    {
      "cell_type": "code",
      "source": [
        "# For fancy table Display\n",
        "%load_ext google.colab.data_table"
      ],
      "metadata": {
        "id": "C0kTx_DAd2zp"
      },
      "execution_count": 3,
      "outputs": []
    },
    {
      "cell_type": "code",
      "source": [
        "!python -m spacy download en_core_web_sm"
      ],
      "metadata": {
        "id": "TTf0HpPzgf7f"
      },
      "execution_count": null,
      "outputs": []
    },
    {
      "cell_type": "code",
      "source": [
        "nlp = spacy.load('en_core_web_sm')"
      ],
      "metadata": {
        "id": "oUDVOiO5izXv"
      },
      "execution_count": 5,
      "outputs": []
    },
    {
      "cell_type": "markdown",
      "source": [
        "The raw scraped data has to be further preprocessed:\n",
        "1. Clean DataFrame: remove duplicate rows and rows containing NaN values.\n",
        "2. Remove salary information from decription column.\n",
        "3. Convert to salary per year and create new target column `avg_pay`, this is the target variable to be predicted by the NLP model.\n",
        "4. Remove pay columns.\n",
        "5. Combine all info into the same text with format:\n",
        "\n",
        "  `Job title | Company name | Location | Job type (if provided) | Description`"
      ],
      "metadata": {
        "id": "gOjGOKM-X5h5"
      }
    },
    {
      "cell_type": "markdown",
      "source": [
        "### Data Loading"
      ],
      "metadata": {
        "id": "T4vHt85PZqXz"
      }
    },
    {
      "cell_type": "code",
      "source": [
        "path = '/content/drive/MyDrive/NLP/Project/'\n",
        "\n",
        "dfs = []\n",
        "\n",
        "for filename in os.listdir(path):\n",
        "    if filename.endswith('.csv'):\n",
        "      print(filename)\n",
        "      file_path = os.path.join(path, filename)\n",
        "      df = pd.read_csv(file_path)\n",
        "      dfs.append(df)\n",
        "\n",
        "df = pd.concat(dfs, ignore_index=True)\n",
        "og_shape = df.shape[0]\n",
        "print(f\"Total numer of jobs before cleaning: {og_shape}\")"
      ],
      "metadata": {
        "colab": {
          "base_uri": "https://localhost:8080/"
        },
        "id": "n6wYLeRDXvDU",
        "outputId": "910e5bdb-937a-47d3-cab4-f4dc7f7143a9"
      },
      "execution_count": 6,
      "outputs": [
        {
          "output_type": "stream",
          "name": "stdout",
          "text": [
            "engineering_jobs.csv\n",
            "AI_jobs.csv\n",
            "research_jobs.csv\n",
            "consultant_jobs.csv\n",
            "finance_jobs.csv\n",
            "sales_jobs.csv\n",
            "legal_jobs.csv\n",
            "HR_jobs.csv\n",
            "marketing_jobs.csv\n",
            "Total numer of jobs before cleaning: 2548\n"
          ]
        }
      ]
    },
    {
      "cell_type": "code",
      "source": [
        "df.head(1)"
      ],
      "metadata": {
        "colab": {
          "base_uri": "https://localhost:8080/",
          "height": 626
        },
        "id": "ap5aw9DkfXWw",
        "outputId": "88d5c31a-6f8d-40e9-c73b-65368c3dccfb"
      },
      "execution_count": 7,
      "outputs": [
        {
          "output_type": "execute_result",
          "data": {
            "text/plain": [
              "                                               title company_name  \\\n",
              "0  Electrical Engineering: Opportunities for Univ...    Microsoft   \n",
              "\n",
              "                               location                         pay  \\\n",
              "0  One Microsoft Way, Redmond, WA 98052  $76,400 - $151,800 por año   \n",
              "\n",
              "    job_type                                        description  \n",
              "0  Full-time  Come build community, explore your passions an...  "
            ],
            "text/html": [
              "\n",
              "  <div id=\"df-d3cb3996-214f-4b58-9f66-28164993535c\" class=\"colab-df-container\">\n",
              "    <div>\n",
              "<style scoped>\n",
              "    .dataframe tbody tr th:only-of-type {\n",
              "        vertical-align: middle;\n",
              "    }\n",
              "\n",
              "    .dataframe tbody tr th {\n",
              "        vertical-align: top;\n",
              "    }\n",
              "\n",
              "    .dataframe thead th {\n",
              "        text-align: right;\n",
              "    }\n",
              "</style>\n",
              "<table border=\"1\" class=\"dataframe\">\n",
              "  <thead>\n",
              "    <tr style=\"text-align: right;\">\n",
              "      <th></th>\n",
              "      <th>title</th>\n",
              "      <th>company_name</th>\n",
              "      <th>location</th>\n",
              "      <th>pay</th>\n",
              "      <th>job_type</th>\n",
              "      <th>description</th>\n",
              "    </tr>\n",
              "  </thead>\n",
              "  <tbody>\n",
              "    <tr>\n",
              "      <th>0</th>\n",
              "      <td>Electrical Engineering: Opportunities for Univ...</td>\n",
              "      <td>Microsoft</td>\n",
              "      <td>One Microsoft Way, Redmond, WA 98052</td>\n",
              "      <td>$76,400 - $151,800 por año</td>\n",
              "      <td>Full-time</td>\n",
              "      <td>Come build community, explore your passions an...</td>\n",
              "    </tr>\n",
              "  </tbody>\n",
              "</table>\n",
              "</div>\n",
              "    <div class=\"colab-df-buttons\">\n",
              "\n",
              "  <div class=\"colab-df-container\">\n",
              "    <button class=\"colab-df-convert\" onclick=\"convertToInteractive('df-d3cb3996-214f-4b58-9f66-28164993535c')\"\n",
              "            title=\"Convert this dataframe to an interactive table.\"\n",
              "            style=\"display:none;\">\n",
              "\n",
              "  <svg xmlns=\"http://www.w3.org/2000/svg\" height=\"24px\" viewBox=\"0 -960 960 960\">\n",
              "    <path d=\"M120-120v-720h720v720H120Zm60-500h600v-160H180v160Zm220 220h160v-160H400v160Zm0 220h160v-160H400v160ZM180-400h160v-160H180v160Zm440 0h160v-160H620v160ZM180-180h160v-160H180v160Zm440 0h160v-160H620v160Z\"/>\n",
              "  </svg>\n",
              "    </button>\n",
              "\n",
              "  <style>\n",
              "    .colab-df-container {\n",
              "      display:flex;\n",
              "      gap: 12px;\n",
              "    }\n",
              "\n",
              "    .colab-df-convert {\n",
              "      background-color: #E8F0FE;\n",
              "      border: none;\n",
              "      border-radius: 50%;\n",
              "      cursor: pointer;\n",
              "      display: none;\n",
              "      fill: #1967D2;\n",
              "      height: 32px;\n",
              "      padding: 0 0 0 0;\n",
              "      width: 32px;\n",
              "    }\n",
              "\n",
              "    .colab-df-convert:hover {\n",
              "      background-color: #E2EBFA;\n",
              "      box-shadow: 0px 1px 2px rgba(60, 64, 67, 0.3), 0px 1px 3px 1px rgba(60, 64, 67, 0.15);\n",
              "      fill: #174EA6;\n",
              "    }\n",
              "\n",
              "    .colab-df-buttons div {\n",
              "      margin-bottom: 4px;\n",
              "    }\n",
              "\n",
              "    [theme=dark] .colab-df-convert {\n",
              "      background-color: #3B4455;\n",
              "      fill: #D2E3FC;\n",
              "    }\n",
              "\n",
              "    [theme=dark] .colab-df-convert:hover {\n",
              "      background-color: #434B5C;\n",
              "      box-shadow: 0px 1px 3px 1px rgba(0, 0, 0, 0.15);\n",
              "      filter: drop-shadow(0px 1px 2px rgba(0, 0, 0, 0.3));\n",
              "      fill: #FFFFFF;\n",
              "    }\n",
              "  </style>\n",
              "\n",
              "    <script>\n",
              "      const buttonEl =\n",
              "        document.querySelector('#df-d3cb3996-214f-4b58-9f66-28164993535c button.colab-df-convert');\n",
              "      buttonEl.style.display =\n",
              "        google.colab.kernel.accessAllowed ? 'block' : 'none';\n",
              "\n",
              "      async function convertToInteractive(key) {\n",
              "        const element = document.querySelector('#df-d3cb3996-214f-4b58-9f66-28164993535c');\n",
              "        const dataTable =\n",
              "          await google.colab.kernel.invokeFunction('convertToInteractive',\n",
              "                                                    [key], {});\n",
              "        if (!dataTable) return;\n",
              "\n",
              "        const docLinkHtml = 'Like what you see? Visit the ' +\n",
              "          '<a target=\"_blank\" href=https://colab.research.google.com/notebooks/data_table.ipynb>data table notebook</a>'\n",
              "          + ' to learn more about interactive tables.';\n",
              "        element.innerHTML = '';\n",
              "        dataTable['output_type'] = 'display_data';\n",
              "        await google.colab.output.renderOutput(dataTable, element);\n",
              "        const docLink = document.createElement('div');\n",
              "        docLink.innerHTML = docLinkHtml;\n",
              "        element.appendChild(docLink);\n",
              "      }\n",
              "    </script>\n",
              "  </div>\n",
              "\n",
              "    </div>\n",
              "  </div>\n"
            ],
            "application/vnd.google.colaboratory.intrinsic+json": {
              "type": "dataframe",
              "variable_name": "df",
              "summary": "{\n  \"name\": \"df\",\n  \"rows\": 2548,\n  \"fields\": [\n    {\n      \"column\": \"title\",\n      \"properties\": {\n        \"dtype\": \"string\",\n        \"num_unique_values\": 1989,\n        \"samples\": [\n          \"Client Trading, Associate 2\",\n          \"Human Resources Analyst (Trainee) 9-12 / Specialist 13 - Labor Relations\",\n          \"PostDoc Research Associate - Dept. of Anatomy and Neurobiology\"\n        ],\n        \"semantic_type\": \"\",\n        \"description\": \"\"\n      }\n    },\n    {\n      \"column\": \"company_name\",\n      \"properties\": {\n        \"dtype\": \"category\",\n        \"num_unique_values\": 1166,\n        \"samples\": [\n          \"Redcloud Consulting\",\n          \"Syensqo\",\n          \"Alaska Airlines\"\n        ],\n        \"semantic_type\": \"\",\n        \"description\": \"\"\n      }\n    },\n    {\n      \"column\": \"location\",\n      \"properties\": {\n        \"dtype\": \"category\",\n        \"num_unique_values\": 857,\n        \"samples\": [\n          \"135 Santilli Highway, Everett, MA 02149\",\n          \"712 North Eugene St, Greensboro, NC 27401\",\n          \"Titusville, FL\"\n        ],\n        \"semantic_type\": \"\",\n        \"description\": \"\"\n      }\n    },\n    {\n      \"column\": \"pay\",\n      \"properties\": {\n        \"dtype\": \"string\",\n        \"num_unique_values\": 1629,\n        \"samples\": [\n          \"$105,000 - $130,000 por a\\u00f1o\",\n          \"$116,480 - $208,505 por a\\u00f1o\",\n          \"$44.24 - $70.03 por hora\"\n        ],\n        \"semantic_type\": \"\",\n        \"description\": \"\"\n      }\n    },\n    {\n      \"column\": \"job_type\",\n      \"properties\": {\n        \"dtype\": \"category\",\n        \"num_unique_values\": 11,\n        \"samples\": [\n          \"Permanent\",\n          \"Full-time\",\n          \"Apprenticeship\"\n        ],\n        \"semantic_type\": \"\",\n        \"description\": \"\"\n      }\n    },\n    {\n      \"column\": \"description\",\n      \"properties\": {\n        \"dtype\": \"string\",\n        \"num_unique_values\": 2305,\n        \"samples\": [\n          \"Job Title: Human Relations Specialist (Recruiting)\\nReports to: HR Manager\\nEmployment Status: Full-Time\\nFLSA Status: Non-Exempt\\nCompany Overview: Codemax Medical Billing is a leading Medical Billing Company specializing in behavioral health facility billing. With a dedicated team of 130 employees onshore and 25 offshore professionals in the Philippines, we provide comprehensive billing services to our clients. With headquarters in Van Nuys, California, and a satellite office in Palmdale, California, we are committed to excellence in healthcare revenue management. As part of our growth strategy, we are planning to open a third office in Florida.\\nPosition Summary: Codemax Medical Billing is seeking a dedicated and experienced HR Specialist, with a specialization in recruiting, to support our HR department. The HR Specialist will work closely with the HR Manager to execute effective recruitment strategies, manage the onboarding process, and contribute to the overall success of the HR function.\\nDuties/Responsibilities:\\nCollaborate with department heads to understand their staffing needs and create job descriptions.\\nSource, screen, and interview candidates, ensuring a diverse and qualified talent pool.\\nSchedule and coordinate interviews, conduct reference checks, and make job offers.\\nOversee the onboarding process to ensure a seamless transition for new hires.\\nMonitor and evaluate the performance of new hires during their probationary period.\\nWork with recruiting companies to expand the reach of our talent search.\\nInnovate and improve hiring processes to enhance efficiency and effectiveness.\\nAssist in addressing employee concerns and questions related to recruitment and onboarding.\\nAssist in the development and implementation of HR policies and procedures related to recruitment and onboarding.\\nEnsure compliance with relevant laws and regulations in all recruitment activities.\\nRequired Skills/Abilities:\\nStrong understanding of recruitment processes and best practices.\\nExcellent interpersonal and communication skills.\\nAbility to work independently and as part of a team.\\nStrong organizational skills and attention to detail.\\nKnowledge of HR laws and regulations is a plus.\\nBenefits\\nHealth Insurance\\nVision Insurance\\nDental Insurance\\n401(k) plan with matching contributions\",\n          \"Summary\\n\\nPosted: Feb 6, 2024\\n\\nRole Number:200537426\\n\\nDo you love taking on big challenges that require exceptionally creative solutions? Do you deeply understand how an incredible camera experience should work? As part of our Camera Technologies group, you\\u2019ll help design the innovative technology that allows each generation of Apple products to produce photos even more incredible than the last. You\\u2019ll design and develop groundbreaking ideas for everything involved in our camera systems, from sensor to lens. You\\u2019ll collaborate with teams across Apple to research, design, develop, test, and qualify camera hardware for Apple products. Together, we\\u2019ll craft a magical photography experience that redefines what millions of customers can expect from their cameras. The Camera Architecture team is responsible for research, design, and specifications of camera hardware for Vision Pro, iPhone, and other Apple products. The team is seeking an exceptional imaging scientist/engineer with responsibilities for supporting future camera simulation and camera systems development!\\n\\nKey Qualifications\\n\\nKey Qualifications\\nExcellent problem solving and analytical skills\\nExcellent communicator, team player, and ability to work in a cross functional manner\\nFluency with Matlab, Python, familiarity with C/C++, and version control\\nExpertise in physical modeling and simulation\\nExpertise with general signal/image processing concepts\\nExperience with sensors and imaging technology\\nExperience in computational imaging\\nExperience in computer graphics, and in particular ray-tracing and light fields is a plus\\nExperience with AI and ML is a plus\\n\\n\\nDescription\\n\\nDescription\\n\\nThe ideal candidate should be enthusiastic about working on modeling of the real world based upon physical principles. In this role, the candidate will work on end-to-end imaging system simulation for future cameras. Great communication is a key to success as the candidate is expected to work with multi-functional teams! - Act as a camera systems simulation consultant, and work closely with camera architects to help specify future camera hardware for Vision Pro and iPhone, and other Apple products - Lead 3D computer graphics scene generation integration with camera systems simulations - Help develop and maintain depth-of-field, computer graphics-based camera systems simulation infrastructure - Work closely with sensor, firmware, software, and other cross-functional teams to develop and validate new simulation infrastructure - Simulate various focus pixel arrangements for future cameras in Apple products. Work closely with sensor, auto-focus, depth, and software/ML teams for development of focus pixel technology - Help develop the simulation of light fields\\n\\nEducation & Experience\\n\\nEducation & Experience\\n\\nBS and a minimum of 3 years relevant industry experience\\n\\nAdditional Requirements\\n\\nAdditional Requirements\\n\\nPay & Benefits\\n\\nPay & Benefits\\nAt Apple, base pay is one part of our total compensation package and is determined within a range. This provides the opportunity to progress as you grow and develop within a role. The base pay range for this role is between $138,900.00 and $256,500.00, and your base pay will depend on your skills, qualifications, experience, and location.\\n\\nApple employees also have the opportunity to become an Apple shareholder through participation in Apple\\u2019s discretionary employee stock programs. Apple employees are eligible for discretionary restricted stock unit awards, and can purchase Apple stock at a discount if voluntarily participating in Apple\\u2019s Employee Stock Purchase Plan. You\\u2019ll also receive benefits including: Comprehensive medical and dental coverage, retirement benefits, a range of discounted products and free services, and for formal education related to advancing your career at Apple, reimbursement for certain educational expenses - including tuition. Additionally, this role might be eligible for discretionary bonuses or commission payments as well as relocation. Learn more about Apple Benefits.\\n\\nNote: Apple benefit, compensation and employee stock programs are subject to eligibility requirements and other terms of the applicable plan or program.\\n\\nApple is an equal opportunity employer that is committed to inclusion and diversity. We take affirmative action to ensure equal opportunity for all applicants without regard to race, color, religion, sex, sexual orientation, gender identity, national origin, disability, Veteran status, or other legally protected characteristics.\",\n          \"Company\\nFederal Reserve Bank of New York\\nWorking at the Federal Reserve Bank of New York positions you at the center of the financial world with a unique perspective on national and international markets and economies. You will work in an environment with a diverse group of experienced professionals to foster and support the safety, soundness, and vitality of our economic and financial systems.\\n\\nThe Bank believes in work flexibility to balance the demands of work and life while also connecting and collaborating with our colleagues in person. Employees can expect to be in the office a couple of days per week as needed for meetings and team collaboration and should live within a commutable distance.\\nWhat we do:\\nThe Supervision Group of the Federal Reserve Bank of New York (FRBNY) supervises banks in the Second District. The objectives of supervision are to:\\nEvaluate and promote the overall safety and soundness of supervised institutions\\nEnsure supervised institutions\\u2019 compliance with relevant laws and regulations, including consumer protection\\nFacilitate the stability of the financial system of the United States\\nSupport the growth and stability of the U.S. economy\\nSupervision is carried out through a combination of methods, including on-site and off-site examinations involving staff dedicated to the supervision of an individual firm and other professionals focused on analytical, policy and risk matters. Supervision is coordinated with other US agencies.\\n\\nThe Regional and Community Financial Institution (RCFI) function is responsible for monitoring and assessing the safety and soundness of state member banks and domestic bank holding companies under $100 billion in the Second District. This includes state member banks and bank holding companies headquartered in Puerto Rico.\\nYour role as a Community Banks Associate Examiner:\\nIn your role as a Community Bank Organization (CBO) Associate Examiner, you will execute the supervisory plan and meet supervisory mandates for one or more risk stripes and/or institutions. The CBO Associate Examiner manages the day-to-day administration of data and performs moderately complex analysis, forecasting, and modeling. The examiner identifies, collects, maintains, and analyzes data from various sources and effectively communicates analysis to senior management. Evaluates the strategic direction of a financial institution's business.\\n\\nCore responsibilities include:\\nIdentifies strategies, risk, and exposure levels at financial institutions to assess risk management practices.\\nAssesses risks and risk management strategies by monitoring business line strategy and growth initiatives, current/expected future client base, and financial/business line performance metrics.\\nAnalyzes current industry practices, conditions, and trends to identify inherent/emerging risks. Prepares and delivers product memos, report comments, risk assessments, and other materials that support examination findings and supervisory decisions.\\nAssists in the development and execution of supervisory and examination strategies.\\nWhat we are looking for:\\nStrong written and verbal communication skills, including the ability to adapt communication to a range of audiences with different perspectives and expertise.\\nFamiliarity with banking business and the risk focused examination process.\\nUnderstanding of bank financial analysis with ability to analyze capital, earnings, and liquidity.\\nIntellectual curiosity.\\nThe role will allow for a mix of remote and onsite work and travel to onsite locations. Travel will depend on business travel conditions permitting up to 15 percent of the time.\\nSalary Range: $92100 - $109800 / year\\nWe believe in transparency at the NY Fed. This salary range reflects a variety of skills and experiences candidates may bring to the job. We pay individuals along this range based on their unique backgrounds. Whether you\\u2019re stretching into the job or are a more seasoned candidate, we aim to pay competitively for your contributions.\\nOur Touchstone Behaviors\\u2014Communicate Authentically, Collaborate Inclusively, Drive Progress, Develop Others, and Take Ownership\\u2014help shape the culture of the Bank. They also provide a shared language for how we work together and achieve success, and they set clear expectations for leading with impact at every stage of your career with us.\\nLearn more.\\nBenefits:\\nOur organization offers benefits that are the best fit for you at every stage of your career:\\nFully paid Pension plan and 401k with Generous Match\\nComprehensive Insurance Plans (Medical, Dental and Vision including Flexible Spending Accounts and HSA)\\nSubsidized Public Transportation Program\\nTuition Assistance Program\\nOnsite Fitness & Wellness Center\\nAnd\\nmore\\nPlease note that the position requires access to confidential supervisory information and/or FOMC information, which is limited to \\\"Protected Individuals\\\" as defined in the U.S. federal immigration law. Protected Individuals include, but are not limited to, U.S. citizens, U.S. nationals, and U.S. permanent residents who either are not yet eligible to apply for naturalization or who have applied for naturalization within the requisite timeframe. Candidates who are permanent residents may be eligible for the information access required for this position if they sign a declaration of intent to become a U.S. citizen and pursue a path to citizenship and meet other eligibility requirements.\\nIn addition, all candidates must undergo an enhanced background check, comply with all applicable information handling rules, and will be tested for all controlled substances prohibited by federal law, to include marijuana.\\nThe New York Fed expects its employees to perform their duties with honesty, integrity, and impartiality, and without improper preferential treatment of any person.\\nLearn more about our code of conduct and conflicts of interest rules.\\n\\nThe Federal Reserve Bank of New York is committed to a diverse workforce and to providing equal employment opportunity to all persons without regard to race, color, religion, national origin, sex, sexual orientation, gender identity, age, genetic information, disability, or military service.\\n\\nWe value accessibility for all candidates and are happy to provide an accommodation or assistance. Please email us at\\nny.leaves@ny.frb.org\\nand we\\u2019ll be glad to help.\\n\\nThis is not necessarily an exhaustive list of all responsibilities, duties, performance standards or requirements, efforts, skills or working conditions associated with the job. While this is intended to be an accurate reflection of the current job, management reserves the right to revise the job or to require that other or different tasks be performed when circumstances change.\\nFull Time / Part Time\\nFull time\\nRegular / Temporary\\nRegular\\nJob Exempt (Yes / No)\\nYes\\nJob Category\\nSupervisory/Management\\nWork Shift\\nFirst (United States of America)\\nThe Federal Reserve Banks believe that diversity and inclusion among our employees is critical to our success as an organization, and we seek to recruit, develop and retain the most talented people from a diverse candidate pool. The Federal Reserve Banks are committed to equal employment opportunity for employees and job applicants in compliance with applicable law and to an environment where employees are valued for their differences.\\nPrivacy Notice\"\n        ],\n        \"semantic_type\": \"\",\n        \"description\": \"\"\n      }\n    }\n  ]\n}"
            },
            "application/vnd.google.colaboratory.module+javascript": "\n      import \"https://ssl.gstatic.com/colaboratory/data_table/881c4a0d49046431/data_table.js\";\n\n      const table = window.createDataTable({\n        data: [[{\n            'v': 0,\n            'f': \"0\",\n        },\n\"Electrical Engineering: Opportunities for University Graduates\",\n\"Microsoft\",\n\"One Microsoft Way, Redmond, WA 98052\",\n\"$76,400 - $151,800 por a\\u00f1o\",\n\"Full-time\",\n\"Come build community, explore your passions and do your best work at Microsoft with thousands of University students from every corner of the world. This opportunity will allow you to bring your aspirations, talent, potential\\u2014and excitement for the journey ahead.\\n\\nAs an Electrical Engineer at Microsoft, you will design, develop, modify, and evaluate components used in electronic devices that involve the manipulation, transmission, and storage of electricity. Define design approaches, implementation schedules, technical specifications, and parameters for devices. You will partake in selecting materials and components based on analysis of specifications and reliability. This opportunity will allow you to develop test plans and direct support personnel, or other engineers, in the preparation and execution of design testing or prototype fabrication.\\n\\nThose hired into this role are invited to participate in the Microsoft Aspire Experience, a two-year learning and development program in which you'll build your network, cultivate intentional capabilities, and gain perspective into the career opportunities across Microsoft\\u2019s many exciting businesses.\\n\\nMicrosoft\\u2019s mission is to empower every person and every organization on the planet to achieve more. As employees we come together with a growth mindset, innovate to empower others, and collaborate to realize our shared goals. Each day we build on our values of respect, integrity, and accountability to create a culture of inclusion where everyone can thrive at work and beyond.\\n\\nResponsibilities\\nDevelops design documentation for well-defined features and review supplier or partner technical sheets. You\\u2019ll also analyze data analyses to identify common flaws in feature or product designs.\\nEnsures documentation includes test requirements, determine appropriate test equipment, and carry out test plans on standard features or products.\\nCollect data for external testing, as well as help develop test fixtures for new feature testing and validation.\\nImplementates schedules for a feature or product while highlighting potential downstream issues. You\\u2019ll also help implement risk assessments and communicate progress within the team.\\nCreates detailed reports for a product feature or extension. This will include documenting essential details and accurate recording and tracking design changes with guidance.\\nQualifications\\nRequired Qualifications\\nRecently completed a Bachelor's degree in Electrical Engineering, Computer Engineering, or related field.\\n3+ months related technical engineering experience or internship experience\\n\\nElectrical Engineering IC2 - The typical base pay range for this role across the U.S. is USD $76,400 - $151,800 per year. There is a different range applicable to specific work locations, within the San Francisco Bay area and New York City metropolitan area, and the base pay range for this role in those locations is USD $100,300 - $165,400 per year.\\n\\nCertain roles may be eligible for benefits and other compensation. Find additional benefits and pay information here: https://careers.microsoft.com/us/en/us-corporate-pay\\n\\nMicrosoft accepts applications and processes offers for these roles on an ongoing basis throughout the academic calendar (September \\u2013 April).\\n\\nMicrosoft is an equal opportunity employer. Consistent with applicable law, all qualified applicants will receive consideration for employment without regard to age, ancestry, citizenship, color, family or medical care leave, gender identity or expression, genetic information, immigration status, marital status, medical condition, national origin, physical or mental disability, political affiliation, protected veteran or military status, race, ethnicity, religion, sex (including pregnancy), sexual orientation, or any other characteristic protected by applicable local laws, regulations and ordinances. If you need assistance and/or a reasonable accommodation due to a disability during the application process, read more about requesting accommodations.\"]],\n        columns: [[\"number\", \"index\"], [\"string\", \"title\"], [\"string\", \"company_name\"], [\"string\", \"location\"], [\"string\", \"pay\"], [\"string\", \"job_type\"], [\"string\", \"description\"]],\n        columnOptions: [{\"width\": \"1px\", \"className\": \"index_column\"}],\n        rowsPerPage: 25,\n        helpUrl: \"https://colab.research.google.com/notebooks/data_table.ipynb\",\n        suppressOutputScrolling: true,\n        minimumWidth: undefined,\n      });\n\n      function appendQuickchartButton(parentElement) {\n        let quickchartButtonContainerElement = document.createElement('div');\n        quickchartButtonContainerElement.innerHTML = `\n<div id=\"df-256a5299-ca57-4996-87de-a4f923627ac2\">\n  <button class=\"colab-df-quickchart\" onclick=\"quickchart('df-256a5299-ca57-4996-87de-a4f923627ac2')\"\n            title=\"Suggest charts\"\n            style=\"display:none;\">\n    \n<svg xmlns=\"http://www.w3.org/2000/svg\" height=\"24px\"viewBox=\"0 0 24 24\"\n     width=\"24px\">\n    <g>\n        <path d=\"M19 3H5c-1.1 0-2 .9-2 2v14c0 1.1.9 2 2 2h14c1.1 0 2-.9 2-2V5c0-1.1-.9-2-2-2zM9 17H7v-7h2v7zm4 0h-2V7h2v10zm4 0h-2v-4h2v4z\"/>\n    </g>\n</svg>\n  </button>\n  \n<style>\n  .colab-df-quickchart {\n      --bg-color: #E8F0FE;\n      --fill-color: #1967D2;\n      --hover-bg-color: #E2EBFA;\n      --hover-fill-color: #174EA6;\n      --disabled-fill-color: #AAA;\n      --disabled-bg-color: #DDD;\n  }\n\n  [theme=dark] .colab-df-quickchart {\n      --bg-color: #3B4455;\n      --fill-color: #D2E3FC;\n      --hover-bg-color: #434B5C;\n      --hover-fill-color: #FFFFFF;\n      --disabled-bg-color: #3B4455;\n      --disabled-fill-color: #666;\n  }\n\n  .colab-df-quickchart {\n    background-color: var(--bg-color);\n    border: none;\n    border-radius: 50%;\n    cursor: pointer;\n    display: none;\n    fill: var(--fill-color);\n    height: 32px;\n    padding: 0;\n    width: 32px;\n  }\n\n  .colab-df-quickchart:hover {\n    background-color: var(--hover-bg-color);\n    box-shadow: 0 1px 2px rgba(60, 64, 67, 0.3), 0 1px 3px 1px rgba(60, 64, 67, 0.15);\n    fill: var(--button-hover-fill-color);\n  }\n\n  .colab-df-quickchart-complete:disabled,\n  .colab-df-quickchart-complete:disabled:hover {\n    background-color: var(--disabled-bg-color);\n    fill: var(--disabled-fill-color);\n    box-shadow: none;\n  }\n\n  .colab-df-spinner {\n    border: 2px solid var(--fill-color);\n    border-color: transparent;\n    border-bottom-color: var(--fill-color);\n    animation:\n      spin 1s steps(1) infinite;\n  }\n\n  @keyframes spin {\n    0% {\n      border-color: transparent;\n      border-bottom-color: var(--fill-color);\n      border-left-color: var(--fill-color);\n    }\n    20% {\n      border-color: transparent;\n      border-left-color: var(--fill-color);\n      border-top-color: var(--fill-color);\n    }\n    30% {\n      border-color: transparent;\n      border-left-color: var(--fill-color);\n      border-top-color: var(--fill-color);\n      border-right-color: var(--fill-color);\n    }\n    40% {\n      border-color: transparent;\n      border-right-color: var(--fill-color);\n      border-top-color: var(--fill-color);\n    }\n    60% {\n      border-color: transparent;\n      border-right-color: var(--fill-color);\n    }\n    80% {\n      border-color: transparent;\n      border-right-color: var(--fill-color);\n      border-bottom-color: var(--fill-color);\n    }\n    90% {\n      border-color: transparent;\n      border-bottom-color: var(--fill-color);\n    }\n  }\n</style>\n\n  <script>\n    async function quickchart(key) {\n      const quickchartButtonEl =\n        document.querySelector('#' + key + ' button');\n      quickchartButtonEl.disabled = true;  // To prevent multiple clicks.\n      quickchartButtonEl.classList.add('colab-df-spinner');\n      try {\n        const charts = await google.colab.kernel.invokeFunction(\n            'suggestCharts', [key], {});\n      } catch (error) {\n        console.error('Error during call to suggestCharts:', error);\n      }\n      quickchartButtonEl.classList.remove('colab-df-spinner');\n      quickchartButtonEl.classList.add('colab-df-quickchart-complete');\n    }\n    (() => {\n      let quickchartButtonEl =\n        document.querySelector('#df-256a5299-ca57-4996-87de-a4f923627ac2 button');\n      quickchartButtonEl.style.display =\n        google.colab.kernel.accessAllowed ? 'block' : 'none';\n    })();\n  </script>\n</div>`;\n        parentElement.appendChild(quickchartButtonContainerElement);\n      }\n\n      appendQuickchartButton(table);\n    "
          },
          "metadata": {},
          "execution_count": 7
        }
      ]
    },
    {
      "cell_type": "markdown",
      "source": [
        "### 1. Clean DataFrame"
      ],
      "metadata": {
        "id": "XeZER4vphko8"
      }
    },
    {
      "cell_type": "code",
      "source": [
        "df = df.drop_duplicates()\n",
        "df = df.dropna()\n",
        "print(f\"Total number of jobs after cleaning: {df.shape[0]}\")\n",
        "print(f\"Number of jobs removed: {og_shape - df.shape[0]}\")"
      ],
      "metadata": {
        "id": "8o_yJHHVhoMk",
        "colab": {
          "base_uri": "https://localhost:8080/"
        },
        "outputId": "e1d27c1c-50ec-4ad4-b098-9e175a165577"
      },
      "execution_count": 8,
      "outputs": [
        {
          "output_type": "stream",
          "name": "stdout",
          "text": [
            "Total number of jobs after cleaning: 2270\n",
            "Number of jobs removed: 278\n"
          ]
        }
      ]
    },
    {
      "cell_type": "markdown",
      "source": [
        "### 2. Remove Salary Information from Description"
      ],
      "metadata": {
        "id": "Y5qepMUmZzkq"
      }
    },
    {
      "cell_type": "code",
      "source": [
        "def remove_salary(text):\n",
        "  doc = nlp(text)\n",
        "  filtered_sents = [sent.text for sent in doc.sents if \"$\" not in sent.text]\n",
        "  filtered_text = \" \".join(filtered_sents)\n",
        "\n",
        "  return filtered_text"
      ],
      "metadata": {
        "id": "uYo-R4uWZ2bO"
      },
      "execution_count": 9,
      "outputs": []
    },
    {
      "cell_type": "code",
      "source": [
        "# Apply the function to the 'description' column\n",
        "df['description'] = df['description'].apply(remove_salary)\n",
        "df.head(1)"
      ],
      "metadata": {
        "colab": {
          "base_uri": "https://localhost:8080/",
          "height": 593
        },
        "id": "tzWtBZ96eXEA",
        "outputId": "fb1baeb3-6949-4dc8-b5e2-c0dfd4c24edb"
      },
      "execution_count": 10,
      "outputs": [
        {
          "output_type": "execute_result",
          "data": {
            "text/plain": [
              "                                               title company_name  \\\n",
              "0  Electrical Engineering: Opportunities for Univ...    Microsoft   \n",
              "\n",
              "                               location                         pay  \\\n",
              "0  One Microsoft Way, Redmond, WA 98052  $76,400 - $151,800 por año   \n",
              "\n",
              "    job_type                                        description  \n",
              "0  Full-time  Come build community, explore your passions an...  "
            ],
            "text/html": [
              "\n",
              "  <div id=\"df-6121c69f-c7dd-457e-9894-98146e593f20\" class=\"colab-df-container\">\n",
              "    <div>\n",
              "<style scoped>\n",
              "    .dataframe tbody tr th:only-of-type {\n",
              "        vertical-align: middle;\n",
              "    }\n",
              "\n",
              "    .dataframe tbody tr th {\n",
              "        vertical-align: top;\n",
              "    }\n",
              "\n",
              "    .dataframe thead th {\n",
              "        text-align: right;\n",
              "    }\n",
              "</style>\n",
              "<table border=\"1\" class=\"dataframe\">\n",
              "  <thead>\n",
              "    <tr style=\"text-align: right;\">\n",
              "      <th></th>\n",
              "      <th>title</th>\n",
              "      <th>company_name</th>\n",
              "      <th>location</th>\n",
              "      <th>pay</th>\n",
              "      <th>job_type</th>\n",
              "      <th>description</th>\n",
              "    </tr>\n",
              "  </thead>\n",
              "  <tbody>\n",
              "    <tr>\n",
              "      <th>0</th>\n",
              "      <td>Electrical Engineering: Opportunities for Univ...</td>\n",
              "      <td>Microsoft</td>\n",
              "      <td>One Microsoft Way, Redmond, WA 98052</td>\n",
              "      <td>$76,400 - $151,800 por año</td>\n",
              "      <td>Full-time</td>\n",
              "      <td>Come build community, explore your passions an...</td>\n",
              "    </tr>\n",
              "  </tbody>\n",
              "</table>\n",
              "</div>\n",
              "    <div class=\"colab-df-buttons\">\n",
              "\n",
              "  <div class=\"colab-df-container\">\n",
              "    <button class=\"colab-df-convert\" onclick=\"convertToInteractive('df-6121c69f-c7dd-457e-9894-98146e593f20')\"\n",
              "            title=\"Convert this dataframe to an interactive table.\"\n",
              "            style=\"display:none;\">\n",
              "\n",
              "  <svg xmlns=\"http://www.w3.org/2000/svg\" height=\"24px\" viewBox=\"0 -960 960 960\">\n",
              "    <path d=\"M120-120v-720h720v720H120Zm60-500h600v-160H180v160Zm220 220h160v-160H400v160Zm0 220h160v-160H400v160ZM180-400h160v-160H180v160Zm440 0h160v-160H620v160ZM180-180h160v-160H180v160Zm440 0h160v-160H620v160Z\"/>\n",
              "  </svg>\n",
              "    </button>\n",
              "\n",
              "  <style>\n",
              "    .colab-df-container {\n",
              "      display:flex;\n",
              "      gap: 12px;\n",
              "    }\n",
              "\n",
              "    .colab-df-convert {\n",
              "      background-color: #E8F0FE;\n",
              "      border: none;\n",
              "      border-radius: 50%;\n",
              "      cursor: pointer;\n",
              "      display: none;\n",
              "      fill: #1967D2;\n",
              "      height: 32px;\n",
              "      padding: 0 0 0 0;\n",
              "      width: 32px;\n",
              "    }\n",
              "\n",
              "    .colab-df-convert:hover {\n",
              "      background-color: #E2EBFA;\n",
              "      box-shadow: 0px 1px 2px rgba(60, 64, 67, 0.3), 0px 1px 3px 1px rgba(60, 64, 67, 0.15);\n",
              "      fill: #174EA6;\n",
              "    }\n",
              "\n",
              "    .colab-df-buttons div {\n",
              "      margin-bottom: 4px;\n",
              "    }\n",
              "\n",
              "    [theme=dark] .colab-df-convert {\n",
              "      background-color: #3B4455;\n",
              "      fill: #D2E3FC;\n",
              "    }\n",
              "\n",
              "    [theme=dark] .colab-df-convert:hover {\n",
              "      background-color: #434B5C;\n",
              "      box-shadow: 0px 1px 3px 1px rgba(0, 0, 0, 0.15);\n",
              "      filter: drop-shadow(0px 1px 2px rgba(0, 0, 0, 0.3));\n",
              "      fill: #FFFFFF;\n",
              "    }\n",
              "  </style>\n",
              "\n",
              "    <script>\n",
              "      const buttonEl =\n",
              "        document.querySelector('#df-6121c69f-c7dd-457e-9894-98146e593f20 button.colab-df-convert');\n",
              "      buttonEl.style.display =\n",
              "        google.colab.kernel.accessAllowed ? 'block' : 'none';\n",
              "\n",
              "      async function convertToInteractive(key) {\n",
              "        const element = document.querySelector('#df-6121c69f-c7dd-457e-9894-98146e593f20');\n",
              "        const dataTable =\n",
              "          await google.colab.kernel.invokeFunction('convertToInteractive',\n",
              "                                                    [key], {});\n",
              "        if (!dataTable) return;\n",
              "\n",
              "        const docLinkHtml = 'Like what you see? Visit the ' +\n",
              "          '<a target=\"_blank\" href=https://colab.research.google.com/notebooks/data_table.ipynb>data table notebook</a>'\n",
              "          + ' to learn more about interactive tables.';\n",
              "        element.innerHTML = '';\n",
              "        dataTable['output_type'] = 'display_data';\n",
              "        await google.colab.output.renderOutput(dataTable, element);\n",
              "        const docLink = document.createElement('div');\n",
              "        docLink.innerHTML = docLinkHtml;\n",
              "        element.appendChild(docLink);\n",
              "      }\n",
              "    </script>\n",
              "  </div>\n",
              "\n",
              "    </div>\n",
              "  </div>\n"
            ],
            "application/vnd.google.colaboratory.intrinsic+json": {
              "type": "dataframe",
              "variable_name": "df",
              "summary": "{\n  \"name\": \"df\",\n  \"rows\": 2270,\n  \"fields\": [\n    {\n      \"column\": \"title\",\n      \"properties\": {\n        \"dtype\": \"string\",\n        \"num_unique_values\": 1957,\n        \"samples\": [\n          \"Bilingual Inbound Sales Associate-Remote\",\n          \"Marketing Manager, Amazon\",\n          \"Senior Human Resources Analyst\"\n        ],\n        \"semantic_type\": \"\",\n        \"description\": \"\"\n      }\n    },\n    {\n      \"column\": \"company_name\",\n      \"properties\": {\n        \"dtype\": \"string\",\n        \"num_unique_values\": 1164,\n        \"samples\": [\n          \"Proteus Discovery Group\",\n          \"Trane Technologies\",\n          \"Holland & Knight LLP\"\n        ],\n        \"semantic_type\": \"\",\n        \"description\": \"\"\n      }\n    },\n    {\n      \"column\": \"location\",\n      \"properties\": {\n        \"dtype\": \"category\",\n        \"num_unique_values\": 841,\n        \"samples\": [\n          \"Princeton, NJ\",\n          \"520 8th Ave, New York, NY 10018\",\n          \"Kenilworth, NJ 07033\"\n        ],\n        \"semantic_type\": \"\",\n        \"description\": \"\"\n      }\n    },\n    {\n      \"column\": \"pay\",\n      \"properties\": {\n        \"dtype\": \"string\",\n        \"num_unique_values\": 1598,\n        \"samples\": [\n          \"$70,000 - $160,000 por a\\u00f1o\",\n          \"$60,466 - $132,000 por a\\u00f1o\",\n          \"$177,688 - $266,000 por a\\u00f1o\"\n        ],\n        \"semantic_type\": \"\",\n        \"description\": \"\"\n      }\n    },\n    {\n      \"column\": \"job_type\",\n      \"properties\": {\n        \"dtype\": \"category\",\n        \"num_unique_values\": 11,\n        \"samples\": [\n          \"Permanent\",\n          \"Full-time\",\n          \"Apprenticeship\"\n        ],\n        \"semantic_type\": \"\",\n        \"description\": \"\"\n      }\n    },\n    {\n      \"column\": \"description\",\n      \"properties\": {\n        \"dtype\": \"string\",\n        \"num_unique_values\": 2259,\n        \"samples\": [\n          \"Nintendo of America Inc.\\n The worldwide pioneer in the creation of interactive entertainment, Nintendo Co., Ltd., of Kyoto, Japan, manufactures and markets hardware and software for its Nintendo Switch\\u2122 system and the Nintendo 3DS\\u2122 family of portable systems. Since 1983, when it launched the Nintendo Entertainment System\\u2122, Nintendo has sold more than 4.7 billion video games and more than 740 million hardware units globally, including Nintendo Switch and the Nintendo 3DS family of systems, as well as the Game Boy\\u2122, Game Boy Advance, Nintendo DS\\u2122 family of systems, Super NES\\u2122, Nintendo 64\\u2122, Nintendo GameCube\\u2122, Wii\\u2122 and Wii U\\u2122 systems. It has also created industry icons that have become well-known, household names, such as Mario, Donkey Kong, Metroid, Zelda and Pok\\u00e9mon. A wholly owned subsidiary, Nintendo of America Inc., based in Redmond, Wash., serves as headquarters for Nintendo\\u2019s operations in the Americas. For more information about Nintendo, please visit the company\\u2019s website at http://www.nintendo.com .\\n ** This is a CONTRACT position\\nDESCRIPTION OF DUTIES:\\nPerforms legal tasks within the specialty area under the direction of supervisor/attorney and the Program Manager, Marketing Legal Review\\nCoordinates the legal review and approval of Nintendo advertising, marketing materials, promotional materials, and other consumer facing communications, including, press releases, online materials, TV ads, print materials, packaging, POP, etc.\\n Drafts and advises business teams on basic legal documents, correspondence, forms, and reports\\nOrganizes and maintains databases and files\\nMaintains direct communication with internal business teams regarding contract and clearance matters\\nProvides regular updates to management, attorneys, and the business about the status of contracts, renewals, and related matters, as well as creative review matters\\nPursues and maintains most current knowledge of company business and technology\\nAssists with the development of reports and presentations about specialty areas\\nProvides administrative support as needed\\n\\nSUMMARY OR REQUIREMENTS:\\nMinimum of one year of related work experience\\nStrong organizational and project management skills\\nExcellent written, verbal, and interpersonal skills\\nAbility to work in a fast paced environment with fluctuating priorities and deadlines\\nKnowledge of Nintendo products preferred\\n* * This is a CONTRACT position\\nApplicants must be legally eligible to work in the United States to be considered. Visa sponsorship not available for this role.\\n This position is hybrid in Redmond, WA. Hybrid positions require regular onsite work following the schedule and guidelines for their division. This position is not open to fully remote status at this time.\\n Agency benefits may include medical, dental and vision, 401(k), basic/supplemental life and AD&D insurance, short- and long-term disability insurance, health and dependent care spending accounts, transportation benefits, employee assistance program, paid sick leave, and up to 6 paid holidays per year. All benefits are subject to elections, eligibility requirements, plan and program terms. Benefits offerings will be confirmed at the time of offer by the employing agency, and may differ depending on the employing agency partner.\\n #LI-Hybrid\",\n          \"Are you interested in a start-up like environment, passionate about Cloud Computing technology and driving growth in one of Microsoft\\u2019s core businesses? Do you aspire to be part of a team relentlessly focused on customer needs, market expansion and advancing Microsoft Cloud\\u2019s first strategy? If yes, look no further than the CO+I Team.\\n We offer engaging and motivating work where you\\u2019ll be empowered to make an impact. You will have the independence and hybrid working flexibility you need. An astute and diverse work culture is at the core of our team and broader group. We are an international team, passionate about life-long learning, that believe in data-based decision making to identify and solve problems. We take a holistic approach to problem solving and are believers of collaborations to harness our diverse experience, and capabilities to deliver impact.\\n Customers and analysts recognize Azure\\u2019s tremendous momentum which continues month over month. To help customers achieve their goals, Azure continues to build the largest global footprint of any Cloud provider. The CO+I IPA Long-Range Planning Data Science team delivers Microsoft\\u2019s Long Range Infrastructure plan using state of the art econometric/ML models, risk simulations and business intelligence. We are hiring an exceptional Data Scientist to focus on creating cutting edge econometric/ ML demand and capacity need models with focus on MSFT AI offerings. This Applied Sciences II position will focus specifically on the GPU forecasting to support the AI needs for Microsoft and OpenAI. Additionally, they will have to be able to leverage their software engineering skills to connect to various upstream and downstream systems ensuring the forecasting plan matches the execution.\\n\\n Other \\u00b7 Embody our culture and values\\nResponsibilities\\nApply their expertise in quantitative analysis, data mining, and the presentation of data to develop econometric/ ML models\\nConnect to and build APIs for turning data science models into a full production system\\nUnderstand fundamental business dynamics impacting demand, and develop automated statistical solutions for forecasting\\nAbility to develop E2E models in R/ Python \\u2013 including data manipulation, model building and business applications\\nQualifications\\nRequired Qualifications:\\n\\nBachelor's Degree in Statistics, Econometrics, Computer Science, Electrical or Computer Engineering, or related field AND 2+ years related experience (e.g., statistics, predictive analytics, research)\\no OR Master's Degree in Statistics, Econometrics, Computer Science, Electrical or Computer Engineering, or related field AND 1+ year(s) related experience (e.g., statistics, predictive analytics, research)\\no OR Doctorate in Statistics, Econometrics, Computer Science, Electrical or Computer Engineering, or related field\\no OR equivalent experience.\\n\\n Other Requirements:\\n\\nAbility to meet Microsoft, customer and/or government security screening requirements are required for this role. These requirements include, but are not limited to the following specialized security screenings:\\nMicrosoft Cloud Background Check: This position will be required to pass the Microsoft Cloud background check upon hire/transfer and every two years thereafter.\\n\\n Certain roles may be eligible for benefits and other compensation. Find additional benefits and pay information here: https://careers.microsoft.com/us/en/us-corporate-pay\\n\\n#IPACareers\\n#COICareers\\nMicrosoft is an equal opportunity employer. Consistent with applicable law, all qualified applicants will receive consideration for employment without regard to age, ancestry, citizenship, color, family or medical care leave, gender identity or expression, genetic information, immigration status, marital status, medical condition, national origin, physical or mental disability, political affiliation, protected veteran or military status, race, ethnicity, religion, sex (including pregnancy), sexual orientation, or any other characteristic protected by applicable local laws, regulations and ordinances. If you need assistance and/or a reasonable accommodation due to a disability during the application process, read more about requesting accommodations.\",\n          \"Why join Stryker?\\nWe are proud to be named one of the World\\u2019s Best Workplaces and a Best Workplace for Diversity by Fortune Magazine! Learn more about our award-winning organization by visiting stryker.com\\n\\nAs the Manager, Data Science and Applications, you will manage delivery of data science and light weight application solutions that improve business outcomes through process optimization and insight prediction related to our US Customer Intelligence function at Stryker.\\n Who we want\\nEffective communicators. People who can interpret information clearly and accurately to concisely communicate results and recommendations to stakeholders, senior management, and their teams.\\n Subject matter experts. Managers who not only oversee the collection, review, and analysis of data but can interpret, translate, and present on all various matters as needed.\\n Network builders. Managers who build connections with other teams and divisions and coordinate cross-functional collaboration.\\n What you will do\\nDevelop talent and provide project leadership in the team's day-to-day project portfolio.\\nLead and develop a team of data science and app development professionals while providing technical and project leadership in the team's day-to-day project portfolios.\\n Demonstrate financial acumen to develop financial impacts for existing projects and evaluating new opportunities.\\n Orchestrate collaboration with Stryker enterprise functions to leverage domain expertise and capabilities and identify areas of opportunity.\\n Lead change management and navigate pushback from the business\\nLead discussions with data scientists and business stakeholders to identify opportunities where relevant concepts can be applied to real-world business opportunities.\\n Mentor and coach seasoned data science and app development colleagues in developing their skills in the same.\\n Demonstrate creative ability to recommend visualizations of data that empower key business stakeholders more easily interpret complex information and quickly identify key insights they can trust.\\n Orchestrate presentations and communications through effective conveying of complex analyses up to the leadership level.\\n Mentor and influence in solving and correction of complex issues.\\n What you need\\nBachelor's Degree in data science, computer science, mathematics, statistics, or related field with applicable data science work experience.\\n 8+ years of work experience required.\\n 2+ years of people leadership experience preferred.\\n Master's Degree or higher in related discipline preferred.\\n Experience with project management specifically scrum and agile frameworks required.\\n Experience in software development lifecycle concepts, tools, best practices.\\n Experience leading peers through end-to-end data science and app development projects: from problem and requirements definition to model/algorithm validation and deployment.\\n Proficiency in object-oriented programming and data structures required.\\n Proficiency in at least one programming language central to AI/Data Science or app development (e.g. Python, R, Scala, Spark, R Shiny, etc) or skills in at least two programming languages required.\\n Experience in at least one statistical technique (e.g. time series modelling, classification, computer vision) or experience in at least two techniques required.\\n Actual minimum and maximum may vary based on location. Individual pay is based on skills, experience, and other relevant factors.\\n About Stryker\\nOur benefits:\\n\\n12 paid holidays annually\\nHealth benefits include: Medical and prescription drug insurance, dental insurance, vision insurance, critical illness insurance, accident insurance, hospital indemnity insurance, personalized healthcare support, wellbeing program and tobacco cessation program.\\n Financial benefits include Health Savings Account (HSA), Flexible Spending Accounts (FSAs), 401(k) plan, Employee Stock Purchase Plan (ESPP), basic life and AD&D insurance, and short-term disability insurance.\\n For a more detailed overview of our benefits or time off, please follow this link to learn more: US Stryker employee benefits\\n\\nAbout Stryker\\nStryker is a global leader in medical technologies and, together with its customers, is driven to make healthcare better. The company offers innovative products and services in MedSurg, Neurotechnology, Orthopaedics and Spine that help improve patient and healthcare outcomes. Alongside its customers around the world, Stryker impacts more than 130 million patients annually. More information is available at stryker.com.\\n\\n Know someone at Stryker?\\nBe sure to have them submit you as a referral prior to applying for this position. Learn more about our employee referral program on our referral page\\n\\nStryker is driven to work together with our customers to make healthcare better. Employees and new hires in sales and field roles that require access to customer accounts as a function of the job may be required, depending on customer requirements, to obtain various vaccinations as an essential function of their role.\"\n        ],\n        \"semantic_type\": \"\",\n        \"description\": \"\"\n      }\n    }\n  ]\n}"
            },
            "application/vnd.google.colaboratory.module+javascript": "\n      import \"https://ssl.gstatic.com/colaboratory/data_table/881c4a0d49046431/data_table.js\";\n\n      const table = window.createDataTable({\n        data: [[{\n            'v': 0,\n            'f': \"0\",\n        },\n\"Electrical Engineering: Opportunities for University Graduates\",\n\"Microsoft\",\n\"One Microsoft Way, Redmond, WA 98052\",\n\"$76,400 - $151,800 por a\\u00f1o\",\n\"Full-time\",\n\"Come build community, explore your passions and do your best work at Microsoft with thousands of University students from every corner of the world. This opportunity will allow you to bring your aspirations, talent, potential\\u2014and excitement for the journey ahead.\\n\\n As an Electrical Engineer at Microsoft, you will design, develop, modify, and evaluate components used in electronic devices that involve the manipulation, transmission, and storage of electricity. Define design approaches, implementation schedules, technical specifications, and parameters for devices. You will partake in selecting materials and components based on analysis of specifications and reliability. This opportunity will allow you to develop test plans and direct support personnel, or other engineers, in the preparation and execution of design testing or prototype fabrication.\\n\\n Those hired into this role are invited to participate in the Microsoft Aspire Experience, a two-year learning and development program in which you'll build your network, cultivate intentional capabilities, and gain perspective into the career opportunities across Microsoft\\u2019s many exciting businesses.\\n\\n Microsoft\\u2019s mission is to empower every person and every organization on the planet to achieve more. As employees we come together with a growth mindset, innovate to empower others, and collaborate to realize our shared goals. Each day we build on our values of respect, integrity, and accountability to create a culture of inclusion where everyone can thrive at work and beyond.\\n\\nResponsibilities\\nDevelops design documentation for well-defined features and review supplier or partner technical sheets. You\\u2019ll also analyze data analyses to identify common flaws in feature or product designs.\\n Ensures documentation includes test requirements, determine appropriate test equipment, and carry out test plans on standard features or products.\\n Collect data for external testing, as well as help develop test fixtures for new feature testing and validation.\\n Implementates schedules for a feature or product while highlighting potential downstream issues. You\\u2019ll also help implement risk assessments and communicate progress within the team.\\n Creates detailed reports for a product feature or extension. This will include documenting essential details and accurate recording and tracking design changes with guidance.\\n Qualifications\\nRequired Qualifications\\nRecently completed a Bachelor's degree in Electrical Engineering, Computer Engineering, or related field.\\n 3+ months related technical engineering experience or internship experience\\n\\nElectrical Engineering IC2 - Certain roles may be eligible for benefits and other compensation. Find additional benefits and pay information here: https://careers.microsoft.com/us/en/us-corporate-pay\\n\\nMicrosoft accepts applications and processes offers for these roles on an ongoing basis throughout the academic calendar (September \\u2013 April).\\n\\n Microsoft is an equal opportunity employer. Consistent with applicable law, all qualified applicants will receive consideration for employment without regard to age, ancestry, citizenship, color, family or medical care leave, gender identity or expression, genetic information, immigration status, marital status, medical condition, national origin, physical or mental disability, political affiliation, protected veteran or military status, race, ethnicity, religion, sex (including pregnancy), sexual orientation, or any other characteristic protected by applicable local laws, regulations and ordinances. If you need assistance and/or a reasonable accommodation due to a disability during the application process, read more about requesting accommodations.\"]],\n        columns: [[\"number\", \"index\"], [\"string\", \"title\"], [\"string\", \"company_name\"], [\"string\", \"location\"], [\"string\", \"pay\"], [\"string\", \"job_type\"], [\"string\", \"description\"]],\n        columnOptions: [{\"width\": \"1px\", \"className\": \"index_column\"}],\n        rowsPerPage: 25,\n        helpUrl: \"https://colab.research.google.com/notebooks/data_table.ipynb\",\n        suppressOutputScrolling: true,\n        minimumWidth: undefined,\n      });\n\n      function appendQuickchartButton(parentElement) {\n        let quickchartButtonContainerElement = document.createElement('div');\n        quickchartButtonContainerElement.innerHTML = `\n<div id=\"df-bdb44b0b-1e3d-4288-b589-3d57571f6a0a\">\n  <button class=\"colab-df-quickchart\" onclick=\"quickchart('df-bdb44b0b-1e3d-4288-b589-3d57571f6a0a')\"\n            title=\"Suggest charts\"\n            style=\"display:none;\">\n    \n<svg xmlns=\"http://www.w3.org/2000/svg\" height=\"24px\"viewBox=\"0 0 24 24\"\n     width=\"24px\">\n    <g>\n        <path d=\"M19 3H5c-1.1 0-2 .9-2 2v14c0 1.1.9 2 2 2h14c1.1 0 2-.9 2-2V5c0-1.1-.9-2-2-2zM9 17H7v-7h2v7zm4 0h-2V7h2v10zm4 0h-2v-4h2v4z\"/>\n    </g>\n</svg>\n  </button>\n  \n<style>\n  .colab-df-quickchart {\n      --bg-color: #E8F0FE;\n      --fill-color: #1967D2;\n      --hover-bg-color: #E2EBFA;\n      --hover-fill-color: #174EA6;\n      --disabled-fill-color: #AAA;\n      --disabled-bg-color: #DDD;\n  }\n\n  [theme=dark] .colab-df-quickchart {\n      --bg-color: #3B4455;\n      --fill-color: #D2E3FC;\n      --hover-bg-color: #434B5C;\n      --hover-fill-color: #FFFFFF;\n      --disabled-bg-color: #3B4455;\n      --disabled-fill-color: #666;\n  }\n\n  .colab-df-quickchart {\n    background-color: var(--bg-color);\n    border: none;\n    border-radius: 50%;\n    cursor: pointer;\n    display: none;\n    fill: var(--fill-color);\n    height: 32px;\n    padding: 0;\n    width: 32px;\n  }\n\n  .colab-df-quickchart:hover {\n    background-color: var(--hover-bg-color);\n    box-shadow: 0 1px 2px rgba(60, 64, 67, 0.3), 0 1px 3px 1px rgba(60, 64, 67, 0.15);\n    fill: var(--button-hover-fill-color);\n  }\n\n  .colab-df-quickchart-complete:disabled,\n  .colab-df-quickchart-complete:disabled:hover {\n    background-color: var(--disabled-bg-color);\n    fill: var(--disabled-fill-color);\n    box-shadow: none;\n  }\n\n  .colab-df-spinner {\n    border: 2px solid var(--fill-color);\n    border-color: transparent;\n    border-bottom-color: var(--fill-color);\n    animation:\n      spin 1s steps(1) infinite;\n  }\n\n  @keyframes spin {\n    0% {\n      border-color: transparent;\n      border-bottom-color: var(--fill-color);\n      border-left-color: var(--fill-color);\n    }\n    20% {\n      border-color: transparent;\n      border-left-color: var(--fill-color);\n      border-top-color: var(--fill-color);\n    }\n    30% {\n      border-color: transparent;\n      border-left-color: var(--fill-color);\n      border-top-color: var(--fill-color);\n      border-right-color: var(--fill-color);\n    }\n    40% {\n      border-color: transparent;\n      border-right-color: var(--fill-color);\n      border-top-color: var(--fill-color);\n    }\n    60% {\n      border-color: transparent;\n      border-right-color: var(--fill-color);\n    }\n    80% {\n      border-color: transparent;\n      border-right-color: var(--fill-color);\n      border-bottom-color: var(--fill-color);\n    }\n    90% {\n      border-color: transparent;\n      border-bottom-color: var(--fill-color);\n    }\n  }\n</style>\n\n  <script>\n    async function quickchart(key) {\n      const quickchartButtonEl =\n        document.querySelector('#' + key + ' button');\n      quickchartButtonEl.disabled = true;  // To prevent multiple clicks.\n      quickchartButtonEl.classList.add('colab-df-spinner');\n      try {\n        const charts = await google.colab.kernel.invokeFunction(\n            'suggestCharts', [key], {});\n      } catch (error) {\n        console.error('Error during call to suggestCharts:', error);\n      }\n      quickchartButtonEl.classList.remove('colab-df-spinner');\n      quickchartButtonEl.classList.add('colab-df-quickchart-complete');\n    }\n    (() => {\n      let quickchartButtonEl =\n        document.querySelector('#df-bdb44b0b-1e3d-4288-b589-3d57571f6a0a button');\n      quickchartButtonEl.style.display =\n        google.colab.kernel.accessAllowed ? 'block' : 'none';\n    })();\n  </script>\n</div>`;\n        parentElement.appendChild(quickchartButtonContainerElement);\n      }\n\n      appendQuickchartButton(table);\n    "
          },
          "metadata": {},
          "execution_count": 10
        }
      ]
    },
    {
      "cell_type": "markdown",
      "source": [
        "### 3. Salary/hour to Salary/year and Create Target Columns"
      ],
      "metadata": {
        "id": "9Aro_tTQaEgy"
      }
    },
    {
      "cell_type": "code",
      "source": [
        "def process_salary(text):\n",
        "  hours_week = 40 # Assume typical working schedule\n",
        "  weeks_year = 52\n",
        "  days_week = 5\n",
        "\n",
        "  doc = nlp(text.lower())\n",
        "  texts = [token.text for token in doc]\n",
        "  digits = [float(token.text.replace(',','')) for token in doc if token.text.replace(',', '').replace('.','').isdigit()]\n",
        "\n",
        "  min = np.min(digits)\n",
        "  max = np.max(digits)\n",
        "\n",
        "  if 'hora' in texts: # Convert to salary per year\n",
        "    min *= hours_week * weeks_year\n",
        "    max *= hours_week * weeks_year\n",
        "\n",
        "  elif 'mes' in texts: # Convert to salary per year\n",
        "    min *= 12\n",
        "    max *= 12\n",
        "\n",
        "  elif 'semana' in texts: # Convert to salary per year\n",
        "    min *= 52\n",
        "    max *= 52\n",
        "\n",
        "  elif 'dia' in texts or 'día' in texts: # Convert to salary per year\n",
        "    min *= days_week * weeks_year\n",
        "    max *= days_week * weeks_year\n",
        "\n",
        "  return np.mean([min, max])"
      ],
      "metadata": {
        "id": "PNW6rXRZaKFQ"
      },
      "execution_count": 11,
      "outputs": []
    },
    {
      "cell_type": "code",
      "source": [
        "df['avg_pay'] = df['pay'].map(process_salary)\n",
        "df.head(1)"
      ],
      "metadata": {
        "colab": {
          "base_uri": "https://localhost:8080/",
          "height": 642
        },
        "id": "O_BlfVFLn_Zq",
        "outputId": "f7056093-4f78-40af-8d90-76da8b15fce8"
      },
      "execution_count": 12,
      "outputs": [
        {
          "output_type": "execute_result",
          "data": {
            "text/plain": [
              "                                               title company_name  \\\n",
              "0  Electrical Engineering: Opportunities for Univ...    Microsoft   \n",
              "\n",
              "                               location                         pay  \\\n",
              "0  One Microsoft Way, Redmond, WA 98052  $76,400 - $151,800 por año   \n",
              "\n",
              "    job_type                                        description   avg_pay  \n",
              "0  Full-time  Come build community, explore your passions an...  114100.0  "
            ],
            "text/html": [
              "\n",
              "  <div id=\"df-d3ed5890-d120-4da7-a8dd-02d96b58056c\" class=\"colab-df-container\">\n",
              "    <div>\n",
              "<style scoped>\n",
              "    .dataframe tbody tr th:only-of-type {\n",
              "        vertical-align: middle;\n",
              "    }\n",
              "\n",
              "    .dataframe tbody tr th {\n",
              "        vertical-align: top;\n",
              "    }\n",
              "\n",
              "    .dataframe thead th {\n",
              "        text-align: right;\n",
              "    }\n",
              "</style>\n",
              "<table border=\"1\" class=\"dataframe\">\n",
              "  <thead>\n",
              "    <tr style=\"text-align: right;\">\n",
              "      <th></th>\n",
              "      <th>title</th>\n",
              "      <th>company_name</th>\n",
              "      <th>location</th>\n",
              "      <th>pay</th>\n",
              "      <th>job_type</th>\n",
              "      <th>description</th>\n",
              "      <th>avg_pay</th>\n",
              "    </tr>\n",
              "  </thead>\n",
              "  <tbody>\n",
              "    <tr>\n",
              "      <th>0</th>\n",
              "      <td>Electrical Engineering: Opportunities for Univ...</td>\n",
              "      <td>Microsoft</td>\n",
              "      <td>One Microsoft Way, Redmond, WA 98052</td>\n",
              "      <td>$76,400 - $151,800 por año</td>\n",
              "      <td>Full-time</td>\n",
              "      <td>Come build community, explore your passions an...</td>\n",
              "      <td>114100.0</td>\n",
              "    </tr>\n",
              "  </tbody>\n",
              "</table>\n",
              "</div>\n",
              "    <div class=\"colab-df-buttons\">\n",
              "\n",
              "  <div class=\"colab-df-container\">\n",
              "    <button class=\"colab-df-convert\" onclick=\"convertToInteractive('df-d3ed5890-d120-4da7-a8dd-02d96b58056c')\"\n",
              "            title=\"Convert this dataframe to an interactive table.\"\n",
              "            style=\"display:none;\">\n",
              "\n",
              "  <svg xmlns=\"http://www.w3.org/2000/svg\" height=\"24px\" viewBox=\"0 -960 960 960\">\n",
              "    <path d=\"M120-120v-720h720v720H120Zm60-500h600v-160H180v160Zm220 220h160v-160H400v160Zm0 220h160v-160H400v160ZM180-400h160v-160H180v160Zm440 0h160v-160H620v160ZM180-180h160v-160H180v160Zm440 0h160v-160H620v160Z\"/>\n",
              "  </svg>\n",
              "    </button>\n",
              "\n",
              "  <style>\n",
              "    .colab-df-container {\n",
              "      display:flex;\n",
              "      gap: 12px;\n",
              "    }\n",
              "\n",
              "    .colab-df-convert {\n",
              "      background-color: #E8F0FE;\n",
              "      border: none;\n",
              "      border-radius: 50%;\n",
              "      cursor: pointer;\n",
              "      display: none;\n",
              "      fill: #1967D2;\n",
              "      height: 32px;\n",
              "      padding: 0 0 0 0;\n",
              "      width: 32px;\n",
              "    }\n",
              "\n",
              "    .colab-df-convert:hover {\n",
              "      background-color: #E2EBFA;\n",
              "      box-shadow: 0px 1px 2px rgba(60, 64, 67, 0.3), 0px 1px 3px 1px rgba(60, 64, 67, 0.15);\n",
              "      fill: #174EA6;\n",
              "    }\n",
              "\n",
              "    .colab-df-buttons div {\n",
              "      margin-bottom: 4px;\n",
              "    }\n",
              "\n",
              "    [theme=dark] .colab-df-convert {\n",
              "      background-color: #3B4455;\n",
              "      fill: #D2E3FC;\n",
              "    }\n",
              "\n",
              "    [theme=dark] .colab-df-convert:hover {\n",
              "      background-color: #434B5C;\n",
              "      box-shadow: 0px 1px 3px 1px rgba(0, 0, 0, 0.15);\n",
              "      filter: drop-shadow(0px 1px 2px rgba(0, 0, 0, 0.3));\n",
              "      fill: #FFFFFF;\n",
              "    }\n",
              "  </style>\n",
              "\n",
              "    <script>\n",
              "      const buttonEl =\n",
              "        document.querySelector('#df-d3ed5890-d120-4da7-a8dd-02d96b58056c button.colab-df-convert');\n",
              "      buttonEl.style.display =\n",
              "        google.colab.kernel.accessAllowed ? 'block' : 'none';\n",
              "\n",
              "      async function convertToInteractive(key) {\n",
              "        const element = document.querySelector('#df-d3ed5890-d120-4da7-a8dd-02d96b58056c');\n",
              "        const dataTable =\n",
              "          await google.colab.kernel.invokeFunction('convertToInteractive',\n",
              "                                                    [key], {});\n",
              "        if (!dataTable) return;\n",
              "\n",
              "        const docLinkHtml = 'Like what you see? Visit the ' +\n",
              "          '<a target=\"_blank\" href=https://colab.research.google.com/notebooks/data_table.ipynb>data table notebook</a>'\n",
              "          + ' to learn more about interactive tables.';\n",
              "        element.innerHTML = '';\n",
              "        dataTable['output_type'] = 'display_data';\n",
              "        await google.colab.output.renderOutput(dataTable, element);\n",
              "        const docLink = document.createElement('div');\n",
              "        docLink.innerHTML = docLinkHtml;\n",
              "        element.appendChild(docLink);\n",
              "      }\n",
              "    </script>\n",
              "  </div>\n",
              "\n",
              "    </div>\n",
              "  </div>\n"
            ],
            "application/vnd.google.colaboratory.intrinsic+json": {
              "type": "dataframe",
              "variable_name": "df",
              "summary": "{\n  \"name\": \"df\",\n  \"rows\": 2270,\n  \"fields\": [\n    {\n      \"column\": \"title\",\n      \"properties\": {\n        \"dtype\": \"string\",\n        \"num_unique_values\": 1957,\n        \"samples\": [\n          \"Bilingual Inbound Sales Associate-Remote\",\n          \"Marketing Manager, Amazon\",\n          \"Senior Human Resources Analyst\"\n        ],\n        \"semantic_type\": \"\",\n        \"description\": \"\"\n      }\n    },\n    {\n      \"column\": \"company_name\",\n      \"properties\": {\n        \"dtype\": \"string\",\n        \"num_unique_values\": 1164,\n        \"samples\": [\n          \"Proteus Discovery Group\",\n          \"Trane Technologies\",\n          \"Holland & Knight LLP\"\n        ],\n        \"semantic_type\": \"\",\n        \"description\": \"\"\n      }\n    },\n    {\n      \"column\": \"location\",\n      \"properties\": {\n        \"dtype\": \"category\",\n        \"num_unique_values\": 841,\n        \"samples\": [\n          \"Princeton, NJ\",\n          \"520 8th Ave, New York, NY 10018\",\n          \"Kenilworth, NJ 07033\"\n        ],\n        \"semantic_type\": \"\",\n        \"description\": \"\"\n      }\n    },\n    {\n      \"column\": \"pay\",\n      \"properties\": {\n        \"dtype\": \"string\",\n        \"num_unique_values\": 1598,\n        \"samples\": [\n          \"$70,000 - $160,000 por a\\u00f1o\",\n          \"$60,466 - $132,000 por a\\u00f1o\",\n          \"$177,688 - $266,000 por a\\u00f1o\"\n        ],\n        \"semantic_type\": \"\",\n        \"description\": \"\"\n      }\n    },\n    {\n      \"column\": \"job_type\",\n      \"properties\": {\n        \"dtype\": \"category\",\n        \"num_unique_values\": 11,\n        \"samples\": [\n          \"Permanent\",\n          \"Full-time\",\n          \"Apprenticeship\"\n        ],\n        \"semantic_type\": \"\",\n        \"description\": \"\"\n      }\n    },\n    {\n      \"column\": \"description\",\n      \"properties\": {\n        \"dtype\": \"string\",\n        \"num_unique_values\": 2259,\n        \"samples\": [\n          \"Nintendo of America Inc.\\n The worldwide pioneer in the creation of interactive entertainment, Nintendo Co., Ltd., of Kyoto, Japan, manufactures and markets hardware and software for its Nintendo Switch\\u2122 system and the Nintendo 3DS\\u2122 family of portable systems. Since 1983, when it launched the Nintendo Entertainment System\\u2122, Nintendo has sold more than 4.7 billion video games and more than 740 million hardware units globally, including Nintendo Switch and the Nintendo 3DS family of systems, as well as the Game Boy\\u2122, Game Boy Advance, Nintendo DS\\u2122 family of systems, Super NES\\u2122, Nintendo 64\\u2122, Nintendo GameCube\\u2122, Wii\\u2122 and Wii U\\u2122 systems. It has also created industry icons that have become well-known, household names, such as Mario, Donkey Kong, Metroid, Zelda and Pok\\u00e9mon. A wholly owned subsidiary, Nintendo of America Inc., based in Redmond, Wash., serves as headquarters for Nintendo\\u2019s operations in the Americas. For more information about Nintendo, please visit the company\\u2019s website at http://www.nintendo.com .\\n ** This is a CONTRACT position\\nDESCRIPTION OF DUTIES:\\nPerforms legal tasks within the specialty area under the direction of supervisor/attorney and the Program Manager, Marketing Legal Review\\nCoordinates the legal review and approval of Nintendo advertising, marketing materials, promotional materials, and other consumer facing communications, including, press releases, online materials, TV ads, print materials, packaging, POP, etc.\\n Drafts and advises business teams on basic legal documents, correspondence, forms, and reports\\nOrganizes and maintains databases and files\\nMaintains direct communication with internal business teams regarding contract and clearance matters\\nProvides regular updates to management, attorneys, and the business about the status of contracts, renewals, and related matters, as well as creative review matters\\nPursues and maintains most current knowledge of company business and technology\\nAssists with the development of reports and presentations about specialty areas\\nProvides administrative support as needed\\n\\nSUMMARY OR REQUIREMENTS:\\nMinimum of one year of related work experience\\nStrong organizational and project management skills\\nExcellent written, verbal, and interpersonal skills\\nAbility to work in a fast paced environment with fluctuating priorities and deadlines\\nKnowledge of Nintendo products preferred\\n* * This is a CONTRACT position\\nApplicants must be legally eligible to work in the United States to be considered. Visa sponsorship not available for this role.\\n This position is hybrid in Redmond, WA. Hybrid positions require regular onsite work following the schedule and guidelines for their division. This position is not open to fully remote status at this time.\\n Agency benefits may include medical, dental and vision, 401(k), basic/supplemental life and AD&D insurance, short- and long-term disability insurance, health and dependent care spending accounts, transportation benefits, employee assistance program, paid sick leave, and up to 6 paid holidays per year. All benefits are subject to elections, eligibility requirements, plan and program terms. Benefits offerings will be confirmed at the time of offer by the employing agency, and may differ depending on the employing agency partner.\\n #LI-Hybrid\",\n          \"Are you interested in a start-up like environment, passionate about Cloud Computing technology and driving growth in one of Microsoft\\u2019s core businesses? Do you aspire to be part of a team relentlessly focused on customer needs, market expansion and advancing Microsoft Cloud\\u2019s first strategy? If yes, look no further than the CO+I Team.\\n We offer engaging and motivating work where you\\u2019ll be empowered to make an impact. You will have the independence and hybrid working flexibility you need. An astute and diverse work culture is at the core of our team and broader group. We are an international team, passionate about life-long learning, that believe in data-based decision making to identify and solve problems. We take a holistic approach to problem solving and are believers of collaborations to harness our diverse experience, and capabilities to deliver impact.\\n Customers and analysts recognize Azure\\u2019s tremendous momentum which continues month over month. To help customers achieve their goals, Azure continues to build the largest global footprint of any Cloud provider. The CO+I IPA Long-Range Planning Data Science team delivers Microsoft\\u2019s Long Range Infrastructure plan using state of the art econometric/ML models, risk simulations and business intelligence. We are hiring an exceptional Data Scientist to focus on creating cutting edge econometric/ ML demand and capacity need models with focus on MSFT AI offerings. This Applied Sciences II position will focus specifically on the GPU forecasting to support the AI needs for Microsoft and OpenAI. Additionally, they will have to be able to leverage their software engineering skills to connect to various upstream and downstream systems ensuring the forecasting plan matches the execution.\\n\\n Other \\u00b7 Embody our culture and values\\nResponsibilities\\nApply their expertise in quantitative analysis, data mining, and the presentation of data to develop econometric/ ML models\\nConnect to and build APIs for turning data science models into a full production system\\nUnderstand fundamental business dynamics impacting demand, and develop automated statistical solutions for forecasting\\nAbility to develop E2E models in R/ Python \\u2013 including data manipulation, model building and business applications\\nQualifications\\nRequired Qualifications:\\n\\nBachelor's Degree in Statistics, Econometrics, Computer Science, Electrical or Computer Engineering, or related field AND 2+ years related experience (e.g., statistics, predictive analytics, research)\\no OR Master's Degree in Statistics, Econometrics, Computer Science, Electrical or Computer Engineering, or related field AND 1+ year(s) related experience (e.g., statistics, predictive analytics, research)\\no OR Doctorate in Statistics, Econometrics, Computer Science, Electrical or Computer Engineering, or related field\\no OR equivalent experience.\\n\\n Other Requirements:\\n\\nAbility to meet Microsoft, customer and/or government security screening requirements are required for this role. These requirements include, but are not limited to the following specialized security screenings:\\nMicrosoft Cloud Background Check: This position will be required to pass the Microsoft Cloud background check upon hire/transfer and every two years thereafter.\\n\\n Certain roles may be eligible for benefits and other compensation. Find additional benefits and pay information here: https://careers.microsoft.com/us/en/us-corporate-pay\\n\\n#IPACareers\\n#COICareers\\nMicrosoft is an equal opportunity employer. Consistent with applicable law, all qualified applicants will receive consideration for employment without regard to age, ancestry, citizenship, color, family or medical care leave, gender identity or expression, genetic information, immigration status, marital status, medical condition, national origin, physical or mental disability, political affiliation, protected veteran or military status, race, ethnicity, religion, sex (including pregnancy), sexual orientation, or any other characteristic protected by applicable local laws, regulations and ordinances. If you need assistance and/or a reasonable accommodation due to a disability during the application process, read more about requesting accommodations.\",\n          \"Why join Stryker?\\nWe are proud to be named one of the World\\u2019s Best Workplaces and a Best Workplace for Diversity by Fortune Magazine! Learn more about our award-winning organization by visiting stryker.com\\n\\nAs the Manager, Data Science and Applications, you will manage delivery of data science and light weight application solutions that improve business outcomes through process optimization and insight prediction related to our US Customer Intelligence function at Stryker.\\n Who we want\\nEffective communicators. People who can interpret information clearly and accurately to concisely communicate results and recommendations to stakeholders, senior management, and their teams.\\n Subject matter experts. Managers who not only oversee the collection, review, and analysis of data but can interpret, translate, and present on all various matters as needed.\\n Network builders. Managers who build connections with other teams and divisions and coordinate cross-functional collaboration.\\n What you will do\\nDevelop talent and provide project leadership in the team's day-to-day project portfolio.\\nLead and develop a team of data science and app development professionals while providing technical and project leadership in the team's day-to-day project portfolios.\\n Demonstrate financial acumen to develop financial impacts for existing projects and evaluating new opportunities.\\n Orchestrate collaboration with Stryker enterprise functions to leverage domain expertise and capabilities and identify areas of opportunity.\\n Lead change management and navigate pushback from the business\\nLead discussions with data scientists and business stakeholders to identify opportunities where relevant concepts can be applied to real-world business opportunities.\\n Mentor and coach seasoned data science and app development colleagues in developing their skills in the same.\\n Demonstrate creative ability to recommend visualizations of data that empower key business stakeholders more easily interpret complex information and quickly identify key insights they can trust.\\n Orchestrate presentations and communications through effective conveying of complex analyses up to the leadership level.\\n Mentor and influence in solving and correction of complex issues.\\n What you need\\nBachelor's Degree in data science, computer science, mathematics, statistics, or related field with applicable data science work experience.\\n 8+ years of work experience required.\\n 2+ years of people leadership experience preferred.\\n Master's Degree or higher in related discipline preferred.\\n Experience with project management specifically scrum and agile frameworks required.\\n Experience in software development lifecycle concepts, tools, best practices.\\n Experience leading peers through end-to-end data science and app development projects: from problem and requirements definition to model/algorithm validation and deployment.\\n Proficiency in object-oriented programming and data structures required.\\n Proficiency in at least one programming language central to AI/Data Science or app development (e.g. Python, R, Scala, Spark, R Shiny, etc) or skills in at least two programming languages required.\\n Experience in at least one statistical technique (e.g. time series modelling, classification, computer vision) or experience in at least two techniques required.\\n Actual minimum and maximum may vary based on location. Individual pay is based on skills, experience, and other relevant factors.\\n About Stryker\\nOur benefits:\\n\\n12 paid holidays annually\\nHealth benefits include: Medical and prescription drug insurance, dental insurance, vision insurance, critical illness insurance, accident insurance, hospital indemnity insurance, personalized healthcare support, wellbeing program and tobacco cessation program.\\n Financial benefits include Health Savings Account (HSA), Flexible Spending Accounts (FSAs), 401(k) plan, Employee Stock Purchase Plan (ESPP), basic life and AD&D insurance, and short-term disability insurance.\\n For a more detailed overview of our benefits or time off, please follow this link to learn more: US Stryker employee benefits\\n\\nAbout Stryker\\nStryker is a global leader in medical technologies and, together with its customers, is driven to make healthcare better. The company offers innovative products and services in MedSurg, Neurotechnology, Orthopaedics and Spine that help improve patient and healthcare outcomes. Alongside its customers around the world, Stryker impacts more than 130 million patients annually. More information is available at stryker.com.\\n\\n Know someone at Stryker?\\nBe sure to have them submit you as a referral prior to applying for this position. Learn more about our employee referral program on our referral page\\n\\nStryker is driven to work together with our customers to make healthcare better. Employees and new hires in sales and field roles that require access to customer accounts as a function of the job may be required, depending on customer requirements, to obtain various vaccinations as an essential function of their role.\"\n        ],\n        \"semantic_type\": \"\",\n        \"description\": \"\"\n      }\n    },\n    {\n      \"column\": \"avg_pay\",\n      \"properties\": {\n        \"dtype\": \"number\",\n        \"std\": 63449.777966302136,\n        \"min\": 27040.0,\n        \"max\": 750000.0,\n        \"num_unique_values\": 1224,\n        \"samples\": [\n          176800.0,\n          235450.0,\n          185800.0\n        ],\n        \"semantic_type\": \"\",\n        \"description\": \"\"\n      }\n    }\n  ]\n}"
            },
            "application/vnd.google.colaboratory.module+javascript": "\n      import \"https://ssl.gstatic.com/colaboratory/data_table/881c4a0d49046431/data_table.js\";\n\n      const table = window.createDataTable({\n        data: [[{\n            'v': 0,\n            'f': \"0\",\n        },\n\"Electrical Engineering: Opportunities for University Graduates\",\n\"Microsoft\",\n\"One Microsoft Way, Redmond, WA 98052\",\n\"$76,400 - $151,800 por a\\u00f1o\",\n\"Full-time\",\n\"Come build community, explore your passions and do your best work at Microsoft with thousands of University students from every corner of the world. This opportunity will allow you to bring your aspirations, talent, potential\\u2014and excitement for the journey ahead.\\n\\n As an Electrical Engineer at Microsoft, you will design, develop, modify, and evaluate components used in electronic devices that involve the manipulation, transmission, and storage of electricity. Define design approaches, implementation schedules, technical specifications, and parameters for devices. You will partake in selecting materials and components based on analysis of specifications and reliability. This opportunity will allow you to develop test plans and direct support personnel, or other engineers, in the preparation and execution of design testing or prototype fabrication.\\n\\n Those hired into this role are invited to participate in the Microsoft Aspire Experience, a two-year learning and development program in which you'll build your network, cultivate intentional capabilities, and gain perspective into the career opportunities across Microsoft\\u2019s many exciting businesses.\\n\\n Microsoft\\u2019s mission is to empower every person and every organization on the planet to achieve more. As employees we come together with a growth mindset, innovate to empower others, and collaborate to realize our shared goals. Each day we build on our values of respect, integrity, and accountability to create a culture of inclusion where everyone can thrive at work and beyond.\\n\\nResponsibilities\\nDevelops design documentation for well-defined features and review supplier or partner technical sheets. You\\u2019ll also analyze data analyses to identify common flaws in feature or product designs.\\n Ensures documentation includes test requirements, determine appropriate test equipment, and carry out test plans on standard features or products.\\n Collect data for external testing, as well as help develop test fixtures for new feature testing and validation.\\n Implementates schedules for a feature or product while highlighting potential downstream issues. You\\u2019ll also help implement risk assessments and communicate progress within the team.\\n Creates detailed reports for a product feature or extension. This will include documenting essential details and accurate recording and tracking design changes with guidance.\\n Qualifications\\nRequired Qualifications\\nRecently completed a Bachelor's degree in Electrical Engineering, Computer Engineering, or related field.\\n 3+ months related technical engineering experience or internship experience\\n\\nElectrical Engineering IC2 - Certain roles may be eligible for benefits and other compensation. Find additional benefits and pay information here: https://careers.microsoft.com/us/en/us-corporate-pay\\n\\nMicrosoft accepts applications and processes offers for these roles on an ongoing basis throughout the academic calendar (September \\u2013 April).\\n\\n Microsoft is an equal opportunity employer. Consistent with applicable law, all qualified applicants will receive consideration for employment without regard to age, ancestry, citizenship, color, family or medical care leave, gender identity or expression, genetic information, immigration status, marital status, medical condition, national origin, physical or mental disability, political affiliation, protected veteran or military status, race, ethnicity, religion, sex (including pregnancy), sexual orientation, or any other characteristic protected by applicable local laws, regulations and ordinances. If you need assistance and/or a reasonable accommodation due to a disability during the application process, read more about requesting accommodations.\",\n{\n            'v': 114100.0,\n            'f': \"114100.0\",\n        }]],\n        columns: [[\"number\", \"index\"], [\"string\", \"title\"], [\"string\", \"company_name\"], [\"string\", \"location\"], [\"string\", \"pay\"], [\"string\", \"job_type\"], [\"string\", \"description\"], [\"number\", \"avg_pay\"]],\n        columnOptions: [{\"width\": \"1px\", \"className\": \"index_column\"}],\n        rowsPerPage: 25,\n        helpUrl: \"https://colab.research.google.com/notebooks/data_table.ipynb\",\n        suppressOutputScrolling: true,\n        minimumWidth: undefined,\n      });\n\n      function appendQuickchartButton(parentElement) {\n        let quickchartButtonContainerElement = document.createElement('div');\n        quickchartButtonContainerElement.innerHTML = `\n<div id=\"df-61c60ba3-3968-453e-9b1a-46939b70460f\">\n  <button class=\"colab-df-quickchart\" onclick=\"quickchart('df-61c60ba3-3968-453e-9b1a-46939b70460f')\"\n            title=\"Suggest charts\"\n            style=\"display:none;\">\n    \n<svg xmlns=\"http://www.w3.org/2000/svg\" height=\"24px\"viewBox=\"0 0 24 24\"\n     width=\"24px\">\n    <g>\n        <path d=\"M19 3H5c-1.1 0-2 .9-2 2v14c0 1.1.9 2 2 2h14c1.1 0 2-.9 2-2V5c0-1.1-.9-2-2-2zM9 17H7v-7h2v7zm4 0h-2V7h2v10zm4 0h-2v-4h2v4z\"/>\n    </g>\n</svg>\n  </button>\n  \n<style>\n  .colab-df-quickchart {\n      --bg-color: #E8F0FE;\n      --fill-color: #1967D2;\n      --hover-bg-color: #E2EBFA;\n      --hover-fill-color: #174EA6;\n      --disabled-fill-color: #AAA;\n      --disabled-bg-color: #DDD;\n  }\n\n  [theme=dark] .colab-df-quickchart {\n      --bg-color: #3B4455;\n      --fill-color: #D2E3FC;\n      --hover-bg-color: #434B5C;\n      --hover-fill-color: #FFFFFF;\n      --disabled-bg-color: #3B4455;\n      --disabled-fill-color: #666;\n  }\n\n  .colab-df-quickchart {\n    background-color: var(--bg-color);\n    border: none;\n    border-radius: 50%;\n    cursor: pointer;\n    display: none;\n    fill: var(--fill-color);\n    height: 32px;\n    padding: 0;\n    width: 32px;\n  }\n\n  .colab-df-quickchart:hover {\n    background-color: var(--hover-bg-color);\n    box-shadow: 0 1px 2px rgba(60, 64, 67, 0.3), 0 1px 3px 1px rgba(60, 64, 67, 0.15);\n    fill: var(--button-hover-fill-color);\n  }\n\n  .colab-df-quickchart-complete:disabled,\n  .colab-df-quickchart-complete:disabled:hover {\n    background-color: var(--disabled-bg-color);\n    fill: var(--disabled-fill-color);\n    box-shadow: none;\n  }\n\n  .colab-df-spinner {\n    border: 2px solid var(--fill-color);\n    border-color: transparent;\n    border-bottom-color: var(--fill-color);\n    animation:\n      spin 1s steps(1) infinite;\n  }\n\n  @keyframes spin {\n    0% {\n      border-color: transparent;\n      border-bottom-color: var(--fill-color);\n      border-left-color: var(--fill-color);\n    }\n    20% {\n      border-color: transparent;\n      border-left-color: var(--fill-color);\n      border-top-color: var(--fill-color);\n    }\n    30% {\n      border-color: transparent;\n      border-left-color: var(--fill-color);\n      border-top-color: var(--fill-color);\n      border-right-color: var(--fill-color);\n    }\n    40% {\n      border-color: transparent;\n      border-right-color: var(--fill-color);\n      border-top-color: var(--fill-color);\n    }\n    60% {\n      border-color: transparent;\n      border-right-color: var(--fill-color);\n    }\n    80% {\n      border-color: transparent;\n      border-right-color: var(--fill-color);\n      border-bottom-color: var(--fill-color);\n    }\n    90% {\n      border-color: transparent;\n      border-bottom-color: var(--fill-color);\n    }\n  }\n</style>\n\n  <script>\n    async function quickchart(key) {\n      const quickchartButtonEl =\n        document.querySelector('#' + key + ' button');\n      quickchartButtonEl.disabled = true;  // To prevent multiple clicks.\n      quickchartButtonEl.classList.add('colab-df-spinner');\n      try {\n        const charts = await google.colab.kernel.invokeFunction(\n            'suggestCharts', [key], {});\n      } catch (error) {\n        console.error('Error during call to suggestCharts:', error);\n      }\n      quickchartButtonEl.classList.remove('colab-df-spinner');\n      quickchartButtonEl.classList.add('colab-df-quickchart-complete');\n    }\n    (() => {\n      let quickchartButtonEl =\n        document.querySelector('#df-61c60ba3-3968-453e-9b1a-46939b70460f button');\n      quickchartButtonEl.style.display =\n        google.colab.kernel.accessAllowed ? 'block' : 'none';\n    })();\n  </script>\n</div>`;\n        parentElement.appendChild(quickchartButtonContainerElement);\n      }\n\n      appendQuickchartButton(table);\n    "
          },
          "metadata": {},
          "execution_count": 12
        }
      ]
    },
    {
      "cell_type": "markdown",
      "source": [
        "### 4. Remove Pay Column"
      ],
      "metadata": {
        "id": "oVyXCTlraKa_"
      }
    },
    {
      "cell_type": "code",
      "source": [
        "df = df.drop(columns=['pay'])\n",
        "df.head(1)"
      ],
      "metadata": {
        "colab": {
          "base_uri": "https://localhost:8080/",
          "height": 593
        },
        "id": "8YUDPMyQaPy4",
        "outputId": "0ae8542d-eeef-49f2-f0c3-ef4493320dd2"
      },
      "execution_count": 13,
      "outputs": [
        {
          "output_type": "execute_result",
          "data": {
            "text/plain": [
              "                                               title company_name  \\\n",
              "0  Electrical Engineering: Opportunities for Univ...    Microsoft   \n",
              "\n",
              "                               location   job_type  \\\n",
              "0  One Microsoft Way, Redmond, WA 98052  Full-time   \n",
              "\n",
              "                                         description   avg_pay  \n",
              "0  Come build community, explore your passions an...  114100.0  "
            ],
            "text/html": [
              "\n",
              "  <div id=\"df-ea3ffadc-dc98-40d9-8186-e2da1c2079b4\" class=\"colab-df-container\">\n",
              "    <div>\n",
              "<style scoped>\n",
              "    .dataframe tbody tr th:only-of-type {\n",
              "        vertical-align: middle;\n",
              "    }\n",
              "\n",
              "    .dataframe tbody tr th {\n",
              "        vertical-align: top;\n",
              "    }\n",
              "\n",
              "    .dataframe thead th {\n",
              "        text-align: right;\n",
              "    }\n",
              "</style>\n",
              "<table border=\"1\" class=\"dataframe\">\n",
              "  <thead>\n",
              "    <tr style=\"text-align: right;\">\n",
              "      <th></th>\n",
              "      <th>title</th>\n",
              "      <th>company_name</th>\n",
              "      <th>location</th>\n",
              "      <th>job_type</th>\n",
              "      <th>description</th>\n",
              "      <th>avg_pay</th>\n",
              "    </tr>\n",
              "  </thead>\n",
              "  <tbody>\n",
              "    <tr>\n",
              "      <th>0</th>\n",
              "      <td>Electrical Engineering: Opportunities for Univ...</td>\n",
              "      <td>Microsoft</td>\n",
              "      <td>One Microsoft Way, Redmond, WA 98052</td>\n",
              "      <td>Full-time</td>\n",
              "      <td>Come build community, explore your passions an...</td>\n",
              "      <td>114100.0</td>\n",
              "    </tr>\n",
              "  </tbody>\n",
              "</table>\n",
              "</div>\n",
              "    <div class=\"colab-df-buttons\">\n",
              "\n",
              "  <div class=\"colab-df-container\">\n",
              "    <button class=\"colab-df-convert\" onclick=\"convertToInteractive('df-ea3ffadc-dc98-40d9-8186-e2da1c2079b4')\"\n",
              "            title=\"Convert this dataframe to an interactive table.\"\n",
              "            style=\"display:none;\">\n",
              "\n",
              "  <svg xmlns=\"http://www.w3.org/2000/svg\" height=\"24px\" viewBox=\"0 -960 960 960\">\n",
              "    <path d=\"M120-120v-720h720v720H120Zm60-500h600v-160H180v160Zm220 220h160v-160H400v160Zm0 220h160v-160H400v160ZM180-400h160v-160H180v160Zm440 0h160v-160H620v160ZM180-180h160v-160H180v160Zm440 0h160v-160H620v160Z\"/>\n",
              "  </svg>\n",
              "    </button>\n",
              "\n",
              "  <style>\n",
              "    .colab-df-container {\n",
              "      display:flex;\n",
              "      gap: 12px;\n",
              "    }\n",
              "\n",
              "    .colab-df-convert {\n",
              "      background-color: #E8F0FE;\n",
              "      border: none;\n",
              "      border-radius: 50%;\n",
              "      cursor: pointer;\n",
              "      display: none;\n",
              "      fill: #1967D2;\n",
              "      height: 32px;\n",
              "      padding: 0 0 0 0;\n",
              "      width: 32px;\n",
              "    }\n",
              "\n",
              "    .colab-df-convert:hover {\n",
              "      background-color: #E2EBFA;\n",
              "      box-shadow: 0px 1px 2px rgba(60, 64, 67, 0.3), 0px 1px 3px 1px rgba(60, 64, 67, 0.15);\n",
              "      fill: #174EA6;\n",
              "    }\n",
              "\n",
              "    .colab-df-buttons div {\n",
              "      margin-bottom: 4px;\n",
              "    }\n",
              "\n",
              "    [theme=dark] .colab-df-convert {\n",
              "      background-color: #3B4455;\n",
              "      fill: #D2E3FC;\n",
              "    }\n",
              "\n",
              "    [theme=dark] .colab-df-convert:hover {\n",
              "      background-color: #434B5C;\n",
              "      box-shadow: 0px 1px 3px 1px rgba(0, 0, 0, 0.15);\n",
              "      filter: drop-shadow(0px 1px 2px rgba(0, 0, 0, 0.3));\n",
              "      fill: #FFFFFF;\n",
              "    }\n",
              "  </style>\n",
              "\n",
              "    <script>\n",
              "      const buttonEl =\n",
              "        document.querySelector('#df-ea3ffadc-dc98-40d9-8186-e2da1c2079b4 button.colab-df-convert');\n",
              "      buttonEl.style.display =\n",
              "        google.colab.kernel.accessAllowed ? 'block' : 'none';\n",
              "\n",
              "      async function convertToInteractive(key) {\n",
              "        const element = document.querySelector('#df-ea3ffadc-dc98-40d9-8186-e2da1c2079b4');\n",
              "        const dataTable =\n",
              "          await google.colab.kernel.invokeFunction('convertToInteractive',\n",
              "                                                    [key], {});\n",
              "        if (!dataTable) return;\n",
              "\n",
              "        const docLinkHtml = 'Like what you see? Visit the ' +\n",
              "          '<a target=\"_blank\" href=https://colab.research.google.com/notebooks/data_table.ipynb>data table notebook</a>'\n",
              "          + ' to learn more about interactive tables.';\n",
              "        element.innerHTML = '';\n",
              "        dataTable['output_type'] = 'display_data';\n",
              "        await google.colab.output.renderOutput(dataTable, element);\n",
              "        const docLink = document.createElement('div');\n",
              "        docLink.innerHTML = docLinkHtml;\n",
              "        element.appendChild(docLink);\n",
              "      }\n",
              "    </script>\n",
              "  </div>\n",
              "\n",
              "    </div>\n",
              "  </div>\n"
            ],
            "application/vnd.google.colaboratory.intrinsic+json": {
              "type": "dataframe",
              "variable_name": "df",
              "summary": "{\n  \"name\": \"df\",\n  \"rows\": 2270,\n  \"fields\": [\n    {\n      \"column\": \"title\",\n      \"properties\": {\n        \"dtype\": \"string\",\n        \"num_unique_values\": 1957,\n        \"samples\": [\n          \"Bilingual Inbound Sales Associate-Remote\",\n          \"Marketing Manager, Amazon\",\n          \"Senior Human Resources Analyst\"\n        ],\n        \"semantic_type\": \"\",\n        \"description\": \"\"\n      }\n    },\n    {\n      \"column\": \"company_name\",\n      \"properties\": {\n        \"dtype\": \"string\",\n        \"num_unique_values\": 1164,\n        \"samples\": [\n          \"Proteus Discovery Group\",\n          \"Trane Technologies\",\n          \"Holland & Knight LLP\"\n        ],\n        \"semantic_type\": \"\",\n        \"description\": \"\"\n      }\n    },\n    {\n      \"column\": \"location\",\n      \"properties\": {\n        \"dtype\": \"category\",\n        \"num_unique_values\": 841,\n        \"samples\": [\n          \"Princeton, NJ\",\n          \"520 8th Ave, New York, NY 10018\",\n          \"Kenilworth, NJ 07033\"\n        ],\n        \"semantic_type\": \"\",\n        \"description\": \"\"\n      }\n    },\n    {\n      \"column\": \"job_type\",\n      \"properties\": {\n        \"dtype\": \"category\",\n        \"num_unique_values\": 11,\n        \"samples\": [\n          \"Permanent\",\n          \"Full-time\",\n          \"Apprenticeship\"\n        ],\n        \"semantic_type\": \"\",\n        \"description\": \"\"\n      }\n    },\n    {\n      \"column\": \"description\",\n      \"properties\": {\n        \"dtype\": \"string\",\n        \"num_unique_values\": 2259,\n        \"samples\": [\n          \"Nintendo of America Inc.\\n The worldwide pioneer in the creation of interactive entertainment, Nintendo Co., Ltd., of Kyoto, Japan, manufactures and markets hardware and software for its Nintendo Switch\\u2122 system and the Nintendo 3DS\\u2122 family of portable systems. Since 1983, when it launched the Nintendo Entertainment System\\u2122, Nintendo has sold more than 4.7 billion video games and more than 740 million hardware units globally, including Nintendo Switch and the Nintendo 3DS family of systems, as well as the Game Boy\\u2122, Game Boy Advance, Nintendo DS\\u2122 family of systems, Super NES\\u2122, Nintendo 64\\u2122, Nintendo GameCube\\u2122, Wii\\u2122 and Wii U\\u2122 systems. It has also created industry icons that have become well-known, household names, such as Mario, Donkey Kong, Metroid, Zelda and Pok\\u00e9mon. A wholly owned subsidiary, Nintendo of America Inc., based in Redmond, Wash., serves as headquarters for Nintendo\\u2019s operations in the Americas. For more information about Nintendo, please visit the company\\u2019s website at http://www.nintendo.com .\\n ** This is a CONTRACT position\\nDESCRIPTION OF DUTIES:\\nPerforms legal tasks within the specialty area under the direction of supervisor/attorney and the Program Manager, Marketing Legal Review\\nCoordinates the legal review and approval of Nintendo advertising, marketing materials, promotional materials, and other consumer facing communications, including, press releases, online materials, TV ads, print materials, packaging, POP, etc.\\n Drafts and advises business teams on basic legal documents, correspondence, forms, and reports\\nOrganizes and maintains databases and files\\nMaintains direct communication with internal business teams regarding contract and clearance matters\\nProvides regular updates to management, attorneys, and the business about the status of contracts, renewals, and related matters, as well as creative review matters\\nPursues and maintains most current knowledge of company business and technology\\nAssists with the development of reports and presentations about specialty areas\\nProvides administrative support as needed\\n\\nSUMMARY OR REQUIREMENTS:\\nMinimum of one year of related work experience\\nStrong organizational and project management skills\\nExcellent written, verbal, and interpersonal skills\\nAbility to work in a fast paced environment with fluctuating priorities and deadlines\\nKnowledge of Nintendo products preferred\\n* * This is a CONTRACT position\\nApplicants must be legally eligible to work in the United States to be considered. Visa sponsorship not available for this role.\\n This position is hybrid in Redmond, WA. Hybrid positions require regular onsite work following the schedule and guidelines for their division. This position is not open to fully remote status at this time.\\n Agency benefits may include medical, dental and vision, 401(k), basic/supplemental life and AD&D insurance, short- and long-term disability insurance, health and dependent care spending accounts, transportation benefits, employee assistance program, paid sick leave, and up to 6 paid holidays per year. All benefits are subject to elections, eligibility requirements, plan and program terms. Benefits offerings will be confirmed at the time of offer by the employing agency, and may differ depending on the employing agency partner.\\n #LI-Hybrid\",\n          \"Are you interested in a start-up like environment, passionate about Cloud Computing technology and driving growth in one of Microsoft\\u2019s core businesses? Do you aspire to be part of a team relentlessly focused on customer needs, market expansion and advancing Microsoft Cloud\\u2019s first strategy? If yes, look no further than the CO+I Team.\\n We offer engaging and motivating work where you\\u2019ll be empowered to make an impact. You will have the independence and hybrid working flexibility you need. An astute and diverse work culture is at the core of our team and broader group. We are an international team, passionate about life-long learning, that believe in data-based decision making to identify and solve problems. We take a holistic approach to problem solving and are believers of collaborations to harness our diverse experience, and capabilities to deliver impact.\\n Customers and analysts recognize Azure\\u2019s tremendous momentum which continues month over month. To help customers achieve their goals, Azure continues to build the largest global footprint of any Cloud provider. The CO+I IPA Long-Range Planning Data Science team delivers Microsoft\\u2019s Long Range Infrastructure plan using state of the art econometric/ML models, risk simulations and business intelligence. We are hiring an exceptional Data Scientist to focus on creating cutting edge econometric/ ML demand and capacity need models with focus on MSFT AI offerings. This Applied Sciences II position will focus specifically on the GPU forecasting to support the AI needs for Microsoft and OpenAI. Additionally, they will have to be able to leverage their software engineering skills to connect to various upstream and downstream systems ensuring the forecasting plan matches the execution.\\n\\n Other \\u00b7 Embody our culture and values\\nResponsibilities\\nApply their expertise in quantitative analysis, data mining, and the presentation of data to develop econometric/ ML models\\nConnect to and build APIs for turning data science models into a full production system\\nUnderstand fundamental business dynamics impacting demand, and develop automated statistical solutions for forecasting\\nAbility to develop E2E models in R/ Python \\u2013 including data manipulation, model building and business applications\\nQualifications\\nRequired Qualifications:\\n\\nBachelor's Degree in Statistics, Econometrics, Computer Science, Electrical or Computer Engineering, or related field AND 2+ years related experience (e.g., statistics, predictive analytics, research)\\no OR Master's Degree in Statistics, Econometrics, Computer Science, Electrical or Computer Engineering, or related field AND 1+ year(s) related experience (e.g., statistics, predictive analytics, research)\\no OR Doctorate in Statistics, Econometrics, Computer Science, Electrical or Computer Engineering, or related field\\no OR equivalent experience.\\n\\n Other Requirements:\\n\\nAbility to meet Microsoft, customer and/or government security screening requirements are required for this role. These requirements include, but are not limited to the following specialized security screenings:\\nMicrosoft Cloud Background Check: This position will be required to pass the Microsoft Cloud background check upon hire/transfer and every two years thereafter.\\n\\n Certain roles may be eligible for benefits and other compensation. Find additional benefits and pay information here: https://careers.microsoft.com/us/en/us-corporate-pay\\n\\n#IPACareers\\n#COICareers\\nMicrosoft is an equal opportunity employer. Consistent with applicable law, all qualified applicants will receive consideration for employment without regard to age, ancestry, citizenship, color, family or medical care leave, gender identity or expression, genetic information, immigration status, marital status, medical condition, national origin, physical or mental disability, political affiliation, protected veteran or military status, race, ethnicity, religion, sex (including pregnancy), sexual orientation, or any other characteristic protected by applicable local laws, regulations and ordinances. If you need assistance and/or a reasonable accommodation due to a disability during the application process, read more about requesting accommodations.\",\n          \"Why join Stryker?\\nWe are proud to be named one of the World\\u2019s Best Workplaces and a Best Workplace for Diversity by Fortune Magazine! Learn more about our award-winning organization by visiting stryker.com\\n\\nAs the Manager, Data Science and Applications, you will manage delivery of data science and light weight application solutions that improve business outcomes through process optimization and insight prediction related to our US Customer Intelligence function at Stryker.\\n Who we want\\nEffective communicators. People who can interpret information clearly and accurately to concisely communicate results and recommendations to stakeholders, senior management, and their teams.\\n Subject matter experts. Managers who not only oversee the collection, review, and analysis of data but can interpret, translate, and present on all various matters as needed.\\n Network builders. Managers who build connections with other teams and divisions and coordinate cross-functional collaboration.\\n What you will do\\nDevelop talent and provide project leadership in the team's day-to-day project portfolio.\\nLead and develop a team of data science and app development professionals while providing technical and project leadership in the team's day-to-day project portfolios.\\n Demonstrate financial acumen to develop financial impacts for existing projects and evaluating new opportunities.\\n Orchestrate collaboration with Stryker enterprise functions to leverage domain expertise and capabilities and identify areas of opportunity.\\n Lead change management and navigate pushback from the business\\nLead discussions with data scientists and business stakeholders to identify opportunities where relevant concepts can be applied to real-world business opportunities.\\n Mentor and coach seasoned data science and app development colleagues in developing their skills in the same.\\n Demonstrate creative ability to recommend visualizations of data that empower key business stakeholders more easily interpret complex information and quickly identify key insights they can trust.\\n Orchestrate presentations and communications through effective conveying of complex analyses up to the leadership level.\\n Mentor and influence in solving and correction of complex issues.\\n What you need\\nBachelor's Degree in data science, computer science, mathematics, statistics, or related field with applicable data science work experience.\\n 8+ years of work experience required.\\n 2+ years of people leadership experience preferred.\\n Master's Degree or higher in related discipline preferred.\\n Experience with project management specifically scrum and agile frameworks required.\\n Experience in software development lifecycle concepts, tools, best practices.\\n Experience leading peers through end-to-end data science and app development projects: from problem and requirements definition to model/algorithm validation and deployment.\\n Proficiency in object-oriented programming and data structures required.\\n Proficiency in at least one programming language central to AI/Data Science or app development (e.g. Python, R, Scala, Spark, R Shiny, etc) or skills in at least two programming languages required.\\n Experience in at least one statistical technique (e.g. time series modelling, classification, computer vision) or experience in at least two techniques required.\\n Actual minimum and maximum may vary based on location. Individual pay is based on skills, experience, and other relevant factors.\\n About Stryker\\nOur benefits:\\n\\n12 paid holidays annually\\nHealth benefits include: Medical and prescription drug insurance, dental insurance, vision insurance, critical illness insurance, accident insurance, hospital indemnity insurance, personalized healthcare support, wellbeing program and tobacco cessation program.\\n Financial benefits include Health Savings Account (HSA), Flexible Spending Accounts (FSAs), 401(k) plan, Employee Stock Purchase Plan (ESPP), basic life and AD&D insurance, and short-term disability insurance.\\n For a more detailed overview of our benefits or time off, please follow this link to learn more: US Stryker employee benefits\\n\\nAbout Stryker\\nStryker is a global leader in medical technologies and, together with its customers, is driven to make healthcare better. The company offers innovative products and services in MedSurg, Neurotechnology, Orthopaedics and Spine that help improve patient and healthcare outcomes. Alongside its customers around the world, Stryker impacts more than 130 million patients annually. More information is available at stryker.com.\\n\\n Know someone at Stryker?\\nBe sure to have them submit you as a referral prior to applying for this position. Learn more about our employee referral program on our referral page\\n\\nStryker is driven to work together with our customers to make healthcare better. Employees and new hires in sales and field roles that require access to customer accounts as a function of the job may be required, depending on customer requirements, to obtain various vaccinations as an essential function of their role.\"\n        ],\n        \"semantic_type\": \"\",\n        \"description\": \"\"\n      }\n    },\n    {\n      \"column\": \"avg_pay\",\n      \"properties\": {\n        \"dtype\": \"number\",\n        \"std\": 63449.777966302136,\n        \"min\": 27040.0,\n        \"max\": 750000.0,\n        \"num_unique_values\": 1224,\n        \"samples\": [\n          176800.0,\n          235450.0,\n          185800.0\n        ],\n        \"semantic_type\": \"\",\n        \"description\": \"\"\n      }\n    }\n  ]\n}"
            },
            "application/vnd.google.colaboratory.module+javascript": "\n      import \"https://ssl.gstatic.com/colaboratory/data_table/881c4a0d49046431/data_table.js\";\n\n      const table = window.createDataTable({\n        data: [[{\n            'v': 0,\n            'f': \"0\",\n        },\n\"Electrical Engineering: Opportunities for University Graduates\",\n\"Microsoft\",\n\"One Microsoft Way, Redmond, WA 98052\",\n\"Full-time\",\n\"Come build community, explore your passions and do your best work at Microsoft with thousands of University students from every corner of the world. This opportunity will allow you to bring your aspirations, talent, potential\\u2014and excitement for the journey ahead.\\n\\n As an Electrical Engineer at Microsoft, you will design, develop, modify, and evaluate components used in electronic devices that involve the manipulation, transmission, and storage of electricity. Define design approaches, implementation schedules, technical specifications, and parameters for devices. You will partake in selecting materials and components based on analysis of specifications and reliability. This opportunity will allow you to develop test plans and direct support personnel, or other engineers, in the preparation and execution of design testing or prototype fabrication.\\n\\n Those hired into this role are invited to participate in the Microsoft Aspire Experience, a two-year learning and development program in which you'll build your network, cultivate intentional capabilities, and gain perspective into the career opportunities across Microsoft\\u2019s many exciting businesses.\\n\\n Microsoft\\u2019s mission is to empower every person and every organization on the planet to achieve more. As employees we come together with a growth mindset, innovate to empower others, and collaborate to realize our shared goals. Each day we build on our values of respect, integrity, and accountability to create a culture of inclusion where everyone can thrive at work and beyond.\\n\\nResponsibilities\\nDevelops design documentation for well-defined features and review supplier or partner technical sheets. You\\u2019ll also analyze data analyses to identify common flaws in feature or product designs.\\n Ensures documentation includes test requirements, determine appropriate test equipment, and carry out test plans on standard features or products.\\n Collect data for external testing, as well as help develop test fixtures for new feature testing and validation.\\n Implementates schedules for a feature or product while highlighting potential downstream issues. You\\u2019ll also help implement risk assessments and communicate progress within the team.\\n Creates detailed reports for a product feature or extension. This will include documenting essential details and accurate recording and tracking design changes with guidance.\\n Qualifications\\nRequired Qualifications\\nRecently completed a Bachelor's degree in Electrical Engineering, Computer Engineering, or related field.\\n 3+ months related technical engineering experience or internship experience\\n\\nElectrical Engineering IC2 - Certain roles may be eligible for benefits and other compensation. Find additional benefits and pay information here: https://careers.microsoft.com/us/en/us-corporate-pay\\n\\nMicrosoft accepts applications and processes offers for these roles on an ongoing basis throughout the academic calendar (September \\u2013 April).\\n\\n Microsoft is an equal opportunity employer. Consistent with applicable law, all qualified applicants will receive consideration for employment without regard to age, ancestry, citizenship, color, family or medical care leave, gender identity or expression, genetic information, immigration status, marital status, medical condition, national origin, physical or mental disability, political affiliation, protected veteran or military status, race, ethnicity, religion, sex (including pregnancy), sexual orientation, or any other characteristic protected by applicable local laws, regulations and ordinances. If you need assistance and/or a reasonable accommodation due to a disability during the application process, read more about requesting accommodations.\",\n{\n            'v': 114100.0,\n            'f': \"114100.0\",\n        }]],\n        columns: [[\"number\", \"index\"], [\"string\", \"title\"], [\"string\", \"company_name\"], [\"string\", \"location\"], [\"string\", \"job_type\"], [\"string\", \"description\"], [\"number\", \"avg_pay\"]],\n        columnOptions: [{\"width\": \"1px\", \"className\": \"index_column\"}],\n        rowsPerPage: 25,\n        helpUrl: \"https://colab.research.google.com/notebooks/data_table.ipynb\",\n        suppressOutputScrolling: true,\n        minimumWidth: undefined,\n      });\n\n      function appendQuickchartButton(parentElement) {\n        let quickchartButtonContainerElement = document.createElement('div');\n        quickchartButtonContainerElement.innerHTML = `\n<div id=\"df-a2365f74-6878-4432-bd98-d08e3d64550a\">\n  <button class=\"colab-df-quickchart\" onclick=\"quickchart('df-a2365f74-6878-4432-bd98-d08e3d64550a')\"\n            title=\"Suggest charts\"\n            style=\"display:none;\">\n    \n<svg xmlns=\"http://www.w3.org/2000/svg\" height=\"24px\"viewBox=\"0 0 24 24\"\n     width=\"24px\">\n    <g>\n        <path d=\"M19 3H5c-1.1 0-2 .9-2 2v14c0 1.1.9 2 2 2h14c1.1 0 2-.9 2-2V5c0-1.1-.9-2-2-2zM9 17H7v-7h2v7zm4 0h-2V7h2v10zm4 0h-2v-4h2v4z\"/>\n    </g>\n</svg>\n  </button>\n  \n<style>\n  .colab-df-quickchart {\n      --bg-color: #E8F0FE;\n      --fill-color: #1967D2;\n      --hover-bg-color: #E2EBFA;\n      --hover-fill-color: #174EA6;\n      --disabled-fill-color: #AAA;\n      --disabled-bg-color: #DDD;\n  }\n\n  [theme=dark] .colab-df-quickchart {\n      --bg-color: #3B4455;\n      --fill-color: #D2E3FC;\n      --hover-bg-color: #434B5C;\n      --hover-fill-color: #FFFFFF;\n      --disabled-bg-color: #3B4455;\n      --disabled-fill-color: #666;\n  }\n\n  .colab-df-quickchart {\n    background-color: var(--bg-color);\n    border: none;\n    border-radius: 50%;\n    cursor: pointer;\n    display: none;\n    fill: var(--fill-color);\n    height: 32px;\n    padding: 0;\n    width: 32px;\n  }\n\n  .colab-df-quickchart:hover {\n    background-color: var(--hover-bg-color);\n    box-shadow: 0 1px 2px rgba(60, 64, 67, 0.3), 0 1px 3px 1px rgba(60, 64, 67, 0.15);\n    fill: var(--button-hover-fill-color);\n  }\n\n  .colab-df-quickchart-complete:disabled,\n  .colab-df-quickchart-complete:disabled:hover {\n    background-color: var(--disabled-bg-color);\n    fill: var(--disabled-fill-color);\n    box-shadow: none;\n  }\n\n  .colab-df-spinner {\n    border: 2px solid var(--fill-color);\n    border-color: transparent;\n    border-bottom-color: var(--fill-color);\n    animation:\n      spin 1s steps(1) infinite;\n  }\n\n  @keyframes spin {\n    0% {\n      border-color: transparent;\n      border-bottom-color: var(--fill-color);\n      border-left-color: var(--fill-color);\n    }\n    20% {\n      border-color: transparent;\n      border-left-color: var(--fill-color);\n      border-top-color: var(--fill-color);\n    }\n    30% {\n      border-color: transparent;\n      border-left-color: var(--fill-color);\n      border-top-color: var(--fill-color);\n      border-right-color: var(--fill-color);\n    }\n    40% {\n      border-color: transparent;\n      border-right-color: var(--fill-color);\n      border-top-color: var(--fill-color);\n    }\n    60% {\n      border-color: transparent;\n      border-right-color: var(--fill-color);\n    }\n    80% {\n      border-color: transparent;\n      border-right-color: var(--fill-color);\n      border-bottom-color: var(--fill-color);\n    }\n    90% {\n      border-color: transparent;\n      border-bottom-color: var(--fill-color);\n    }\n  }\n</style>\n\n  <script>\n    async function quickchart(key) {\n      const quickchartButtonEl =\n        document.querySelector('#' + key + ' button');\n      quickchartButtonEl.disabled = true;  // To prevent multiple clicks.\n      quickchartButtonEl.classList.add('colab-df-spinner');\n      try {\n        const charts = await google.colab.kernel.invokeFunction(\n            'suggestCharts', [key], {});\n      } catch (error) {\n        console.error('Error during call to suggestCharts:', error);\n      }\n      quickchartButtonEl.classList.remove('colab-df-spinner');\n      quickchartButtonEl.classList.add('colab-df-quickchart-complete');\n    }\n    (() => {\n      let quickchartButtonEl =\n        document.querySelector('#df-a2365f74-6878-4432-bd98-d08e3d64550a button');\n      quickchartButtonEl.style.display =\n        google.colab.kernel.accessAllowed ? 'block' : 'none';\n    })();\n  </script>\n</div>`;\n        parentElement.appendChild(quickchartButtonContainerElement);\n      }\n\n      appendQuickchartButton(table);\n    "
          },
          "metadata": {},
          "execution_count": 13
        }
      ]
    },
    {
      "cell_type": "markdown",
      "source": [
        "### 5. Join Information in One Text"
      ],
      "metadata": {
        "id": "6kZ3jb5CqBx4"
      }
    },
    {
      "cell_type": "code",
      "source": [
        "df['full_info'] = df.apply(lambda row: f\"Job title: {row['title']}. Company name: {row['company_name']}. \\\n",
        "                                        Location: {row['location']}. Job type: {row['job_type']}. {row['description']}\", axis=1)\n",
        "df.head(1)"
      ],
      "metadata": {
        "colab": {
          "base_uri": "https://localhost:8080/",
          "height": 1105
        },
        "id": "FbTB9Dt4qFlV",
        "outputId": "74b0fc2a-fb05-4045-ca7e-98d16717c13f"
      },
      "execution_count": 14,
      "outputs": [
        {
          "output_type": "execute_result",
          "data": {
            "text/plain": [
              "                                               title company_name  \\\n",
              "0  Electrical Engineering: Opportunities for Univ...    Microsoft   \n",
              "\n",
              "                               location   job_type  \\\n",
              "0  One Microsoft Way, Redmond, WA 98052  Full-time   \n",
              "\n",
              "                                         description   avg_pay  \\\n",
              "0  Come build community, explore your passions an...  114100.0   \n",
              "\n",
              "                                           full_info  \n",
              "0  Job title: Electrical Engineering: Opportuniti...  "
            ],
            "text/html": [
              "\n",
              "  <div id=\"df-47034c35-2c2a-4fcd-b78e-fcc81ef298cf\" class=\"colab-df-container\">\n",
              "    <div>\n",
              "<style scoped>\n",
              "    .dataframe tbody tr th:only-of-type {\n",
              "        vertical-align: middle;\n",
              "    }\n",
              "\n",
              "    .dataframe tbody tr th {\n",
              "        vertical-align: top;\n",
              "    }\n",
              "\n",
              "    .dataframe thead th {\n",
              "        text-align: right;\n",
              "    }\n",
              "</style>\n",
              "<table border=\"1\" class=\"dataframe\">\n",
              "  <thead>\n",
              "    <tr style=\"text-align: right;\">\n",
              "      <th></th>\n",
              "      <th>title</th>\n",
              "      <th>company_name</th>\n",
              "      <th>location</th>\n",
              "      <th>job_type</th>\n",
              "      <th>description</th>\n",
              "      <th>avg_pay</th>\n",
              "      <th>full_info</th>\n",
              "    </tr>\n",
              "  </thead>\n",
              "  <tbody>\n",
              "    <tr>\n",
              "      <th>0</th>\n",
              "      <td>Electrical Engineering: Opportunities for Univ...</td>\n",
              "      <td>Microsoft</td>\n",
              "      <td>One Microsoft Way, Redmond, WA 98052</td>\n",
              "      <td>Full-time</td>\n",
              "      <td>Come build community, explore your passions an...</td>\n",
              "      <td>114100.0</td>\n",
              "      <td>Job title: Electrical Engineering: Opportuniti...</td>\n",
              "    </tr>\n",
              "  </tbody>\n",
              "</table>\n",
              "</div>\n",
              "    <div class=\"colab-df-buttons\">\n",
              "\n",
              "  <div class=\"colab-df-container\">\n",
              "    <button class=\"colab-df-convert\" onclick=\"convertToInteractive('df-47034c35-2c2a-4fcd-b78e-fcc81ef298cf')\"\n",
              "            title=\"Convert this dataframe to an interactive table.\"\n",
              "            style=\"display:none;\">\n",
              "\n",
              "  <svg xmlns=\"http://www.w3.org/2000/svg\" height=\"24px\" viewBox=\"0 -960 960 960\">\n",
              "    <path d=\"M120-120v-720h720v720H120Zm60-500h600v-160H180v160Zm220 220h160v-160H400v160Zm0 220h160v-160H400v160ZM180-400h160v-160H180v160Zm440 0h160v-160H620v160ZM180-180h160v-160H180v160Zm440 0h160v-160H620v160Z\"/>\n",
              "  </svg>\n",
              "    </button>\n",
              "\n",
              "  <style>\n",
              "    .colab-df-container {\n",
              "      display:flex;\n",
              "      gap: 12px;\n",
              "    }\n",
              "\n",
              "    .colab-df-convert {\n",
              "      background-color: #E8F0FE;\n",
              "      border: none;\n",
              "      border-radius: 50%;\n",
              "      cursor: pointer;\n",
              "      display: none;\n",
              "      fill: #1967D2;\n",
              "      height: 32px;\n",
              "      padding: 0 0 0 0;\n",
              "      width: 32px;\n",
              "    }\n",
              "\n",
              "    .colab-df-convert:hover {\n",
              "      background-color: #E2EBFA;\n",
              "      box-shadow: 0px 1px 2px rgba(60, 64, 67, 0.3), 0px 1px 3px 1px rgba(60, 64, 67, 0.15);\n",
              "      fill: #174EA6;\n",
              "    }\n",
              "\n",
              "    .colab-df-buttons div {\n",
              "      margin-bottom: 4px;\n",
              "    }\n",
              "\n",
              "    [theme=dark] .colab-df-convert {\n",
              "      background-color: #3B4455;\n",
              "      fill: #D2E3FC;\n",
              "    }\n",
              "\n",
              "    [theme=dark] .colab-df-convert:hover {\n",
              "      background-color: #434B5C;\n",
              "      box-shadow: 0px 1px 3px 1px rgba(0, 0, 0, 0.15);\n",
              "      filter: drop-shadow(0px 1px 2px rgba(0, 0, 0, 0.3));\n",
              "      fill: #FFFFFF;\n",
              "    }\n",
              "  </style>\n",
              "\n",
              "    <script>\n",
              "      const buttonEl =\n",
              "        document.querySelector('#df-47034c35-2c2a-4fcd-b78e-fcc81ef298cf button.colab-df-convert');\n",
              "      buttonEl.style.display =\n",
              "        google.colab.kernel.accessAllowed ? 'block' : 'none';\n",
              "\n",
              "      async function convertToInteractive(key) {\n",
              "        const element = document.querySelector('#df-47034c35-2c2a-4fcd-b78e-fcc81ef298cf');\n",
              "        const dataTable =\n",
              "          await google.colab.kernel.invokeFunction('convertToInteractive',\n",
              "                                                    [key], {});\n",
              "        if (!dataTable) return;\n",
              "\n",
              "        const docLinkHtml = 'Like what you see? Visit the ' +\n",
              "          '<a target=\"_blank\" href=https://colab.research.google.com/notebooks/data_table.ipynb>data table notebook</a>'\n",
              "          + ' to learn more about interactive tables.';\n",
              "        element.innerHTML = '';\n",
              "        dataTable['output_type'] = 'display_data';\n",
              "        await google.colab.output.renderOutput(dataTable, element);\n",
              "        const docLink = document.createElement('div');\n",
              "        docLink.innerHTML = docLinkHtml;\n",
              "        element.appendChild(docLink);\n",
              "      }\n",
              "    </script>\n",
              "  </div>\n",
              "\n",
              "    </div>\n",
              "  </div>\n"
            ],
            "application/vnd.google.colaboratory.intrinsic+json": {
              "type": "dataframe",
              "variable_name": "df",
              "summary": "{\n  \"name\": \"df\",\n  \"rows\": 2270,\n  \"fields\": [\n    {\n      \"column\": \"title\",\n      \"properties\": {\n        \"dtype\": \"string\",\n        \"num_unique_values\": 1957,\n        \"samples\": [\n          \"Bilingual Inbound Sales Associate-Remote\",\n          \"Marketing Manager, Amazon\",\n          \"Senior Human Resources Analyst\"\n        ],\n        \"semantic_type\": \"\",\n        \"description\": \"\"\n      }\n    },\n    {\n      \"column\": \"company_name\",\n      \"properties\": {\n        \"dtype\": \"string\",\n        \"num_unique_values\": 1164,\n        \"samples\": [\n          \"Proteus Discovery Group\",\n          \"Trane Technologies\",\n          \"Holland & Knight LLP\"\n        ],\n        \"semantic_type\": \"\",\n        \"description\": \"\"\n      }\n    },\n    {\n      \"column\": \"location\",\n      \"properties\": {\n        \"dtype\": \"category\",\n        \"num_unique_values\": 841,\n        \"samples\": [\n          \"Princeton, NJ\",\n          \"520 8th Ave, New York, NY 10018\",\n          \"Kenilworth, NJ 07033\"\n        ],\n        \"semantic_type\": \"\",\n        \"description\": \"\"\n      }\n    },\n    {\n      \"column\": \"job_type\",\n      \"properties\": {\n        \"dtype\": \"category\",\n        \"num_unique_values\": 11,\n        \"samples\": [\n          \"Permanent\",\n          \"Full-time\",\n          \"Apprenticeship\"\n        ],\n        \"semantic_type\": \"\",\n        \"description\": \"\"\n      }\n    },\n    {\n      \"column\": \"description\",\n      \"properties\": {\n        \"dtype\": \"string\",\n        \"num_unique_values\": 2259,\n        \"samples\": [\n          \"Nintendo of America Inc.\\n The worldwide pioneer in the creation of interactive entertainment, Nintendo Co., Ltd., of Kyoto, Japan, manufactures and markets hardware and software for its Nintendo Switch\\u2122 system and the Nintendo 3DS\\u2122 family of portable systems. Since 1983, when it launched the Nintendo Entertainment System\\u2122, Nintendo has sold more than 4.7 billion video games and more than 740 million hardware units globally, including Nintendo Switch and the Nintendo 3DS family of systems, as well as the Game Boy\\u2122, Game Boy Advance, Nintendo DS\\u2122 family of systems, Super NES\\u2122, Nintendo 64\\u2122, Nintendo GameCube\\u2122, Wii\\u2122 and Wii U\\u2122 systems. It has also created industry icons that have become well-known, household names, such as Mario, Donkey Kong, Metroid, Zelda and Pok\\u00e9mon. A wholly owned subsidiary, Nintendo of America Inc., based in Redmond, Wash., serves as headquarters for Nintendo\\u2019s operations in the Americas. For more information about Nintendo, please visit the company\\u2019s website at http://www.nintendo.com .\\n ** This is a CONTRACT position\\nDESCRIPTION OF DUTIES:\\nPerforms legal tasks within the specialty area under the direction of supervisor/attorney and the Program Manager, Marketing Legal Review\\nCoordinates the legal review and approval of Nintendo advertising, marketing materials, promotional materials, and other consumer facing communications, including, press releases, online materials, TV ads, print materials, packaging, POP, etc.\\n Drafts and advises business teams on basic legal documents, correspondence, forms, and reports\\nOrganizes and maintains databases and files\\nMaintains direct communication with internal business teams regarding contract and clearance matters\\nProvides regular updates to management, attorneys, and the business about the status of contracts, renewals, and related matters, as well as creative review matters\\nPursues and maintains most current knowledge of company business and technology\\nAssists with the development of reports and presentations about specialty areas\\nProvides administrative support as needed\\n\\nSUMMARY OR REQUIREMENTS:\\nMinimum of one year of related work experience\\nStrong organizational and project management skills\\nExcellent written, verbal, and interpersonal skills\\nAbility to work in a fast paced environment with fluctuating priorities and deadlines\\nKnowledge of Nintendo products preferred\\n* * This is a CONTRACT position\\nApplicants must be legally eligible to work in the United States to be considered. Visa sponsorship not available for this role.\\n This position is hybrid in Redmond, WA. Hybrid positions require regular onsite work following the schedule and guidelines for their division. This position is not open to fully remote status at this time.\\n Agency benefits may include medical, dental and vision, 401(k), basic/supplemental life and AD&D insurance, short- and long-term disability insurance, health and dependent care spending accounts, transportation benefits, employee assistance program, paid sick leave, and up to 6 paid holidays per year. All benefits are subject to elections, eligibility requirements, plan and program terms. Benefits offerings will be confirmed at the time of offer by the employing agency, and may differ depending on the employing agency partner.\\n #LI-Hybrid\",\n          \"Are you interested in a start-up like environment, passionate about Cloud Computing technology and driving growth in one of Microsoft\\u2019s core businesses? Do you aspire to be part of a team relentlessly focused on customer needs, market expansion and advancing Microsoft Cloud\\u2019s first strategy? If yes, look no further than the CO+I Team.\\n We offer engaging and motivating work where you\\u2019ll be empowered to make an impact. You will have the independence and hybrid working flexibility you need. An astute and diverse work culture is at the core of our team and broader group. We are an international team, passionate about life-long learning, that believe in data-based decision making to identify and solve problems. We take a holistic approach to problem solving and are believers of collaborations to harness our diverse experience, and capabilities to deliver impact.\\n Customers and analysts recognize Azure\\u2019s tremendous momentum which continues month over month. To help customers achieve their goals, Azure continues to build the largest global footprint of any Cloud provider. The CO+I IPA Long-Range Planning Data Science team delivers Microsoft\\u2019s Long Range Infrastructure plan using state of the art econometric/ML models, risk simulations and business intelligence. We are hiring an exceptional Data Scientist to focus on creating cutting edge econometric/ ML demand and capacity need models with focus on MSFT AI offerings. This Applied Sciences II position will focus specifically on the GPU forecasting to support the AI needs for Microsoft and OpenAI. Additionally, they will have to be able to leverage their software engineering skills to connect to various upstream and downstream systems ensuring the forecasting plan matches the execution.\\n\\n Other \\u00b7 Embody our culture and values\\nResponsibilities\\nApply their expertise in quantitative analysis, data mining, and the presentation of data to develop econometric/ ML models\\nConnect to and build APIs for turning data science models into a full production system\\nUnderstand fundamental business dynamics impacting demand, and develop automated statistical solutions for forecasting\\nAbility to develop E2E models in R/ Python \\u2013 including data manipulation, model building and business applications\\nQualifications\\nRequired Qualifications:\\n\\nBachelor's Degree in Statistics, Econometrics, Computer Science, Electrical or Computer Engineering, or related field AND 2+ years related experience (e.g., statistics, predictive analytics, research)\\no OR Master's Degree in Statistics, Econometrics, Computer Science, Electrical or Computer Engineering, or related field AND 1+ year(s) related experience (e.g., statistics, predictive analytics, research)\\no OR Doctorate in Statistics, Econometrics, Computer Science, Electrical or Computer Engineering, or related field\\no OR equivalent experience.\\n\\n Other Requirements:\\n\\nAbility to meet Microsoft, customer and/or government security screening requirements are required for this role. These requirements include, but are not limited to the following specialized security screenings:\\nMicrosoft Cloud Background Check: This position will be required to pass the Microsoft Cloud background check upon hire/transfer and every two years thereafter.\\n\\n Certain roles may be eligible for benefits and other compensation. Find additional benefits and pay information here: https://careers.microsoft.com/us/en/us-corporate-pay\\n\\n#IPACareers\\n#COICareers\\nMicrosoft is an equal opportunity employer. Consistent with applicable law, all qualified applicants will receive consideration for employment without regard to age, ancestry, citizenship, color, family or medical care leave, gender identity or expression, genetic information, immigration status, marital status, medical condition, national origin, physical or mental disability, political affiliation, protected veteran or military status, race, ethnicity, religion, sex (including pregnancy), sexual orientation, or any other characteristic protected by applicable local laws, regulations and ordinances. If you need assistance and/or a reasonable accommodation due to a disability during the application process, read more about requesting accommodations.\",\n          \"Why join Stryker?\\nWe are proud to be named one of the World\\u2019s Best Workplaces and a Best Workplace for Diversity by Fortune Magazine! Learn more about our award-winning organization by visiting stryker.com\\n\\nAs the Manager, Data Science and Applications, you will manage delivery of data science and light weight application solutions that improve business outcomes through process optimization and insight prediction related to our US Customer Intelligence function at Stryker.\\n Who we want\\nEffective communicators. People who can interpret information clearly and accurately to concisely communicate results and recommendations to stakeholders, senior management, and their teams.\\n Subject matter experts. Managers who not only oversee the collection, review, and analysis of data but can interpret, translate, and present on all various matters as needed.\\n Network builders. Managers who build connections with other teams and divisions and coordinate cross-functional collaboration.\\n What you will do\\nDevelop talent and provide project leadership in the team's day-to-day project portfolio.\\nLead and develop a team of data science and app development professionals while providing technical and project leadership in the team's day-to-day project portfolios.\\n Demonstrate financial acumen to develop financial impacts for existing projects and evaluating new opportunities.\\n Orchestrate collaboration with Stryker enterprise functions to leverage domain expertise and capabilities and identify areas of opportunity.\\n Lead change management and navigate pushback from the business\\nLead discussions with data scientists and business stakeholders to identify opportunities where relevant concepts can be applied to real-world business opportunities.\\n Mentor and coach seasoned data science and app development colleagues in developing their skills in the same.\\n Demonstrate creative ability to recommend visualizations of data that empower key business stakeholders more easily interpret complex information and quickly identify key insights they can trust.\\n Orchestrate presentations and communications through effective conveying of complex analyses up to the leadership level.\\n Mentor and influence in solving and correction of complex issues.\\n What you need\\nBachelor's Degree in data science, computer science, mathematics, statistics, or related field with applicable data science work experience.\\n 8+ years of work experience required.\\n 2+ years of people leadership experience preferred.\\n Master's Degree or higher in related discipline preferred.\\n Experience with project management specifically scrum and agile frameworks required.\\n Experience in software development lifecycle concepts, tools, best practices.\\n Experience leading peers through end-to-end data science and app development projects: from problem and requirements definition to model/algorithm validation and deployment.\\n Proficiency in object-oriented programming and data structures required.\\n Proficiency in at least one programming language central to AI/Data Science or app development (e.g. Python, R, Scala, Spark, R Shiny, etc) or skills in at least two programming languages required.\\n Experience in at least one statistical technique (e.g. time series modelling, classification, computer vision) or experience in at least two techniques required.\\n Actual minimum and maximum may vary based on location. Individual pay is based on skills, experience, and other relevant factors.\\n About Stryker\\nOur benefits:\\n\\n12 paid holidays annually\\nHealth benefits include: Medical and prescription drug insurance, dental insurance, vision insurance, critical illness insurance, accident insurance, hospital indemnity insurance, personalized healthcare support, wellbeing program and tobacco cessation program.\\n Financial benefits include Health Savings Account (HSA), Flexible Spending Accounts (FSAs), 401(k) plan, Employee Stock Purchase Plan (ESPP), basic life and AD&D insurance, and short-term disability insurance.\\n For a more detailed overview of our benefits or time off, please follow this link to learn more: US Stryker employee benefits\\n\\nAbout Stryker\\nStryker is a global leader in medical technologies and, together with its customers, is driven to make healthcare better. The company offers innovative products and services in MedSurg, Neurotechnology, Orthopaedics and Spine that help improve patient and healthcare outcomes. Alongside its customers around the world, Stryker impacts more than 130 million patients annually. More information is available at stryker.com.\\n\\n Know someone at Stryker?\\nBe sure to have them submit you as a referral prior to applying for this position. Learn more about our employee referral program on our referral page\\n\\nStryker is driven to work together with our customers to make healthcare better. Employees and new hires in sales and field roles that require access to customer accounts as a function of the job may be required, depending on customer requirements, to obtain various vaccinations as an essential function of their role.\"\n        ],\n        \"semantic_type\": \"\",\n        \"description\": \"\"\n      }\n    },\n    {\n      \"column\": \"avg_pay\",\n      \"properties\": {\n        \"dtype\": \"number\",\n        \"std\": 63449.777966302136,\n        \"min\": 27040.0,\n        \"max\": 750000.0,\n        \"num_unique_values\": 1224,\n        \"samples\": [\n          176800.0,\n          235450.0,\n          185800.0\n        ],\n        \"semantic_type\": \"\",\n        \"description\": \"\"\n      }\n    },\n    {\n      \"column\": \"full_info\",\n      \"properties\": {\n        \"dtype\": \"string\",\n        \"num_unique_values\": 2269,\n        \"samples\": [\n          \"Job title: Process Engineer (Production Engineering Specialist). Company name: Nestl\\u00e9 Purina Pet Care.                                         Location: Jefferson, WI. Job type: Full-time. Process Engineer (Production Engineering Specialist)\\n We\\u2019re a leader in the pet care industry, which means we\\u2019re not only ahead in volume, profit and market share, but our associates dare to Stand Taller. We innovate new products, impart new agilities into existing processes, constantly advance pet nutrition, and always pay it forward in the form of service for our communities and families. Are you up for the dare?\\n\\n This position is not eligible for Visa Sponsorship.\\n\\n POSITION SUMMARY\\n\\nWe\\u2019re a \\u201csafety first\\u201d culture driven by a zero defect and zero waste mentality set out to enrich the lives of pets everywhere. As a leading pet food manufacturer, we carry on the legacy of our Founder who led us to reshape the larger pet care category. Over 130 years in existence, we\\u2019ve grown our passionate Nestl\\u00e9 Purina Family as we\\u2019ve grown the breadth of our business. Your needs are our responsibility\\u2014 benefits, safety, and career growth. But, we leave it up to you to shape our future and your career aspirations.\\n As a Process Engineer, you\\u2019ll be responsible for equipment re-design while implementing, controlling, and optimizing manufacturing processes and machinery to achieve organizational targets. You\\u2019ll work hand in hand with Production and Engineering to help improve standards that enable high performing production processes in our facility. Additional responsibilities include defining equipment standards, leading process benchmarking and reapplication, and building capability within teams to do technical troubleshooting and process improvement and understanding the Nestle Continuous Excellence program and the respective TPM Pillars and tools.\\n\\nPrimary Responsibilities\\nAnalyze loss data to identify and prioritize projects to be executed in factory's continuous improvement plan and develop technical mastery of the core production processes, driven by bottleneck/high losses. Lead v-curve analysis and balanced line flow studies and identify debottlenecking projects.\\n Initiate, lead, and modify process/equipment improvements that will increase throughput, reduce scrap, improve quality, and eliminate losses.\\n Drive and mobilize resources to conduct problem solving on systems or equipment through failure modes & effects analysis (FMEA) and other Six Sigma methodology.\\n Participate in design, commissioning, and startup of new equipment/processes.\\n Creating and improving standards that enable sustainability of high preforming production processes and supporting training programs that develop high performing operators and technicians and.\\n Collaborating with technical experts, other functions, and other factories to create and replicate optimal solutions/best practices.\\n\\n Requirements\\nBachelor\\u2019s degree in an engineering or related technical field.\\n 3+ years of project/ process management experience in a manufacturing, military, or related environment.\\n OR\\n Associate\\u2019s degree in a technical field.\\n 5+ years of project/ process management experience in a manufacturing, military, or related environment.\\n\\n Please note that the pay range provided is a good faith estimate for the position at the time of posting. Final compensation may vary based on factors including but not limited to knowledge, skills and abilities as well as geographic location. Nestl\\u00e9 offers performance-based incentives and a competitive total rewards package, which includes a 401k with Company match, healthcare coverage and a broad range of other benefits. Incentives and/or benefit packages may vary depending on the position. Learn more at Learn more at About Us | About Us | Making an Impact | Nestle Careers (nestlejobs.com)\\n\\nREQUISITION ID\\n286677\\n It is our business imperative to remain a very inclusive workplace.\\n\\n To our veterans and separated service members, you're at the forefront of our minds as we recruit top talent to join Nestl\\u00e9. The skills you've gained while serving our country, such as flexibility, agility, and leadership, are much like the skills that will make you successful in this role. In addition, with our commitment to an inclusive work environment, we recognize the exceptional engagement and innovation displayed by individuals with disabilities. Nestl\\u00e9 seeks such skilled and qualified individuals to share our mission where you\\u2019ll join a cohort of others who have chosen to call Nestl\\u00e9 home.\\n\\n The Nestl\\u00e9 Companies are an equal employment opportunity and affirmative action employer* seeking diversity in qualified applicants for employment. All applicants will receive consideration for employment without regard to race, ethnicity, color, gender, gender identity, age, religion, national origin, ancestry, disability, perceived disability, medical condition, genetic information, veteran status, sexual orientation, or any other protected status, as defined by applicable law. Prior to the next step in the recruiting process, we welcome you to inform us confidentially if you may require any special accommodations in order to participate fully in our recruitment experience. Contact us at accommodations@nestle.com or please dial 711 and provide this number to the operator: 1-800-321-6467\\n\\nNote: Nespresso is not a federal contractor and does not maintain affirmative action programs\\n\\nReview our applicant privacy notice before applying at https://www.nestlejobs.com/privacy\\n\\nJefferson, WI, US, 53549\",\n          \"Job title: Portfolio Implementation Associate. Company name: Dodge & Cox.                                         Location: San Francisco, CA. Job type: Full-time. The Portfolio Implementation Team (\\u201cPIT\\u201d) is responsible for equity trade order entry for Dodge & Cox separately managed equity and balanced accounts. The Portfolio Implementation Associate will focus on trade order entry in institutional tax-exempt separate accounts and will provide back-up support for taxable separate accounts. The PIT collaborates closely with Client Portfolio Managers, Client Service Associates, traders, investment professionals and other operational and client facing groups throughout the firm to implement Dodge & Cox strategies on behalf of clients.\\n Primary responsibilities include:\\nImplementing policy decisions via trade order entry in separately managed, tax-exempt client accounts. Portfolios will be managed across Dodge & Cox\\u2019s domestic, international, and global equity strategies.\\n Overseeing account cash levels and meeting client incoming/outgoing cash directives via trade order entry.\\n Reviewing portfolios to ensure compliance with client account investment guidelines and/or restrictions.\\n Collaborating with Client Portfolio Managers, Client Service Associates, traders, investment professionals and the Operations team to execute the appropriate portfolio management decisions across client accounts.\\n Facilitating the due diligence and implementation of unique portfolio management scenarios, including, but not limited to in-kind transfers, account opening/closing, asset allocation adjustments, security compensation and corporate action events.\\n Producing and communicating ad hoc portfolio implementation analytics, characteristics, and attribution for separate accounts and/or the Dodge & Cox funds.\\n Dodge & Cox targets candidates with high levels of academic and professional achievement and leadership ability.\\n Candidates for this role should have:\\n A minimum of two years of related work experience\\nB.A or B.S. degree with a strong academic record\\nCompatibility in a highly collegial and collaborative environment. The listed pay scale denotes only the pay range of the base salary and does not include discretionary bonus compensation, which may make up an important portion of the total remuneration. Dodge & Cox encourages applicants to consider the value of the many competitive benefits it offers, including coverage of 100% of all healthcare premiums for employees and their families and fully funding a retirement plan at 25% of the total compensation to the IRS limit. Dodge & Cox also provides additional benefits such as commuter, health & wellness, backup care, matching gift, employee assistance, and life and disability insurance. The listed pay scale reflects the base salary Dodge & Cox reasonably expects to pay for this position and is not a reflection of the highest and lowest base salary of any current Dodge & Cox employee. Actual base salary will be based on factors such as the candidate's prior relevant experience (including within and external to Dodge & Cox, as applicable), education, skills, and knowledge.\\n The job description above is not designed to cover or contain a comprehensive listing of activities, duties or responsibilities that are required of the employee. It is the Company\\u2019s policy to provide equal opportunity to all persons without regard to race, color, religion, sex, pregnancy, marital or domestic partner status, sexual orientation, gender identity or expression, age, ancestry, national origin, disability, or medical condition, as defined in state and federal laws. This policy covers all aspects of employment including, but not limited to, recruitment, selection, training, promotion, transfer, compensation, demotion, and termination. By applying for a position with Dodge & Cox, you acknowledge that you have read our\\nEEO Policy\\nAll Dodge & Cox employees must adhere to the Firm\\u2019s security policies and Code of Ethics. Pursuant to the San Francisco Fair Chance Ordinance, we will consider for employment qualified applicants with arrest and conviction records.\",\n          \"Job title: Senior Specialist, Human Resources. Company name: Ross Stores.                                         Location: Remote. Job type: not specified. Our values start with our people, join a team that values you!\\n We are the nation\\u2019s largest off-price retailer with over 2,000 stores, and a strong track record of success and growth. Our focus has always been bringing our customers a constant stream of high-quality brands and on-trend merchandise at extraordinary savings. All while providing a fun and exciting treasure hunt experience.\\n As part of our team, you will experience:\\nSuccess. Our winning team pursues excellence while learning and evolving\\nCareer growth. We develop industry leading talent because Ross grows when our people grow\\nTeamwork. We work together to solve the hard problems and find the right solution\\nOur commitment to Diversity, Equity & Inclusion, and our community. We celebrate the backgrounds, identities, and ideas of those who work and shop with us because our differences make us stronger. We strive to be a positive force in our community.\\n Our Corporate headquarters are in Dublin, CA, we have 3 buying offices in key markets in New York City, Los Angeles, and Boston, and 7 distribution centers nationwide. Come see what\\u2019s in store: https://jobs.rossstores.com/creative/about\\nGENERAL PURPOSE:\\n Mitigate risk for the company and drive engagement by managing timely responses to Associate concerns raised through open-door channels. Execute prompt, timely, thorough, and proactive responses to Alertlines, 3rd party charges, Associate correspondence, social media, or any actionable trends identified through Case Management requiring on-site or remote investigative activity. Provide Associate Relations support for critical incidents such as suicidal associates and domestic violence. Support after-hours critical incident coverage as assigned. Coach and counsel business unit leadership on managing Associate Relations issues. Facilitate Key People Processes and Approachable Leadership training or conduct Climate Surveys in response to Associate Engagement results. Through the investigation process, monitor, validate, and ensure compliance with internal HR policies and procedures and external local, state, and federal laws. Follow all HR Services processes and work with the HR Services Leadership team and legal partners to provide documentation, reports, or investigative case files or records as needed.\\n\\n The base salary range is dependent on factors including, but not limited to, experience, skills, qualifications, relevant education, certifications, seniority, and location. The range listed is just one component of the total compensation package for employees. Other rewards vary by position and location.\\n\\n Benefits offered to all Associates include Accident, Critical Illness, Vision, Auto, Home, and Pet insurance programs; Associate Discount, Identity Protection, Associate Purchase Program, Benefit Hub Discount Mall, Employee Assistance Program and Commuter Benefits, 401K (service requirements), Employee Stock Purchase Program, Ross Cares Fund, College Discounts, Sick Pay (where legally required) and Referral Bonuses. In addition, all Full-Time Associates, including FT Retail Associate, Area Supervisor, Assistant Store Manager and Store Manager, are eligible for extended benefits offered including Medical/Dental/Vision Health Insurance, Legal Insurance, Vacation Buy, Flexible Spending Account, Health Savings Account, Life/ADD Insurance, Long- Term Disability, Enhanced Maternity and Parental Leave Benefit, Vacation Pay accrued at a rate of 15 days/year, 15 Personal and Company Holidays. AS, ASM and SM Associates in Stores and Exempt Corporate and Merchandising roles are also eligible to receive a Bonus based on individual and business performance.\\n\\n ESSENTIAL FUNCTIONS:\\nAssociate Relations-Investigations:\\n\\nConduct on-site/remote investigations as assigned by the Associate Relations Case Manager identified through Case Management, Alertline, 3rd party channels, social media, associate correspondence, or other vehicles. Required to conduct investigations for all shifts for the business units HR Services supports.\\n\\n Follow HR Services investigation and response processes to ensure consistency and mitigate risk. Enter case notes and supporting documentation, including reporting and video from investigations into the Case Management system daily and in a timely/thorough manner.\\n\\n Work closely with the HR Services team to ensure cross-functional sharing of activities and outcomes.\\n\\n Together with the support team, run reporting and provide related documents such as case management history, compliance sign-offs, etc., to assist in responding to 3rd party claims agency/attorney charges. Conduct investigations as needed for further case closure.\\n\\n Respond on site as necessary to any crises working with the LP and 3rd party - Magellan.\\n\\n Conduct Domestic/Intimate Partner Interactives and follow established protocols.\\n\\n Respond to cases involving Suicidal Associates by following established protocols.\\n\\n Lead First Responder process.\\n\\n Through investigations, monitor that stores are proactively executing a Pro-Associate culture.\\n\\n Advise on Corrective Action Guideline adherence and counsel Store Management on policy violation disciplinary action to ensure consistency.\\n\\n Interpret personnel policy. Assist Field Leadership in redirecting Associates when necessary and formulating action plans with managers when potential associate problems are identified.\\n\\n Develop self by staying abreast of HR techniques and trends.\\n Compliance:\\n\\nRespond (within 48 business hours - 24 business hours for Sexual Harassment) to all case management, critical incidents, 3rd Party charges, or other forms of notification relating to Associate relations allegations.\\n\\n Meet established service level expectations, including expected case closure productivity and days to close goals.\\n\\nFollow all HR Services Investigation and Communication processes.\\n\\n Final Pay and effective scheduling within guidelines.\\n\\n Recommend follow-up on appropriate disciplinary action for repeat compliance issues.\\n Government Regulations:\\n\\nWork with legal to help support as needed in the research and documentation of any state or federal agency complaints and coordinate response with legal counsel.\\n\\n Stay abreast of regional, state, or federal AR-related legislation and changes that may affect company policy/procedure.\\n\\n Conduct or follow up on ADA regulations and Interactives as necessary to ensure we remain compliant.\\n Training:\\n\\nConduct training workshops and seminars as needed.\\n Analysis/Research:\\n\\nRecommend human resource policy, and process improvement recommendations to the supervisor in response to changing needs or trends.\\n\\n As part of the investigation process, assess training, benefits, wages, labor, and associate relations needs and communicate recommendations to business partners.\\n\\n Initiate analysis/reports / statistical data as part of the investigation process and use this data to support findings and identify trends.\\n Liaison to Corporate Office/Field/Distribution Center:\\n\\nGuide business unit leaders as needed in implementing and communicating Human Resources, compensation, and benefit policies and procedures.\\n\\n Act as liaison between business units (corporate, stores, DCs) for training, benefits, labor, and associate relations needs.\\n Special projects and other duties as assigned.\\n\\n COMPETENCIES:\\nCommunicates Effectively\\nDealing with Ambiguity\\nCollaboration\\nManages Conflict\\nDecision Quality\\nEnsures Accountability and Execution\\nBusiness Acumen\\nPlans, Aligns, and Prioritizes\\n\\nQUALIFICATIONS AND SPECIAL SKILLS REQUIRED:\\n\\n3-5 years of multi-unit retail HR or similar Associate Relations Call Center/Shared Services experience preferred\\n\\nWorkplace Investigations Training preferred\\n\\nKnowledge of NLRB-related issues is a plus\\n\\nDegree(s) in Business Administration, Organization Development, Human Resources, or other related field preferred\\n\\nExcellent interpersonal, presentation, facilitation, analytical, organizational, and communication skills required\\n\\nWorking knowledge of Excel, Word, and Outlook\\n\\nPHYSICAL REQUIREMENTS/ADA:\\n This position requires the ability to work in an office environment, including using a computer, attending meetings, working as part of a team, and the ability to communicate with team members and others. Regular attendance also is a requirement of the position.\\n Occasional Requirements: The job occasionally requires bending, kneeling, reaching, and lifting up to 10 pounds.\\n May also require occasional 10-15% short notice driving and/or air travel, including traveling overnight (single or multiple) for on-site investigations, business functions, or site visits.\\n This position may be performed remotely anywhere within the United States. #LI-Remote\\n\\nSUPERVISORY RESPONSIBILITIES:\\nNone\\n\\nDISCLAIMER:\\n This position description is a summary of the primary duties and responsibilities of the job and position. It is not intended to be a comprehensive or all-inclusive listing of duties and responsibilities. Contents are subject to change at management's discretion.\\n\\n Ross is an equal employment opportunity employer. We consider individuals for employment or promotion according to their skills, abilities and experience. We believe that it is an essential part of the Company's overall commitment to attract, hire and develop a strong, talented and diverse workforce. Ross is committed to complying with all applicable laws prohibiting discrimination based on race, color, religious creed, age, national origin, ancestry, physical, mental or developmental disability, sex (which includes pregnancy, childbirth, breastfeeding and medical conditions related to pregnancy, childbirth or breastfeeding), veteran status, military status, marital or registered domestic partnership status, medical condition (including cancer or genetic characteristics), genetic information, gender, gender identity, gender expression, sexual orientation, as well as any other category protected by federal, state or local laws.\"\n        ],\n        \"semantic_type\": \"\",\n        \"description\": \"\"\n      }\n    }\n  ]\n}"
            },
            "application/vnd.google.colaboratory.module+javascript": "\n      import \"https://ssl.gstatic.com/colaboratory/data_table/881c4a0d49046431/data_table.js\";\n\n      const table = window.createDataTable({\n        data: [[{\n            'v': 0,\n            'f': \"0\",\n        },\n\"Electrical Engineering: Opportunities for University Graduates\",\n\"Microsoft\",\n\"One Microsoft Way, Redmond, WA 98052\",\n\"Full-time\",\n\"Come build community, explore your passions and do your best work at Microsoft with thousands of University students from every corner of the world. This opportunity will allow you to bring your aspirations, talent, potential\\u2014and excitement for the journey ahead.\\n\\n As an Electrical Engineer at Microsoft, you will design, develop, modify, and evaluate components used in electronic devices that involve the manipulation, transmission, and storage of electricity. Define design approaches, implementation schedules, technical specifications, and parameters for devices. You will partake in selecting materials and components based on analysis of specifications and reliability. This opportunity will allow you to develop test plans and direct support personnel, or other engineers, in the preparation and execution of design testing or prototype fabrication.\\n\\n Those hired into this role are invited to participate in the Microsoft Aspire Experience, a two-year learning and development program in which you'll build your network, cultivate intentional capabilities, and gain perspective into the career opportunities across Microsoft\\u2019s many exciting businesses.\\n\\n Microsoft\\u2019s mission is to empower every person and every organization on the planet to achieve more. As employees we come together with a growth mindset, innovate to empower others, and collaborate to realize our shared goals. Each day we build on our values of respect, integrity, and accountability to create a culture of inclusion where everyone can thrive at work and beyond.\\n\\nResponsibilities\\nDevelops design documentation for well-defined features and review supplier or partner technical sheets. You\\u2019ll also analyze data analyses to identify common flaws in feature or product designs.\\n Ensures documentation includes test requirements, determine appropriate test equipment, and carry out test plans on standard features or products.\\n Collect data for external testing, as well as help develop test fixtures for new feature testing and validation.\\n Implementates schedules for a feature or product while highlighting potential downstream issues. You\\u2019ll also help implement risk assessments and communicate progress within the team.\\n Creates detailed reports for a product feature or extension. This will include documenting essential details and accurate recording and tracking design changes with guidance.\\n Qualifications\\nRequired Qualifications\\nRecently completed a Bachelor's degree in Electrical Engineering, Computer Engineering, or related field.\\n 3+ months related technical engineering experience or internship experience\\n\\nElectrical Engineering IC2 - Certain roles may be eligible for benefits and other compensation. Find additional benefits and pay information here: https://careers.microsoft.com/us/en/us-corporate-pay\\n\\nMicrosoft accepts applications and processes offers for these roles on an ongoing basis throughout the academic calendar (September \\u2013 April).\\n\\n Microsoft is an equal opportunity employer. Consistent with applicable law, all qualified applicants will receive consideration for employment without regard to age, ancestry, citizenship, color, family or medical care leave, gender identity or expression, genetic information, immigration status, marital status, medical condition, national origin, physical or mental disability, political affiliation, protected veteran or military status, race, ethnicity, religion, sex (including pregnancy), sexual orientation, or any other characteristic protected by applicable local laws, regulations and ordinances. If you need assistance and/or a reasonable accommodation due to a disability during the application process, read more about requesting accommodations.\",\n{\n            'v': 114100.0,\n            'f': \"114100.0\",\n        },\n\"Job title: Electrical Engineering: Opportunities for University Graduates. Company name: Microsoft.                                         Location: One Microsoft Way, Redmond, WA 98052. Job type: Full-time. Come build community, explore your passions and do your best work at Microsoft with thousands of University students from every corner of the world. This opportunity will allow you to bring your aspirations, talent, potential\\u2014and excitement for the journey ahead.\\n\\n As an Electrical Engineer at Microsoft, you will design, develop, modify, and evaluate components used in electronic devices that involve the manipulation, transmission, and storage of electricity. Define design approaches, implementation schedules, technical specifications, and parameters for devices. You will partake in selecting materials and components based on analysis of specifications and reliability. This opportunity will allow you to develop test plans and direct support personnel, or other engineers, in the preparation and execution of design testing or prototype fabrication.\\n\\n Those hired into this role are invited to participate in the Microsoft Aspire Experience, a two-year learning and development program in which you'll build your network, cultivate intentional capabilities, and gain perspective into the career opportunities across Microsoft\\u2019s many exciting businesses.\\n\\n Microsoft\\u2019s mission is to empower every person and every organization on the planet to achieve more. As employees we come together with a growth mindset, innovate to empower others, and collaborate to realize our shared goals. Each day we build on our values of respect, integrity, and accountability to create a culture of inclusion where everyone can thrive at work and beyond.\\n\\nResponsibilities\\nDevelops design documentation for well-defined features and review supplier or partner technical sheets. You\\u2019ll also analyze data analyses to identify common flaws in feature or product designs.\\n Ensures documentation includes test requirements, determine appropriate test equipment, and carry out test plans on standard features or products.\\n Collect data for external testing, as well as help develop test fixtures for new feature testing and validation.\\n Implementates schedules for a feature or product while highlighting potential downstream issues. You\\u2019ll also help implement risk assessments and communicate progress within the team.\\n Creates detailed reports for a product feature or extension. This will include documenting essential details and accurate recording and tracking design changes with guidance.\\n Qualifications\\nRequired Qualifications\\nRecently completed a Bachelor's degree in Electrical Engineering, Computer Engineering, or related field.\\n 3+ months related technical engineering experience or internship experience\\n\\nElectrical Engineering IC2 - Certain roles may be eligible for benefits and other compensation. Find additional benefits and pay information here: https://careers.microsoft.com/us/en/us-corporate-pay\\n\\nMicrosoft accepts applications and processes offers for these roles on an ongoing basis throughout the academic calendar (September \\u2013 April).\\n\\n Microsoft is an equal opportunity employer. Consistent with applicable law, all qualified applicants will receive consideration for employment without regard to age, ancestry, citizenship, color, family or medical care leave, gender identity or expression, genetic information, immigration status, marital status, medical condition, national origin, physical or mental disability, political affiliation, protected veteran or military status, race, ethnicity, religion, sex (including pregnancy), sexual orientation, or any other characteristic protected by applicable local laws, regulations and ordinances. If you need assistance and/or a reasonable accommodation due to a disability during the application process, read more about requesting accommodations.\"]],\n        columns: [[\"number\", \"index\"], [\"string\", \"title\"], [\"string\", \"company_name\"], [\"string\", \"location\"], [\"string\", \"job_type\"], [\"string\", \"description\"], [\"number\", \"avg_pay\"], [\"string\", \"full_info\"]],\n        columnOptions: [{\"width\": \"1px\", \"className\": \"index_column\"}],\n        rowsPerPage: 25,\n        helpUrl: \"https://colab.research.google.com/notebooks/data_table.ipynb\",\n        suppressOutputScrolling: true,\n        minimumWidth: undefined,\n      });\n\n      function appendQuickchartButton(parentElement) {\n        let quickchartButtonContainerElement = document.createElement('div');\n        quickchartButtonContainerElement.innerHTML = `\n<div id=\"df-0ca15263-520f-4b3e-93e5-acf10339b162\">\n  <button class=\"colab-df-quickchart\" onclick=\"quickchart('df-0ca15263-520f-4b3e-93e5-acf10339b162')\"\n            title=\"Suggest charts\"\n            style=\"display:none;\">\n    \n<svg xmlns=\"http://www.w3.org/2000/svg\" height=\"24px\"viewBox=\"0 0 24 24\"\n     width=\"24px\">\n    <g>\n        <path d=\"M19 3H5c-1.1 0-2 .9-2 2v14c0 1.1.9 2 2 2h14c1.1 0 2-.9 2-2V5c0-1.1-.9-2-2-2zM9 17H7v-7h2v7zm4 0h-2V7h2v10zm4 0h-2v-4h2v4z\"/>\n    </g>\n</svg>\n  </button>\n  \n<style>\n  .colab-df-quickchart {\n      --bg-color: #E8F0FE;\n      --fill-color: #1967D2;\n      --hover-bg-color: #E2EBFA;\n      --hover-fill-color: #174EA6;\n      --disabled-fill-color: #AAA;\n      --disabled-bg-color: #DDD;\n  }\n\n  [theme=dark] .colab-df-quickchart {\n      --bg-color: #3B4455;\n      --fill-color: #D2E3FC;\n      --hover-bg-color: #434B5C;\n      --hover-fill-color: #FFFFFF;\n      --disabled-bg-color: #3B4455;\n      --disabled-fill-color: #666;\n  }\n\n  .colab-df-quickchart {\n    background-color: var(--bg-color);\n    border: none;\n    border-radius: 50%;\n    cursor: pointer;\n    display: none;\n    fill: var(--fill-color);\n    height: 32px;\n    padding: 0;\n    width: 32px;\n  }\n\n  .colab-df-quickchart:hover {\n    background-color: var(--hover-bg-color);\n    box-shadow: 0 1px 2px rgba(60, 64, 67, 0.3), 0 1px 3px 1px rgba(60, 64, 67, 0.15);\n    fill: var(--button-hover-fill-color);\n  }\n\n  .colab-df-quickchart-complete:disabled,\n  .colab-df-quickchart-complete:disabled:hover {\n    background-color: var(--disabled-bg-color);\n    fill: var(--disabled-fill-color);\n    box-shadow: none;\n  }\n\n  .colab-df-spinner {\n    border: 2px solid var(--fill-color);\n    border-color: transparent;\n    border-bottom-color: var(--fill-color);\n    animation:\n      spin 1s steps(1) infinite;\n  }\n\n  @keyframes spin {\n    0% {\n      border-color: transparent;\n      border-bottom-color: var(--fill-color);\n      border-left-color: var(--fill-color);\n    }\n    20% {\n      border-color: transparent;\n      border-left-color: var(--fill-color);\n      border-top-color: var(--fill-color);\n    }\n    30% {\n      border-color: transparent;\n      border-left-color: var(--fill-color);\n      border-top-color: var(--fill-color);\n      border-right-color: var(--fill-color);\n    }\n    40% {\n      border-color: transparent;\n      border-right-color: var(--fill-color);\n      border-top-color: var(--fill-color);\n    }\n    60% {\n      border-color: transparent;\n      border-right-color: var(--fill-color);\n    }\n    80% {\n      border-color: transparent;\n      border-right-color: var(--fill-color);\n      border-bottom-color: var(--fill-color);\n    }\n    90% {\n      border-color: transparent;\n      border-bottom-color: var(--fill-color);\n    }\n  }\n</style>\n\n  <script>\n    async function quickchart(key) {\n      const quickchartButtonEl =\n        document.querySelector('#' + key + ' button');\n      quickchartButtonEl.disabled = true;  // To prevent multiple clicks.\n      quickchartButtonEl.classList.add('colab-df-spinner');\n      try {\n        const charts = await google.colab.kernel.invokeFunction(\n            'suggestCharts', [key], {});\n      } catch (error) {\n        console.error('Error during call to suggestCharts:', error);\n      }\n      quickchartButtonEl.classList.remove('colab-df-spinner');\n      quickchartButtonEl.classList.add('colab-df-quickchart-complete');\n    }\n    (() => {\n      let quickchartButtonEl =\n        document.querySelector('#df-0ca15263-520f-4b3e-93e5-acf10339b162 button');\n      quickchartButtonEl.style.display =\n        google.colab.kernel.accessAllowed ? 'block' : 'none';\n    })();\n  </script>\n</div>`;\n        parentElement.appendChild(quickchartButtonContainerElement);\n      }\n\n      appendQuickchartButton(table);\n    "
          },
          "metadata": {},
          "execution_count": 14
        }
      ]
    },
    {
      "cell_type": "markdown",
      "source": [
        "### Save DataFrame"
      ],
      "metadata": {
        "id": "EF_ME8ZgqF8h"
      }
    },
    {
      "cell_type": "code",
      "source": [
        "df['avg_pay'].describe()"
      ],
      "metadata": {
        "colab": {
          "base_uri": "https://localhost:8080/"
        },
        "id": "caH5HDiaubPl",
        "outputId": "82a7f629-2ecb-4f57-d732-792b7e94fbb5"
      },
      "execution_count": 17,
      "outputs": [
        {
          "output_type": "execute_result",
          "data": {
            "text/plain": [
              "count      2270.000000\n",
              "mean     112621.154581\n",
              "std       63449.777966\n",
              "min       27040.000000\n",
              "25%       69817.170000\n",
              "50%       93146.000000\n",
              "75%      136937.250000\n",
              "max      750000.000000\n",
              "Name: avg_pay, dtype: float64"
            ]
          },
          "metadata": {},
          "execution_count": 17
        }
      ]
    },
    {
      "cell_type": "code",
      "source": [
        "print(f\"Saving {df.shape[0]} jobs...\")\n",
        "df.to_csv(path + 'processed/' + 'jobs_processed.csv', index=False)"
      ],
      "metadata": {
        "id": "w7dRNDqRqKO_",
        "colab": {
          "base_uri": "https://localhost:8080/"
        },
        "outputId": "043e573f-234c-4df1-84eb-f965effafb99"
      },
      "execution_count": 18,
      "outputs": [
        {
          "output_type": "stream",
          "name": "stdout",
          "text": [
            "Saving 2270 jobs...\n"
          ]
        }
      ]
    }
  ]
}