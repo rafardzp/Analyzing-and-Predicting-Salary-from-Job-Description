{
  "cells": [
    {
      "cell_type": "markdown",
      "metadata": {
        "id": "LT3jj61QwJ_w"
      },
      "source": [
        "# **NLP Project: Analyzing and Predicting Salary from Job Description**\n",
        "\n",
        "*Master in Machine Learning for Health, 2023~2024*\n",
        "\n",
        "*Authors: Daniel Corrales, Jaime Fernández & Rafael Rodríguez*\n",
        "\n",
        "---"
      ]
    },
    {
      "cell_type": "code",
      "execution_count": null,
      "metadata": {
        "colab": {
          "base_uri": "https://localhost:8080/",
          "height": 17
        },
        "id": "wIEhJkSaWW8Z",
        "outputId": "0ac4fb83-2677-4511-f061-63d813960c70"
      },
      "outputs": [
        {
          "data": {
            "text/html": [
              "\n",
              "  <style>\n",
              "    pre {\n",
              "        white-space: pre-wrap;\n",
              "    }\n",
              "  </style>\n",
              "  "
            ],
            "text/plain": [
              "<IPython.core.display.HTML object>"
            ]
          },
          "metadata": {},
          "output_type": "display_data"
        }
      ],
      "source": [
        "# Common imports\n",
        "import numpy as np\n",
        "import pandas as pd\n",
        "import seaborn as sns\n",
        "import matplotlib.pyplot as plt\n",
        "import subprocess\n",
        "import pickle\n",
        "import os\n",
        "\n",
        "%matplotlib inline\n",
        "%config InlineBackend.figure_format = 'retina'\n",
        "sns.set()"
      ]
    },
    {
      "cell_type": "code",
      "execution_count": null,
      "metadata": {
        "colab": {
          "base_uri": "https://localhost:8080/"
        },
        "id": "utXptUwYaZ3G",
        "outputId": "8c7281f5-a806-4317-a606-80536ae04117"
      },
      "outputs": [
        {
          "name": "stdout",
          "output_type": "stream",
          "text": [
            "Mounted at /content/drive\n"
          ]
        }
      ],
      "source": [
        "from google.colab import drive\n",
        "drive.mount('/content/drive')"
      ]
    },
    {
      "cell_type": "code",
      "execution_count": null,
      "metadata": {
        "id": "s33bt1hoFviC"
      },
      "outputs": [],
      "source": [
        "#To wrap long text lines\n",
        "from IPython.display import HTML, display\n",
        "\n",
        "def set_css():\n",
        "  display(HTML('''\n",
        "  <style>\n",
        "    pre {\n",
        "        white-space: pre-wrap;\n",
        "    }\n",
        "  </style>\n",
        "  '''))\n",
        "get_ipython().events.register('pre_run_cell', set_css)"
      ]
    },
    {
      "cell_type": "code",
      "execution_count": null,
      "metadata": {
        "colab": {
          "base_uri": "https://localhost:8080/",
          "height": 17
        },
        "id": "D-LnZYfyY9EX",
        "outputId": "a83eaf47-5f9e-4b95-84cc-ccc4f8d01286"
      },
      "outputs": [
        {
          "data": {
            "text/html": [
              "\n",
              "  <style>\n",
              "    pre {\n",
              "        white-space: pre-wrap;\n",
              "    }\n",
              "  </style>\n",
              "  "
            ],
            "text/plain": [
              "<IPython.core.display.HTML object>"
            ]
          },
          "metadata": {},
          "output_type": "display_data"
        }
      ],
      "source": [
        "# For fancy table Display\n",
        "%load_ext google.colab.data_table"
      ]
    },
    {
      "cell_type": "code",
      "execution_count": null,
      "metadata": {
        "colab": {
          "base_uri": "https://localhost:8080/",
          "height": 34
        },
        "id": "y0qa50z_MKx0",
        "outputId": "4eebd2d2-61be-4028-c4d4-cd9eab5737c1"
      },
      "outputs": [
        {
          "data": {
            "text/html": [
              "\n",
              "  <style>\n",
              "    pre {\n",
              "        white-space: pre-wrap;\n",
              "    }\n",
              "  </style>\n",
              "  "
            ],
            "text/plain": [
              "<IPython.core.display.HTML object>"
            ]
          },
          "metadata": {},
          "output_type": "display_data"
        },
        {
          "name": "stdout",
          "output_type": "stream",
          "text": [
            "3.7.4\n"
          ]
        }
      ],
      "source": [
        "import spacy\n",
        "import gensim\n",
        "print(spacy.__version__)"
      ]
    },
    {
      "cell_type": "code",
      "execution_count": null,
      "metadata": {
        "id": "Vc-5iTyzOX6s"
      },
      "outputs": [],
      "source": [
        "# Download spaCy model\n",
        "!python -m spacy download en_core_web_md # Or other"
      ]
    },
    {
      "cell_type": "markdown",
      "metadata": {
        "id": "ntcDc8IpwklD"
      },
      "source": [
        "## **0. Data Loading**"
      ]
    },
    {
      "cell_type": "code",
      "execution_count": null,
      "metadata": {
        "colab": {
          "base_uri": "https://localhost:8080/",
          "height": 17
        },
        "id": "oAsQzSxnwoNB",
        "outputId": "5618929b-5eb6-414d-f485-182a7dbe7781"
      },
      "outputs": [
        {
          "data": {
            "text/html": [
              "\n",
              "  <style>\n",
              "    pre {\n",
              "        white-space: pre-wrap;\n",
              "    }\n",
              "  </style>\n",
              "  "
            ],
            "text/plain": [
              "<IPython.core.display.HTML object>"
            ]
          },
          "metadata": {},
          "output_type": "display_data"
        }
      ],
      "source": [
        "path = '/content/drive/MyDrive/NLP/Project'\n",
        "df_jobs = pd.read_csv(path + '/processed/jobs_processed.csv')"
      ]
    },
    {
      "cell_type": "markdown",
      "metadata": {
        "id": "q5pJrzylYx8Y"
      },
      "source": [
        "We work with the `full_info` column as input data and the `avg_pay` column as target column."
      ]
    },
    {
      "cell_type": "code",
      "execution_count": null,
      "metadata": {
        "colab": {
          "base_uri": "https://localhost:8080/",
          "height": 34
        },
        "id": "7rRTs96MZBJm",
        "outputId": "1ce4030a-6c4a-46c1-88f9-10638de828a1"
      },
      "outputs": [
        {
          "data": {
            "text/html": [
              "\n",
              "  <style>\n",
              "    pre {\n",
              "        white-space: pre-wrap;\n",
              "    }\n",
              "  </style>\n",
              "  "
            ],
            "text/plain": [
              "<IPython.core.display.HTML object>"
            ]
          },
          "metadata": {},
          "output_type": "display_data"
        },
        {
          "name": "stdout",
          "output_type": "stream",
          "text": [
            "Number of job offers: 2270\n"
          ]
        }
      ],
      "source": [
        "corpus = df_jobs['full_info'].to_list()\n",
        "avg_pay = df_jobs['avg_pay'].to_list()\n",
        "\n",
        "print(f\"Number of job offers: {len(corpus)}\")"
      ]
    },
    {
      "cell_type": "markdown",
      "metadata": {
        "id": "v_XDIO2wZvi-"
      },
      "source": [
        "Let's print an example to chechk everything is working properly."
      ]
    },
    {
      "cell_type": "code",
      "execution_count": null,
      "metadata": {
        "colab": {
          "base_uri": "https://localhost:8080/",
          "height": 642
        },
        "id": "g0OoSHF0ZlAc",
        "outputId": "3780f014-0c84-4cba-ba7f-2f994d7204bb"
      },
      "outputs": [
        {
          "data": {
            "text/html": [
              "\n",
              "  <style>\n",
              "    pre {\n",
              "        white-space: pre-wrap;\n",
              "    }\n",
              "  </style>\n",
              "  "
            ],
            "text/plain": [
              "<IPython.core.display.HTML object>"
            ]
          },
          "metadata": {},
          "output_type": "display_data"
        },
        {
          "name": "stdout",
          "output_type": "stream",
          "text": [
            "Average pay: 62400.0\n",
            "\n",
            "Job title: Temporary Language Consultant. Company name: University of Kansas.                                         Location: Strong Hall, 1450 Jayhawk Blvd, Room 230, Lawrence, KS 66045. Job type: Temporary. Position Overview\n",
            "The Department of Linguistics at the University of Kansas seeks to hire a part-time Me’phaa language consultant. Hours are flexible, and remote work is possible. The language consultant position is a collaborative position working in conjunction with a member of the department (and possibly additional consultants) to create materials that support Me’phaa language documentation and teaching.\n",
            " Job Description\n",
            "Identifying words, phrases, and other aspects of Me’phaa language and culture that will be important for language documentation and pedagogical work (20%)\n",
            "Creating audio and video recordings (60%)\n",
            " Helping create digital language resources (10%)\n",
            "Data organization (5%)\n",
            "Participating in team meetings (5%)\n",
            "Position Requirements\n",
            "Hybird\n",
            "Required Qualifications\n",
            "Advanced (or above) proficiency in Me’phaa (speaking and listening), as demonstrated in application materials.\n",
            " Preferred Qualifications\n",
            "Speaking and listening expertise in the variety of Me’phaa used in Iliatenco, as demonstrated in application materials.\n",
            " Familiarity with contemporary norms for writing Me’phaa, as demonstrated in application materials.\n",
            " Additional Candidate Instructions\n",
            "A complete application will include a cover letter and a resume. Apply online and submit a letter describing your qualifications for this position. Only complete applications will be considered.\n",
            "\n",
            " Review of applications begins on Thursday March 7, 2024 and continues as needed to collect a pool of qualified applicants. To ensure consideration, apply before the application review date.\n",
            " Posting Information\n",
            "Posting ID: 27278BR\n",
            "Department: Linguistics\n",
            "Primary Campus: University of Kansas Lawrence Campus\n",
            "Assignment: Hybrid\n",
            "Reg/Temp: Temporary\n",
            "Employee Class: U-Unclassified Professional Staff\n",
            "Review Begins: 07-Mar-2024\n"
          ]
        }
      ],
      "source": [
        "idx = 1000\n",
        "print(f\"Average pay: {avg_pay[idx]}\\n\")\n",
        "print(corpus[idx])"
      ]
    },
    {
      "cell_type": "markdown",
      "metadata": {
        "id": "4iWtoBKawrKQ"
      },
      "source": [
        "## **1. Preprocessing Pipeline**\n",
        "\n",
        "Here we preprocess the corpus to obtain its lemmatized version and we perform N-gram detection."
      ]
    },
    {
      "cell_type": "code",
      "execution_count": null,
      "metadata": {
        "colab": {
          "base_uri": "https://localhost:8080/",
          "height": 642
        },
        "id": "CngNyLzwwvVv",
        "outputId": "b0812463-3638-4894-f329-85e10e961d09"
      },
      "outputs": [
        {
          "data": {
            "text/html": [
              "\n",
              "  <style>\n",
              "    pre {\n",
              "        white-space: pre-wrap;\n",
              "    }\n",
              "  </style>\n",
              "  "
            ],
            "text/plain": [
              "<IPython.core.display.HTML object>"
            ]
          },
          "metadata": {},
          "output_type": "display_data"
        },
        {
          "name": "stdout",
          "output_type": "stream",
          "text": [
            "Average number of lemmas per job offer: 461.32775330396476\n",
            "\n",
            "['job', 'title', 'electrical', 'engineering', 'opportunity', 'university', 'graduate', 'company', 'microsoft', 'location', 'microsoft', 'way', 'redmond', 'wa', '98052', 'job', 'type', 'time', 'come', 'build', 'community', 'explore', 'passion', 'good', 'work', 'microsoft', 'thousand', 'university', 'student', 'corner', 'world', 'opportunity', 'allow', 'bring', 'aspiration', 'talent', 'potential', 'excitement', 'journey', 'ahead', 'electrical', 'engineer', 'microsoft', 'design', 'develop', 'modify', 'evaluate', 'component', 'electronic', 'device', 'involve', 'manipulation', 'transmission', 'storage', 'electricity', 'define', 'design', 'approach', 'implementation', 'schedule', 'technical', 'specification', 'parameter', 'device', 'partake', 'select', 'material', 'component', 'base', 'analysis', 'specification', 'reliability', 'opportunity', 'allow', 'develop', 'test', 'plan', 'direct', 'support', 'personnel', 'engineer', 'preparation', 'execution', 'design', 'testing', 'prototype', 'fabrication', 'hire', 'role', 'invite', 'participate', 'microsoft', 'aspire', 'experience', 'year', 'learning', 'development', 'program', 'build', 'network', 'cultivate', 'intentional', 'capability', 'gain', 'perspective', 'career', 'opportunity', 'microsoft', 'exciting', 'business', 'microsoft', 'mission', 'empower', 'person', 'organization', 'planet', 'achieve', 'employee', 'come', 'growth', 'mindset', 'innovate', 'empower', 'collaborate', 'realize', 'share', 'goal', 'day', 'build', 'value', 'respect', 'integrity', 'accountability', 'create', 'culture', 'inclusion', 'thrive', 'work', 'responsibility', 'develop', 'design', 'documentation', 'define', 'feature', 'review', 'supplier', 'partner', 'technical', 'sheet', 'analyze', 'data', 'analysis', 'identify', 'common', 'flaw', 'feature', 'product', 'design', 'ensure', 'documentation', 'include', 'test', 'requirement', 'determine', 'appropriate', 'test', 'equipment', 'carry', 'test', 'plan', 'standard', 'feature', 'product', 'collect', 'datum', 'external', 'testing', 'help', 'develop', 'test', 'fixture', 'new', 'feature', 'testing', 'validation', 'implementate', 'schedule', 'feature', 'product', 'highlight', 'potential', 'downstream', 'issue', 'help', 'implement', 'risk', 'assessment', 'communicate', 'progress', 'team', 'create', 'detailed', 'report', 'product', 'feature', 'extension', 'include', 'document', 'essential', 'detail', 'accurate', 'recording', 'track', 'design', 'change', 'guidance', 'qualification', 'require', 'qualification', 'recently', 'complete', 'bachelor', 'degree', 'electrical', 'engineering', 'computer', 'engineering', 'related', 'field', '3', 'month', 'relate', 'technical', 'engineering', 'experience', 'internship', 'experience', 'electrical', 'engineering', 'certain', 'role', 'eligible', 'benefit', 'compensation', 'find', 'additional', 'benefit', 'pay', 'information', 'microsoft', 'accept', 'application', 'process', 'offer', 'role', 'ongoing', 'basis', 'academic', 'calendar', 'september', 'april', 'microsoft', 'equal', 'opportunity', 'employer', 'consistent', 'applicable', 'law', 'qualified', 'applicant', 'receive', 'consideration', 'employment', 'regard', 'age', 'ancestry', 'citizenship', 'color', 'family', 'medical', 'care', 'leave', 'gender', 'identity', 'expression', 'genetic', 'information', 'immigration', 'status', 'marital', 'status', 'medical', 'condition', 'national', 'origin', 'physical', 'mental', 'disability', 'political', 'affiliation', 'protect', 'veteran', 'military', 'status', 'race', 'ethnicity', 'religion', 'sex', 'include', 'pregnancy', 'sexual', 'orientation', 'characteristic', 'protect', 'applicable', 'local', 'law', 'regulation', 'ordinance', 'need', 'assistance', 'reasonable', 'accommodation', 'disability', 'application', 'process', 'read', 'request', 'accommodation']\n"
          ]
        }
      ],
      "source": [
        "nlp = spacy.load('en_core_web_md')\n",
        "nlp.disable_pipe('parser')\n",
        "nlp.disable_pipe('ner')\n",
        "\n",
        "# Corpus list contains all documents (train, val and test)\n",
        "lemmatized_corpus = [[tk.lemma_ for tk in nlp(doc.lower()) if (tk.is_alpha or tk.is_digit) \\\n",
        "                      and not tk.is_stop and not tk.is_punct] for doc in corpus]\n",
        "\n",
        "avg_length = np.mean([len(lemmas) for lemmas in lemmatized_corpus])\n",
        "print(f\"Average number of lemmas per job offer: {avg_length}\\n\")\n",
        "print(lemmatized_corpus[0])"
      ]
    },
    {
      "cell_type": "markdown",
      "metadata": {
        "id": "CUYGJxGhPLpN"
      },
      "source": [
        "### N-gram Detection"
      ]
    },
    {
      "cell_type": "code",
      "execution_count": null,
      "metadata": {
        "colab": {
          "base_uri": "https://localhost:8080/",
          "height": 670
        },
        "id": "9X3aNwYiw5m6",
        "outputId": "77857977-ad4b-4233-f2e3-64dff234e680"
      },
      "outputs": [
        {
          "data": {
            "text/html": [
              "\n",
              "  <style>\n",
              "    pre {\n",
              "        white-space: pre-wrap;\n",
              "    }\n",
              "  </style>\n",
              "  "
            ],
            "text/plain": [
              "<IPython.core.display.HTML object>"
            ]
          },
          "metadata": {},
          "output_type": "display_data"
        },
        {
          "data": {
            "application/vnd.google.colaboratory.intrinsic+json": {
              "summary": "{\n  \"name\": \"n_grams_df\",\n  \"rows\": 695,\n  \"fields\": [\n    {\n      \"column\": \"N_gram\",\n      \"properties\": {\n        \"dtype\": \"string\",\n        \"num_unique_values\": 695,\n        \"samples\": [\n          \"time_intermittent\",\n          \"comic_strip\",\n          \"grade_level\"\n        ],\n        \"semantic_type\": \"\",\n        \"description\": \"\"\n      }\n    },\n    {\n      \"column\": \"Count\",\n      \"properties\": {\n        \"dtype\": \"number\",\n        \"std\": 189,\n        \"min\": 1,\n        \"max\": 2360,\n        \"num_unique_values\": 237,\n        \"samples\": [\n          138,\n          505,\n          31\n        ],\n        \"semantic_type\": \"\",\n        \"description\": \"\"\n      }\n    }\n  ]\n}",
              "type": "dataframe",
              "variable_name": "n_grams_df"
            },
            "application/vnd.google.colaboratory.module+javascript": "\n      import \"https://ssl.gstatic.com/colaboratory/data_table/881c4a0d49046431/data_table.js\";\n\n      const table = window.createDataTable({\n        data: [[{\n            'v': 0,\n            'f': \"0\",\n        },\n\"job_title\",\n{\n            'v': 2360,\n            'f': \"2360\",\n        }],\n [{\n            'v': 4,\n            'f': \"4\",\n        },\n\"job_type\",\n{\n            'v': 2338,\n            'f': \"2338\",\n        }],\n [{\n            'v': 254,\n            'f': \"254\",\n        },\n\"human_resource\",\n{\n            'v': 1854,\n            'f': \"1854\",\n        }],\n [{\n            'v': 18,\n            'f': \"18\",\n        },\n\"equal_opportunity\",\n{\n            'v': 1283,\n            'f': \"1283\",\n        }],\n [{\n            'v': 31,\n            'f': \"31\",\n        },\n\"national_origin\",\n{\n            'v': 901,\n            'f': \"901\",\n        }],\n [{\n            'v': 13,\n            'f': \"13\",\n        },\n\"bachelor_degree\",\n{\n            'v': 878,\n            'f': \"878\",\n        }],\n [{\n            'v': 107,\n            'f': \"107\",\n        },\n\"sexual_orientation\",\n{\n            'v': 817,\n            'f': \"817\",\n        }],\n [{\n            'v': 292,\n            'f': \"292\",\n        },\n\"machine_learning\",\n{\n            'v': 778,\n            'f': \"778\",\n        }],\n [{\n            'v': 67,\n            'f': \"67\",\n        },\n\"reasonable_accommodation\",\n{\n            'v': 777,\n            'f': \"777\",\n        }],\n [{\n            'v': 341,\n            'f': \"341\",\n        },\n\"new_york\",\n{\n            'v': 746,\n            'f': \"746\",\n        }],\n [{\n            'v': 26,\n            'f': \"26\",\n        },\n\"gender_identity\",\n{\n            'v': 731,\n            'f': \"731\",\n        }],\n [{\n            'v': 14,\n            'f': \"14\",\n        },\n\"related_field\",\n{\n            'v': 670,\n            'f': \"670\",\n        }],\n [{\n            'v': 92,\n            'f': \"92\",\n        },\n\"communication_skill\",\n{\n            'v': 614,\n            'f': \"614\",\n        }],\n [{\n            'v': 65,\n            'f': \"65\",\n        },\n\"veteran_status\",\n{\n            'v': 590,\n            'f': \"590\",\n        }],\n [{\n            'v': 20,\n            'f': \"20\",\n        },\n\"qualified_applicant\",\n{\n            'v': 571,\n            'f': \"571\",\n        }],\n [{\n            'v': 29,\n            'f': \"29\",\n        },\n\"marital_status\",\n{\n            'v': 505,\n            'f': \"505\",\n        }],\n [{\n            'v': 84,\n            'f': \"84\",\n        },\n\"job_description\",\n{\n            'v': 496,\n            'f': \"496\",\n        }],\n [{\n            'v': 210,\n            'f': \"210\",\n        },\n\"include_limit\",\n{\n            'v': 486,\n            'f': \"486\",\n        }],\n [{\n            'v': 78,\n            'f': \"78\",\n        },\n\"medical_dental\",\n{\n            'v': 468,\n            'f': \"468\",\n        }],\n [{\n            'v': 109,\n            'f': \"109\",\n        },\n\"protect_veteran\",\n{\n            'v': 464,\n            'f': \"464\",\n        }],\n [{\n            'v': 47,\n            'f': \"47\",\n        },\n\"attention_detail\",\n{\n            'v': 447,\n            'f': \"447\",\n        }],\n [{\n            'v': 317,\n            'f': \"317\",\n        },\n\"computer_science\",\n{\n            'v': 445,\n            'f': \"445\",\n        }],\n [{\n            'v': 155,\n            'f': \"155\",\n        },\n\"internal_external\",\n{\n            'v': 443,\n            'f': \"443\",\n        }],\n [{\n            'v': 150,\n            'f': \"150\",\n        },\n\"race_color\",\n{\n            'v': 442,\n            'f': \"442\",\n        }],\n [{\n            'v': 48,\n            'f': \"48\",\n        },\n\"work_closely\",\n{\n            'v': 439,\n            'f': \"439\",\n        }],\n [{\n            'v': 49,\n            'f': \"49\",\n        },\n\"3_year\",\n{\n            'v': 431,\n            'f': \"431\",\n        }],\n [{\n            'v': 308,\n            'f': \"308\",\n        },\n\"good_practice\",\n{\n            'v': 428,\n            'f': \"428\",\n        }],\n [{\n            'v': 112,\n            'f': \"112\",\n        },\n\"united_states\",\n{\n            'v': 420,\n            'f': \"420\",\n        }],\n [{\n            'v': 296,\n            'f': \"296\",\n        },\n\"policy_procedure\",\n{\n            'v': 416,\n            'f': \"416\",\n        }],\n [{\n            'v': 151,\n            'f': \"151\",\n        },\n\"federal_state\",\n{\n            'v': 416,\n            'f': \"416\",\n        }],\n [{\n            'v': 85,\n            'f': \"85\",\n        },\n\"long_term\",\n{\n            'v': 412,\n            'f': \"412\",\n        }],\n [{\n            'v': 116,\n            'f': \"116\",\n        },\n\"cross_functional\",\n{\n            'v': 411,\n            'f': \"411\",\n        }],\n [{\n            'v': 174,\n            'f': \"174\",\n        },\n\"base_salary\",\n{\n            'v': 408,\n            'f': \"408\",\n        }],\n [{\n            'v': 236,\n            'f': \"236\",\n        },\n\"equal_employment\",\n{\n            'v': 407,\n            'f': \"407\",\n        }],\n [{\n            'v': 59,\n            'f': \"59\",\n        },\n\"regard_race\",\n{\n            'v': 399,\n            'f': \"399\",\n        }],\n [{\n            'v': 211,\n            'f': \"211\",\n        },\n\"2_year\",\n{\n            'v': 392,\n            'f': \"392\",\n        }],\n [{\n            'v': 51,\n            'f': \"51\",\n        },\n\"problem_solve\",\n{\n            'v': 380,\n            'f': \"380\",\n        }],\n [{\n            'v': 152,\n            'f': \"152\",\n        },\n\"individual_disability\",\n{\n            'v': 373,\n            'f': \"373\",\n        }],\n [{\n            'v': 69,\n            'f': \"69\",\n        },\n\"total_compensation\",\n{\n            'v': 373,\n            'f': \"373\",\n        }],\n [{\n            'v': 168,\n            'f': \"168\",\n        },\n\"5_year\",\n{\n            'v': 371,\n            'f': \"371\",\n        }],\n [{\n            'v': 557,\n            'f': \"557\",\n        },\n\"generative_ai\",\n{\n            'v': 369,\n            'f': \"369\",\n        }],\n [{\n            'v': 41,\n            'f': \"41\",\n        },\n\"local_law\",\n{\n            'v': 365,\n            'f': \"365\",\n        }],\n [{\n            'v': 30,\n            'f': \"30\",\n        },\n\"medical_condition\",\n{\n            'v': 363,\n            'f': \"363\",\n        }],\n [{\n            'v': 480,\n            'f': \"480\",\n        },\n\"minimum_qualification\",\n{\n            'v': 358,\n            'f': \"358\",\n        }],\n [{\n            'v': 458,\n            'f': \"458\",\n        },\n\"social_medium\",\n{\n            'v': 358,\n            'f': \"358\",\n        }],\n [{\n            'v': 60,\n            'f': \"60\",\n        },\n\"color_religion\",\n{\n            'v': 358,\n            'f': \"358\",\n        }],\n [{\n            'v': 93,\n            'f': \"93\",\n        },\n\"factor_include\",\n{\n            'v': 347,\n            'f': \"347\",\n        }],\n [{\n            'v': 401,\n            'f': \"401\",\n        },\n\"deep_learning\",\n{\n            'v': 342,\n            'f': \"342\",\n        }],\n [{\n            'v': 101,\n            'f': \"101\",\n        },\n\"life_insurance\",\n{\n            'v': 341,\n            'f': \"341\",\n        }],\n [{\n            'v': 21,\n            'f': \"21\",\n        },\n\"receive_consideration\",\n{\n            'v': 340,\n            'f': \"340\",\n        }],\n [{\n            'v': 144,\n            'f': \"144\",\n        },\n\"fast_pace\",\n{\n            'v': 335,\n            'f': \"335\",\n        }],\n [{\n            'v': 22,\n            'f': \"22\",\n        },\n\"employment_regard\",\n{\n            'v': 330,\n            'f': \"330\",\n        }],\n [{\n            'v': 58,\n            'f': \"58\",\n        },\n\"affirmative_action\",\n{\n            'v': 329,\n            'f': \"329\",\n        }],\n [{\n            'v': 241,\n            'f': \"241\",\n        },\n\"genetic_information\",\n{\n            'v': 328,\n            'f': \"328\",\n        }],\n [{\n            'v': 166,\n            'f': \"166\",\n        },\n\"high_quality\",\n{\n            'v': 322,\n            'f': \"322\",\n        }],\n [{\n            'v': 290,\n            'f': \"290\",\n        },\n\"preferred_qualification\",\n{\n            'v': 320,\n            'f': \"320\",\n        }],\n [{\n            'v': 61,\n            'f': \"61\",\n        },\n\"sex_sexual\",\n{\n            'v': 317,\n            'f': \"317\",\n        }],\n [{\n            'v': 89,\n            'f': \"89\",\n        },\n\"master_degree\",\n{\n            'v': 314,\n            'f': \"314\",\n        }],\n [{\n            'v': 37,\n            'f': \"37\",\n        },\n\"religion_sex\",\n{\n            'v': 302,\n            'f': \"302\",\n        }],\n [{\n            'v': 569,\n            'f': \"569\",\n        },\n\"machine_learn\",\n{\n            'v': 297,\n            'f': \"297\",\n        }],\n [{\n            'v': 193,\n            'f': \"193\",\n        },\n\"salary_range\",\n{\n            'v': 290,\n            'f': \"290\",\n        }],\n [{\n            'v': 98,\n            'f': \"98\",\n        },\n\"health_care\",\n{\n            'v': 286,\n            'f': \"286\",\n        }],\n [{\n            'v': 165,\n            'f': \"165\",\n        },\n\"artificial_intelligence\",\n{\n            'v': 276,\n            'f': \"276\",\n        }],\n [{\n            'v': 62,\n            'f': \"62\",\n        },\n\"orientation_gender\",\n{\n            'v': 274,\n            'f': \"274\",\n        }],\n [{\n            'v': 134,\n            'f': \"134\",\n        },\n\"comprehensive_benefit\",\n{\n            'v': 271,\n            'f': \"271\",\n        }],\n [{\n            'v': 156,\n            'f': \"156\",\n        },\n\"ideal_candidate\",\n{\n            'v': 270,\n            'f': \"270\",\n        }],\n [{\n            'v': 32,\n            'f': \"32\",\n        },\n\"physical_mental\",\n{\n            'v': 269,\n            'f': \"269\",\n        }],\n [{\n            'v': 102,\n            'f': \"102\",\n        },\n\"pay_holiday\",\n{\n            'v': 268,\n            'f': \"268\",\n        }],\n [{\n            'v': 206,\n            'f': \"206\",\n        },\n\"duty_assign\",\n{\n            'v': 264,\n            'f': \"264\",\n        }],\n [{\n            'v': 664,\n            'f': \"664\",\n        },\n\"employee_relation\",\n{\n            'v': 261,\n            'f': \"261\",\n        }],\n [{\n            'v': 528,\n            'f': \"528\",\n        },\n\"los_angeles\",\n{\n            'v': 259,\n            'f': \"259\",\n        }],\n [{\n            'v': 199,\n            'f': \"199\",\n        },\n\"high_level\",\n{\n            'v': 255,\n            'f': \"255\",\n        }],\n [{\n            'v': 203,\n            'f': \"203\",\n        },\n\"large_scale\",\n{\n            'v': 254,\n            'f': \"254\",\n        }],\n [{\n            'v': 160,\n            'f': \"160\",\n        },\n\"benefit_package\",\n{\n            'v': 253,\n            'f': \"253\",\n        }],\n [{\n            'v': 186,\n            'f': \"186\",\n        },\n\"gender_gender\",\n{\n            'v': 249,\n            'f': \"249\",\n        }],\n [{\n            'v': 509,\n            'f': \"509\",\n        },\n\"san_francisco\",\n{\n            'v': 244,\n            'f': \"244\",\n        }],\n [{\n            'v': 252,\n            'f': \"252\",\n        },\n\"4_year\",\n{\n            'v': 240,\n            'f': \"240\",\n        }],\n [{\n            'v': 40,\n            'f': \"40\",\n        },\n\"protect_applicable\",\n{\n            'v': 228,\n            'f': \"228\",\n        }],\n [{\n            'v': 192,\n            'f': \"192\",\n        },\n\"total_reward\",\n{\n            'v': 226,\n            'f': \"226\",\n        }],\n [{\n            'v': 284,\n            'f': \"284\",\n        },\n\"successful_candidate\",\n{\n            'v': 225,\n            'f': \"225\",\n        }],\n [{\n            'v': 566,\n            'f': \"566\",\n        },\n\"ai_ml\",\n{\n            'v': 225,\n            'f': \"225\",\n        }],\n [{\n            'v': 565,\n            'f': \"565\",\n        },\n\"location_remote\",\n{\n            'v': 220,\n            'f': \"220\",\n        }],\n [{\n            'v': 128,\n            'f': \"128\",\n        },\n\"duty_responsibility\",\n{\n            'v': 219,\n            'f': \"219\",\n        }],\n [{\n            'v': 226,\n            'f': \"226\",\n        },\n\"submit_application\",\n{\n            'v': 217,\n            'f': \"217\",\n        }],\n [{\n            'v': 420,\n            'f': \"420\",\n        },\n\"veteran_preference\",\n{\n            'v': 215,\n            'f': \"215\",\n        }],\n [{\n            'v': 365,\n            'f': \"365\",\n        },\n\"perform_essential\",\n{\n            'v': 203,\n            'f': \"203\",\n        }],\n [{\n            'v': 179,\n            'f': \"179\",\n        },\n\"proud_equal\",\n{\n            'v': 201,\n            'f': \"201\",\n        }],\n [{\n            'v': 306,\n            'f': \"306\",\n        },\n\"background_check\",\n{\n            'v': 199,\n            'f': \"199\",\n        }],\n [{\n            'v': 131,\n            'f': \"131\",\n        },\n\"consideration_employment\",\n{\n            'v': 198,\n            'f': \"198\",\n        }],\n [{\n            'v': 334,\n            'f': \"334\",\n        },\n\"state_art\",\n{\n            'v': 196,\n            'f': \"196\",\n        }],\n [{\n            'v': 311,\n            'f': \"311\",\n        },\n\"world_class\",\n{\n            'v': 195,\n            'f': \"195\",\n        }],\n [{\n            'v': 96,\n            'f': \"96\",\n        },\n\"dental_vision\",\n{\n            'v': 192,\n            'f': \"192\",\n        }],\n [{\n            'v': 130,\n            'f': \"130\",\n        },\n\"applicant_receive\",\n{\n            'v': 187,\n            'f': \"187\",\n        }],\n [{\n            'v': 66,\n            'f': \"66\",\n        },\n\"legally_protect\",\n{\n            'v': 180,\n            'f': \"180\",\n        }],\n [{\n            'v': 99,\n            'f': \"99\",\n        },\n\"flexible_spending\",\n{\n            'v': 179,\n            'f': \"179\",\n        }],\n [{\n            'v': 262,\n            'f': \"262\",\n        },\n\"interpersonal_skill\",\n{\n            'v': 178,\n            'f': \"178\",\n        }],\n [{\n            'v': 212,\n            'f': \"212\",\n        },\n\"continuous_improvement\",\n{\n            'v': 177,\n            'f': \"177\",\n        }],\n [{\n            'v': 302,\n            'f': \"302\",\n        },\n\"detail_orient\",\n{\n            'v': 176,\n            'f': \"176\",\n        }],\n [{\n            'v': 53,\n            'f': \"53\",\n        },\n\"wide_range\",\n{\n            'v': 176,\n            'f': \"176\",\n        }],\n [{\n            'v': 256,\n            'f': \"256\",\n        },\n\"pay_parental\",\n{\n            'v': 176,\n            'f': \"176\",\n        }],\n [{\n            'v': 180,\n            'f': \"180\",\n        },\n\"opportunity_employer\",\n{\n            'v': 173,\n            'f': \"173\",\n        }],\n [{\n            'v': 189,\n            'f': \"189\",\n        },\n\"encourage_apply\",\n{\n            'v': 171,\n            'f': \"171\",\n        }],\n [{\n            'v': 111,\n            'f': \"111\",\n        },\n\"protect_law\",\n{\n            'v': 171,\n            'f': \"171\",\n        }],\n [{\n            'v': 227,\n            'f': \"227\",\n        },\n\"core_value\",\n{\n            'v': 170,\n            'f': \"170\",\n        }],\n [{\n            'v': 391,\n            'f': \"391\",\n        },\n\"vary_base\",\n{\n            'v': 169,\n            'f': \"169\",\n        }],\n [{\n            'v': 125,\n            'f': \"125\",\n        },\n\"diverse_inclusive\",\n{\n            'v': 169,\n            'f': \"169\",\n        }],\n [{\n            'v': 355,\n            'f': \"355\",\n        },\n\"subject_matter\",\n{\n            'v': 169,\n            'f': \"169\",\n        }],\n [{\n            'v': 194,\n            'f': \"194\",\n        },\n\"hiring_process\",\n{\n            'v': 167,\n            'f': \"167\",\n        }],\n [{\n            'v': 620,\n            'f': \"620\",\n        },\n\"real_estate\",\n{\n            'v': 167,\n            'f': \"167\",\n        }],\n [{\n            'v': 157,\n            'f': \"157\",\n        },\n\"manage_multiple\",\n{\n            'v': 165,\n            'f': \"165\",\n        }],\n [{\n            'v': 304,\n            'f': \"304\",\n        },\n\"microsoft_office\",\n{\n            'v': 165,\n            'f': \"165\",\n        }],\n [{\n            'v': 504,\n            'f': \"504\",\n        },\n\"day_week\",\n{\n            'v': 164,\n            'f': \"164\",\n        }],\n [{\n            'v': 475,\n            'f': \"475\",\n        },\n\"end_end\",\n{\n            'v': 164,\n            'f': \"164\",\n        }],\n [{\n            'v': 233,\n            'f': \"233\",\n        },\n\"life_balance\",\n{\n            'v': 162,\n            'f': \"162\",\n        }],\n [{\n            'v': 46,\n            'f': \"46\",\n        },\n\"location_san\",\n{\n            'v': 160,\n            'f': \"160\",\n        }],\n [{\n            'v': 132,\n            'f': \"132\",\n        },\n\"gender_expression\",\n{\n            'v': 160,\n            'f': \"160\",\n        }],\n [{\n            'v': 395,\n            'f': \"395\",\n        },\n\"offer_competitive\",\n{\n            'v': 159,\n            'f': \"159\",\n        }],\n [{\n            'v': 190,\n            'f': \"190\",\n        },\n\"verbal_write\",\n{\n            'v': 159,\n            'f': \"159\",\n        }],\n [{\n            'v': 293,\n            'f': \"293\",\n        },\n\"retirement_plan\",\n{\n            'v': 158,\n            'f': \"158\",\n        }],\n [{\n            'v': 242,\n            'f': \"242\",\n        },\n\"characteristic_protect\",\n{\n            'v': 158,\n            'f': \"158\",\n        }],\n [{\n            'v': 129,\n            'f': \"129\",\n        },\n\"employer_qualified\",\n{\n            'v': 157,\n            'f': \"157\",\n        }],\n [{\n            'v': 104,\n            'f': \"104\",\n        },\n\"tuition_reimbursement\",\n{\n            'v': 156,\n            'f': \"156\",\n        }],\n [{\n            'v': 103,\n            'f': \"103\",\n        },\n\"parental_leave\",\n{\n            'v': 156,\n            'f': \"156\",\n        }],\n [{\n            'v': 278,\n            'f': \"278\",\n        },\n\"qualification_bachelor\",\n{\n            'v': 155,\n            'f': \"155\",\n        }],\n [{\n            'v': 221,\n            'f': \"221\",\n        },\n\"high_school\",\n{\n            'v': 155,\n            'f': \"155\",\n        }],\n [{\n            'v': 554,\n            'f': \"554\",\n        },\n\"data_drive\",\n{\n            'v': 155,\n            'f': \"155\",\n        }],\n [{\n            'v': 314,\n            'f': \"314\",\n        },\n\"decision_making\",\n{\n            'v': 154,\n            'f': \"154\",\n        }],\n [{\n            'v': 184,\n            'f': \"184\",\n        },\n\"basis_race\",\n{\n            'v': 154,\n            'f': \"154\",\n        }],\n [{\n            'v': 63,\n            'f': \"63\",\n        },\n\"identity_national\",\n{\n            'v': 154,\n            'f': \"154\",\n        }],\n [{\n            'v': 555,\n            'f': \"555\",\n        },\n\"large_language\",\n{\n            'v': 154,\n            'f': \"154\",\n        }],\n [{\n            'v': 149,\n            'f': \"149\",\n        },\n\"employer_commit\",\n{\n            'v': 150,\n            'f': \"150\",\n        }],\n [{\n            'v': 181,\n            'f': \"181\",\n        },\n\"value_diversity\",\n{\n            'v': 149,\n            'f': \"149\",\n        }],\n [{\n            'v': 390,\n            'f': \"390\",\n        },\n\"ad_hoc\",\n{\n            'v': 148,\n            'f': \"148\",\n        }],\n [{\n            'v': 494,\n            'f': \"494\",\n        },\n\"talent_acquisition\",\n{\n            'v': 148,\n            'f': \"148\",\n        }],\n [{\n            'v': 683,\n            'f': \"683\",\n        },\n\"digital_marketing\",\n{\n            'v': 147,\n            'f': \"147\",\n        }],\n [{\n            'v': 170,\n            'f': \"170\",\n        },\n\"track_record\",\n{\n            'v': 147,\n            'f': \"147\",\n        }],\n [{\n            'v': 235,\n            'f': \"235\",\n        },\n\"diversity_inclusion\",\n{\n            'v': 143,\n            'f': \"143\",\n        }],\n [{\n            'v': 353,\n            'f': \"353\",\n        },\n\"diversity_equity\",\n{\n            'v': 143,\n            'f': \"143\",\n        }],\n [{\n            'v': 286,\n            'f': \"286\",\n        },\n\"team_player\",\n{\n            'v': 140,\n            'f': \"140\",\n        }],\n [{\n            'v': 273,\n            'f': \"273\",\n        },\n\"cut_edge\",\n{\n            'v': 140,\n            'f': \"140\",\n        }],\n [{\n            'v': 88,\n            'f': \"88\",\n        },\n\"verbal_communication\",\n{\n            'v': 139,\n            'f': \"139\",\n        }],\n [{\n            'v': 64,\n            'f': \"64\",\n        },\n\"origin_disability\",\n{\n            'v': 139,\n            'f': \"139\",\n        }],\n [{\n            'v': 508,\n            'f': \"508\",\n        },\n\"compensation_package\",\n{\n            'v': 138,\n            'f': \"138\",\n        }],\n [{\n            'v': 376,\n            'f': \"376\",\n        },\n\"request_accommodation\",\n{\n            'v': 136,\n            'f': \"136\",\n        }],\n [{\n            'v': 50,\n            'f': \"50\",\n        },\n\"strong_analytical\",\n{\n            'v': 136,\n            'f': \"136\",\n        }],\n [{\n            'v': 213,\n            'f': \"213\",\n        },\n\"self_starter\",\n{\n            'v': 136,\n            'f': \"136\",\n        }],\n [{\n            'v': 325,\n            'f': \"325\",\n        },\n\"short_term\",\n{\n            'v': 136,\n            'f': \"136\",\n        }],\n [{\n            'v': 373,\n            'f': \"373\",\n        },\n\"race_religion\",\n{\n            'v': 131,\n            'f': \"131\",\n        }],\n [{\n            'v': 283,\n            'f': \"283\",\n        },\n\"military_veteran\",\n{\n            'v': 130,\n            'f': \"130\",\n        }],\n [{\n            'v': 200,\n            'f': \"200\",\n        },\n\"excellent_write\",\n{\n            'v': 130,\n            'f': \"130\",\n        }],\n [{\n            'v': 110,\n            'f': \"110\",\n        },\n\"status_characteristic\",\n{\n            'v': 129,\n            'f': \"129\",\n        }],\n [{\n            'v': 392,\n            'f': \"392\",\n        },\n\"leave_absence\",\n{\n            'v': 127,\n            'f': \"127\",\n        }],\n [{\n            'v': 139,\n            'f': \"139\",\n        },\n\"geographic_location\",\n{\n            'v': 127,\n            'f': \"127\",\n        }],\n [{\n            'v': 339,\n            'f': \"339\",\n        },\n\"essential_function\",\n{\n            'v': 127,\n            'f': \"127\",\n        }],\n [{\n            'v': 45,\n            'f': \"45\",\n        },\n\"cutting_edge\",\n{\n            'v': 126,\n            'f': \"126\",\n        }],\n [{\n            'v': 207,\n            'f': \"207\",\n        },\n\"6_year\",\n{\n            'v': 126,\n            'f': \"126\",\n        }],\n [{\n            'v': 191,\n            'f': \"191\",\n        },\n\"vary_depend\",\n{\n            'v': 126,\n            'f': \"126\",\n        }],\n [{\n            'v': 201,\n            'f': \"201\",\n        },\n\"inc_location\",\n{\n            'v': 126,\n            'f': \"126\",\n        }],\n [{\n            'v': 25,\n            'f': \"25\",\n        },\n\"family_medical\",\n{\n            'v': 125,\n            'f': \"125\",\n        }],\n [{\n            'v': 587,\n            'f': \"587\",\n        },\n\"computer_vision\",\n{\n            'v': 125,\n            'f': \"125\",\n        }],\n [{\n            'v': 143,\n            'f': \"143\",\n        },\n\"word_excel\",\n{\n            'v': 125,\n            'f': \"125\",\n        }],\n [{\n            'v': 471,\n            'f': \"471\",\n        },\n\"real_world\",\n{\n            'v': 124,\n            'f': \"124\",\n        }],\n [{\n            'v': 205,\n            'f': \"205\",\n        },\n\"law_regulation\",\n{\n            'v': 123,\n            'f': \"123\",\n        }],\n [{\n            'v': 36,\n            'f': \"36\",\n        },\n\"race_ethnicity\",\n{\n            'v': 120,\n            'f': \"120\",\n        }],\n [{\n            'v': 499,\n            'f': \"499\",\n        },\n\"special_project\",\n{\n            'v': 120,\n            'f': \"120\",\n        }],\n [{\n            'v': 77,\n            'f': \"77\",\n        },\n\"stock_purchase\",\n{\n            'v': 120,\n            'f': \"120\",\n        }],\n [{\n            'v': 19,\n            'f': \"19\",\n        },\n\"consistent_applicable\",\n{\n            'v': 118,\n            'f': \"118\",\n        }],\n [{\n            'v': 208,\n            'f': \"208\",\n        },\n\"medical_device\",\n{\n            'v': 118,\n            'f': \"118\",\n        }],\n [{\n            'v': 667,\n            'f': \"667\",\n        },\n\"worker_compensation\",\n{\n            'v': 118,\n            'f': \"118\",\n        }],\n [{\n            'v': 439,\n            'f': \"439\",\n        },\n\"closing_date\",\n{\n            'v': 117,\n            'f': \"117\",\n        }],\n [{\n            'v': 313,\n            'f': \"313\",\n        },\n\"supply_chain\",\n{\n            'v': 117,\n            'f': \"117\",\n        }],\n [{\n            'v': 202,\n            'f': \"202\",\n        },\n\"collaborate_cross\",\n{\n            'v': 117,\n            'f': \"117\",\n        }],\n [{\n            'v': 336,\n            'f': \"336\",\n        },\n\"molecular_biology\",\n{\n            'v': 117,\n            'f': \"117\",\n        }],\n [{\n            'v': 158,\n            'f': \"158\",\n        },\n\"community_serve\",\n{\n            'v': 117,\n            'f': \"117\",\n        }],\n [{\n            'v': 343,\n            'f': \"343\",\n        },\n\"number_factor\",\n{\n            'v': 116,\n            'f': \"116\",\n        }],\n [{\n            'v': 457,\n            'f': \"457\",\n        },\n\"clinical_trial\",\n{\n            'v': 114,\n            'f': \"114\",\n        }],\n [{\n            'v': 225,\n            'f': \"225\",\n        },\n\"pre_employment\",\n{\n            'v': 114,\n            'f': \"114\",\n        }],\n [{\n            'v': 141,\n            'f': \"141\",\n        },\n\"root_cause\",\n{\n            'v': 114,\n            'f': \"114\",\n        }],\n [{\n            'v': 239,\n            'f': \"239\",\n        },\n\"pregnancy_childbirth\",\n{\n            'v': 114,\n            'f': \"114\",\n        }],\n [{\n            'v': 307,\n            'f': \"307\",\n        },\n\"write_verbal\",\n{\n            'v': 113,\n            'f': \"113\",\n        }],\n [{\n            'v': 133,\n            'f': \"133\",\n        },\n\"discriminate_basis\",\n{\n            'v': 113,\n            'f': \"113\",\n        }],\n [{\n            'v': 216,\n            'f': \"216\",\n        },\n\"collective_bargaining\",\n{\n            'v': 113,\n            'f': \"113\",\n        }],\n [{\n            'v': 266,\n            'f': \"266\",\n        },\n\"retirement_saving\",\n{\n            'v': 112,\n            'f': \"112\",\n        }],\n [{\n            'v': 289,\n            'f': \"289\",\n        },\n\"cover_letter\",\n{\n            'v': 112,\n            'f': \"112\",\n        }],\n [{\n            'v': 321,\n            'f': \"321\",\n        },\n\"write_communication\",\n{\n            'v': 111,\n            'f': \"111\",\n        }],\n [{\n            'v': 237,\n            'f': \"237\",\n        },\n\"color_national\",\n{\n            'v': 110,\n            'f': \"110\",\n        }],\n [{\n            'v': 217,\n            'f': \"217\",\n        },\n\"good_faith\",\n{\n            'v': 110,\n            'f': \"110\",\n        }],\n [{\n            'v': 452,\n            'f': \"452\",\n        },\n\"point_contact\",\n{\n            'v': 109,\n            'f': \"109\",\n        }],\n [{\n            'v': 154,\n            'f': \"154\",\n        },\n\"highly_motivated\",\n{\n            'v': 109,\n            'f': \"109\",\n        }],\n [{\n            'v': 561,\n            'f': \"561\",\n        },\n\"natural_language\",\n{\n            'v': 109,\n            'f': \"109\",\n        }],\n [{\n            'v': 525,\n            'f': \"525\",\n        },\n\"criminal_history\",\n{\n            'v': 109,\n            'f': \"109\",\n        }],\n [{\n            'v': 270,\n            'f': \"270\",\n        },\n\"meet_deadline\",\n{\n            'v': 108,\n            'f': \"108\",\n        }],\n [{\n            'v': 288,\n            'f': \"288\",\n        },\n\"wide_variety\",\n{\n            'v': 108,\n            'f': \"108\",\n        }],\n [{\n            'v': 52,\n            'f': \"52\",\n        },\n\"communicate_effectively\",\n{\n            'v': 107,\n            'f': \"107\",\n        }],\n [{\n            'v': 172,\n            'f': \"172\",\n        },\n\"deep_understanding\",\n{\n            'v': 106,\n            'f': \"106\",\n        }],\n [{\n            'v': 682,\n            'f': \"682\",\n        },\n\"marketing_campaign\",\n{\n            'v': 106,\n            'f': \"106\",\n        }],\n [{\n            'v': 240,\n            'f': \"240\",\n        },\n\"identity_expression\",\n{\n            'v': 105,\n            'f': \"105\",\n        }],\n [{\n            'v': 185,\n            'f': \"185\",\n        },\n\"religion_color\",\n{\n            'v': 104,\n            'f': \"104\",\n        }],\n [{\n            'v': 372,\n            'f': \"372\",\n        },\n\"critical_thinking\",\n{\n            'v': 104,\n            'f': \"104\",\n        }],\n [{\n            'v': 360,\n            'f': \"360\",\n        },\n\"solve_complex\",\n{\n            'v': 104,\n            'f': \"104\",\n        }],\n [{\n            'v': 259,\n            'f': \"259\",\n        },\n\"applicable_law\",\n{\n            'v': 103,\n            'f': \"103\",\n        }],\n [{\n            'v': 135,\n            'f': \"135\",\n        },\n\"health_saving\",\n{\n            'v': 103,\n            'f': \"103\",\n        }],\n [{\n            'v': 397,\n            'f': \"397\",\n        },\n\"equivalent_combination\",\n{\n            'v': 103,\n            'f': \"103\",\n        }],\n [{\n            'v': 72,\n            'f': \"72\",\n        },\n\"eligible_discretionary\",\n{\n            'v': 103,\n            'f': \"103\",\n        }],\n [{\n            'v': 15,\n            'f': \"15\",\n        },\n\"certain_role\",\n{\n            'v': 103,\n            'f': \"103\",\n        }],\n [{\n            'v': 1,\n            'f': \"1\",\n        },\n\"electrical_engineering\",\n{\n            'v': 102,\n            'f': \"102\",\n        }],\n [{\n            'v': 167,\n            'f': \"167\",\n        },\n\"timely_manner\",\n{\n            'v': 101,\n            'f': \"101\",\n        }],\n [{\n            'v': 230,\n            'f': \"230\",\n        },\n\"annual_bonus\",\n{\n            'v': 100,\n            'f': \"100\",\n        }],\n [{\n            'v': 100,\n            'f': \"100\",\n        },\n\"dependent_care\",\n{\n            'v': 100,\n            'f': \"100\",\n        }],\n [{\n            'v': 393,\n            'f': \"393\",\n        },\n\"e_verify\",\n{\n            'v': 100,\n            'f': \"100\",\n        }],\n [{\n            'v': 35,\n            'f': \"35\",\n        },\n\"veteran_military\",\n{\n            'v': 100,\n            'f': \"100\",\n        }],\n [{\n            'v': 367,\n            'f': \"367\",\n        },\n\"e_mail\",\n{\n            'v': 100,\n            'f': \"100\",\n        }],\n [{\n            'v': 142,\n            'f': \"142\",\n        },\n\"datum_collection\",\n{\n            'v': 100,\n            'f': \"100\",\n        }],\n [{\n            'v': 460,\n            'f': \"460\",\n        },\n\"8_year\",\n{\n            'v': 99,\n            'f': \"99\",\n        }],\n [{\n            'v': 483,\n            'f': \"483\",\n        },\n\"submit_copy\",\n{\n            'v': 99,\n            'f': \"99\",\n        }],\n [{\n            'v': 140,\n            'f': \"140\",\n        },\n\"participate_e\",\n{\n            'v': 99,\n            'f': \"99\",\n        }],\n [{\n            'v': 138,\n            'f': \"138\",\n        },\n\"mental_health\",\n{\n            'v': 99,\n            'f': \"99\",\n        }],\n [{\n            'v': 423,\n            'f': \"423\",\n        },\n\"active_duty\",\n{\n            'v': 98,\n            'f': \"98\",\n        }],\n [{\n            'v': 369,\n            'f': \"369\",\n        },\n\"commitment_diversity\",\n{\n            'v': 98,\n            'f': \"98\",\n        }],\n [{\n            'v': 169,\n            'f': \"169\",\n        },\n\"problem_solving\",\n{\n            'v': 98,\n            'f': \"98\",\n        }],\n [{\n            'v': 244,\n            'f': \"244\",\n        },\n\"state_local\",\n{\n            'v': 97,\n            'f': \"97\",\n        }],\n [{\n            'v': 310,\n            'f': \"310\",\n        },\n\"san_diego\",\n{\n            'v': 97,\n            'f': \"97\",\n        }],\n [{\n            'v': 312,\n            'f': \"312\",\n        },\n\"high_volume\",\n{\n            'v': 97,\n            'f': \"97\",\n        }],\n [{\n            'v': 187,\n            'f': \"187\",\n        },\n\"expression_sexual\",\n{\n            'v': 97,\n            'f': \"97\",\n        }],\n [{\n            'v': 464,\n            'f': \"464\",\n        },\n\"action_employer\",\n{\n            'v': 95,\n            'f': \"95\",\n        }],\n [{\n            'v': 463,\n            'f': \"463\",\n        },\n\"opportunity_affirmative\",\n{\n            'v': 95,\n            'f': \"95\",\n        }],\n [{\n            'v': 358,\n            'f': \"358\",\n        },\n\"employer_discriminate\",\n{\n            'v': 94,\n            'f': \"94\",\n        }],\n [{\n            'v': 388,\n            'f': \"388\",\n        },\n\"prove_track\",\n{\n            'v': 94,\n            'f': \"94\",\n        }],\n [{\n            'v': 350,\n            'f': \"350\",\n        },\n\"self_motivate\",\n{\n            'v': 94,\n            'f': \"94\",\n        }],\n [{\n            'v': 87,\n            'f': \"87\",\n        },\n\"7_year\",\n{\n            'v': 93,\n            'f': \"93\",\n        }],\n [{\n            'v': 461,\n            'f': \"461\",\n        },\n\"strong_interpersonal\",\n{\n            'v': 93,\n            'f': \"93\",\n        }],\n [{\n            'v': 434,\n            'f': \"434\",\n        },\n\"vacancy_announcement\",\n{\n            'v': 93,\n            'f': \"93\",\n        }],\n [{\n            'v': 43,\n            'f': \"43\",\n        },\n\"assistance_reasonable\",\n{\n            'v': 92,\n            'f': \"92\",\n        }],\n [{\n            'v': 258,\n            'f': \"258\",\n        },\n\"reserve_right\",\n{\n            'v': 92,\n            'f': \"92\",\n        }],\n [{\n            'v': 269,\n            'f': \"269\",\n        },\n\"multi_task\",\n{\n            'v': 92,\n            'f': \"92\",\n        }],\n [{\n            'v': 182,\n            'f': \"182\",\n        },\n\"current_future\",\n{\n            'v': 91,\n            'f': \"91\",\n        }],\n [{\n            'v': 414,\n            'f': \"414\",\n        },\n\"family_access\",\n{\n            'v': 90,\n            'f': \"90\",\n        }],\n [{\n            'v': 467,\n            'f': \"467\",\n        },\n\"north_america\",\n{\n            'v': 90,\n            'f': \"90\",\n        }],\n [{\n            'v': 473,\n            'f': \"473\",\n        },\n\"hour_week\",\n{\n            'v': 90,\n            'f': \"90\",\n        }],\n [{\n            'v': 91,\n            'f': \"91\",\n        },\n\"oral_write\",\n{\n            'v': 89,\n            'f': \"89\",\n        }],\n [{\n            'v': 42,\n            'f': \"42\",\n        },\n\"regulation_ordinance\",\n{\n            'v': 88,\n            'f': \"88\",\n        }],\n [{\n            'v': 271,\n            'f': \"271\",\n        },\n\"health_wellness\",\n{\n            'v': 87,\n            'f': \"87\",\n        }],\n [{\n            'v': 320,\n            'f': \"320\",\n        },\n\"excellent_verbal\",\n{\n            'v': 87,\n            'f': \"87\",\n        }],\n [{\n            'v': 121,\n            'f': \"121\",\n        },\n\"monday_friday\",\n{\n            'v': 87,\n            'f': \"87\",\n        }],\n [{\n            'v': 588,\n            'f': \"588\",\n        },\n\"open_source\",\n{\n            'v': 86,\n            'f': \"86\",\n        }],\n [{\n            'v': 403,\n            'f': \"403\",\n        },\n\"broad_range\",\n{\n            'v': 86,\n            'f': \"86\",\n        }],\n [{\n            'v': 38,\n            'f': \"38\",\n        },\n\"pregnancy_sexual\",\n{\n            'v': 85,\n            'f': \"85\",\n        }],\n [{\n            'v': 389,\n            'f': \"389\",\n        },\n\"shape_future\",\n{\n            'v': 85,\n            'f': \"85\",\n        }],\n [{\n            'v': 279,\n            'f': \"279\",\n        },\n\"discretionary_bonus\",\n{\n            'v': 85,\n            'f': \"85\",\n        }],\n [{\n            'v': 322,\n            'f': \"322\",\n        },\n\"quality_control\",\n{\n            'v': 85,\n            'f': \"85\",\n        }],\n [{\n            'v': 188,\n            'f': \"188\",\n        },\n\"orientation_age\",\n{\n            'v': 85,\n            'f': \"85\",\n        }],\n [{\n            'v': 359,\n            'f': \"359\",\n        },\n\"term_condition\",\n{\n            'v': 85,\n            'f': \"85\",\n        }],\n [{\n            'v': 6,\n            'f': \"6\",\n        },\n\"growth_mindset\",\n{\n            'v': 84,\n            'f': \"84\",\n        }],\n [{\n            'v': 584,\n            'f': \"584\",\n        },\n\"seattle_wa\",\n{\n            'v': 84,\n            'f': \"84\",\n        }],\n [{\n            'v': 228,\n            'f': \"228\",\n        },\n\"primary_responsibility\",\n{\n            'v': 84,\n            'f': \"84\",\n        }],\n [{\n            'v': 73,\n            'f': \"73\",\n        },\n\"restrict_stock\",\n{\n            'v': 83,\n            'f': \"83\",\n        }],\n [{\n            'v': 534,\n            'f': \"534\",\n        },\n\"achieve_goal\",\n{\n            'v': 83,\n            'f': \"83\",\n        }],\n [{\n            'v': 479,\n            'f': \"479\",\n        },\n\"grade_level\",\n{\n            'v': 83,\n            'f': \"83\",\n        }],\n [{\n            'v': 264,\n            'f': \"264\",\n        },\n\"ms_office\",\n{\n            'v': 82,\n            'f': \"82\",\n        }],\n [{\n            'v': 440,\n            'f': \"440\",\n        },\n\"email_address\",\n{\n            'v': 82,\n            'f': \"82\",\n        }],\n [{\n            'v': 384,\n            'f': \"384\",\n        },\n\"collaborate_closely\",\n{\n            'v': 82,\n            'f': \"82\",\n        }],\n [{\n            'v': 291,\n            'f': \"291\",\n        },\n\"use_case\",\n{\n            'v': 82,\n            'f': \"82\",\n        }],\n [{\n            'v': 260,\n            'f': \"260\",\n        },\n\"diverse_workforce\",\n{\n            'v': 81,\n            'f': \"81\",\n        }],\n [{\n            'v': 318,\n            'f': \"318\",\n        },\n\"1_2\",\n{\n            'v': 81,\n            'f': \"81\",\n        }],\n [{\n            'v': 23,\n            'f': \"23\",\n        },\n\"age_ancestry\",\n{\n            'v': 81,\n            'f': \"81\",\n        }],\n [{\n            'v': 356,\n            'f': \"356\",\n        },\n\"actual_salary\",\n{\n            'v': 81,\n            'f': \"81\",\n        }],\n [{\n            'v': 120,\n            'f': \"120\",\n        },\n\"effectively_communicate\",\n{\n            'v': 81,\n            'f': \"81\",\n        }],\n [{\n            'v': 386,\n            'f': \"386\",\n        },\n\"working_relationship\",\n{\n            'v': 81,\n            'f': \"81\",\n        }],\n [{\n            'v': 541,\n            'f': \"541\",\n        },\n\"fair_chance\",\n{\n            'v': 80,\n            'f': \"80\",\n        }],\n [{\n            'v': 300,\n            'f': \"300\",\n        },\n\"problem_solver\",\n{\n            'v': 80,\n            'f': \"80\",\n        }],\n [{\n            'v': 451,\n            'f': \"451\",\n        },\n\"essential_duty\",\n{\n            'v': 80,\n            'f': \"80\",\n        }],\n [{\n            'v': 137,\n            'f': \"137\",\n        },\n\"pay_sick\",\n{\n            'v': 80,\n            'f': \"80\",\n        }],\n [{\n            'v': 113,\n            'f': \"113\",\n        },\n\"successful_completion\",\n{\n            'v': 80,\n            'f': \"80\",\n        }],\n [{\n            'v': 674,\n            'f': \"674\",\n        },\n\"hr_generalist\",\n{\n            'v': 80,\n            'f': \"80\",\n        }],\n [{\n            'v': 570,\n            'f': \"570\",\n        },\n\"investment_banking\",\n{\n            'v': 79,\n            'f': \"79\",\n        }],\n [{\n            'v': 122,\n            'f': \"122\",\n        },\n\"content_creation\",\n{\n            'v': 79,\n            'f': \"79\",\n        }],\n [{\n            'v': 670,\n            'f': \"670\",\n        },\n\"blue_shield\",\n{\n            'v': 79,\n            'f': \"79\",\n        }],\n [{\n            'v': 450,\n            'f': \"450\",\n        },\n\"proficiency_microsoft\",\n{\n            'v': 79,\n            'f': \"79\",\n        }],\n [{\n            'v': 27,\n            'f': \"27\",\n        },\n\"expression_genetic\",\n{\n            'v': 79,\n            'f': \"79\",\n        }],\n [{\n            'v': 633,\n            'f': \"633\",\n        },\n\"booz_allen\",\n{\n            'v': 78,\n            'f': \"78\",\n        }],\n [{\n            'v': 123,\n            'f': \"123\",\n        },\n\"programming_language\",\n{\n            'v': 78,\n            'f': \"78\",\n        }],\n [{\n            'v': 16,\n            'f': \"16\",\n        },\n\"find_additional\",\n{\n            'v': 77,\n            'f': \"77\",\n        }],\n [{\n            'v': 652,\n            'f': \"652\",\n        },\n\"warner_bros\",\n{\n            'v': 77,\n            'f': \"77\",\n        }],\n [{\n            'v': 653,\n            'f': \"653\",\n        },\n\"rule_regulation\",\n{\n            'v': 77,\n            'f': \"77\",\n        }],\n [{\n            'v': 400,\n            'f': \"400\",\n        },\n\"physical_demand\",\n{\n            'v': 77,\n            'f': \"77\",\n        }],\n [{\n            'v': 503,\n            'f': \"503\",\n        },\n\"university_california\",\n{\n            'v': 76,\n            'f': \"76\",\n        }],\n [{\n            'v': 673,\n            'f': \"673\",\n        },\n\"labor_relation\",\n{\n            'v': 76,\n            'f': \"76\",\n        }],\n [{\n            'v': 332,\n            'f': \"332\",\n        },\n\"sex_national\",\n{\n            'v': 76,\n            'f': \"76\",\n        }],\n [{\n            'v': 309,\n            'f': \"309\",\n        },\n\"excellent_interpersonal\",\n{\n            'v': 76,\n            'f': \"76\",\n        }],\n [{\n            'v': 127,\n            'f': \"127\",\n        },\n\"fast_paced\",\n{\n            'v': 75,\n            'f': \"75\",\n        }],\n [{\n            'v': 17,\n            'f': \"17\",\n        },\n\"ongoing_basis\",\n{\n            'v': 75,\n            'f': \"75\",\n        }],\n [{\n            'v': 11,\n            'f': \"11\",\n        },\n\"culture_inclusion\",\n{\n            'v': 74,\n            'f': \"74\",\n        }],\n [{\n            'v': 33,\n            'f': \"33\",\n        },\n\"disability_political\",\n{\n            'v': 74,\n            'f': \"74\",\n        }],\n [{\n            'v': 476,\n            'f': \"476\",\n        },\n\"industry_trend\",\n{\n            'v': 74,\n            'f': \"74\",\n        }],\n [{\n            'v': 277,\n            'f': \"277\",\n        },\n\"decision_make\",\n{\n            'v': 74,\n            'f': \"74\",\n        }],\n [{\n            'v': 472,\n            'f': \"472\",\n        },\n\"3_5\",\n{\n            'v': 73,\n            'f': \"73\",\n        }],\n [{\n            'v': 516,\n            'f': \"516\",\n        },\n\"week_pay\",\n{\n            'v': 73,\n            'f': \"73\",\n        }],\n [{\n            'v': 276,\n            'f': \"276\",\n        },\n\"cross_functionally\",\n{\n            'v': 73,\n            'f': \"73\",\n        }],\n [{\n            'v': 497,\n            'f': \"497\",\n        },\n\"vision_insurance\",\n{\n            'v': 73,\n            'f': \"73\",\n        }],\n [{\n            'v': 294,\n            'f': \"294\",\n        },\n\"short_long\",\n{\n            'v': 73,\n            'f': \"73\",\n        }],\n [{\n            'v': 34,\n            'f': \"34\",\n        },\n\"affiliation_protect\",\n{\n            'v': 73,\n            'f': \"73\",\n        }],\n [{\n            'v': 445,\n            'f': \"445\",\n        },\n\"social_security\",\n{\n            'v': 72,\n            'f': \"72\",\n        }],\n [{\n            'v': 374,\n            'f': \"374\",\n        },\n\"age_marital\",\n{\n            'v': 72,\n            'f': \"72\",\n        }],\n [{\n            'v': 411,\n            'f': \"411\",\n        },\n\"life_cycle\",\n{\n            'v': 72,\n            'f': \"72\",\n        }],\n [{\n            'v': 324,\n            'f': \"324\",\n        },\n\"quality_assurance\",\n{\n            'v': 72,\n            'f': \"72\",\n        }],\n [{\n            'v': 364,\n            'f': \"364\",\n        },\n\"inclusive_workplace\",\n{\n            'v': 72,\n            'f': \"72\",\n        }],\n [{\n            'v': 641,\n            'f': \"641\",\n        },\n\"maintain_confidentiality\",\n{\n            'v': 72,\n            'f': \"72\",\n        }],\n [{\n            'v': 56,\n            'f': \"56\",\n        },\n\"subject_eligibility\",\n{\n            'v': 72,\n            'f': \"72\",\n        }],\n [{\n            'v': 159,\n            'f': \"159\",\n        },\n\"highly_competitive\",\n{\n            'v': 72,\n            'f': \"72\",\n        }],\n [{\n            'v': 9,\n            'f': \"9\",\n        },\n\"value_respect\",\n{\n            'v': 71,\n            'f': \"71\",\n        }],\n [{\n            'v': 39,\n            'f': \"39\",\n        },\n\"orientation_characteristic\",\n{\n            'v': 71,\n            'f': \"71\",\n        }],\n [{\n            'v': 380,\n            'f': \"380\",\n        },\n\"end_user\",\n{\n            'v': 71,\n            'f': \"71\",\n        }],\n [{\n            'v': 250,\n            'f': \"250\",\n        },\n\"great_place\",\n{\n            'v': 71,\n            'f': \"71\",\n        }],\n [{\n            'v': 196,\n            'f': \"196\",\n        },\n\"entry_level\",\n{\n            'v': 71,\n            'f': \"71\",\n        }],\n [{\n            'v': 346,\n            'f': \"346\",\n        },\n\"visa_sponsorship\",\n{\n            'v': 70,\n            'f': \"70\",\n        }],\n [{\n            'v': 24,\n            'f': \"24\",\n        },\n\"citizenship_color\",\n{\n            'v': 70,\n            'f': \"70\",\n        }],\n [{\n            'v': 315,\n            'f': \"315\",\n        },\n\"status_quo\",\n{\n            'v': 70,\n            'f': \"70\",\n        }],\n [{\n            'v': 274,\n            'f': \"274\",\n        },\n\"hardware_software\",\n{\n            'v': 70,\n            'f': \"70\",\n        }],\n [{\n            'v': 666,\n            'f': \"666\",\n        },\n\"public_relation\",\n{\n            'v': 70,\n            'f': \"70\",\n        }],\n [{\n            'v': 572,\n            'f': \"572\",\n        },\n\"foundation_model\",\n{\n            'v': 70,\n            'f': \"70\",\n        }],\n [{\n            'v': 574,\n            'f': \"574\",\n        },\n\"meet_single\",\n{\n            'v': 69,\n            'f': \"69\",\n        }],\n [{\n            'v': 28,\n            'f': \"28\",\n        },\n\"information_immigration\",\n{\n            'v': 69,\n            'f': \"69\",\n        }],\n [{\n            'v': 44,\n            'f': \"44\",\n        },\n\"read_request\",\n{\n            'v': 69,\n            'f': \"69\",\n        }],\n [{\n            'v': 662,\n            'f': \"662\",\n        },\n\"civil_service\",\n{\n            'v': 69,\n            'f': \"69\",\n        }],\n [{\n            'v': 583,\n            'f': \"583\",\n        },\n\"ge_healthcare\",\n{\n            'v': 68,\n            'f': \"68\",\n        }],\n [{\n            'v': 498,\n            'f': \"498\",\n        },\n\"equity_inclusion\",\n{\n            'v': 68,\n            'f': \"68\",\n        }],\n [{\n            'v': 249,\n            'f': \"249\",\n        },\n\"foster_culture\",\n{\n            'v': 68,\n            'f': \"68\",\n        }],\n [{\n            'v': 326,\n            'f': \"326\",\n        },\n\"diverse_perspective\",\n{\n            'v': 68,\n            'f': \"68\",\n        }],\n [{\n            'v': 197,\n            'f': \"197\",\n        },\n\"palo_alto\",\n{\n            'v': 68,\n            'f': \"68\",\n        }],\n [{\n            'v': 500,\n            'f': \"500\",\n        },\n\"answer_question\",\n{\n            'v': 67,\n            'f': \"67\",\n        }],\n [{\n            'v': 594,\n            'f': \"594\",\n        },\n\"push_boundary\",\n{\n            'v': 67,\n            'f': \"67\",\n        }],\n [{\n            'v': 340,\n            'f': \"340\",\n        },\n\"pay_transparency\",\n{\n            'v': 67,\n            'f': \"67\",\n        }],\n [{\n            'v': 675,\n            'f': \"675\",\n        },\n\"finance_accounting\",\n{\n            'v': 67,\n            'f': \"67\",\n        }],\n [{\n            'v': 575,\n            'f': \"575\",\n        },\n\"optional_equity\",\n{\n            'v': 67,\n            'f': \"67\",\n        }],\n [{\n            'v': 223,\n            'f': \"223\",\n        },\n\"driver_license\",\n{\n            'v': 67,\n            'f': \"67\",\n        }],\n [{\n            'v': 329,\n            'f': \"329\",\n        },\n\"llc_location\",\n{\n            'v': 67,\n            'f': \"67\",\n        }],\n [{\n            'v': 119,\n            'f': \"119\",\n        },\n\"college_university\",\n{\n            'v': 66,\n            'f': \"66\",\n        }],\n [{\n            'v': 298,\n            'f': \"298\",\n        },\n\"statistical_analysis\",\n{\n            'v': 66,\n            'f': \"66\",\n        }],\n [{\n            'v': 492,\n            'f': \"492\",\n        },\n\"well_class\",\n{\n            'v': 66,\n            'f': \"66\",\n        }],\n [{\n            'v': 511,\n            'f': \"511\",\n        },\n\"recruitment_selection\",\n{\n            'v': 66,\n            'f': \"66\",\n        }],\n [{\n            'v': 601,\n            'f': \"601\",\n        },\n\"mission_inspire\",\n{\n            'v': 65,\n            'f': \"65\",\n        }],\n [{\n            'v': 275,\n            'f': \"275\",\n        },\n\"play_key\",\n{\n            'v': 65,\n            'f': \"65\",\n        }],\n [{\n            'v': 425,\n            'f': \"425\",\n        },\n\"disabled_veteran\",\n{\n            'v': 65,\n            'f': \"65\",\n        }],\n [{\n            'v': 215,\n            'f': \"215\",\n        },\n\"individual_contributor\",\n{\n            'v': 65,\n            'f': \"65\",\n        }],\n [{\n            'v': 663,\n            'f': \"663\",\n        },\n\"private_equity\",\n{\n            'v': 65,\n            'f': \"65\",\n        }],\n [{\n            'v': 399,\n            'f': \"399\",\n        },\n\"working_condition\",\n{\n            'v': 65,\n            'f': \"65\",\n        }],\n [{\n            'v': 183,\n            'f': \"183\",\n        },\n\"hiring_promotion\",\n{\n            'v': 65,\n            'f': \"65\",\n        }],\n [{\n            'v': 510,\n            'f': \"510\",\n        },\n\"bay_area\",\n{\n            'v': 64,\n            'f': \"64\",\n        }],\n [{\n            'v': 647,\n            'f': \"647\",\n        },\n\"flow_cytometry\",\n{\n            'v': 64,\n            'f': \"64\",\n        }],\n [{\n            'v': 421,\n            'f': \"421\",\n        },\n\"character_service\",\n{\n            'v': 64,\n            'f': \"64\",\n        }],\n [{\n            'v': 331,\n            'f': \"331\",\n        },\n\"santa_clara\",\n{\n            'v': 64,\n            'f': \"64\",\n        }],\n [{\n            'v': 513,\n            'f': \"513\",\n        },\n\"washington_dc\",\n{\n            'v': 64,\n            'f': \"64\",\n        }],\n [{\n            'v': 387,\n            'f': \"387\",\n        },\n\"award_win\",\n{\n            'v': 63,\n            'f': \"63\",\n        }],\n [{\n            'v': 246,\n            'f': \"246\",\n        },\n\"handle_multiple\",\n{\n            'v': 63,\n            'f': \"63\",\n        }],\n [{\n            'v': 558,\n            'f': \"558\",\n        },\n\"faculty_staff\",\n{\n            'v': 63,\n            'f': \"63\",\n        }],\n [{\n            'v': 649,\n            'f': \"649\",\n        },\n\"americans_disability\",\n{\n            'v': 63,\n            'f': \"63\",\n        }],\n [{\n            'v': 82,\n            'f': \"82\",\n        },\n\"bonus_commission\",\n{\n            'v': 63,\n            'f': \"63\",\n        }],\n [{\n            'v': 413,\n            'f': \"413\",\n        },\n\"recognize_department\",\n{\n            'v': 63,\n            'f': \"63\",\n        }],\n [{\n            'v': 219,\n            'f': \"219\",\n        },\n\"corrective_action\",\n{\n            'v': 63,\n            'f': \"63\",\n        }],\n [{\n            'v': 148,\n            'f': \"148\",\n        },\n\"detail_participation\",\n{\n            'v': 62,\n            'f': \"62\",\n        }],\n [{\n            'v': 383,\n            'f': \"383\",\n        },\n\"4_6\",\n{\n            'v': 62,\n            'f': \"62\",\n        }],\n [{\n            'v': 505,\n            'f': \"505\",\n        },\n\"background_investigation\",\n{\n            'v': 62,\n            'f': \"62\",\n        }],\n [{\n            'v': 442,\n            'f': \"442\",\n        },\n\"fair_transparent\",\n{\n            'v': 62,\n            'f': \"62\",\n        }],\n [{\n            'v': 214,\n            'f': \"214\",\n        },\n\"thrive_fast\",\n{\n            'v': 62,\n            'f': \"62\",\n        }],\n [{\n            'v': 404,\n            'f': \"404\",\n        },\n\"authentic_self\",\n{\n            'v': 62,\n            'f': \"62\",\n        }],\n [{\n            'v': 433,\n            'f': \"433\",\n        },\n\"accredit_institution\",\n{\n            'v': 61,\n            'f': \"61\",\n        }],\n [{\n            'v': 630,\n            'f': \"630\",\n        },\n\"cvs_health\",\n{\n            'v': 61,\n            'f': \"61\",\n        }],\n [{\n            'v': 204,\n            'f': \"204\",\n        },\n\"comply_applicable\",\n{\n            'v': 61,\n            'f': \"61\",\n        }],\n [{\n            'v': 231,\n            'f': \"231\",\n        },\n\"vision_coverage\",\n{\n            'v': 61,\n            'f': \"61\",\n        }],\n [{\n            'v': 514,\n            'f': \"514\",\n        },\n\"bargaining_unit\",\n{\n            'v': 61,\n            'f': \"61\",\n        }],\n [{\n            'v': 337,\n            'f': \"337\",\n        },\n\"peer_review\",\n{\n            'v': 61,\n            'f': \"61\",\n        }],\n [{\n            'v': 232,\n            'f': \"232\",\n        },\n\"start_date\",\n{\n            'v': 60,\n            'f': \"60\",\n        }],\n [{\n            'v': 94,\n            'f': \"94\",\n        },\n\"health_welfare\",\n{\n            'v': 60,\n            'f': \"60\",\n        }],\n [{\n            'v': 247,\n            'f': \"247\",\n        },\n\"microsoft_excel\",\n{\n            'v': 60,\n            'f': \"60\",\n        }],\n [{\n            'v': 477,\n            'f': \"477\",\n        },\n\"public_sector\",\n{\n            'v': 60,\n            'f': \"60\",\n        }],\n [{\n            'v': 285,\n            'f': \"285\",\n        },\n\"want_hear\",\n{\n            'v': 60,\n            'f': \"60\",\n        }],\n [{\n            'v': 12,\n            'f': \"12\",\n        },\n\"risk_assessment\",\n{\n            'v': 60,\n            'f': \"60\",\n        }],\n [{\n            'v': 218,\n            'f': \"218\",\n        },\n\"license_certification\",\n{\n            'v': 60,\n            'f': \"60\",\n        }],\n [{\n            'v': 435,\n            'f': \"435\",\n        },\n\"result_ineligible\",\n{\n            'v': 60,\n            'f': \"60\",\n        }],\n [{\n            'v': 453,\n            'f': \"453\",\n        },\n\"resolve_issue\",\n{\n            'v': 60,\n            'f': \"60\",\n        }],\n [{\n            'v': 209,\n            'f': \"209\",\n        },\n\"strong_written\",\n{\n            'v': 59,\n            'f': \"59\",\n        }],\n [{\n            'v': 417,\n            'f': \"417\",\n        },\n\"time_intermittent\",\n{\n            'v': 59,\n            'f': \"59\",\n        }],\n [{\n            'v': 410,\n            'f': \"410\",\n        },\n\"probationary_period\",\n{\n            'v': 59,\n            'f': \"59\",\n        }],\n [{\n            'v': 281,\n            'f': \"281\",\n        },\n\"religion_national\",\n{\n            'v': 59,\n            'f': \"59\",\n        }],\n [{\n            'v': 406,\n            'f': \"406\",\n        },\n\"standard_operating\",\n{\n            'v': 59,\n            'f': \"59\",\n        }],\n [{\n            'v': 295,\n            'f': \"295\",\n        },\n\"term_disability\",\n{\n            'v': 59,\n            'f': \"59\",\n        }],\n [{\n            'v': 385,\n            'f': \"385\",\n        },\n\"accredit_college\",\n{\n            'v': 59,\n            'f': \"59\",\n        }],\n [{\n            'v': 597,\n            'f': \"597\",\n        },\n\"regardless_race\",\n{\n            'v': 59,\n            'f': \"59\",\n        }],\n [{\n            'v': 517,\n            'f': \"517\",\n        },\n\"40_hour\",\n{\n            'v': 59,\n            'f': \"59\",\n        }],\n [{\n            'v': 459,\n            'f': \"459\",\n        },\n\"student_loan\",\n{\n            'v': 58,\n            'f': \"58\",\n        }],\n [{\n            'v': 416,\n            'f': \"416\",\n        },\n\"new_windowlearn\",\n{\n            'v': 58,\n            'f': \"58\",\n        }],\n [{\n            'v': 415,\n            'f': \"415\",\n        },\n\"career_rewarding\",\n{\n            'v': 58,\n            'f': \"58\",\n        }],\n [{\n            'v': 3,\n            'f': \"3\",\n        },\n\"wa_98052\",\n{\n            'v': 57,\n            'f': \"57\",\n        }],\n [{\n            'v': 2,\n            'f': \"2\",\n        },\n\"way_redmond\",\n{\n            'v': 57,\n            'f': \"57\",\n        }],\n [{\n            'v': 106,\n            'f': \"106\",\n        },\n\"origin_sex\",\n{\n            'v': 57,\n            'f': \"57\",\n        }],\n [{\n            'v': 531,\n            'f': \"531\",\n        },\n\"privacy_notice\",\n{\n            'v': 56,\n            'f': \"56\",\n        }],\n [{\n            'v': 245,\n            'f': \"245\",\n        },\n\"minimal_supervision\",\n{\n            'v': 56,\n            'f': \"56\",\n        }],\n [{\n            'v': 316,\n            'f': \"316\",\n        },\n\"datum_visualization\",\n{\n            'v': 56,\n            'f': \"56\",\n        }],\n [{\n            'v': 501,\n            'f': \"501\",\n        },\n\"stay_date\",\n{\n            'v': 56,\n            'f': \"56\",\n        }],\n [{\n            'v': 428,\n            'f': \"428\",\n        },\n\"accredit_accrediting\",\n{\n            'v': 56,\n            'f': \"56\",\n        }],\n [{\n            'v': 257,\n            'f': \"257\",\n        },\n\"tuition_assistance\",\n{\n            'v': 56,\n            'f': \"56\",\n        }],\n [{\n            'v': 238,\n            'f': \"238\",\n        },\n\"religious_creed\",\n{\n            'v': 55,\n            'f': \"55\",\n        }],\n [{\n            'v': 507,\n            'f': \"507\",\n        },\n\"unique_perspective\",\n{\n            'v': 55,\n            'f': \"55\",\n        }],\n [{\n            'v': 55,\n            'f': \"55\",\n        },\n\"mechanical_engineering\",\n{\n            'v': 55,\n            'f': \"55\",\n        }],\n [{\n            'v': 68,\n            'f': \"68\",\n        },\n\"drug_free\",\n{\n            'v': 55,\n            'f': \"55\",\n        }],\n [{\n            'v': 617,\n            'f': \"617\",\n        },\n\"manner_consistent\",\n{\n            'v': 55,\n            'f': \"55\",\n        }],\n [{\n            'v': 614,\n            'f': \"614\",\n        },\n\"premium_coverage\",\n{\n            'v': 55,\n            'f': \"55\",\n        }],\n [{\n            'v': 571,\n            'f': \"571\",\n        },\n\"image_video\",\n{\n            'v': 55,\n            'f': \"55\",\n        }],\n [{\n            'v': 530,\n            'f': \"530\",\n        },\n\"modify_future\",\n{\n            'v': 54,\n            'f': \"54\",\n        }],\n [{\n            'v': 173,\n            'f': \"173\",\n        },\n\"forward_think\",\n{\n            'v': 54,\n            'f': \"54\",\n        }],\n [{\n            'v': 114,\n            'f': \"114\",\n        },\n\"relocation_assistance\",\n{\n            'v': 54,\n            'f': \"54\",\n        }],\n [{\n            'v': 178,\n            'f': \"178\",\n        },\n\"foster_diverse\",\n{\n            'v': 54,\n            'f': \"54\",\n        }],\n [{\n            'v': 175,\n            'f': \"175\",\n        },\n\"range_usd\",\n{\n            'v': 54,\n            'f': \"54\",\n        }],\n [{\n            'v': 542,\n            'f': \"542\",\n        },\n\"reflect_cost\",\n{\n            'v': 54,\n            'f': \"54\",\n        }],\n [{\n            'v': 506,\n            'f': \"506\",\n        },\n\"resume_cover\",\n{\n            'v': 54,\n            'f': \"54\",\n        }],\n [{\n            'v': 543,\n            'f': \"543\",\n        },\n\"labor_geographic\",\n{\n            'v': 54,\n            'f': \"54\",\n        }],\n [{\n            'v': 115,\n            'f': \"115\",\n        },\n\"li_remote\",\n{\n            'v': 54,\n            'f': \"54\",\n        }],\n [{\n            'v': 371,\n            'f': \"371\",\n        },\n\"highly_collaborative\",\n{\n            'v': 54,\n            'f': \"54\",\n        }],\n [{\n            'v': 685,\n            'f': \"685\",\n        },\n\"ralph_lauren\",\n{\n            'v': 53,\n            'f': \"53\",\n        }],\n [{\n            'v': 474,\n            'f': \"474\",\n        },\n\"north_carolina\",\n{\n            'v': 53,\n            'f': \"53\",\n        }],\n [{\n            'v': 556,\n            'f': \"556\",\n        },\n\"model_llm\",\n{\n            'v': 53,\n            'f': \"53\",\n        }],\n [{\n            'v': 485,\n            'f': \"485\",\n        },\n\"unofficial_transcript\",\n{\n            'v': 53,\n            'f': \"53\",\n        }],\n [{\n            'v': 573,\n            'f': \"573\",\n        },\n\"sponsor_visa\",\n{\n            'v': 53,\n            'f': \"53\",\n        }],\n [{\n            'v': 370,\n            'f': \"370\",\n        },\n\"vacation_sick\",\n{\n            'v': 53,\n            'f': \"53\",\n        }],\n [{\n            'v': 176,\n            'f': \"176\",\n        },\n\"nvidia_accept\",\n{\n            'v': 53,\n            'f': \"53\",\n        }],\n [{\n            'v': 478,\n            'f': \"478\",\n        },\n\"semester_hour\",\n{\n            'v': 53,\n            'f': \"53\",\n        }],\n [{\n            'v': 632,\n            'f': \"632\",\n        },\n\"non_exempt\",\n{\n            'v': 53,\n            'f': \"53\",\n        }],\n [{\n            'v': 466,\n            'f': \"466\",\n        },\n\"mental_physical\",\n{\n            'v': 52,\n            'f': \"52\",\n        }],\n [{\n            'v': 446,\n            'f': \"446\",\n        },\n\"citizen_national\",\n{\n            'v': 52,\n            'f': \"52\",\n        }],\n [{\n            'v': 560,\n            'f': \"560\",\n        },\n\"fix_income\",\n{\n            'v': 52,\n            'f': \"52\",\n        }],\n [{\n            'v': 562,\n            'f': \"562\",\n        },\n\"neural_network\",\n{\n            'v': 52,\n            'f': \"52\",\n        }],\n [{\n            'v': 366,\n            'f': \"366\",\n        },\n\"let_know\",\n{\n            'v': 52,\n            'f': \"52\",\n        }],\n [{\n            'v': 430,\n            'f': \"430\",\n        },\n\"order_credit\",\n{\n            'v': 52,\n            'f': \"52\",\n        }],\n [{\n            'v': 177,\n            'f': \"177\",\n        },\n\"nvidia_commit\",\n{\n            'v': 52,\n            'f': \"52\",\n        }],\n [{\n            'v': 229,\n            'f': \"229\",\n        },\n\"positive_attitude\",\n{\n            'v': 52,\n            'f': \"52\",\n        }],\n [{\n            'v': 432,\n            'f': \"432\",\n        },\n\"school_accredit\",\n{\n            'v': 51,\n            'f': \"51\",\n        }],\n [{\n            'v': 328,\n            'f': \"328\",\n        },\n\"play_critical\",\n{\n            'v': 51,\n            'f': \"51\",\n        }],\n [{\n            'v': 465,\n            'f': \"465\",\n        },\n\"ancestry_age\",\n{\n            'v': 51,\n            'f': \"51\",\n        }],\n [{\n            'v': 90,\n            'f': \"90\",\n        },\n\"tight_deadline\",\n{\n            'v': 51,\n            'f': \"51\",\n        }],\n [{\n            'v': 431,\n            'f': \"431\",\n        },\n\"attendance_degree\",\n{\n            'v': 51,\n            'f': \"51\",\n        }],\n [{\n            'v': 487,\n            'f': \"487\",\n        },\n\"certificate_release\",\n{\n            'v': 51,\n            'f': \"51\",\n        }],\n [{\n            'v': 429,\n            'f': \"429\",\n        },\n\"institution_recognize\",\n{\n            'v': 51,\n            'f': \"51\",\n        }],\n [{\n            'v': 639,\n            'f': \"639\",\n        },\n\"columbia_university\",\n{\n            'v': 51,\n            'f': \"51\",\n        }],\n [{\n            'v': 362,\n            'f': \"362\",\n        },\n\"gene_therapy\",\n{\n            'v': 51,\n            'f': \"51\",\n        }],\n [{\n            'v': 243,\n            'f': \"243\",\n        },\n\"applicable_federal\",\n{\n            'v': 51,\n            'f': \"51\",\n        }],\n [{\n            'v': 330,\n            'f': \"330\",\n        },\n\"6_month\",\n{\n            'v': 51,\n            'f': \"51\",\n        }],\n [{\n            'v': 589,\n            'f': \"589\",\n        },\n\"statistic_econometric\",\n{\n            'v': 50,\n            'f': \"50\",\n        }],\n [{\n            'v': 642,\n            'f': \"642\",\n        },\n\"mount_sinai\",\n{\n            'v': 50,\n            'f': \"50\",\n        }],\n [{\n            'v': 347,\n            'f': \"347\",\n        },\n\"flexible_working\",\n{\n            'v': 50,\n            'f': \"50\",\n        }],\n [{\n            'v': 255,\n            'f': \"255\",\n        },\n\"sick_leave\",\n{\n            'v': 50,\n            'f': \"50\",\n        }],\n [{\n            'v': 375,\n            'f': \"375\",\n        },\n\"privilege_employment\",\n{\n            'v': 50,\n            'f': \"50\",\n        }],\n [{\n            'v': 351,\n            'f': \"351\",\n        },\n\"solid_understanding\",\n{\n            'v': 50,\n            'f': \"50\",\n        }],\n [{\n            'v': 282,\n            'f': \"282\",\n        },\n\"origin_gender\",\n{\n            'v': 50,\n            'f': \"50\",\n        }],\n [{\n            'v': 436,\n            'f': \"436\",\n        },\n\"rating_affect\",\n{\n            'v': 49,\n            'f': \"49\",\n        }],\n [{\n            'v': 162,\n            'f': \"162\",\n        },\n\"san_toma\",\n{\n            'v': 49,\n            'f': \"49\",\n        }],\n [{\n            'v': 163,\n            'f': \"163\",\n        },\n\"expressway_santa\",\n{\n            'v': 49,\n            'f': \"49\",\n        }],\n [{\n            'v': 164,\n            'f': \"164\",\n        },\n\"clara_95051\",\n{\n            'v': 49,\n            'f': \"49\",\n        }],\n [{\n            'v': 382,\n            'f': \"382\",\n        },\n\"boston_ma\",\n{\n            'v': 49,\n            'f': \"49\",\n        }],\n [{\n            'v': 234,\n            'f': \"234\",\n        },\n\"donation_match\",\n{\n            'v': 49,\n            'f': \"49\",\n        }],\n [{\n            'v': 427,\n            'f': \"427\",\n        },\n\"rely_education\",\n{\n            'v': 49,\n            'f': \"49\",\n        }],\n [{\n            'v': 161,\n            'f': \"161\",\n        },\n\"location_2788\",\n{\n            'v': 49,\n            'f': \"49\",\n        }],\n [{\n            'v': 126,\n            'f': \"126\",\n        },\n\"strongly_encourage\",\n{\n            'v': 49,\n            'f': \"49\",\n        }],\n [{\n            'v': 540,\n            'f': \"540\",\n        },\n\"criminal_background\",\n{\n            'v': 49,\n            'f': \"49\",\n        }],\n [{\n            'v': 495,\n            'f': \"495\",\n        },\n\"performance_indicator\",\n{\n            'v': 49,\n            'f': \"49\",\n        }],\n [{\n            'v': 496,\n            'f': \"496\",\n        },\n\"excel_powerpoint\",\n{\n            'v': 49,\n            'f': \"49\",\n        }],\n [{\n            'v': 437,\n            'f': \"437\",\n        },\n\"overall_rating\",\n{\n            'v': 49,\n            'f': \"49\",\n        }],\n [{\n            'v': 523,\n            'f': \"523\",\n        },\n\"arrest_conviction\",\n{\n            'v': 48,\n            'f': \"48\",\n        }],\n [{\n            'v': 342,\n            'f': \"342\",\n        },\n\"reasonable_estimate\",\n{\n            'v': 48,\n            'f': \"48\",\n        }],\n [{\n            'v': 493,\n            'f': \"493\",\n        },\n\"write_oral\",\n{\n            'v': 48,\n            'f': \"48\",\n        }],\n [{\n            'v': 532,\n            'f': \"532\",\n        },\n\"act_liaison\",\n{\n            'v': 48,\n            'f': \"48\",\n        }],\n [{\n            'v': 598,\n            'f': \"598\",\n        },\n\"accordance_applicable\",\n{\n            'v': 48,\n            'f': \"48\",\n        }],\n [{\n            'v': 524,\n            'f': \"524\",\n        },\n\"domestic_partner\",\n{\n            'v': 48,\n            'f': \"48\",\n        }],\n [{\n            'v': 611,\n            'f': \"611\",\n        },\n\"creativity_bring\",\n{\n            'v': 48,\n            'f': \"48\",\n        }],\n [{\n            'v': 613,\n            'f': \"613\",\n        },\n\"tiktok_commit\",\n{\n            'v': 48,\n            'f': \"48\",\n        }],\n [{\n            'v': 634,\n            'f': \"634\",\n        },\n\"principal_investigator\",\n{\n            'v': 48,\n            'f': \"48\",\n        }],\n [{\n            'v': 368,\n            'f': \"368\",\n        },\n\"analytical_problem\",\n{\n            'v': 48,\n            'f': \"48\",\n        }],\n [{\n            'v': 619,\n            'f': \"619\",\n        },\n\"political_affiliation\",\n{\n            'v': 47,\n            'f': \"47\",\n        }],\n [{\n            'v': 419,\n            'f': \"419\",\n        },\n\"new_existing\",\n{\n            'v': 47,\n            'f': \"47\",\n        }],\n [{\n            'v': 615,\n            'f': \"615\",\n        },\n\"school_district\",\n{\n            'v': 47,\n            'f': \"47\",\n        }],\n [{\n            'v': 564,\n            'f': \"564\",\n        },\n\"prohibit_discrimination\",\n{\n            'v': 47,\n            'f': \"47\",\n        }],\n [{\n            'v': 468,\n            'f': \"468\",\n        },\n\"creed_religion\",\n{\n            'v': 47,\n            'f': \"47\",\n        }],\n [{\n            'v': 629,\n            'f': \"629\",\n        },\n\"unitedhealth_group\",\n{\n            'v': 47,\n            'f': \"47\",\n        }],\n [{\n            'v': 519,\n            'f': \"519\",\n        },\n\"3_m\",\n{\n            'v': 47,\n            'f': \"47\",\n        }],\n [{\n            'v': 57,\n            'f': \"57\",\n        },\n\"committed_inclusion\",\n{\n            'v': 47,\n            'f': \"47\",\n        }],\n [{\n            'v': 456,\n            'f': \"456\",\n        },\n\"career_path\",\n{\n            'v': 47,\n            'f': \"47\",\n        }],\n [{\n            'v': 636,\n            'f': \"636\",\n        },\n\"cell_biology\",\n{\n            'v': 46,\n            'f': \"46\",\n        }],\n [{\n            'v': 5,\n            'f': \"5\",\n        },\n\"organization_planet\",\n{\n            'v': 46,\n            'f': \"46\",\n        }],\n [{\n            'v': 153,\n            'f': \"153\",\n        },\n\"let_recruiter\",\n{\n            'v': 46,\n            'f': \"46\",\n        }],\n [{\n            'v': 361,\n            'f': \"361\",\n        },\n\"oral_communication\",\n{\n            'v': 46,\n            'f': \"46\",\n        }],\n [{\n            'v': 551,\n            'f': \"551\",\n        },\n\"combination_education\",\n{\n            'v': 46,\n            'f': \"46\",\n        }],\n [{\n            'v': 124,\n            'f': \"124\",\n        },\n\"love_hear\",\n{\n            'v': 46,\n            'f': \"46\",\n        }],\n [{\n            'v': 333,\n            'f': \"333\",\n        },\n\"origin_ancestry\",\n{\n            'v': 46,\n            'f': \"46\",\n        }],\n [{\n            'v': 323,\n            'f': \"323\",\n        },\n\"actionable_insight\",\n{\n            'v': 46,\n            'f': \"46\",\n        }],\n [{\n            'v': 535,\n            'f': \"535\",\n        },\n\"protect_characteristic\",\n{\n            'v': 46,\n            'f': \"46\",\n        }],\n [{\n            'v': 349,\n            'f': \"349\",\n        },\n\"li_li\",\n{\n            'v': 46,\n            'f': \"46\",\n        }],\n [{\n            'v': 448,\n            'f': \"448\",\n        },\n\"career_transition\",\n{\n            'v': 45,\n            'f': \"45\",\n        }],\n [{\n            'v': 640,\n            'f': \"640\",\n        },\n\"data_entry\",\n{\n            'v': 45,\n            'f': \"45\",\n        }],\n [{\n            'v': 297,\n            'f': \"297\",\n        },\n\"ba_bs\",\n{\n            'v': 45,\n            'f': \"45\",\n        }],\n [{\n            'v': 576,\n            'f': \"576\",\n        },\n\"ratio_50\",\n{\n            'v': 45,\n            'f': \"45\",\n        }],\n [{\n            'v': 547,\n            'f': \"547\",\n        },\n\"cardinal_health\",\n{\n            'v': 45,\n            'f': \"45\",\n        }],\n [{\n            'v': 580,\n            'f': \"580\",\n        },\n\"daily_lunch\",\n{\n            'v': 45,\n            'f': \"45\",\n        }],\n [{\n            'v': 581,\n            'f': \"581\",\n        },\n\"snack_office\",\n{\n            'v': 45,\n            'f': \"45\",\n        }],\n [{\n            'v': 582,\n            'f': \"582\",\n        },\n\"e_commerce\",\n{\n            'v': 45,\n            'f': \"45\",\n        }],\n [{\n            'v': 610,\n            'f': \"610\",\n        },\n\"non_profit\",\n{\n            'v': 44,\n            'f': \"44\",\n        }],\n [{\n            'v': 577,\n            'f': \"577\",\n        },\n\"22_week\",\n{\n            'v': 44,\n            'f': \"44\",\n        }],\n [{\n            'v': 578,\n            'f': \"578\",\n        },\n\"leave_unlimited\",\n{\n            'v': 44,\n            'f': \"44\",\n        }],\n [{\n            'v': 623,\n            'f': \"623\",\n        },\n\"mayo_clinic\",\n{\n            'v': 44,\n            'f': \"44\",\n        }],\n [{\n            'v': 579,\n            'f': \"579\",\n        },\n\"pto_staff\",\n{\n            'v': 44,\n            'f': \"44\",\n        }],\n [{\n            'v': 691,\n            'f': \"691\",\n        },\n\"penguin_random\",\n{\n            'v': 44,\n            'f': \"44\",\n        }],\n [{\n            'v': 10,\n            'f': \"10\",\n        },\n\"integrity_accountability\",\n{\n            'v': 44,\n            'f': \"44\",\n        }],\n [{\n            'v': 490,\n            'f': \"490\",\n        },\n\"clear_concise\",\n{\n            'v': 43,\n            'f': \"43\",\n        }],\n [{\n            'v': 553,\n            'f': \"553\",\n        },\n\"performance_appraisal\",\n{\n            'v': 43,\n            'f': \"43\",\n        }],\n [{\n            'v': 520,\n            'f': \"520\",\n        },\n\"origin_age\",\n{\n            'v': 43,\n            'f': \"43\",\n        }],\n [{\n            'v': 224,\n            'f': \"224\",\n        },\n\"excel_word\",\n{\n            'v': 43,\n            'f': \"43\",\n        }],\n [{\n            'v': 518,\n            'f': \"518\",\n        },\n\"12_week\",\n{\n            'v': 43,\n            'f': \"43\",\n        }],\n [{\n            'v': 657,\n            'f': \"657\",\n        },\n\"accounting_finance\",\n{\n            'v': 43,\n            'f': \"43\",\n        }],\n [{\n            'v': 563,\n            'f': \"563\",\n        },\n\"pytorch_tensorflow\",\n{\n            'v': 42,\n            'f': \"42\",\n        }],\n [{\n            'v': 299,\n            'f': \"299\",\n        },\n\"saving_plan\",\n{\n            'v': 42,\n            'f': \"42\",\n        }],\n [{\n            'v': 117,\n            'f': \"117\",\n        },\n\"co_op\",\n{\n            'v': 42,\n            'f': \"42\",\n        }],\n [{\n            'v': 599,\n            'f': \"599\",\n        },\n\"fortune_100\",\n{\n            'v': 42,\n            'f': \"42\",\n        }],\n [{\n            'v': 544,\n            'f': \"544\",\n        },\n\"sign_payment\",\n{\n            'v': 42,\n            'f': \"42\",\n        }],\n [{\n            'v': 595,\n            'f': \"595\",\n        },\n\"discrimination_harassment\",\n{\n            'v': 42,\n            'f': \"42\",\n        }],\n [{\n            'v': 147,\n            'f': \"147\",\n        },\n\"element_dependent\",\n{\n            'v': 42,\n            'f': \"42\",\n        }],\n [{\n            'v': 327,\n            'f': \"327\",\n        },\n\"send_email\",\n{\n            'v': 42,\n            'f': \"42\",\n        }],\n [{\n            'v': 549,\n            'f': \"549\",\n        },\n\"new_jersey\",\n{\n            'v': 42,\n            'f': \"42\",\n        }],\n [{\n            'v': 650,\n            'f': \"650\",\n        },\n\"cell_therapy\",\n{\n            'v': 42,\n            'f': \"42\",\n        }],\n [{\n            'v': 251,\n            'f': \"251\",\n        },\n\"religion_creed\",\n{\n            'v': 42,\n            'f': \"42\",\n        }],\n [{\n            'v': 489,\n            'f': \"489\",\n        },\n\"claim_10\",\n{\n            'v': 42,\n            'f': \"42\",\n        }],\n [{\n            'v': 550,\n            'f': \"550\",\n        },\n\"cash_flow\",\n{\n            'v': 42,\n            'f': \"42\",\n        }],\n [{\n            'v': 198,\n            'f': \"198\",\n        },\n\"accurate_timely\",\n{\n            'v': 42,\n            'f': \"42\",\n        }],\n [{\n            'v': 590,\n            'f': \"590\",\n        },\n\"predictive_analytic\",\n{\n            'v': 42,\n            'f': \"42\",\n        }],\n [{\n            'v': 287,\n            'f': \"287\",\n        },\n\"highly_skilled\",\n{\n            'v': 41,\n            'f': \"41\",\n        }],\n [{\n            'v': 638,\n            'f': \"638\",\n        },\n\"word_processing\",\n{\n            'v': 41,\n            'f': \"41\",\n        }],\n [{\n            'v': 621,\n            'f': \"621\",\n        },\n\"search_engine\",\n{\n            'v': 41,\n            'f': \"41\",\n        }],\n [{\n            'v': 272,\n            'f': \"272\",\n        },\n\"mountain_view\",\n{\n            'v': 41,\n            'f': \"41\",\n        }],\n [{\n            'v': 559,\n            'f': \"559\",\n        },\n\"workforce_reflect\",\n{\n            'v': 41,\n            'f': \"41\",\n        }],\n [{\n            'v': 357,\n            'f': \"357\",\n        },\n\"li_hybrid\",\n{\n            'v': 41,\n            'f': \"41\",\n        }],\n [{\n            'v': 171,\n            'f': \"171\",\n        },\n\"way_stand\",\n{\n            'v': 41,\n            'f': \"41\",\n        }],\n [{\n            'v': 488,\n            'f': \"488\",\n        },\n\"discharge_active\",\n{\n            'v': 41,\n            'f': \"41\",\n        }],\n [{\n            'v': 486,\n            'f': \"486\",\n        },\n\"official_transcript\",\n{\n            'v': 41,\n            'f': \"41\",\n        }],\n [{\n            'v': 412,\n            'f': \"412\",\n        },\n\"extended_period\",\n{\n            'v': 41,\n            'f': \"41\",\n        }],\n [{\n            'v': 146,\n            'f': \"146\",\n        },\n\"ppo_hsa\",\n{\n            'v': 41,\n            'f': \"41\",\n        }],\n [{\n            'v': 145,\n            'f': \"145\",\n        },\n\"hire_aetna\",\n{\n            'v': 41,\n            'f': \"41\",\n        }],\n [{\n            'v': 546,\n            'f': \"546\",\n        },\n\"highly_organized\",\n{\n            'v': 41,\n            'f': \"41\",\n        }],\n [{\n            'v': 263,\n            'f': \"263\",\n        },\n\"type_time\",\n{\n            'v': 40,\n            'f': \"40\",\n        }],\n [{\n            'v': 253,\n            'f': \"253\",\n        },\n\"continuously_improve\",\n{\n            'v': 40,\n            'f': \"40\",\n        }],\n [{\n            'v': 248,\n            'f': \"248\",\n        },\n\"autonomous_vehicle\",\n{\n            'v': 40,\n            'f': \"40\",\n        }],\n [{\n            'v': 303,\n            'f': \"303\",\n        },\n\"12_month\",\n{\n            'v': 40,\n            'f': \"40\",\n        }],\n [{\n            'v': 75,\n            'f': \"75\",\n        },\n\"stock_discount\",\n{\n            'v': 40,\n            'f': \"40\",\n        }],\n [{\n            'v': 608,\n            'f': \"608\",\n        },\n\"religious_belief\",\n{\n            'v': 40,\n            'f': \"40\",\n        }],\n [{\n            'v': 676,\n            'f': \"676\",\n        },\n\"state_michigan\",\n{\n            'v': 40,\n            'f': \"40\",\n        }],\n [{\n            'v': 8,\n            'f': \"8\",\n        },\n\"collaborate_realize\",\n{\n            'v': 40,\n            'f': \"40\",\n        }],\n [{\n            'v': 658,\n            'f': \"658\",\n        },\n\"sound_judgment\",\n{\n            'v': 40,\n            'f': \"40\",\n        }],\n [{\n            'v': 381,\n            'f': \"381\",\n        },\n\"record_keeping\",\n{\n            'v': 40,\n            'f': \"40\",\n        }],\n [{\n            'v': 422,\n            'f': \"422\",\n        },\n\"honorable_general\",\n{\n            'v': 40,\n            'f': \"40\",\n        }],\n [{\n            'v': 7,\n            'f': \"7\",\n        },\n\"innovate_empower\",\n{\n            'v': 40,\n            'f': \"40\",\n        }],\n [{\n            'v': 418,\n            'f': \"418\",\n        },\n\"reference_check\",\n{\n            'v': 39,\n            'f': \"39\",\n        }],\n [{\n            'v': 469,\n            'f': \"469\",\n        },\n\"chicago_il\",\n{\n            'v': 39,\n            'f': \"39\",\n        }],\n [{\n            'v': 592,\n            'f': \"592\",\n        },\n\"fine_tune\",\n{\n            'v': 39,\n            'f': \"39\",\n        }],\n [{\n            'v': 648,\n            'f': \"648\",\n        },\n\"title_ix\",\n{\n            'v': 39,\n            'f': \"39\",\n        }],\n [{\n            'v': 677,\n            'f': \"677\",\n        },\n\"credit_union\",\n{\n            'v': 39,\n            'f': \"39\",\n        }],\n [{\n            'v': 409,\n            'f': \"409\",\n        },\n\"selective_service\",\n{\n            'v': 39,\n            'f': \"39\",\n        }],\n [{\n            'v': 105,\n            'f': \"105\",\n        },\n\"export_control\",\n{\n            'v': 39,\n            'f': \"39\",\n        }],\n [{\n            'v': 70,\n            'f': \"70\",\n        },\n\"apple_shareholder\",\n{\n            'v': 39,\n            'f': \"39\",\n        }],\n [{\n            'v': 628,\n            'f': \"628\",\n        },\n\"licensure_certification\",\n{\n            'v': 39,\n            'f': \"39\",\n        }],\n [{\n            'v': 74,\n            'f': \"74\",\n        },\n\"award_purchase\",\n{\n            'v': 38,\n            'f': \"38\",\n        }],\n [{\n            'v': 71,\n            'f': \"71\",\n        },\n\"participation_apple\",\n{\n            'v': 38,\n            'f': \"38\",\n        }],\n [{\n            'v': 108,\n            'f': \"108\",\n        },\n\"expression_age\",\n{\n            'v': 38,\n            'f': \"38\",\n        }],\n [{\n            'v': 441,\n            'f': \"441\",\n        },\n\"disciplinary_action\",\n{\n            'v': 38,\n            'f': \"38\",\n        }],\n [{\n            'v': 405,\n            'f': \"405\",\n        },\n\"drug_discovery\",\n{\n            'v': 38,\n            'f': \"38\",\n        }],\n [{\n            'v': 470,\n            'f': \"470\",\n        },\n\"fortune_500\",\n{\n            'v': 38,\n            'f': \"38\",\n        }],\n [{\n            'v': 462,\n            'f': \"462\",\n        },\n\"vice_president\",\n{\n            'v': 38,\n            'f': \"38\",\n        }],\n [{\n            'v': 76,\n            'f': \"76\",\n        },\n\"voluntarily_participate\",\n{\n            'v': 38,\n            'f': \"38\",\n        }],\n [{\n            'v': 622,\n            'f': \"622\",\n        },\n\"american_express\",\n{\n            'v': 38,\n            'f': \"38\",\n        }],\n [{\n            'v': 79,\n            'f': \"79\",\n        },\n\"reimbursement_certain\",\n{\n            'v': 38,\n            'f': \"38\",\n        }],\n [{\n            'v': 83,\n            'f': \"83\",\n        },\n\"payment_relocation\",\n{\n            'v': 38,\n            'f': \"38\",\n        }],\n [{\n            'v': 81,\n            'f': \"81\",\n        },\n\"tuition_additionally\",\n{\n            'v': 38,\n            'f': \"38\",\n        }],\n [{\n            'v': 80,\n            'f': \"80\",\n        },\n\"educational_expense\",\n{\n            'v': 38,\n            'f': \"38\",\n        }],\n [{\n            'v': 363,\n            'f': \"363\",\n        },\n\"eeo_statement\",\n{\n            'v': 37,\n            'f': \"37\",\n        }],\n [{\n            'v': 646,\n            'f': \"646\",\n        },\n\"t_cell\",\n{\n            'v': 37,\n            'f': \"37\",\n        }],\n [{\n            'v': 529,\n            'f': \"529\",\n        },\n\"cambridge_ma\",\n{\n            'v': 37,\n            'f': \"37\",\n        }],\n [{\n            'v': 454,\n            'f': \"454\",\n        },\n\"security_clearance\",\n{\n            'v': 37,\n            'f': \"37\",\n        }],\n [{\n            'v': 267,\n            'f': \"267\",\n        },\n\"internally_externally\",\n{\n            'v': 37,\n            'f': \"37\",\n        }],\n [{\n            'v': 261,\n            'f': \"261\",\n        },\n\"co_worker\",\n{\n            'v': 37,\n            'f': \"37\",\n        }],\n [{\n            'v': 656,\n            'f': \"656\",\n        },\n\"de_la\",\n{\n            'v': 37,\n            'f': \"37\",\n        }],\n [{\n            'v': 596,\n            'f': \"596\",\n        },\n\"domestic_violence\",\n{\n            'v': 37,\n            'f': \"37\",\n        }],\n [{\n            'v': 396,\n            'f': \"396\",\n        },\n\"diploma_equivalent\",\n{\n            'v': 37,\n            'f': \"37\",\n        }],\n [{\n            'v': 394,\n            'f': \"394\",\n        },\n\"compete_priority\",\n{\n            'v': 37,\n            'f': \"37\",\n        }],\n [{\n            'v': 481,\n            'f': \"481\",\n        },\n\"series_grade\",\n{\n            'v': 37,\n            'f': \"37\",\n        }],\n [{\n            'v': 335,\n            'f': \"335\",\n        },\n\"mentor_junior\",\n{\n            'v': 37,\n            'f': \"37\",\n        }],\n [{\n            'v': 344,\n            'f': \"344\",\n        },\n\"accept_unsolicited\",\n{\n            'v': 37,\n            'f': \"37\",\n        }],\n [{\n            'v': 484,\n            'f': \"484\",\n        },\n\"assessment_questionnaire\",\n{\n            'v': 37,\n            'f': \"37\",\n        }],\n [{\n            'v': 627,\n            'f': \"627\",\n        },\n\"value_proposition\",\n{\n            'v': 37,\n            'f': \"37\",\n        }],\n [{\n            'v': 378,\n            'f': \"378\",\n        },\n\"positively_impact\",\n{\n            'v': 37,\n            'f': \"37\",\n        }],\n [{\n            'v': 616,\n            'f': \"616\",\n        },\n\"power_bi\",\n{\n            'v': 37,\n            'f': \"37\",\n        }],\n [{\n            'v': 600,\n            'f': \"600\",\n        },\n\"qualitative_quantitative\",\n{\n            'v': 36,\n            'f': \"36\",\n        }],\n [{\n            'v': 438,\n            'f': \"438\",\n        },\n\"usajobs_account\",\n{\n            'v': 36,\n            'f': \"36\",\n        }],\n [{\n            'v': 379,\n            'f': \"379\",\n        },\n\"security_screening\",\n{\n            'v': 36,\n            'f': \"36\",\n        }],\n [{\n            'v': 591,\n            'f': \"591\",\n        },\n\"tensorflow_pytorch\",\n{\n            'v': 36,\n            'f': \"36\",\n        }],\n [{\n            'v': 586,\n            'f': \"586\",\n        },\n\"language_model\",\n{\n            'v': 36,\n            'f': \"36\",\n        }],\n [{\n            'v': 54,\n            'f': \"54\",\n        },\n\"bs_ms\",\n{\n            'v': 36,\n            'f': \"36\",\n        }],\n [{\n            'v': 635,\n            'f': \"635\",\n        },\n\"serve_liaison\",\n{\n            'v': 36,\n            'f': \"36\",\n        }],\n [{\n            'v': 660,\n            'f': \"660\",\n        },\n\"johns_hopkins\",\n{\n            'v': 36,\n            'f': \"36\",\n        }],\n [{\n            'v': 305,\n            'f': \"305\",\n        },\n\"push_pull\",\n{\n            'v': 36,\n            'f': \"36\",\n        }],\n [{\n            'v': 86,\n            'f': \"86\",\n        },\n\"lean_sigma\",\n{\n            'v': 36,\n            'f': \"36\",\n        }],\n [{\n            'v': 449,\n            'f': \"449\",\n        },\n\"atlanta_ga\",\n{\n            'v': 36,\n            'f': \"36\",\n        }],\n [{\n            'v': 679,\n            'f': \"679\",\n        },\n\"dodge_cox\",\n{\n            'v': 35,\n            'f': \"35\",\n        }],\n [{\n            'v': 95,\n            'f': \"95\",\n        },\n\"prescription_drug\",\n{\n            'v': 35,\n            'f': \"35\",\n        }],\n [{\n            'v': 220,\n            'f': \"220\",\n        },\n\"conflict_resolution\",\n{\n            'v': 35,\n            'f': \"35\",\n        }],\n [{\n            'v': 539,\n            'f': \"539\",\n        },\n\"military_status\",\n{\n            'v': 35,\n            'f': \"35\",\n        }],\n [{\n            'v': 552,\n            'f': \"552\",\n        },\n\"ctap_ictap\",\n{\n            'v': 35,\n            'f': \"35\",\n        }],\n [{\n            'v': 301,\n            'f': \"301\",\n        },\n\"personally_professionally\",\n{\n            'v': 35,\n            'f': \"35\",\n        }],\n [{\n            'v': 345,\n            'f': \"345\",\n        },\n\"phone_call\",\n{\n            'v': 35,\n            'f': \"35\",\n        }],\n [{\n            'v': 352,\n            'f': \"352\",\n        },\n\"nvidia_widely\",\n{\n            'v': 35,\n            'f': \"35\",\n        }],\n [{\n            'v': 482,\n            'f': \"482\",\n        },\n\"claim_membership\",\n{\n            'v': 34,\n            'f': \"34\",\n        }],\n [{\n            'v': 447,\n            'f': \"447\",\n        },\n\"owe_allegiance\",\n{\n            'v': 34,\n            'f': \"34\",\n        }],\n [{\n            'v': 354,\n            'f': \"354\",\n        },\n\"dream_big\",\n{\n            'v': 34,\n            'f': \"34\",\n        }],\n [{\n            'v': 672,\n            'f': \"672\",\n        },\n\"exit_interview\",\n{\n            'v': 34,\n            'f': \"34\",\n        }],\n [{\n            'v': 643,\n            'f': \"643\",\n        },\n\"stem_cell\",\n{\n            'v': 33,\n            'f': \"33\",\n        }],\n [{\n            'v': 265,\n            'f': \"265\",\n        },\n\"hip_ppo\",\n{\n            'v': 33,\n            'f': \"33\",\n        }],\n [{\n            'v': 669,\n            'f': \"669\",\n        },\n\"kaiser_permanente\",\n{\n            'v': 33,\n            'f': \"33\",\n        }],\n [{\n            'v': 533,\n            'f': \"533\",\n        },\n\"unsolicited_resume\",\n{\n            'v': 33,\n            'f': \"33\",\n        }],\n [{\n            'v': 609,\n            'f': \"609\",\n        },\n\"quantitative_qualitative\",\n{\n            'v': 33,\n            'f': \"33\",\n        }],\n [{\n            'v': 593,\n            'f': \"593\",\n        },\n\"fine_tuning\",\n{\n            'v': 33,\n            'f': \"33\",\n        }],\n [{\n            'v': 568,\n            'f': \"568\",\n        },\n\"jpmorgan_chase\",\n{\n            'v': 33,\n            'f': \"33\",\n        }],\n [{\n            'v': 398,\n            'f': \"398\",\n        },\n\"sense_urgency\",\n{\n            'v': 32,\n            'f': \"32\",\n        }],\n [{\n            'v': 377,\n            'f': \"377\",\n        },\n\"santa_barbara\",\n{\n            'v': 32,\n            'f': \"32\",\n        }],\n [{\n            'v': 455,\n            'f': \"455\",\n        },\n\"stay_abreast\",\n{\n            'v': 32,\n            'f': \"32\",\n        }],\n [{\n            'v': 603,\n            'f': \"603\",\n        },\n\"passionate_hope\",\n{\n            'v': 32,\n            'f': \"32\",\n        }],\n [{\n            'v': 604,\n            'f': \"604\",\n        },\n\"pregnancy_sincerely\",\n{\n            'v': 32,\n            'f': \"32\",\n        }],\n [{\n            'v': 527,\n            'f': \"527\",\n        },\n\"attract_retain\",\n{\n            'v': 32,\n            'f': \"32\",\n        }],\n [{\n            'v': 605,\n            'f': \"605\",\n        },\n\"hold_religious\",\n{\n            'v': 32,\n            'f': \"32\",\n        }],\n [{\n            'v': 645,\n            'f': \"645\",\n        },\n\"southern_california\",\n{\n            'v': 32,\n            'f': \"32\",\n        }],\n [{\n            'v': 545,\n            'f': \"545\",\n        },\n\"love_one\",\n{\n            'v': 32,\n            'f': \"32\",\n        }],\n [{\n            'v': 606,\n            'f': \"606\",\n        },\n\"belief_reason\",\n{\n            'v': 32,\n            'f': \"32\",\n        }],\n [{\n            'v': 443,\n            'f': \"443\",\n        },\n\"suitability_selective\",\n{\n            'v': 31,\n            'f': \"31\",\n        }],\n [{\n            'v': 444,\n            'f': \"444\",\n        },\n\"signature_false\",\n{\n            'v': 31,\n            'f': \"31\",\n        }],\n [{\n            'v': 319,\n            'f': \"319\",\n        },\n\"structured_unstructured\",\n{\n            'v': 31,\n            'f': \"31\",\n        }],\n [{\n            'v': 222,\n            'f': \"222\",\n        },\n\"diploma_ged\",\n{\n            'v': 31,\n            'f': \"31\",\n        }],\n [{\n            'v': 118,\n            'f': \"118\",\n        },\n\"requisition_d\",\n{\n            'v': 31,\n            'f': \"31\",\n        }],\n [{\n            'v': 585,\n            'f': \"585\",\n        },\n\"multi_modal\",\n{\n            'v': 31,\n            'f': \"31\",\n        }],\n [{\n            'v': 538,\n            'f': \"538\",\n        },\n\"bonus_incentive\",\n{\n            'v': 30,\n            'f': \"30\",\n        }],\n [{\n            'v': 195,\n            'f': \"195\",\n        },\n\"status_legally\",\n{\n            'v': 30,\n            'f': \"30\",\n        }],\n [{\n            'v': 512,\n            'f': \"512\",\n        },\n\"regard_age\",\n{\n            'v': 30,\n            'f': \"30\",\n        }],\n [{\n            'v': 280,\n            'f': \"280\",\n        },\n\"inclusion_diversity\",\n{\n            'v': 30,\n            'f': \"30\",\n        }],\n [{\n            'v': 602,\n            'f': \"602\",\n        },\n\"inspire_creativity\",\n{\n            'v': 30,\n            'f': \"30\",\n        }],\n [{\n            'v': 515,\n            'f': \"515\",\n        },\n\"science_mathematic\",\n{\n            'v': 28,\n            'f': \"28\",\n        }],\n [{\n            'v': 567,\n            'f': \"567\",\n        },\n\"unlimited_pto\",\n{\n            'v': 26,\n            'f': \"26\",\n        }],\n [{\n            'v': 612,\n            'f': \"612\",\n        },\n\"bring_joy\",\n{\n            'v': 25,\n            'f': \"25\",\n        }],\n [{\n            'v': 618,\n            'f': \"618\",\n        },\n\"commit_foster\",\n{\n            'v': 24,\n            'f': \"24\",\n        }],\n [{\n            'v': 607,\n            'f': \"607\",\n        },\n\"mathematic_statistic\",\n{\n            'v': 24,\n            'f': \"24\",\n        }],\n [{\n            'v': 526,\n            'f': \"526\",\n        },\n\"disability_let\",\n{\n            'v': 23,\n            'f': \"23\",\n        }],\n [{\n            'v': 407,\n            'f': \"407\",\n        },\n\"redmond_wa\",\n{\n            'v': 23,\n            'f': \"23\",\n        }],\n [{\n            'v': 692,\n            'f': \"692\",\n        },\n\"random_house\",\n{\n            'v': 23,\n            'f': \"23\",\n        }],\n [{\n            'v': 426,\n            'f': \"426\",\n        },\n\"10_point\",\n{\n            'v': 22,\n            'f': \"22\",\n        }],\n [{\n            'v': 491,\n            'f': \"491\",\n        },\n\"pace_environment\",\n{\n            'v': 21,\n            'f': \"21\",\n        }],\n [{\n            'v': 536,\n            'f': \"536\",\n        },\n\"ancestry_citizenship\",\n{\n            'v': 19,\n            'f': \"19\",\n        }],\n [{\n            'v': 268,\n            'f': \"268\",\n        },\n\"operating_procedure\",\n{\n            'v': 19,\n            'f': \"19\",\n        }],\n [{\n            'v': 338,\n            'f': \"338\",\n        },\n\"external_stakeholder\",\n{\n            'v': 18,\n            'f': \"18\",\n        }],\n [{\n            'v': 625,\n            'f': \"625\",\n        },\n\"sincerely_hold\",\n{\n            'v': 17,\n            'f': \"17\",\n        }],\n [{\n            'v': 502,\n            'f': \"502\",\n        },\n\"mental_disability\",\n{\n            'v': 16,\n            'f': \"16\",\n        }],\n [{\n            'v': 637,\n            'f': \"637\",\n        },\n\"office_suite\",\n{\n            'v': 16,\n            'f': \"16\",\n        }],\n [{\n            'v': 136,\n            'f': \"136\",\n        },\n\"spending_account\",\n{\n            'v': 15,\n            'f': \"15\",\n        }],\n [{\n            'v': 644,\n            'f': \"644\",\n        },\n\"respect_integrity\",\n{\n            'v': 15,\n            'f': \"15\",\n        }],\n [{\n            'v': 521,\n            'f': \"521\",\n        },\n\"ethnicity_religion\",\n{\n            'v': 14,\n            'f': \"14\",\n        }],\n [{\n            'v': 522,\n            'f': \"522\",\n        },\n\"color_creed\",\n{\n            'v': 14,\n            'f': \"14\",\n        }],\n [{\n            'v': 348,\n            'f': \"348\",\n        },\n\"holiday_sick\",\n{\n            'v': 13,\n            'f': \"13\",\n        }],\n [{\n            'v': 693,\n            'f': \"693\",\n        },\n\"comic_strip\",\n{\n            'v': 12,\n            'f': \"12\",\n        }],\n [{\n            'v': 626,\n            'f': \"626\",\n        },\n\"san_jose\",\n{\n            'v': 10,\n            'f': \"10\",\n        }],\n [{\n            'v': 668,\n            'f': \"668\",\n        },\n\"immigration_status\",\n{\n            'v': 8,\n            'f': \"8\",\n        }],\n [{\n            'v': 661,\n            'f': \"661\",\n        },\n\"6_week\",\n{\n            'v': 7,\n            'f': \"7\",\n        }],\n [{\n            'v': 402,\n            'f': \"402\",\n        },\n\"widely_consider\",\n{\n            'v': 7,\n            'f': \"7\",\n        }],\n [{\n            'v': 678,\n            'f': \"678\",\n        },\n\"reward_package\",\n{\n            'v': 6,\n            'f': \"6\",\n        }],\n [{\n            'v': 424,\n            'f': \"424\",\n        },\n\"release_discharge\",\n{\n            'v': 6,\n            'f': \"6\",\n        }],\n [{\n            'v': 651,\n            'f': \"651\",\n        },\n\"condition_genetic\",\n{\n            'v': 6,\n            'f': \"6\",\n        }],\n [{\n            'v': 671,\n            'f': \"671\",\n        },\n\"conviction_record\",\n{\n            'v': 6,\n            'f': \"6\",\n        }],\n [{\n            'v': 97,\n            'f': \"97\",\n        },\n\"saving_account\",\n{\n            'v': 5,\n            'f': \"5\",\n        }],\n [{\n            'v': 659,\n            'f': \"659\",\n        },\n\"service_honorable\",\n{\n            'v': 4,\n            'f': \"4\",\n        }],\n [{\n            'v': 654,\n            'f': \"654\",\n        },\n\"bargaining_agreement\",\n{\n            'v': 4,\n            'f': \"4\",\n        }],\n [{\n            'v': 686,\n            'f': \"686\",\n        },\n\"cost_labor\",\n{\n            'v': 4,\n            'f': \"4\",\n        }],\n [{\n            'v': 624,\n            'f': \"624\",\n        },\n\"title_senior\",\n{\n            'v': 3,\n            'f': \"3\",\n        }],\n [{\n            'v': 631,\n            'f': \"631\",\n        },\n\"childbirth_relate\",\n{\n            'v': 3,\n            'f': \"3\",\n        }],\n [{\n            'v': 665,\n            'f': \"665\",\n        },\n\"geographic_market\",\n{\n            'v': 3,\n            'f': \"3\",\n        }],\n [{\n            'v': 548,\n            'f': \"548\",\n        },\n\"usd_usd\",\n{\n            'v': 3,\n            'f': \"3\",\n        }],\n [{\n            'v': 687,\n            'f': \"687\",\n        },\n\"affect_overall\",\n{\n            'v': 2,\n            'f': \"2\",\n        }],\n [{\n            'v': 690,\n            'f': \"690\",\n        },\n\"term_incentive\",\n{\n            'v': 2,\n            'f': \"2\",\n        }],\n [{\n            'v': 688,\n            'f': \"688\",\n        },\n\"announcement_result\",\n{\n            'v': 2,\n            'f': \"2\",\n        }],\n [{\n            'v': 694,\n            'f': \"694\",\n        },\n\"written_verbal\",\n{\n            'v': 2,\n            'f': \"2\",\n        }],\n [{\n            'v': 655,\n            'f': \"655\",\n        },\n\"title_sr\",\n{\n            'v': 2,\n            'f': \"2\",\n        }],\n [{\n            'v': 681,\n            'f': \"681\",\n        },\n\"states_america\",\n{\n            'v': 2,\n            'f': \"2\",\n        }],\n [{\n            'v': 680,\n            'f': \"680\",\n        },\n\"applicant_criminal\",\n{\n            'v': 2,\n            'f': \"2\",\n        }],\n [{\n            'v': 537,\n            'f': \"537\",\n        },\n\"ordinance_need\",\n{\n            'v': 1,\n            'f': \"1\",\n        }],\n [{\n            'v': 689,\n            'f': \"689\",\n        },\n\"accrediting_institution\",\n{\n            'v': 1,\n            'f': \"1\",\n        }],\n [{\n            'v': 408,\n            'f': \"408\",\n        },\n\"98052_job\",\n{\n            'v': 1,\n            'f': \"1\",\n        }],\n [{\n            'v': 684,\n            'f': \"684\",\n        },\n\"origin_physical\",\n{\n            'v': 1,\n            'f': \"1\",\n        }]],\n        columns: [[\"number\", \"index\"], [\"string\", \"N_gram\"], [\"number\", \"Count\"]],\n        columnOptions: [{\"width\": \"1px\", \"className\": \"index_column\"}],\n        rowsPerPage: 25,\n        helpUrl: \"https://colab.research.google.com/notebooks/data_table.ipynb\",\n        suppressOutputScrolling: true,\n        minimumWidth: undefined,\n      });\n\n      function appendQuickchartButton(parentElement) {\n        let quickchartButtonContainerElement = document.createElement('div');\n        quickchartButtonContainerElement.innerHTML = `\n<div id=\"df-d6dd79ef-01c6-4189-a16f-fc45245bbf2e\">\n  <button class=\"colab-df-quickchart\" onclick=\"quickchart('df-d6dd79ef-01c6-4189-a16f-fc45245bbf2e')\"\n            title=\"Suggest charts\"\n            style=\"display:none;\">\n    \n<svg xmlns=\"http://www.w3.org/2000/svg\" height=\"24px\"viewBox=\"0 0 24 24\"\n     width=\"24px\">\n    <g>\n        <path d=\"M19 3H5c-1.1 0-2 .9-2 2v14c0 1.1.9 2 2 2h14c1.1 0 2-.9 2-2V5c0-1.1-.9-2-2-2zM9 17H7v-7h2v7zm4 0h-2V7h2v10zm4 0h-2v-4h2v4z\"/>\n    </g>\n</svg>\n  </button>\n  \n<style>\n  .colab-df-quickchart {\n      --bg-color: #E8F0FE;\n      --fill-color: #1967D2;\n      --hover-bg-color: #E2EBFA;\n      --hover-fill-color: #174EA6;\n      --disabled-fill-color: #AAA;\n      --disabled-bg-color: #DDD;\n  }\n\n  [theme=dark] .colab-df-quickchart {\n      --bg-color: #3B4455;\n      --fill-color: #D2E3FC;\n      --hover-bg-color: #434B5C;\n      --hover-fill-color: #FFFFFF;\n      --disabled-bg-color: #3B4455;\n      --disabled-fill-color: #666;\n  }\n\n  .colab-df-quickchart {\n    background-color: var(--bg-color);\n    border: none;\n    border-radius: 50%;\n    cursor: pointer;\n    display: none;\n    fill: var(--fill-color);\n    height: 32px;\n    padding: 0;\n    width: 32px;\n  }\n\n  .colab-df-quickchart:hover {\n    background-color: var(--hover-bg-color);\n    box-shadow: 0 1px 2px rgba(60, 64, 67, 0.3), 0 1px 3px 1px rgba(60, 64, 67, 0.15);\n    fill: var(--button-hover-fill-color);\n  }\n\n  .colab-df-quickchart-complete:disabled,\n  .colab-df-quickchart-complete:disabled:hover {\n    background-color: var(--disabled-bg-color);\n    fill: var(--disabled-fill-color);\n    box-shadow: none;\n  }\n\n  .colab-df-spinner {\n    border: 2px solid var(--fill-color);\n    border-color: transparent;\n    border-bottom-color: var(--fill-color);\n    animation:\n      spin 1s steps(1) infinite;\n  }\n\n  @keyframes spin {\n    0% {\n      border-color: transparent;\n      border-bottom-color: var(--fill-color);\n      border-left-color: var(--fill-color);\n    }\n    20% {\n      border-color: transparent;\n      border-left-color: var(--fill-color);\n      border-top-color: var(--fill-color);\n    }\n    30% {\n      border-color: transparent;\n      border-left-color: var(--fill-color);\n      border-top-color: var(--fill-color);\n      border-right-color: var(--fill-color);\n    }\n    40% {\n      border-color: transparent;\n      border-right-color: var(--fill-color);\n      border-top-color: var(--fill-color);\n    }\n    60% {\n      border-color: transparent;\n      border-right-color: var(--fill-color);\n    }\n    80% {\n      border-color: transparent;\n      border-right-color: var(--fill-color);\n      border-bottom-color: var(--fill-color);\n    }\n    90% {\n      border-color: transparent;\n      border-bottom-color: var(--fill-color);\n    }\n  }\n</style>\n\n  <script>\n    async function quickchart(key) {\n      const quickchartButtonEl =\n        document.querySelector('#' + key + ' button');\n      quickchartButtonEl.disabled = true;  // To prevent multiple clicks.\n      quickchartButtonEl.classList.add('colab-df-spinner');\n      try {\n        const charts = await google.colab.kernel.invokeFunction(\n            'suggestCharts', [key], {});\n      } catch (error) {\n        console.error('Error during call to suggestCharts:', error);\n      }\n      quickchartButtonEl.classList.remove('colab-df-spinner');\n      quickchartButtonEl.classList.add('colab-df-quickchart-complete');\n    }\n    (() => {\n      let quickchartButtonEl =\n        document.querySelector('#df-d6dd79ef-01c6-4189-a16f-fc45245bbf2e button');\n      quickchartButtonEl.style.display =\n        google.colab.kernel.accessAllowed ? 'block' : 'none';\n    })();\n  </script>\n</div>`;\n        parentElement.appendChild(quickchartButtonContainerElement);\n      }\n\n      appendQuickchartButton(table);\n    ",
            "text/html": [
              "\n",
              "  <div id=\"df-02cd56c1-81f6-4aeb-bd37-19b463d48834\" class=\"colab-df-container\">\n",
              "    <div>\n",
              "<style scoped>\n",
              "    .dataframe tbody tr th:only-of-type {\n",
              "        vertical-align: middle;\n",
              "    }\n",
              "\n",
              "    .dataframe tbody tr th {\n",
              "        vertical-align: top;\n",
              "    }\n",
              "\n",
              "    .dataframe thead th {\n",
              "        text-align: right;\n",
              "    }\n",
              "</style>\n",
              "<table border=\"1\" class=\"dataframe\">\n",
              "  <thead>\n",
              "    <tr style=\"text-align: right;\">\n",
              "      <th></th>\n",
              "      <th>N_gram</th>\n",
              "      <th>Count</th>\n",
              "    </tr>\n",
              "  </thead>\n",
              "  <tbody>\n",
              "    <tr>\n",
              "      <th>0</th>\n",
              "      <td>job_title</td>\n",
              "      <td>2360</td>\n",
              "    </tr>\n",
              "    <tr>\n",
              "      <th>4</th>\n",
              "      <td>job_type</td>\n",
              "      <td>2338</td>\n",
              "    </tr>\n",
              "    <tr>\n",
              "      <th>254</th>\n",
              "      <td>human_resource</td>\n",
              "      <td>1854</td>\n",
              "    </tr>\n",
              "    <tr>\n",
              "      <th>18</th>\n",
              "      <td>equal_opportunity</td>\n",
              "      <td>1283</td>\n",
              "    </tr>\n",
              "    <tr>\n",
              "      <th>31</th>\n",
              "      <td>national_origin</td>\n",
              "      <td>901</td>\n",
              "    </tr>\n",
              "    <tr>\n",
              "      <th>...</th>\n",
              "      <td>...</td>\n",
              "      <td>...</td>\n",
              "    </tr>\n",
              "    <tr>\n",
              "      <th>680</th>\n",
              "      <td>applicant_criminal</td>\n",
              "      <td>2</td>\n",
              "    </tr>\n",
              "    <tr>\n",
              "      <th>537</th>\n",
              "      <td>ordinance_need</td>\n",
              "      <td>1</td>\n",
              "    </tr>\n",
              "    <tr>\n",
              "      <th>689</th>\n",
              "      <td>accrediting_institution</td>\n",
              "      <td>1</td>\n",
              "    </tr>\n",
              "    <tr>\n",
              "      <th>408</th>\n",
              "      <td>98052_job</td>\n",
              "      <td>1</td>\n",
              "    </tr>\n",
              "    <tr>\n",
              "      <th>684</th>\n",
              "      <td>origin_physical</td>\n",
              "      <td>1</td>\n",
              "    </tr>\n",
              "  </tbody>\n",
              "</table>\n",
              "<p>695 rows × 2 columns</p>\n",
              "</div>\n",
              "    <div class=\"colab-df-buttons\">\n",
              "\n",
              "  <div class=\"colab-df-container\">\n",
              "    <button class=\"colab-df-convert\" onclick=\"convertToInteractive('df-02cd56c1-81f6-4aeb-bd37-19b463d48834')\"\n",
              "            title=\"Convert this dataframe to an interactive table.\"\n",
              "            style=\"display:none;\">\n",
              "\n",
              "  <svg xmlns=\"http://www.w3.org/2000/svg\" height=\"24px\" viewBox=\"0 -960 960 960\">\n",
              "    <path d=\"M120-120v-720h720v720H120Zm60-500h600v-160H180v160Zm220 220h160v-160H400v160Zm0 220h160v-160H400v160ZM180-400h160v-160H180v160Zm440 0h160v-160H620v160ZM180-180h160v-160H180v160Zm440 0h160v-160H620v160Z\"/>\n",
              "  </svg>\n",
              "    </button>\n",
              "\n",
              "  <style>\n",
              "    .colab-df-container {\n",
              "      display:flex;\n",
              "      gap: 12px;\n",
              "    }\n",
              "\n",
              "    .colab-df-convert {\n",
              "      background-color: #E8F0FE;\n",
              "      border: none;\n",
              "      border-radius: 50%;\n",
              "      cursor: pointer;\n",
              "      display: none;\n",
              "      fill: #1967D2;\n",
              "      height: 32px;\n",
              "      padding: 0 0 0 0;\n",
              "      width: 32px;\n",
              "    }\n",
              "\n",
              "    .colab-df-convert:hover {\n",
              "      background-color: #E2EBFA;\n",
              "      box-shadow: 0px 1px 2px rgba(60, 64, 67, 0.3), 0px 1px 3px 1px rgba(60, 64, 67, 0.15);\n",
              "      fill: #174EA6;\n",
              "    }\n",
              "\n",
              "    .colab-df-buttons div {\n",
              "      margin-bottom: 4px;\n",
              "    }\n",
              "\n",
              "    [theme=dark] .colab-df-convert {\n",
              "      background-color: #3B4455;\n",
              "      fill: #D2E3FC;\n",
              "    }\n",
              "\n",
              "    [theme=dark] .colab-df-convert:hover {\n",
              "      background-color: #434B5C;\n",
              "      box-shadow: 0px 1px 3px 1px rgba(0, 0, 0, 0.15);\n",
              "      filter: drop-shadow(0px 1px 2px rgba(0, 0, 0, 0.3));\n",
              "      fill: #FFFFFF;\n",
              "    }\n",
              "  </style>\n",
              "\n",
              "    <script>\n",
              "      const buttonEl =\n",
              "        document.querySelector('#df-02cd56c1-81f6-4aeb-bd37-19b463d48834 button.colab-df-convert');\n",
              "      buttonEl.style.display =\n",
              "        google.colab.kernel.accessAllowed ? 'block' : 'none';\n",
              "\n",
              "      async function convertToInteractive(key) {\n",
              "        const element = document.querySelector('#df-02cd56c1-81f6-4aeb-bd37-19b463d48834');\n",
              "        const dataTable =\n",
              "          await google.colab.kernel.invokeFunction('convertToInteractive',\n",
              "                                                    [key], {});\n",
              "        if (!dataTable) return;\n",
              "\n",
              "        const docLinkHtml = 'Like what you see? Visit the ' +\n",
              "          '<a target=\"_blank\" href=https://colab.research.google.com/notebooks/data_table.ipynb>data table notebook</a>'\n",
              "          + ' to learn more about interactive tables.';\n",
              "        element.innerHTML = '';\n",
              "        dataTable['output_type'] = 'display_data';\n",
              "        await google.colab.output.renderOutput(dataTable, element);\n",
              "        const docLink = document.createElement('div');\n",
              "        docLink.innerHTML = docLinkHtml;\n",
              "        element.appendChild(docLink);\n",
              "      }\n",
              "    </script>\n",
              "  </div>\n",
              "\n",
              "\n",
              "<div id=\"df-44f54883-501c-4841-86b1-eaee760e66ed\">\n",
              "  <button class=\"colab-df-quickchart\" onclick=\"quickchart('df-44f54883-501c-4841-86b1-eaee760e66ed')\"\n",
              "            title=\"Suggest charts\"\n",
              "            style=\"display:none;\">\n",
              "\n",
              "<svg xmlns=\"http://www.w3.org/2000/svg\" height=\"24px\"viewBox=\"0 0 24 24\"\n",
              "     width=\"24px\">\n",
              "    <g>\n",
              "        <path d=\"M19 3H5c-1.1 0-2 .9-2 2v14c0 1.1.9 2 2 2h14c1.1 0 2-.9 2-2V5c0-1.1-.9-2-2-2zM9 17H7v-7h2v7zm4 0h-2V7h2v10zm4 0h-2v-4h2v4z\"/>\n",
              "    </g>\n",
              "</svg>\n",
              "  </button>\n",
              "\n",
              "<style>\n",
              "  .colab-df-quickchart {\n",
              "      --bg-color: #E8F0FE;\n",
              "      --fill-color: #1967D2;\n",
              "      --hover-bg-color: #E2EBFA;\n",
              "      --hover-fill-color: #174EA6;\n",
              "      --disabled-fill-color: #AAA;\n",
              "      --disabled-bg-color: #DDD;\n",
              "  }\n",
              "\n",
              "  [theme=dark] .colab-df-quickchart {\n",
              "      --bg-color: #3B4455;\n",
              "      --fill-color: #D2E3FC;\n",
              "      --hover-bg-color: #434B5C;\n",
              "      --hover-fill-color: #FFFFFF;\n",
              "      --disabled-bg-color: #3B4455;\n",
              "      --disabled-fill-color: #666;\n",
              "  }\n",
              "\n",
              "  .colab-df-quickchart {\n",
              "    background-color: var(--bg-color);\n",
              "    border: none;\n",
              "    border-radius: 50%;\n",
              "    cursor: pointer;\n",
              "    display: none;\n",
              "    fill: var(--fill-color);\n",
              "    height: 32px;\n",
              "    padding: 0;\n",
              "    width: 32px;\n",
              "  }\n",
              "\n",
              "  .colab-df-quickchart:hover {\n",
              "    background-color: var(--hover-bg-color);\n",
              "    box-shadow: 0 1px 2px rgba(60, 64, 67, 0.3), 0 1px 3px 1px rgba(60, 64, 67, 0.15);\n",
              "    fill: var(--button-hover-fill-color);\n",
              "  }\n",
              "\n",
              "  .colab-df-quickchart-complete:disabled,\n",
              "  .colab-df-quickchart-complete:disabled:hover {\n",
              "    background-color: var(--disabled-bg-color);\n",
              "    fill: var(--disabled-fill-color);\n",
              "    box-shadow: none;\n",
              "  }\n",
              "\n",
              "  .colab-df-spinner {\n",
              "    border: 2px solid var(--fill-color);\n",
              "    border-color: transparent;\n",
              "    border-bottom-color: var(--fill-color);\n",
              "    animation:\n",
              "      spin 1s steps(1) infinite;\n",
              "  }\n",
              "\n",
              "  @keyframes spin {\n",
              "    0% {\n",
              "      border-color: transparent;\n",
              "      border-bottom-color: var(--fill-color);\n",
              "      border-left-color: var(--fill-color);\n",
              "    }\n",
              "    20% {\n",
              "      border-color: transparent;\n",
              "      border-left-color: var(--fill-color);\n",
              "      border-top-color: var(--fill-color);\n",
              "    }\n",
              "    30% {\n",
              "      border-color: transparent;\n",
              "      border-left-color: var(--fill-color);\n",
              "      border-top-color: var(--fill-color);\n",
              "      border-right-color: var(--fill-color);\n",
              "    }\n",
              "    40% {\n",
              "      border-color: transparent;\n",
              "      border-right-color: var(--fill-color);\n",
              "      border-top-color: var(--fill-color);\n",
              "    }\n",
              "    60% {\n",
              "      border-color: transparent;\n",
              "      border-right-color: var(--fill-color);\n",
              "    }\n",
              "    80% {\n",
              "      border-color: transparent;\n",
              "      border-right-color: var(--fill-color);\n",
              "      border-bottom-color: var(--fill-color);\n",
              "    }\n",
              "    90% {\n",
              "      border-color: transparent;\n",
              "      border-bottom-color: var(--fill-color);\n",
              "    }\n",
              "  }\n",
              "</style>\n",
              "\n",
              "  <script>\n",
              "    async function quickchart(key) {\n",
              "      const quickchartButtonEl =\n",
              "        document.querySelector('#' + key + ' button');\n",
              "      quickchartButtonEl.disabled = true;  // To prevent multiple clicks.\n",
              "      quickchartButtonEl.classList.add('colab-df-spinner');\n",
              "      try {\n",
              "        const charts = await google.colab.kernel.invokeFunction(\n",
              "            'suggestCharts', [key], {});\n",
              "      } catch (error) {\n",
              "        console.error('Error during call to suggestCharts:', error);\n",
              "      }\n",
              "      quickchartButtonEl.classList.remove('colab-df-spinner');\n",
              "      quickchartButtonEl.classList.add('colab-df-quickchart-complete');\n",
              "    }\n",
              "    (() => {\n",
              "      let quickchartButtonEl =\n",
              "        document.querySelector('#df-44f54883-501c-4841-86b1-eaee760e66ed button');\n",
              "      quickchartButtonEl.style.display =\n",
              "        google.colab.kernel.accessAllowed ? 'block' : 'none';\n",
              "    })();\n",
              "  </script>\n",
              "</div>\n",
              "    </div>\n",
              "  </div>\n"
            ],
            "text/plain": [
              "                      N_gram  Count\n",
              "0                  job_title   2360\n",
              "4                   job_type   2338\n",
              "254           human_resource   1854\n",
              "18         equal_opportunity   1283\n",
              "31           national_origin    901\n",
              "..                       ...    ...\n",
              "680       applicant_criminal      2\n",
              "537           ordinance_need      1\n",
              "689  accrediting_institution      1\n",
              "408                98052_job      1\n",
              "684          origin_physical      1\n",
              "\n",
              "[695 rows x 2 columns]"
            ]
          },
          "execution_count": 22,
          "metadata": {},
          "output_type": "execute_result"
        }
      ],
      "source": [
        "# Firts step is to find N-grams to improve LDA's performance\n",
        "n_gram_model = gensim.models.phrases.Phrases(lemmatized_corpus, min_count=30, threshold=20)\n",
        "n_gram_corpus = [el for el in n_gram_model[lemmatized_corpus]]\n",
        "\n",
        "# Display table with N-grams\n",
        "n_gram_dict = {}\n",
        "detected_n_grams = []\n",
        "\n",
        "for doc in n_gram_corpus:\n",
        "  for word in doc:\n",
        "    if '_' in word:\n",
        "      if word not in detected_n_grams:\n",
        "        detected_n_grams.append(word)\n",
        "        n_gram_dict[word] = 0\n",
        "\n",
        "      n_gram_dict[word] += 1\n",
        "\n",
        "n_grams_df = pd.DataFrame([(key, value) for key, value in n_gram_dict.items()], columns=['N_gram', 'Count']).sort_values(by='Count', ascending=False)\n",
        "n_grams_df"
      ]
    },
    {
      "cell_type": "markdown",
      "metadata": {
        "id": "TCh0IEs3d0v8"
      },
      "source": [
        "Save the lemmatized corpus and N-gram corpus."
      ]
    },
    {
      "cell_type": "code",
      "execution_count": null,
      "metadata": {
        "colab": {
          "base_uri": "https://localhost:8080/",
          "height": 17
        },
        "id": "OUW-wGpYd0Y0",
        "outputId": "d37c766e-a3c6-4380-b839-2f49a543ed4e"
      },
      "outputs": [
        {
          "data": {
            "text/html": [
              "\n",
              "  <style>\n",
              "    pre {\n",
              "        white-space: pre-wrap;\n",
              "    }\n",
              "  </style>\n",
              "  "
            ],
            "text/plain": [
              "<IPython.core.display.HTML object>"
            ]
          },
          "metadata": {},
          "output_type": "display_data"
        }
      ],
      "source": [
        "with open(path + '/vectorizations/lemmatized_corpus.pkl', 'wb') as f:\n",
        "  pickle.dump(lemmatized_corpus, f)\n",
        "\n",
        "with open(path + '/vectorizations/ngram_corpus.pkl', 'wb') as f:\n",
        "  pickle.dump(n_gram_corpus, f)"
      ]
    },
    {
      "cell_type": "markdown",
      "metadata": {
        "id": "HP2rvgAKEO02"
      },
      "source": [
        "## **2. Vectorization**\n",
        "\n",
        "Three main vectorizations are generated here: BoW, TF-IDF and word embeddings."
      ]
    },
    {
      "cell_type": "code",
      "execution_count": null,
      "metadata": {
        "colab": {
          "base_uri": "https://localhost:8080/",
          "height": 52
        },
        "id": "0-Z-OQY2EhiG",
        "outputId": "de6dee0c-0328-4aeb-98aa-5a42c9a89eb9"
      },
      "outputs": [
        {
          "data": {
            "text/html": [
              "\n",
              "  <style>\n",
              "    pre {\n",
              "        white-space: pre-wrap;\n",
              "    }\n",
              "  </style>\n",
              "  "
            ],
            "text/plain": [
              "<IPython.core.display.HTML object>"
            ]
          },
          "metadata": {},
          "output_type": "display_data"
        },
        {
          "name": "stdout",
          "output_type": "stream",
          "text": [
            "Dictionary length before filtering: 20080\n",
            "Dictionary length after filtering: 7500\n"
          ]
        }
      ],
      "source": [
        "D = gensim.corpora.Dictionary(n_gram_corpus)\n",
        "len_bf = len(D)\n",
        "\n",
        "D.filter_extremes(no_below=4, no_above=0.8, keep_n=7500)\n",
        "len_af = len(D)\n",
        "\n",
        "print(f\"Dictionary length before filtering: {len_bf}\")\n",
        "print(f\"Dictionary length after filtering: {len_af}\")"
      ]
    },
    {
      "cell_type": "markdown",
      "metadata": {
        "id": "ESUAYN8kFO9u"
      },
      "source": [
        "### Bag of Words"
      ]
    },
    {
      "cell_type": "code",
      "execution_count": null,
      "metadata": {
        "colab": {
          "base_uri": "https://localhost:8080/",
          "height": 34
        },
        "id": "mlhykR9PGAmk",
        "outputId": "c4de35db-79ff-411b-fa2a-e42a5fc66b90"
      },
      "outputs": [
        {
          "data": {
            "text/html": [
              "\n",
              "  <style>\n",
              "    pre {\n",
              "        white-space: pre-wrap;\n",
              "    }\n",
              "  </style>\n",
              "  "
            ],
            "text/plain": [
              "<IPython.core.display.HTML object>"
            ]
          },
          "metadata": {},
          "output_type": "display_data"
        },
        {
          "name": "stdout",
          "output_type": "stream",
          "text": [
            "(2270, 7500)\n"
          ]
        }
      ],
      "source": [
        "corpus_bow_sparse = [D.doc2bow(doc) for doc in n_gram_corpus]\n",
        "corpus_bow_dense = gensim.matutils.corpus2dense(corpus_bow_sparse, num_terms=len(D)).T\n",
        "print(corpus_bow_dense.shape)"
      ]
    },
    {
      "cell_type": "markdown",
      "metadata": {
        "id": "rdPLf51aFRB2"
      },
      "source": [
        "### TF-IDF"
      ]
    },
    {
      "cell_type": "code",
      "execution_count": null,
      "metadata": {
        "colab": {
          "base_uri": "https://localhost:8080/",
          "height": 34
        },
        "id": "j_w67LejFSlj",
        "outputId": "69e6e4d6-fa55-431c-ba9e-f61f11ec5244"
      },
      "outputs": [
        {
          "data": {
            "text/html": [
              "\n",
              "  <style>\n",
              "    pre {\n",
              "        white-space: pre-wrap;\n",
              "    }\n",
              "  </style>\n",
              "  "
            ],
            "text/plain": [
              "<IPython.core.display.HTML object>"
            ]
          },
          "metadata": {},
          "output_type": "display_data"
        },
        {
          "name": "stdout",
          "output_type": "stream",
          "text": [
            "(2270, 7500)\n"
          ]
        }
      ],
      "source": [
        "tfidf = gensim.models.TfidfModel(corpus_bow_sparse)\n",
        "corpus_tfidf_sparse = tfidf[corpus_bow_sparse]\n",
        "corpus_tfidf_dense = gensim.matutils.corpus2dense(corpus_tfidf_sparse, num_terms=len(D)).T\n",
        "print(corpus_tfidf_dense.shape)"
      ]
    },
    {
      "cell_type": "markdown",
      "metadata": {
        "id": "kTGO99SDFS-k"
      },
      "source": [
        "### Word Embeddings"
      ]
    },
    {
      "cell_type": "code",
      "execution_count": null,
      "metadata": {
        "colab": {
          "base_uri": "https://localhost:8080/",
          "height": 52
        },
        "id": "RtKBW9LpFUr2",
        "outputId": "041555b0-3783-4dd2-927a-15fa0fee58eb"
      },
      "outputs": [
        {
          "data": {
            "text/html": [
              "\n",
              "  <style>\n",
              "    pre {\n",
              "        white-space: pre-wrap;\n",
              "    }\n",
              "  </style>\n",
              "  "
            ],
            "text/plain": [
              "<IPython.core.display.HTML object>"
            ]
          },
          "metadata": {},
          "output_type": "display_data"
        },
        {
          "name": "stdout",
          "output_type": "stream",
          "text": [
            "Average number of words per doc: 903.8251101321586\n",
            "2270\n"
          ]
        }
      ],
      "source": [
        "wemb_corpus = [[tk.vector for tk in nlp(doc)] for doc in corpus] # No preprocessing pipeline\n",
        "avg_wemb = np.mean([len(wemb) for wemb in wemb_corpus])\n",
        "\n",
        "print(f\"Average number of words per doc: {avg_wemb}\")\n",
        "print(len(wemb_corpus))"
      ]
    },
    {
      "cell_type": "markdown",
      "metadata": {
        "id": "gZ2T4yQJihRo"
      },
      "source": [
        "Save vectorizations for later on."
      ]
    },
    {
      "cell_type": "code",
      "execution_count": null,
      "metadata": {
        "colab": {
          "base_uri": "https://localhost:8080/",
          "height": 17
        },
        "id": "1pzgRDhlikCr",
        "outputId": "97397350-f338-4d39-d0fb-32c8c926e721"
      },
      "outputs": [
        {
          "data": {
            "text/html": [
              "\n",
              "  <style>\n",
              "    pre {\n",
              "        white-space: pre-wrap;\n",
              "    }\n",
              "  </style>\n",
              "  "
            ],
            "text/plain": [
              "<IPython.core.display.HTML object>"
            ]
          },
          "metadata": {},
          "output_type": "display_data"
        }
      ],
      "source": [
        "with open(path + '/vectorizations/bow_corpus.pkl', 'wb') as f:\n",
        "  pickle.dump(corpus_bow_dense, f)\n",
        "\n",
        "with open(path + '/vectorizations/tfidf_corpus.pkl', 'wb') as f:\n",
        "  pickle.dump(corpus_tfidf_dense, f)\n",
        "\n",
        "with open(path + '/vectorizations/wordemb_corpus.pkl', 'wb') as f:\n",
        "  pickle.dump(wemb_corpus, f)"
      ]
    },
    {
      "cell_type": "markdown",
      "metadata": {
        "id": "iCx7cdNxwwJU"
      },
      "source": [
        "## **3. Topic Modeling: Latent Dirichlet Allocation**\n",
        "\n",
        "Latent Dirichlet Allocation is peformed to analyze the sematic structuture of the corpus in terms of topics and to obtain the LDA document vectorization."
      ]
    },
    {
      "cell_type": "markdown",
      "metadata": {
        "id": "wY2vkk9_POWz"
      },
      "source": [
        "### Latent Dirichlet Allocation with Mallet"
      ]
    },
    {
      "cell_type": "code",
      "execution_count": null,
      "metadata": {
        "colab": {
          "base_uri": "https://localhost:8080/",
          "height": 69
        },
        "id": "zjMGZveJZy5E",
        "outputId": "18cfa523-919a-49fc-ebb3-dc0a4938685f"
      },
      "outputs": [
        {
          "data": {
            "text/html": [
              "\n",
              "  <style>\n",
              "    pre {\n",
              "        white-space: pre-wrap;\n",
              "    }\n",
              "  </style>\n",
              "  "
            ],
            "text/plain": [
              "<IPython.core.display.HTML object>"
            ]
          },
          "metadata": {},
          "output_type": "display_data"
        },
        {
          "name": "stdout",
          "output_type": "stream",
          "text": [
            "openjdk version \"11.0.22\" 2024-01-16\n",
            "OpenJDK Runtime Environment (build 11.0.22+7-post-Ubuntu-0ubuntu222.04.1)\n",
            "OpenJDK 64-Bit Server VM (build 11.0.22+7-post-Ubuntu-0ubuntu222.04.1, mixed mode, sharing)\n"
          ]
        }
      ],
      "source": [
        "def install_java():\n",
        "    !apt-get install -y openjdk-8-jdk-headless -qq > /dev/null\n",
        "    os.environ[\"JAVA_HOME\"] = \"/usr/lib/jvm/java-8-openjdk-amd64\"\n",
        "    !java -version\n",
        "install_java()"
      ]
    },
    {
      "cell_type": "code",
      "execution_count": null,
      "metadata": {
        "id": "-JhOr21VaFck"
      },
      "outputs": [],
      "source": [
        "!wget http://mallet.cs.umass.edu/dist/mallet-2.0.8.zip\n",
        "!unzip mallet-2.0.8.zip"
      ]
    },
    {
      "cell_type": "code",
      "execution_count": null,
      "metadata": {
        "colab": {
          "base_uri": "https://localhost:8080/",
          "height": 17
        },
        "id": "3B_JVPc1bLum",
        "outputId": "a80e1149-12cd-49f1-cd4c-4e6bc2f541f5"
      },
      "outputs": [
        {
          "data": {
            "text/html": [
              "\n",
              "  <style>\n",
              "    pre {\n",
              "        white-space: pre-wrap;\n",
              "    }\n",
              "  </style>\n",
              "  "
            ],
            "text/plain": [
              "<IPython.core.display.HTML object>"
            ]
          },
          "metadata": {},
          "output_type": "display_data"
        }
      ],
      "source": [
        "os.environ['MALLET_HOME'] = 'mallet-2.0.8'\n",
        "mallet_path = 'mallet-2.0.8/bin/mallet'"
      ]
    },
    {
      "cell_type": "markdown",
      "metadata": {
        "id": "uJM3tBM8Htlj"
      },
      "source": [
        "Import corpus to *.txt file."
      ]
    },
    {
      "cell_type": "code",
      "execution_count": null,
      "metadata": {
        "colab": {
          "base_uri": "https://localhost:8080/",
          "height": 17
        },
        "id": "nOqZfVH6PQW4",
        "outputId": "d152de6e-b72c-42c5-a36d-5521cc4b42fd"
      },
      "outputs": [
        {
          "data": {
            "text/html": [
              "\n",
              "  <style>\n",
              "    pre {\n",
              "        white-space: pre-wrap;\n",
              "    }\n",
              "  </style>\n",
              "  "
            ],
            "text/plain": [
              "<IPython.core.display.HTML object>"
            ]
          },
          "metadata": {},
          "output_type": "display_data"
        }
      ],
      "source": [
        "with open('n_gram_corpus.txt', 'w') as f:\n",
        "  for i, doc in enumerate(n_gram_corpus):\n",
        "    text = \" \".join(doc)\n",
        "    f.write(f\"{i} 0 {text}\\n\")\n",
        "  f.close()\n",
        "\n",
        "!mallet-2.0.8/bin/mallet import-file --input n_gram_corpus.txt --output mycorpus.mallet --keep-sequence --remove-stopwords"
      ]
    },
    {
      "cell_type": "markdown",
      "metadata": {
        "id": "PZnPPki4Ie7v"
      },
      "source": [
        "Analyze coherence for different number of topics."
      ]
    },
    {
      "cell_type": "code",
      "execution_count": null,
      "metadata": {
        "colab": {
          "base_uri": "https://localhost:8080/",
          "height": 17
        },
        "id": "0VZXgqWFLP6Y",
        "outputId": "e7ad7377-f433-4351-b670-b995f077c2c2"
      },
      "outputs": [
        {
          "output_type": "display_data",
          "data": {
            "text/plain": [
              "<IPython.core.display.HTML object>"
            ],
            "text/html": [
              "\n",
              "  <style>\n",
              "    pre {\n",
              "        white-space: pre-wrap;\n",
              "    }\n",
              "  </style>\n",
              "  "
            ]
          },
          "metadata": {}
        }
      ],
      "source": [
        "def compute_mallet_LDA(n_topics, corpus, coherence=True, verbose=True):\n",
        "  # Train LDA\n",
        "  if verbose:\n",
        "    print(f\"Mallet LDA n_topics {n_topics}\")\n",
        "\n",
        "  command = f\"mallet-2.0.8/bin/mallet train-topics --input mycorpus.mallet --num-topics {n_topics} --num-iterations 1000 \\\n",
        "              --output-doc-topics doc_topics.txt --word-topic-counts-file wtc_counts.txt --topic-word-weights-file \\\n",
        "              topic_weights.txt --output-topic-keys topic_keys.txt --num-top-words 20\"\n",
        "  subprocess.call(command, shell=True)\n",
        "\n",
        "  # Retrieve doc-topics matrix and sparsify\n",
        "  thetas = []\n",
        "  with open('doc_topics.txt', 'r') as f:\n",
        "    doc_topic = f.readlines()\n",
        "    f.close()\n",
        "\n",
        "  for line in doc_topic:\n",
        "    digits = line.split(\"\\t\")[2:]\n",
        "    thetas.append(np.array([float(dig) for dig in digits]))\n",
        "\n",
        "  thetas = np.vstack(thetas)\n",
        "  thetas = np.where(thetas < 0.01, 0, thetas)\n",
        "  thetas = [[(i, prob) for i, prob in enumerate(doc) if prob != 0.0] for doc in thetas]\n",
        "\n",
        "  # Create corpus and dictionary in Mallet format\n",
        "  with open(\"topic_keys.txt\") as fin:\n",
        "    tpc_descriptions = fin.readlines()\n",
        "    tpc_descriptions = [el.strip().split(\"\\t\")[-1].split() for el in tpc_descriptions]\n",
        "\n",
        "  Dict = gensim.corpora.Dictionary(corpus)\n",
        "\n",
        "  # Compute coherence\n",
        "  if coherence:\n",
        "    n_words = 20\n",
        "    cm =  gensim.models.coherencemodel.CoherenceModel(topics=tpc_descriptions, texts=corpus, dictionary=Dict, coherence='c_v', topn=n_words)\n",
        "    coherence = np.mean(cm.get_coherence_per_topic())\n",
        "    return thetas, tpc_descriptions, Dict, coherence\n",
        "\n",
        "  return thetas, tpc_descriptions, Dict"
      ]
    },
    {
      "cell_type": "code",
      "execution_count": null,
      "metadata": {
        "colab": {
          "base_uri": "https://localhost:8080/",
          "height": 191
        },
        "id": "HtkZ4oPIIeK6",
        "outputId": "70af96f4-f805-4bb6-f903-ae13fb257740"
      },
      "outputs": [
        {
          "output_type": "display_data",
          "data": {
            "text/plain": [
              "<IPython.core.display.HTML object>"
            ],
            "text/html": [
              "\n",
              "  <style>\n",
              "    pre {\n",
              "        white-space: pre-wrap;\n",
              "    }\n",
              "  </style>\n",
              "  "
            ]
          },
          "metadata": {}
        },
        {
          "output_type": "stream",
          "name": "stdout",
          "text": [
            "Mallet LDA n_topics 10\n",
            "Mallet LDA n_topics 20\n",
            "Mallet LDA n_topics 30\n",
            "Mallet LDA n_topics 40\n",
            "Mallet LDA n_topics 50\n",
            "Mallet LDA n_topics 60\n",
            "Mallet LDA n_topics 70\n",
            "Mallet LDA n_topics 80\n",
            "Mallet LDA n_topics 90\n",
            "Mallet LDA n_topics 100\n"
          ]
        }
      ],
      "source": [
        "n_topics = np.arange(10, 110, 10)\n",
        "coherence_list_mallet = []\n",
        "\n",
        "for n in n_topics:\n",
        "  _, _, _, coherence = compute_mallet_LDA(n, corpus=n_gram_corpus, coherence=True)\n",
        "  coherence_list_mallet.append(coherence)"
      ]
    },
    {
      "cell_type": "code",
      "execution_count": null,
      "metadata": {
        "colab": {
          "base_uri": "https://localhost:8080/",
          "height": 416
        },
        "id": "aX5zQ7rqJNQ5",
        "outputId": "84b6b14e-e7c3-4519-9a81-6a2e402feb92"
      },
      "outputs": [
        {
          "output_type": "display_data",
          "data": {
            "text/plain": [
              "<IPython.core.display.HTML object>"
            ],
            "text/html": [
              "\n",
              "  <style>\n",
              "    pre {\n",
              "        white-space: pre-wrap;\n",
              "    }\n",
              "  </style>\n",
              "  "
            ]
          },
          "metadata": {}
        },
        {
          "output_type": "display_data",
          "data": {
            "text/plain": [
              "<Figure size 600x400 with 1 Axes>"
            ],
            "image/png": "[encoded data removed]"
          },
          "metadata": {
            "image/png": {
              "width": 563,
              "height": 399
            }
          }
        }
      ],
      "source": [
        "plt.figure(figsize=(6, 4))\n",
        "plt.plot(n_topics, coherence_list_mallet, label='Mallet', marker='o')\n",
        "plt.xlabel('Number of topics')\n",
        "plt.ylabel('Coherence')\n",
        "plt.title('Mallet LDA coherence')\n",
        "plt.show()"
      ]
    },
    {
      "cell_type": "markdown",
      "metadata": {
        "id": "QCpZew7jMjlN"
      },
      "source": [
        "Retrain the model with highest coherence."
      ]
    },
    {
      "cell_type": "code",
      "execution_count": null,
      "metadata": {
        "id": "xzVEWRmXMnck",
        "colab": {
          "base_uri": "https://localhost:8080/",
          "height": 34
        },
        "outputId": "c55c2767-d13b-4cc8-bcca-fab8a24d7aff"
      },
      "outputs": [
        {
          "output_type": "display_data",
          "data": {
            "text/plain": [
              "<IPython.core.display.HTML object>"
            ],
            "text/html": [
              "\n",
              "  <style>\n",
              "    pre {\n",
              "        white-space: pre-wrap;\n",
              "    }\n",
              "  </style>\n",
              "  "
            ]
          },
          "metadata": {}
        },
        {
          "output_type": "stream",
          "name": "stdout",
          "text": [
            "Mallet LDA n_topics 50\n"
          ]
        }
      ],
      "source": [
        "idx_max = np.argmax(coherence_list_mallet)\n",
        "best_n_topics = n_topics[idx_max]\n",
        "\n",
        "LDA_corpus, tpc_descriptions, Dict = compute_mallet_LDA(best_n_topics, corpus=n_gram_corpus, coherence=False) # LDA_corpus contains the vectorization"
      ]
    },
    {
      "cell_type": "markdown",
      "source": [
        "Save LDA embedding."
      ],
      "metadata": {
        "id": "rQiudXJ9ss9g"
      }
    },
    {
      "cell_type": "code",
      "source": [
        "with open(path + '/vectorizations/lda_corpus.pkl', 'wb') as f:\n",
        "  pickle.dump(LDA_corpus, f)"
      ],
      "metadata": {
        "colab": {
          "base_uri": "https://localhost:8080/",
          "height": 17
        },
        "id": "NZDyIa6ZsuyJ",
        "outputId": "c05b29a9-b0a2-4562-e6a2-61494fcd7841"
      },
      "execution_count": null,
      "outputs": [
        {
          "output_type": "display_data",
          "data": {
            "text/plain": [
              "<IPython.core.display.HTML object>"
            ],
            "text/html": [
              "\n",
              "  <style>\n",
              "    pre {\n",
              "        white-space: pre-wrap;\n",
              "    }\n",
              "  </style>\n",
              "  "
            ]
          },
          "metadata": {}
        }
      ]
    },
    {
      "cell_type": "markdown",
      "metadata": {
        "id": "KLAR6rGJPQyc"
      },
      "source": [
        "### Visualization and Analysis"
      ]
    },
    {
      "cell_type": "code",
      "execution_count": null,
      "metadata": {
        "id": "kjqEvkQAPS_q"
      },
      "outputs": [],
      "source": [
        "# TODO"
      ]
    },
    {
      "cell_type": "markdown",
      "metadata": {
        "id": "663D8vjOw62C"
      },
      "source": [
        "## **4. Supervised Learning Task**"
      ]
    },
    {
      "cell_type": "markdown",
      "metadata": {
        "id": "ZLuZ1vzoErzh"
      },
      "source": [
        "### Classical Models: ..."
      ]
    },
    {
      "cell_type": "code",
      "execution_count": null,
      "metadata": {
        "id": "vGK2ZM3bw9OP"
      },
      "outputs": [],
      "source": [
        "# TODO"
      ]
    },
    {
      "cell_type": "markdown",
      "metadata": {
        "id": "ibyoj2EZEwpu"
      },
      "source": [
        "### Transformers"
      ]
    },
    {
      "cell_type": "code",
      "execution_count": null,
      "metadata": {
        "id": "R_kX2ylzExEb"
      },
      "outputs": [],
      "source": [
        "# TODO"
      ]
    },
    {
      "cell_type": "markdown",
      "metadata": {
        "id": "EB-dByq7E4H5"
      },
      "source": [
        "## **5. Semantic Graph and Distances between Documents**"
      ]
    },
    {
      "cell_type": "markdown",
      "metadata": {
        "id": "NLq3ZV56k9mP"
      },
      "source": [
        "Convert to sparse matrix representation."
      ]
    },
    {
      "cell_type": "code",
      "execution_count": null,
      "metadata": {
        "id": "PEB5gyFIE71L"
      },
      "outputs": [],
      "source": [
        "# Convert from list of tuples to sparse matrix\n",
        "# TODO: LDA_corpus\n",
        "\n",
        "LDA_sparse = gensim.matutils.corpus2csc(LDA_corpus).T\n",
        "n_topics = LDA_sparse.shape[1]\n",
        "n_docs = LDA_sparse.shape[0]\n",
        "\n",
        "print(f\"Number of topics: {n_topics}\")\n",
        "print(f\"X: sparse matrix with {LDA_sparse.nnz} nonzero values out of {n_docs * n_topics}\")\n",
        "print(LDA_sparse.shape)"
      ]
    },
    {
      "cell_type": "markdown",
      "metadata": {
        "id": "9x89tC8AlCJ1"
      },
      "source": [
        "Renormalize rows to get probabilistic embeddings."
      ]
    },
    {
      "cell_type": "code",
      "execution_count": null,
      "metadata": {
        "id": "auoP6gqek5Ze"
      },
      "outputs": [],
      "source": [
        "print(f\"Average row sum before normalizing: {np.mean(LDA_sparse.sum(axis=1).T)}\")\n",
        "\n",
        "LDA_sparse = scsp.csr_matrix(LDA_sparse / np.sum(LDA_sparse, axis=1))\n",
        "\n",
        "print(f\"Average row sum after normalizing: {np.mean(LDA_sparse.sum(axis=1).T)}\")"
      ]
    },
    {
      "cell_type": "markdown",
      "metadata": {
        "id": "PLV8FzkdlhP4"
      },
      "source": [
        "Compute Similarity matrix based on Battacharyya Coefficient."
      ]
    },
    {
      "cell_type": "code",
      "execution_count": null,
      "metadata": {
        "id": "yHLKensTlolw"
      },
      "outputs": [],
      "source": [
        "S = np.sqrt(LDA_sparse) * np.sqrt(LDA_sparse.T)\n",
        "\n",
        "print(f\"Shape of S: {S.shape}\")\n",
        "print(f\"Number of non-zero elements: {S.nnz}\")\n",
        "print(f\"Proportion of non-zero values: {S.nnz / (S.shape[0] * S.shape[1]) * 100:.3f}%\")"
      ]
    },
    {
      "cell_type": "code",
      "execution_count": null,
      "metadata": {
        "id": "2rFRiA0BlwJm"
      },
      "outputs": [],
      "source": [
        "S = scsp.triu(S, k=1) # Mantain upper triangular matrix\n",
        "print('Number of non-zero components in S:', S.nnz)"
      ]
    },
    {
      "cell_type": "markdown",
      "metadata": {
        "id": "x3CKrJIzl-Fw"
      },
      "source": [
        "Threshold similarity matrix to discard non important edges."
      ]
    },
    {
      "cell_type": "code",
      "execution_count": null,
      "metadata": {
        "id": "G0bHToudl0zW"
      },
      "outputs": [],
      "source": [
        "n_nodes = LDA_sparse.shape[0]\n",
        "n_edges = S.nnz\n",
        "n_edges_per_node = n_edges / n_nodes\n",
        "\n",
        "print(f\"Number of nodes: {n_nodes}\")\n",
        "print(f\"Number of edges: {n_edges}\")\n",
        "print(f\"Number of edges per node: {n_edges_per_node}\")"
      ]
    },
    {
      "cell_type": "code",
      "execution_count": null,
      "metadata": {
        "id": "yqIz6ljLmO59"
      },
      "outputs": [],
      "source": [
        "n_edges_per_node = 10\n",
        "\n",
        "n_edges = n_edges_per_node * n_nodes\n",
        "sorted_sim = np.sort(S.data)[::-1]\n",
        "thr = sorted_sim[n_edges]\n",
        "\n",
        "print(f\"Threshold: {thr}\")\n",
        "print(f\"Number of edges: {n_edges}\")\n",
        "\n",
        "plt.figure(figsize=(8, 2))\n",
        "plt.hist(S.data, bins=100)\n",
        "plt.axvline(thr, 'r-')\n",
        "plt.xlabel('Similarity values')\n",
        "plt.ylabel('No. of matrix entries')\n",
        "plt.show()"
      ]
    },
    {
      "cell_type": "code",
      "execution_count": null,
      "metadata": {
        "id": "4Dxq7XPnmgPq"
      },
      "outputs": [],
      "source": [
        "S.data = np.where(S.data < thr, 0, S.data)\n",
        "S.eliminate_zeros()"
      ]
    },
    {
      "cell_type": "markdown",
      "metadata": {
        "id": "F7uOdbTVmxuX"
      },
      "source": [
        "Plot graph and compute layout."
      ]
    },
    {
      "cell_type": "code",
      "execution_count": null,
      "metadata": {
        "id": "StoSPu0Zm1TR"
      },
      "outputs": [],
      "source": [
        "G = nx.from_scipy_sparse_array(S)\n",
        "positions = nx.spring_layout(G, iterations=50, seed=0)\n",
        "\n",
        "plt.figure(figsize=(7,7))\n",
        "nx.draw(G, positions, node_size=2, width=0.02)"
      ]
    },
    {
      "cell_type": "markdown",
      "metadata": {
        "id": "Y9BP9n9unE8o"
      },
      "source": [
        "Find connected components and plot them separately."
      ]
    },
    {
      "cell_type": "code",
      "execution_count": null,
      "metadata": {
        "id": "HsRnCLwBnITR"
      },
      "outputs": [],
      "source": [
        "nodes_lcc = list(nx.connected_components(G))[0]\n",
        "n_conn_comp = len(nodes_lcc)\n",
        "\n",
        "fig, axes = plt.subplots(n_conn_comp, 1, figsize=(15,15), layout='tight')\n",
        "\n",
        "for i, conn_comp in enumerate(nodes_lcc):\n",
        "  G_lcc = G.subgraph(conn_comp)\n",
        "  positions_lcc = nx.spring_layout(G_lcc, iterations=50, seed=0)\n",
        "\n",
        "  nx.draw(G_lcc, positions_lcc, node_size=2, width=0.06, ax=axes[i])\n",
        "  axes[i].set_title(f\"Connected Component {i+1}\")\n",
        "\n",
        "fig.show()"
      ]
    },
    {
      "cell_type": "markdown",
      "metadata": {
        "id": "XR-HJhLroGxf"
      },
      "source": [
        "Community detection algorithm to explore semantic structure of corpus and similarities between documents."
      ]
    },
    {
      "cell_type": "code",
      "execution_count": null,
      "metadata": {
        "id": "B_BucqnNoXyO"
      },
      "outputs": [],
      "source": [
        "C = nx_comm.louvain_communities(G, seed=0)\n",
        "\n",
        "# Metrics of the partition\n",
        "modularity = nx_comm.modularity(G, C)\n",
        "coverage, performance = nx_comm.partition_quality(G, C)\n",
        "\n",
        "nc = len(C)\n",
        "print(f\"Number of communities: {nc}\")\n",
        "print(f\"Modularity: {modularity}\")\n",
        "print(f\"Coverage: {coverage}\")\n",
        "print(f\"Performance: {performance}\")"
      ]
    },
    {
      "cell_type": "code",
      "execution_count": null,
      "metadata": {
        "id": "WIjZCJuVomY0"
      },
      "outputs": [],
      "source": [
        "palette = sns.color_palette(palette=\"Paired\", n_colors=nc)\n",
        "\n",
        "node2comm = {n: 0 for n in G}\n",
        "for i, com in enumerate(C):\n",
        "    for node in list(com):\n",
        "        node2comm[node] = i\n",
        "\n",
        "# Map node attribute to rgb colors\n",
        "node_colors = [palette[node2comm[n]] for n in G]\n",
        "\n",
        "# Get list of degrees\n",
        "degrees = [val / 3 for (node, val) in G.degree()]\n",
        "\n",
        "#  Draw graph\n",
        "plt.figure(figsize=(7, 7))\n",
        "nx.draw(G, positions, node_size=degrees, node_color=node_colors, width=0.1)"
      ]
    },
    {
      "cell_type": "markdown",
      "metadata": {
        "id": "8M4bpwnqo-xQ"
      },
      "source": [
        "Analyze communities in terms of topics."
      ]
    },
    {
      "cell_type": "code",
      "execution_count": null,
      "metadata": {
        "id": "9NeEx6kspCia"
      },
      "outputs": [],
      "source": [
        "# TODO: Personalize with our implementation\n",
        "\n",
        "# col = 'main_topic_35'\n",
        "# newcols=['Community', 'Main topic', 'Topic 2', 'Topic 3', 'Topic 4']\n",
        "\n",
        "# df = pd.DataFrame(columns=newcols).set_index('Community')\n",
        "\n",
        "# # For each community...\n",
        "# for i, docs in enumerate(C):\n",
        "\n",
        "#     # Join all keywords from all documents in the community\n",
        "#     words = \",\".join(NSF_df.iloc[list(docs)][col]).split(\",\")\n",
        "\n",
        "#     # Count the number of occurences of each keyword\n",
        "#     kwd_count = Counter(words)\n",
        "#     n_votes = sum(kwd_count.values())\n",
        "\n",
        "#     # Keep keywords that are frequent enough\n",
        "#     kwds = [k for k, v in kwd_count.items() if v > 0.12 * n_votes]\n",
        "#     kwds = sorted(kwds, key= lambda x: kwd_count[x], reverse=True)\n",
        "#     kwds = [f'C{i}'] + kwds + [\"\"] * (len(newcols) - len(kwds) -1)\n",
        "\n",
        "#     row = pd.Series(dict(zip(newcols, kwds))).to_frame().T.set_index('Community')\n",
        "#     df = pd.concat([df, row], axis=0)\n",
        "\n",
        "# df"
      ]
    },
    {
      "cell_type": "markdown",
      "metadata": {
        "id": "Pa6nh7KHNFpi"
      },
      "source": [
        "## **6. Extension Work**"
      ]
    },
    {
      "cell_type": "code",
      "execution_count": null,
      "metadata": {
        "id": "1L70GJbXNLTX"
      },
      "outputs": [],
      "source": [
        "# TDOD"
      ]
    }
  ],
  "metadata": {
    "colab": {
      "collapsed_sections": [
        "ntcDc8IpwklD",
        "4iWtoBKawrKQ"
      ],
      "provenance": []
    },
    "kernelspec": {
      "display_name": "Python 3",
      "name": "python3"
    },
    "language_info": {
      "name": "python"
    }
  },
  "nbformat": 4,
  "nbformat_minor": 0
}